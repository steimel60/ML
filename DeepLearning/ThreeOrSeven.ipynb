{
  "nbformat": 4,
  "nbformat_minor": 0,
  "metadata": {
    "colab": {
      "name": "ThreeOrSeven.ipynb",
      "provenance": [],
      "authorship_tag": "ABX9TyMWxsYuGbJMHk4oq970Byca",
      "include_colab_link": true
    },
    "kernelspec": {
      "name": "python3",
      "display_name": "Python 3"
    },
    "language_info": {
      "name": "python"
    },
    "accelerator": "GPU"
  },
  "cells": [
    {
      "cell_type": "markdown",
      "metadata": {
        "id": "view-in-github",
        "colab_type": "text"
      },
      "source": [
        "<a href=\"https://colab.research.google.com/github/steimel60/ML/blob/main/DeepLearning/ThreeOrSeven.ipynb\" target=\"_parent\"><img src=\"https://colab.research.google.com/assets/colab-badge.svg\" alt=\"Open In Colab\"/></a>"
      ]
    },
    {
      "cell_type": "code",
      "execution_count": 2,
      "metadata": {
        "colab": {
          "base_uri": "https://localhost:8080/"
        },
        "id": "IKmxXHdqQggi",
        "outputId": "349c55e8-16bb-4e32-a617-67cc6d4ddc82"
      },
      "outputs": [
        {
          "output_type": "stream",
          "name": "stdout",
          "text": [
            "\u001b[K     |████████████████████████████████| 719 kB 4.9 MB/s \n",
            "\u001b[K     |████████████████████████████████| 197 kB 66.1 MB/s \n",
            "\u001b[K     |████████████████████████████████| 346 kB 63.9 MB/s \n",
            "\u001b[K     |████████████████████████████████| 1.2 MB 66.6 MB/s \n",
            "\u001b[K     |████████████████████████████████| 4.2 MB 61.5 MB/s \n",
            "\u001b[K     |████████████████████████████████| 59 kB 8.2 MB/s \n",
            "\u001b[K     |████████████████████████████████| 1.1 MB 56.1 MB/s \n",
            "\u001b[K     |████████████████████████████████| 84 kB 4.1 MB/s \n",
            "\u001b[K     |████████████████████████████████| 140 kB 73.0 MB/s \n",
            "\u001b[K     |████████████████████████████████| 212 kB 70.1 MB/s \n",
            "\u001b[K     |████████████████████████████████| 127 kB 73.8 MB/s \n",
            "\u001b[K     |████████████████████████████████| 144 kB 75.9 MB/s \n",
            "\u001b[K     |████████████████████████████████| 271 kB 66.4 MB/s \n",
            "\u001b[K     |████████████████████████████████| 94 kB 2.1 MB/s \n",
            "\u001b[K     |████████████████████████████████| 6.6 MB 58.6 MB/s \n",
            "\u001b[K     |████████████████████████████████| 596 kB 64.9 MB/s \n",
            "\u001b[31mERROR: pip's dependency resolver does not currently take into account all the packages that are installed. This behaviour is the source of the following dependency conflicts.\n",
            "datascience 0.10.6 requires folium==0.2.1, but you have folium 0.8.3 which is incompatible.\u001b[0m\n",
            "\u001b[?25hMounted at /content/gdrive\n"
          ]
        }
      ],
      "source": [
        "!pip install -Uqq fastbook\n",
        "import fastbook\n",
        "fastbook.setup_book()\n",
        "from fastbook import *"
      ]
    },
    {
      "cell_type": "code",
      "source": [
        "#Load in images of 3s and 7s\n",
        "path = untar_data(URLs.MNIST_SAMPLE)\n",
        "#List things in the path\n",
        "path.ls()"
      ],
      "metadata": {
        "colab": {
          "base_uri": "https://localhost:8080/",
          "height": 74
        },
        "id": "Jl43aZ1GRFPn",
        "outputId": "b0ea0661-0df5-470a-c9f4-daba65fd93ad"
      },
      "execution_count": 3,
      "outputs": [
        {
          "output_type": "display_data",
          "data": {
            "text/plain": [
              "<IPython.core.display.HTML object>"
            ],
            "text/html": [
              "\n",
              "<style>\n",
              "    /* Turns off some styling */\n",
              "    progress {\n",
              "        /* gets rid of default border in Firefox and Opera. */\n",
              "        border: none;\n",
              "        /* Needs to be in here for Safari polyfill so background images work as expected. */\n",
              "        background-size: auto;\n",
              "    }\n",
              "    .progress-bar-interrupted, .progress-bar-interrupted::-webkit-progress-bar {\n",
              "        background: #F44336;\n",
              "    }\n",
              "</style>\n"
            ]
          },
          "metadata": {}
        },
        {
          "output_type": "display_data",
          "data": {
            "text/plain": [
              "<IPython.core.display.HTML object>"
            ],
            "text/html": [
              "\n",
              "    <div>\n",
              "      <progress value='3219456' class='' max='3214948' style='width:300px; height:20px; vertical-align: middle;'></progress>\n",
              "      100.14% [3219456/3214948 00:00<00:00]\n",
              "    </div>\n",
              "    "
            ]
          },
          "metadata": {}
        },
        {
          "output_type": "execute_result",
          "data": {
            "text/plain": [
              "(#3) [Path('/root/.fastai/data/mnist_sample/train'),Path('/root/.fastai/data/mnist_sample/valid'),Path('/root/.fastai/data/mnist_sample/labels.csv')]"
            ]
          },
          "metadata": {},
          "execution_count": 3
        }
      ]
    },
    {
      "cell_type": "code",
      "source": [
        "#Get image paths for 3s and 7s\n",
        "threes = (path/'train'/'3').ls().sorted()\n",
        "sevens = (path/'train'/'7').ls().sorted()\n",
        "threes"
      ],
      "metadata": {
        "colab": {
          "base_uri": "https://localhost:8080/"
        },
        "id": "LMv_i_fhRrC_",
        "outputId": "2f718833-e1b1-440f-cfdb-fd3ce0ff58de"
      },
      "execution_count": 4,
      "outputs": [
        {
          "output_type": "execute_result",
          "data": {
            "text/plain": [
              "(#6131) [Path('/root/.fastai/data/mnist_sample/train/3/10.png'),Path('/root/.fastai/data/mnist_sample/train/3/10000.png'),Path('/root/.fastai/data/mnist_sample/train/3/10011.png'),Path('/root/.fastai/data/mnist_sample/train/3/10031.png'),Path('/root/.fastai/data/mnist_sample/train/3/10034.png'),Path('/root/.fastai/data/mnist_sample/train/3/10042.png'),Path('/root/.fastai/data/mnist_sample/train/3/10052.png'),Path('/root/.fastai/data/mnist_sample/train/3/1007.png'),Path('/root/.fastai/data/mnist_sample/train/3/10074.png'),Path('/root/.fastai/data/mnist_sample/train/3/10091.png')...]"
            ]
          },
          "metadata": {},
          "execution_count": 4
        }
      ]
    },
    {
      "cell_type": "code",
      "source": [
        "#Show image\n",
        "im3_path = threes[1]\n",
        "im3 = Image.open(im3_path)\n",
        "im3"
      ],
      "metadata": {
        "colab": {
          "base_uri": "https://localhost:8080/",
          "height": 45
        },
        "id": "W6SorNYWSCFD",
        "outputId": "2f22e4fe-0464-45d1-f01d-df1f86b51020"
      },
      "execution_count": 5,
      "outputs": [
        {
          "output_type": "execute_result",
          "data": {
            "text/plain": [
              "<PIL.PngImagePlugin.PngImageFile image mode=L size=28x28 at 0x7FCAC0D78650>"
            ],
            "image/png": "[encoded data removed]"
          },
          "metadata": {},
          "execution_count": 5
        }
      ]
    },
    {
      "cell_type": "code",
      "source": [
        "#Image data can be represented in arrays\n",
        "#Here is our image in a numpy array - showing rows and cols 4 through 10\n",
        "array(im3)[4:10,4:10]"
      ],
      "metadata": {
        "colab": {
          "base_uri": "https://localhost:8080/"
        },
        "id": "1-KxWmSgSWau",
        "outputId": "cc32dcda-a109-4872-8cec-06e660eb0b91"
      },
      "execution_count": 6,
      "outputs": [
        {
          "output_type": "execute_result",
          "data": {
            "text/plain": [
              "array([[  0,   0,   0,   0,   0,   0],\n",
              "       [  0,   0,   0,   0,   0,  29],\n",
              "       [  0,   0,   0,  48, 166, 224],\n",
              "       [  0,  93, 244, 249, 253, 187],\n",
              "       [  0, 107, 253, 253, 230,  48],\n",
              "       [  0,   3,  20,  20,  15,   0]], dtype=uint8)"
            ]
          },
          "metadata": {},
          "execution_count": 6
        }
      ]
    },
    {
      "cell_type": "code",
      "source": [
        "#And now as a PyTorch Tensor\n",
        "tensor(im3)[4:10,4:10]"
      ],
      "metadata": {
        "colab": {
          "base_uri": "https://localhost:8080/"
        },
        "id": "Mamcbcq3Smau",
        "outputId": "641baf61-3106-4411-8e4b-8f1301c92884"
      },
      "execution_count": 7,
      "outputs": [
        {
          "output_type": "execute_result",
          "data": {
            "text/plain": [
              "tensor([[  0,   0,   0,   0,   0,   0],\n",
              "        [  0,   0,   0,   0,   0,  29],\n",
              "        [  0,   0,   0,  48, 166, 224],\n",
              "        [  0,  93, 244, 249, 253, 187],\n",
              "        [  0, 107, 253, 253, 230,  48],\n",
              "        [  0,   3,  20,  20,  15,   0]], dtype=torch.uint8)"
            ]
          },
          "metadata": {},
          "execution_count": 7
        }
      ]
    },
    {
      "cell_type": "code",
      "source": [
        "#Use pandas to color code the values, giving us a better representation\n",
        "im3_t = tensor(im3)\n",
        "df = pd.DataFrame(im3_t[4:15,4:22])\n",
        "df.style.set_properties(**{'font-size':'6pt'}).background_gradient('Greys')"
      ],
      "metadata": {
        "colab": {
          "base_uri": "https://localhost:8080/",
          "height": 394
        },
        "id": "bzx2juYUSvBG",
        "outputId": "800b2727-bd39-43d1-f691-29276c38b323"
      },
      "execution_count": 9,
      "outputs": [
        {
          "output_type": "execute_result",
          "data": {
            "text/plain": [
              "<pandas.io.formats.style.Styler at 0x7fcac02a7a50>"
            ],
            "text/html": [
              "<style type=\"text/css\">\n",
              "#T_35759_row0_col0, #T_35759_row0_col1, #T_35759_row0_col2, #T_35759_row0_col3, #T_35759_row0_col4, #T_35759_row0_col5, #T_35759_row0_col6, #T_35759_row0_col7, #T_35759_row0_col8, #T_35759_row0_col9, #T_35759_row0_col10, #T_35759_row0_col11, #T_35759_row0_col12, #T_35759_row0_col13, #T_35759_row0_col14, #T_35759_row0_col15, #T_35759_row0_col16, #T_35759_row0_col17, #T_35759_row1_col0, #T_35759_row1_col1, #T_35759_row1_col2, #T_35759_row1_col3, #T_35759_row1_col4, #T_35759_row1_col15, #T_35759_row1_col16, #T_35759_row1_col17, #T_35759_row2_col0, #T_35759_row2_col1, #T_35759_row2_col2, #T_35759_row2_col15, #T_35759_row2_col16, #T_35759_row2_col17, #T_35759_row3_col0, #T_35759_row3_col15, #T_35759_row3_col16, #T_35759_row3_col17, #T_35759_row4_col0, #T_35759_row4_col6, #T_35759_row4_col7, #T_35759_row4_col8, #T_35759_row4_col9, #T_35759_row4_col10, #T_35759_row4_col15, #T_35759_row4_col16, #T_35759_row4_col17, #T_35759_row5_col0, #T_35759_row5_col5, #T_35759_row5_col6, #T_35759_row5_col7, #T_35759_row5_col8, #T_35759_row5_col9, #T_35759_row5_col15, #T_35759_row5_col16, #T_35759_row5_col17, #T_35759_row6_col0, #T_35759_row6_col1, #T_35759_row6_col2, #T_35759_row6_col3, #T_35759_row6_col4, #T_35759_row6_col5, #T_35759_row6_col6, #T_35759_row6_col7, #T_35759_row6_col8, #T_35759_row6_col9, #T_35759_row6_col14, #T_35759_row6_col15, #T_35759_row6_col16, #T_35759_row6_col17, #T_35759_row7_col0, #T_35759_row7_col1, #T_35759_row7_col2, #T_35759_row7_col3, #T_35759_row7_col4, #T_35759_row7_col5, #T_35759_row7_col6, #T_35759_row7_col13, #T_35759_row7_col14, #T_35759_row7_col15, #T_35759_row7_col16, #T_35759_row7_col17, #T_35759_row8_col0, #T_35759_row8_col1, #T_35759_row8_col2, #T_35759_row8_col3, #T_35759_row8_col4, #T_35759_row8_col13, #T_35759_row8_col14, #T_35759_row8_col15, #T_35759_row8_col16, #T_35759_row8_col17, #T_35759_row9_col0, #T_35759_row9_col1, #T_35759_row9_col2, #T_35759_row9_col3, #T_35759_row9_col4, #T_35759_row9_col16, #T_35759_row9_col17, #T_35759_row10_col0, #T_35759_row10_col1, #T_35759_row10_col2, #T_35759_row10_col3, #T_35759_row10_col4, #T_35759_row10_col5, #T_35759_row10_col6, #T_35759_row10_col17 {\n",
              "  font-size: 6pt;\n",
              "  background-color: #ffffff;\n",
              "  color: #000000;\n",
              "}\n",
              "#T_35759_row1_col5 {\n",
              "  font-size: 6pt;\n",
              "  background-color: #efefef;\n",
              "  color: #000000;\n",
              "}\n",
              "#T_35759_row1_col6, #T_35759_row1_col13 {\n",
              "  font-size: 6pt;\n",
              "  background-color: #7c7c7c;\n",
              "  color: #f1f1f1;\n",
              "}\n",
              "#T_35759_row1_col7 {\n",
              "  font-size: 6pt;\n",
              "  background-color: #4a4a4a;\n",
              "  color: #f1f1f1;\n",
              "}\n",
              "#T_35759_row1_col8, #T_35759_row1_col9, #T_35759_row1_col10, #T_35759_row2_col5, #T_35759_row2_col6, #T_35759_row2_col7, #T_35759_row2_col11, #T_35759_row2_col12, #T_35759_row2_col13, #T_35759_row3_col4, #T_35759_row3_col12, #T_35759_row3_col13, #T_35759_row4_col1, #T_35759_row4_col2, #T_35759_row4_col3, #T_35759_row4_col12, #T_35759_row4_col13, #T_35759_row5_col12, #T_35759_row6_col11, #T_35759_row9_col11, #T_35759_row10_col11, #T_35759_row10_col12, #T_35759_row10_col13, #T_35759_row10_col14, #T_35759_row10_col15, #T_35759_row10_col16 {\n",
              "  font-size: 6pt;\n",
              "  background-color: #000000;\n",
              "  color: #f1f1f1;\n",
              "}\n",
              "#T_35759_row1_col11 {\n",
              "  font-size: 6pt;\n",
              "  background-color: #606060;\n",
              "  color: #f1f1f1;\n",
              "}\n",
              "#T_35759_row1_col12 {\n",
              "  font-size: 6pt;\n",
              "  background-color: #4d4d4d;\n",
              "  color: #f1f1f1;\n",
              "}\n",
              "#T_35759_row1_col14 {\n",
              "  font-size: 6pt;\n",
              "  background-color: #bbbbbb;\n",
              "  color: #000000;\n",
              "}\n",
              "#T_35759_row2_col3 {\n",
              "  font-size: 6pt;\n",
              "  background-color: #e4e4e4;\n",
              "  color: #000000;\n",
              "}\n",
              "#T_35759_row2_col4, #T_35759_row8_col6 {\n",
              "  font-size: 6pt;\n",
              "  background-color: #6b6b6b;\n",
              "  color: #f1f1f1;\n",
              "}\n",
              "#T_35759_row2_col8, #T_35759_row2_col14, #T_35759_row3_col14 {\n",
              "  font-size: 6pt;\n",
              "  background-color: #171717;\n",
              "  color: #f1f1f1;\n",
              "}\n",
              "#T_35759_row2_col9, #T_35759_row3_col11 {\n",
              "  font-size: 6pt;\n",
              "  background-color: #4b4b4b;\n",
              "  color: #f1f1f1;\n",
              "}\n",
              "#T_35759_row2_col10, #T_35759_row7_col10, #T_35759_row8_col8, #T_35759_row8_col10, #T_35759_row9_col8, #T_35759_row9_col10 {\n",
              "  font-size: 6pt;\n",
              "  background-color: #010101;\n",
              "  color: #f1f1f1;\n",
              "}\n",
              "#T_35759_row3_col1 {\n",
              "  font-size: 6pt;\n",
              "  background-color: #272727;\n",
              "  color: #f1f1f1;\n",
              "}\n",
              "#T_35759_row3_col2 {\n",
              "  font-size: 6pt;\n",
              "  background-color: #0a0a0a;\n",
              "  color: #f1f1f1;\n",
              "}\n",
              "#T_35759_row3_col3 {\n",
              "  font-size: 6pt;\n",
              "  background-color: #050505;\n",
              "  color: #f1f1f1;\n",
              "}\n",
              "#T_35759_row3_col5 {\n",
              "  font-size: 6pt;\n",
              "  background-color: #333333;\n",
              "  color: #f1f1f1;\n",
              "}\n",
              "#T_35759_row3_col6 {\n",
              "  font-size: 6pt;\n",
              "  background-color: #e6e6e6;\n",
              "  color: #000000;\n",
              "}\n",
              "#T_35759_row3_col7, #T_35759_row3_col10 {\n",
              "  font-size: 6pt;\n",
              "  background-color: #fafafa;\n",
              "  color: #000000;\n",
              "}\n",
              "#T_35759_row3_col8 {\n",
              "  font-size: 6pt;\n",
              "  background-color: #fbfbfb;\n",
              "  color: #000000;\n",
              "}\n",
              "#T_35759_row3_col9 {\n",
              "  font-size: 6pt;\n",
              "  background-color: #fdfdfd;\n",
              "  color: #000000;\n",
              "}\n",
              "#T_35759_row4_col4 {\n",
              "  font-size: 6pt;\n",
              "  background-color: #1b1b1b;\n",
              "  color: #f1f1f1;\n",
              "}\n",
              "#T_35759_row4_col5 {\n",
              "  font-size: 6pt;\n",
              "  background-color: #e0e0e0;\n",
              "  color: #000000;\n",
              "}\n",
              "#T_35759_row4_col11 {\n",
              "  font-size: 6pt;\n",
              "  background-color: #4e4e4e;\n",
              "  color: #f1f1f1;\n",
              "}\n",
              "#T_35759_row4_col14 {\n",
              "  font-size: 6pt;\n",
              "  background-color: #767676;\n",
              "  color: #f1f1f1;\n",
              "}\n",
              "#T_35759_row5_col1 {\n",
              "  font-size: 6pt;\n",
              "  background-color: #fcfcfc;\n",
              "  color: #000000;\n",
              "}\n",
              "#T_35759_row5_col2, #T_35759_row5_col3 {\n",
              "  font-size: 6pt;\n",
              "  background-color: #f6f6f6;\n",
              "  color: #000000;\n",
              "}\n",
              "#T_35759_row5_col4, #T_35759_row7_col7 {\n",
              "  font-size: 6pt;\n",
              "  background-color: #f8f8f8;\n",
              "  color: #000000;\n",
              "}\n",
              "#T_35759_row5_col10, #T_35759_row10_col7 {\n",
              "  font-size: 6pt;\n",
              "  background-color: #e8e8e8;\n",
              "  color: #000000;\n",
              "}\n",
              "#T_35759_row5_col11 {\n",
              "  font-size: 6pt;\n",
              "  background-color: #222222;\n",
              "  color: #f1f1f1;\n",
              "}\n",
              "#T_35759_row5_col13, #T_35759_row6_col12 {\n",
              "  font-size: 6pt;\n",
              "  background-color: #090909;\n",
              "  color: #f1f1f1;\n",
              "}\n",
              "#T_35759_row5_col14 {\n",
              "  font-size: 6pt;\n",
              "  background-color: #d0d0d0;\n",
              "  color: #000000;\n",
              "}\n",
              "#T_35759_row6_col10, #T_35759_row7_col11, #T_35759_row9_col6 {\n",
              "  font-size: 6pt;\n",
              "  background-color: #060606;\n",
              "  color: #f1f1f1;\n",
              "}\n",
              "#T_35759_row6_col13 {\n",
              "  font-size: 6pt;\n",
              "  background-color: #979797;\n",
              "  color: #f1f1f1;\n",
              "}\n",
              "#T_35759_row7_col8 {\n",
              "  font-size: 6pt;\n",
              "  background-color: #b6b6b6;\n",
              "  color: #000000;\n",
              "}\n",
              "#T_35759_row7_col9 {\n",
              "  font-size: 6pt;\n",
              "  background-color: #252525;\n",
              "  color: #f1f1f1;\n",
              "}\n",
              "#T_35759_row7_col12 {\n",
              "  font-size: 6pt;\n",
              "  background-color: #999999;\n",
              "  color: #f1f1f1;\n",
              "}\n",
              "#T_35759_row8_col5 {\n",
              "  font-size: 6pt;\n",
              "  background-color: #f9f9f9;\n",
              "  color: #000000;\n",
              "}\n",
              "#T_35759_row8_col7 {\n",
              "  font-size: 6pt;\n",
              "  background-color: #101010;\n",
              "  color: #f1f1f1;\n",
              "}\n",
              "#T_35759_row8_col9, #T_35759_row9_col9 {\n",
              "  font-size: 6pt;\n",
              "  background-color: #020202;\n",
              "  color: #f1f1f1;\n",
              "}\n",
              "#T_35759_row8_col11 {\n",
              "  font-size: 6pt;\n",
              "  background-color: #545454;\n",
              "  color: #f1f1f1;\n",
              "}\n",
              "#T_35759_row8_col12 {\n",
              "  font-size: 6pt;\n",
              "  background-color: #f1f1f1;\n",
              "  color: #000000;\n",
              "}\n",
              "#T_35759_row9_col5 {\n",
              "  font-size: 6pt;\n",
              "  background-color: #f7f7f7;\n",
              "  color: #000000;\n",
              "}\n",
              "#T_35759_row9_col7 {\n",
              "  font-size: 6pt;\n",
              "  background-color: #030303;\n",
              "  color: #f1f1f1;\n",
              "}\n",
              "#T_35759_row9_col12 {\n",
              "  font-size: 6pt;\n",
              "  background-color: #181818;\n",
              "  color: #f1f1f1;\n",
              "}\n",
              "#T_35759_row9_col13 {\n",
              "  font-size: 6pt;\n",
              "  background-color: #303030;\n",
              "  color: #f1f1f1;\n",
              "}\n",
              "#T_35759_row9_col14 {\n",
              "  font-size: 6pt;\n",
              "  background-color: #a9a9a9;\n",
              "  color: #f1f1f1;\n",
              "}\n",
              "#T_35759_row9_col15 {\n",
              "  font-size: 6pt;\n",
              "  background-color: #fefefe;\n",
              "  color: #000000;\n",
              "}\n",
              "#T_35759_row10_col8, #T_35759_row10_col9 {\n",
              "  font-size: 6pt;\n",
              "  background-color: #bababa;\n",
              "  color: #000000;\n",
              "}\n",
              "#T_35759_row10_col10 {\n",
              "  font-size: 6pt;\n",
              "  background-color: #393939;\n",
              "  color: #f1f1f1;\n",
              "}\n",
              "</style>\n",
              "<table id=\"T_35759_\" class=\"dataframe\">\n",
              "  <thead>\n",
              "    <tr>\n",
              "      <th class=\"blank level0\" >&nbsp;</th>\n",
              "      <th class=\"col_heading level0 col0\" >0</th>\n",
              "      <th class=\"col_heading level0 col1\" >1</th>\n",
              "      <th class=\"col_heading level0 col2\" >2</th>\n",
              "      <th class=\"col_heading level0 col3\" >3</th>\n",
              "      <th class=\"col_heading level0 col4\" >4</th>\n",
              "      <th class=\"col_heading level0 col5\" >5</th>\n",
              "      <th class=\"col_heading level0 col6\" >6</th>\n",
              "      <th class=\"col_heading level0 col7\" >7</th>\n",
              "      <th class=\"col_heading level0 col8\" >8</th>\n",
              "      <th class=\"col_heading level0 col9\" >9</th>\n",
              "      <th class=\"col_heading level0 col10\" >10</th>\n",
              "      <th class=\"col_heading level0 col11\" >11</th>\n",
              "      <th class=\"col_heading level0 col12\" >12</th>\n",
              "      <th class=\"col_heading level0 col13\" >13</th>\n",
              "      <th class=\"col_heading level0 col14\" >14</th>\n",
              "      <th class=\"col_heading level0 col15\" >15</th>\n",
              "      <th class=\"col_heading level0 col16\" >16</th>\n",
              "      <th class=\"col_heading level0 col17\" >17</th>\n",
              "    </tr>\n",
              "  </thead>\n",
              "  <tbody>\n",
              "    <tr>\n",
              "      <th id=\"T_35759_level0_row0\" class=\"row_heading level0 row0\" >0</th>\n",
              "      <td id=\"T_35759_row0_col0\" class=\"data row0 col0\" >0</td>\n",
              "      <td id=\"T_35759_row0_col1\" class=\"data row0 col1\" >0</td>\n",
              "      <td id=\"T_35759_row0_col2\" class=\"data row0 col2\" >0</td>\n",
              "      <td id=\"T_35759_row0_col3\" class=\"data row0 col3\" >0</td>\n",
              "      <td id=\"T_35759_row0_col4\" class=\"data row0 col4\" >0</td>\n",
              "      <td id=\"T_35759_row0_col5\" class=\"data row0 col5\" >0</td>\n",
              "      <td id=\"T_35759_row0_col6\" class=\"data row0 col6\" >0</td>\n",
              "      <td id=\"T_35759_row0_col7\" class=\"data row0 col7\" >0</td>\n",
              "      <td id=\"T_35759_row0_col8\" class=\"data row0 col8\" >0</td>\n",
              "      <td id=\"T_35759_row0_col9\" class=\"data row0 col9\" >0</td>\n",
              "      <td id=\"T_35759_row0_col10\" class=\"data row0 col10\" >0</td>\n",
              "      <td id=\"T_35759_row0_col11\" class=\"data row0 col11\" >0</td>\n",
              "      <td id=\"T_35759_row0_col12\" class=\"data row0 col12\" >0</td>\n",
              "      <td id=\"T_35759_row0_col13\" class=\"data row0 col13\" >0</td>\n",
              "      <td id=\"T_35759_row0_col14\" class=\"data row0 col14\" >0</td>\n",
              "      <td id=\"T_35759_row0_col15\" class=\"data row0 col15\" >0</td>\n",
              "      <td id=\"T_35759_row0_col16\" class=\"data row0 col16\" >0</td>\n",
              "      <td id=\"T_35759_row0_col17\" class=\"data row0 col17\" >0</td>\n",
              "    </tr>\n",
              "    <tr>\n",
              "      <th id=\"T_35759_level0_row1\" class=\"row_heading level0 row1\" >1</th>\n",
              "      <td id=\"T_35759_row1_col0\" class=\"data row1 col0\" >0</td>\n",
              "      <td id=\"T_35759_row1_col1\" class=\"data row1 col1\" >0</td>\n",
              "      <td id=\"T_35759_row1_col2\" class=\"data row1 col2\" >0</td>\n",
              "      <td id=\"T_35759_row1_col3\" class=\"data row1 col3\" >0</td>\n",
              "      <td id=\"T_35759_row1_col4\" class=\"data row1 col4\" >0</td>\n",
              "      <td id=\"T_35759_row1_col5\" class=\"data row1 col5\" >29</td>\n",
              "      <td id=\"T_35759_row1_col6\" class=\"data row1 col6\" >150</td>\n",
              "      <td id=\"T_35759_row1_col7\" class=\"data row1 col7\" >195</td>\n",
              "      <td id=\"T_35759_row1_col8\" class=\"data row1 col8\" >254</td>\n",
              "      <td id=\"T_35759_row1_col9\" class=\"data row1 col9\" >255</td>\n",
              "      <td id=\"T_35759_row1_col10\" class=\"data row1 col10\" >254</td>\n",
              "      <td id=\"T_35759_row1_col11\" class=\"data row1 col11\" >176</td>\n",
              "      <td id=\"T_35759_row1_col12\" class=\"data row1 col12\" >193</td>\n",
              "      <td id=\"T_35759_row1_col13\" class=\"data row1 col13\" >150</td>\n",
              "      <td id=\"T_35759_row1_col14\" class=\"data row1 col14\" >96</td>\n",
              "      <td id=\"T_35759_row1_col15\" class=\"data row1 col15\" >0</td>\n",
              "      <td id=\"T_35759_row1_col16\" class=\"data row1 col16\" >0</td>\n",
              "      <td id=\"T_35759_row1_col17\" class=\"data row1 col17\" >0</td>\n",
              "    </tr>\n",
              "    <tr>\n",
              "      <th id=\"T_35759_level0_row2\" class=\"row_heading level0 row2\" >2</th>\n",
              "      <td id=\"T_35759_row2_col0\" class=\"data row2 col0\" >0</td>\n",
              "      <td id=\"T_35759_row2_col1\" class=\"data row2 col1\" >0</td>\n",
              "      <td id=\"T_35759_row2_col2\" class=\"data row2 col2\" >0</td>\n",
              "      <td id=\"T_35759_row2_col3\" class=\"data row2 col3\" >48</td>\n",
              "      <td id=\"T_35759_row2_col4\" class=\"data row2 col4\" >166</td>\n",
              "      <td id=\"T_35759_row2_col5\" class=\"data row2 col5\" >224</td>\n",
              "      <td id=\"T_35759_row2_col6\" class=\"data row2 col6\" >253</td>\n",
              "      <td id=\"T_35759_row2_col7\" class=\"data row2 col7\" >253</td>\n",
              "      <td id=\"T_35759_row2_col8\" class=\"data row2 col8\" >234</td>\n",
              "      <td id=\"T_35759_row2_col9\" class=\"data row2 col9\" >196</td>\n",
              "      <td id=\"T_35759_row2_col10\" class=\"data row2 col10\" >253</td>\n",
              "      <td id=\"T_35759_row2_col11\" class=\"data row2 col11\" >253</td>\n",
              "      <td id=\"T_35759_row2_col12\" class=\"data row2 col12\" >253</td>\n",
              "      <td id=\"T_35759_row2_col13\" class=\"data row2 col13\" >253</td>\n",
              "      <td id=\"T_35759_row2_col14\" class=\"data row2 col14\" >233</td>\n",
              "      <td id=\"T_35759_row2_col15\" class=\"data row2 col15\" >0</td>\n",
              "      <td id=\"T_35759_row2_col16\" class=\"data row2 col16\" >0</td>\n",
              "      <td id=\"T_35759_row2_col17\" class=\"data row2 col17\" >0</td>\n",
              "    </tr>\n",
              "    <tr>\n",
              "      <th id=\"T_35759_level0_row3\" class=\"row_heading level0 row3\" >3</th>\n",
              "      <td id=\"T_35759_row3_col0\" class=\"data row3 col0\" >0</td>\n",
              "      <td id=\"T_35759_row3_col1\" class=\"data row3 col1\" >93</td>\n",
              "      <td id=\"T_35759_row3_col2\" class=\"data row3 col2\" >244</td>\n",
              "      <td id=\"T_35759_row3_col3\" class=\"data row3 col3\" >249</td>\n",
              "      <td id=\"T_35759_row3_col4\" class=\"data row3 col4\" >253</td>\n",
              "      <td id=\"T_35759_row3_col5\" class=\"data row3 col5\" >187</td>\n",
              "      <td id=\"T_35759_row3_col6\" class=\"data row3 col6\" >46</td>\n",
              "      <td id=\"T_35759_row3_col7\" class=\"data row3 col7\" >10</td>\n",
              "      <td id=\"T_35759_row3_col8\" class=\"data row3 col8\" >8</td>\n",
              "      <td id=\"T_35759_row3_col9\" class=\"data row3 col9\" >4</td>\n",
              "      <td id=\"T_35759_row3_col10\" class=\"data row3 col10\" >10</td>\n",
              "      <td id=\"T_35759_row3_col11\" class=\"data row3 col11\" >194</td>\n",
              "      <td id=\"T_35759_row3_col12\" class=\"data row3 col12\" >253</td>\n",
              "      <td id=\"T_35759_row3_col13\" class=\"data row3 col13\" >253</td>\n",
              "      <td id=\"T_35759_row3_col14\" class=\"data row3 col14\" >233</td>\n",
              "      <td id=\"T_35759_row3_col15\" class=\"data row3 col15\" >0</td>\n",
              "      <td id=\"T_35759_row3_col16\" class=\"data row3 col16\" >0</td>\n",
              "      <td id=\"T_35759_row3_col17\" class=\"data row3 col17\" >0</td>\n",
              "    </tr>\n",
              "    <tr>\n",
              "      <th id=\"T_35759_level0_row4\" class=\"row_heading level0 row4\" >4</th>\n",
              "      <td id=\"T_35759_row4_col0\" class=\"data row4 col0\" >0</td>\n",
              "      <td id=\"T_35759_row4_col1\" class=\"data row4 col1\" >107</td>\n",
              "      <td id=\"T_35759_row4_col2\" class=\"data row4 col2\" >253</td>\n",
              "      <td id=\"T_35759_row4_col3\" class=\"data row4 col3\" >253</td>\n",
              "      <td id=\"T_35759_row4_col4\" class=\"data row4 col4\" >230</td>\n",
              "      <td id=\"T_35759_row4_col5\" class=\"data row4 col5\" >48</td>\n",
              "      <td id=\"T_35759_row4_col6\" class=\"data row4 col6\" >0</td>\n",
              "      <td id=\"T_35759_row4_col7\" class=\"data row4 col7\" >0</td>\n",
              "      <td id=\"T_35759_row4_col8\" class=\"data row4 col8\" >0</td>\n",
              "      <td id=\"T_35759_row4_col9\" class=\"data row4 col9\" >0</td>\n",
              "      <td id=\"T_35759_row4_col10\" class=\"data row4 col10\" >0</td>\n",
              "      <td id=\"T_35759_row4_col11\" class=\"data row4 col11\" >192</td>\n",
              "      <td id=\"T_35759_row4_col12\" class=\"data row4 col12\" >253</td>\n",
              "      <td id=\"T_35759_row4_col13\" class=\"data row4 col13\" >253</td>\n",
              "      <td id=\"T_35759_row4_col14\" class=\"data row4 col14\" >156</td>\n",
              "      <td id=\"T_35759_row4_col15\" class=\"data row4 col15\" >0</td>\n",
              "      <td id=\"T_35759_row4_col16\" class=\"data row4 col16\" >0</td>\n",
              "      <td id=\"T_35759_row4_col17\" class=\"data row4 col17\" >0</td>\n",
              "    </tr>\n",
              "    <tr>\n",
              "      <th id=\"T_35759_level0_row5\" class=\"row_heading level0 row5\" >5</th>\n",
              "      <td id=\"T_35759_row5_col0\" class=\"data row5 col0\" >0</td>\n",
              "      <td id=\"T_35759_row5_col1\" class=\"data row5 col1\" >3</td>\n",
              "      <td id=\"T_35759_row5_col2\" class=\"data row5 col2\" >20</td>\n",
              "      <td id=\"T_35759_row5_col3\" class=\"data row5 col3\" >20</td>\n",
              "      <td id=\"T_35759_row5_col4\" class=\"data row5 col4\" >15</td>\n",
              "      <td id=\"T_35759_row5_col5\" class=\"data row5 col5\" >0</td>\n",
              "      <td id=\"T_35759_row5_col6\" class=\"data row5 col6\" >0</td>\n",
              "      <td id=\"T_35759_row5_col7\" class=\"data row5 col7\" >0</td>\n",
              "      <td id=\"T_35759_row5_col8\" class=\"data row5 col8\" >0</td>\n",
              "      <td id=\"T_35759_row5_col9\" class=\"data row5 col9\" >0</td>\n",
              "      <td id=\"T_35759_row5_col10\" class=\"data row5 col10\" >43</td>\n",
              "      <td id=\"T_35759_row5_col11\" class=\"data row5 col11\" >224</td>\n",
              "      <td id=\"T_35759_row5_col12\" class=\"data row5 col12\" >253</td>\n",
              "      <td id=\"T_35759_row5_col13\" class=\"data row5 col13\" >245</td>\n",
              "      <td id=\"T_35759_row5_col14\" class=\"data row5 col14\" >74</td>\n",
              "      <td id=\"T_35759_row5_col15\" class=\"data row5 col15\" >0</td>\n",
              "      <td id=\"T_35759_row5_col16\" class=\"data row5 col16\" >0</td>\n",
              "      <td id=\"T_35759_row5_col17\" class=\"data row5 col17\" >0</td>\n",
              "    </tr>\n",
              "    <tr>\n",
              "      <th id=\"T_35759_level0_row6\" class=\"row_heading level0 row6\" >6</th>\n",
              "      <td id=\"T_35759_row6_col0\" class=\"data row6 col0\" >0</td>\n",
              "      <td id=\"T_35759_row6_col1\" class=\"data row6 col1\" >0</td>\n",
              "      <td id=\"T_35759_row6_col2\" class=\"data row6 col2\" >0</td>\n",
              "      <td id=\"T_35759_row6_col3\" class=\"data row6 col3\" >0</td>\n",
              "      <td id=\"T_35759_row6_col4\" class=\"data row6 col4\" >0</td>\n",
              "      <td id=\"T_35759_row6_col5\" class=\"data row6 col5\" >0</td>\n",
              "      <td id=\"T_35759_row6_col6\" class=\"data row6 col6\" >0</td>\n",
              "      <td id=\"T_35759_row6_col7\" class=\"data row6 col7\" >0</td>\n",
              "      <td id=\"T_35759_row6_col8\" class=\"data row6 col8\" >0</td>\n",
              "      <td id=\"T_35759_row6_col9\" class=\"data row6 col9\" >0</td>\n",
              "      <td id=\"T_35759_row6_col10\" class=\"data row6 col10\" >249</td>\n",
              "      <td id=\"T_35759_row6_col11\" class=\"data row6 col11\" >253</td>\n",
              "      <td id=\"T_35759_row6_col12\" class=\"data row6 col12\" >245</td>\n",
              "      <td id=\"T_35759_row6_col13\" class=\"data row6 col13\" >126</td>\n",
              "      <td id=\"T_35759_row6_col14\" class=\"data row6 col14\" >0</td>\n",
              "      <td id=\"T_35759_row6_col15\" class=\"data row6 col15\" >0</td>\n",
              "      <td id=\"T_35759_row6_col16\" class=\"data row6 col16\" >0</td>\n",
              "      <td id=\"T_35759_row6_col17\" class=\"data row6 col17\" >0</td>\n",
              "    </tr>\n",
              "    <tr>\n",
              "      <th id=\"T_35759_level0_row7\" class=\"row_heading level0 row7\" >7</th>\n",
              "      <td id=\"T_35759_row7_col0\" class=\"data row7 col0\" >0</td>\n",
              "      <td id=\"T_35759_row7_col1\" class=\"data row7 col1\" >0</td>\n",
              "      <td id=\"T_35759_row7_col2\" class=\"data row7 col2\" >0</td>\n",
              "      <td id=\"T_35759_row7_col3\" class=\"data row7 col3\" >0</td>\n",
              "      <td id=\"T_35759_row7_col4\" class=\"data row7 col4\" >0</td>\n",
              "      <td id=\"T_35759_row7_col5\" class=\"data row7 col5\" >0</td>\n",
              "      <td id=\"T_35759_row7_col6\" class=\"data row7 col6\" >0</td>\n",
              "      <td id=\"T_35759_row7_col7\" class=\"data row7 col7\" >14</td>\n",
              "      <td id=\"T_35759_row7_col8\" class=\"data row7 col8\" >101</td>\n",
              "      <td id=\"T_35759_row7_col9\" class=\"data row7 col9\" >223</td>\n",
              "      <td id=\"T_35759_row7_col10\" class=\"data row7 col10\" >253</td>\n",
              "      <td id=\"T_35759_row7_col11\" class=\"data row7 col11\" >248</td>\n",
              "      <td id=\"T_35759_row7_col12\" class=\"data row7 col12\" >124</td>\n",
              "      <td id=\"T_35759_row7_col13\" class=\"data row7 col13\" >0</td>\n",
              "      <td id=\"T_35759_row7_col14\" class=\"data row7 col14\" >0</td>\n",
              "      <td id=\"T_35759_row7_col15\" class=\"data row7 col15\" >0</td>\n",
              "      <td id=\"T_35759_row7_col16\" class=\"data row7 col16\" >0</td>\n",
              "      <td id=\"T_35759_row7_col17\" class=\"data row7 col17\" >0</td>\n",
              "    </tr>\n",
              "    <tr>\n",
              "      <th id=\"T_35759_level0_row8\" class=\"row_heading level0 row8\" >8</th>\n",
              "      <td id=\"T_35759_row8_col0\" class=\"data row8 col0\" >0</td>\n",
              "      <td id=\"T_35759_row8_col1\" class=\"data row8 col1\" >0</td>\n",
              "      <td id=\"T_35759_row8_col2\" class=\"data row8 col2\" >0</td>\n",
              "      <td id=\"T_35759_row8_col3\" class=\"data row8 col3\" >0</td>\n",
              "      <td id=\"T_35759_row8_col4\" class=\"data row8 col4\" >0</td>\n",
              "      <td id=\"T_35759_row8_col5\" class=\"data row8 col5\" >11</td>\n",
              "      <td id=\"T_35759_row8_col6\" class=\"data row8 col6\" >166</td>\n",
              "      <td id=\"T_35759_row8_col7\" class=\"data row8 col7\" >239</td>\n",
              "      <td id=\"T_35759_row8_col8\" class=\"data row8 col8\" >253</td>\n",
              "      <td id=\"T_35759_row8_col9\" class=\"data row8 col9\" >253</td>\n",
              "      <td id=\"T_35759_row8_col10\" class=\"data row8 col10\" >253</td>\n",
              "      <td id=\"T_35759_row8_col11\" class=\"data row8 col11\" >187</td>\n",
              "      <td id=\"T_35759_row8_col12\" class=\"data row8 col12\" >30</td>\n",
              "      <td id=\"T_35759_row8_col13\" class=\"data row8 col13\" >0</td>\n",
              "      <td id=\"T_35759_row8_col14\" class=\"data row8 col14\" >0</td>\n",
              "      <td id=\"T_35759_row8_col15\" class=\"data row8 col15\" >0</td>\n",
              "      <td id=\"T_35759_row8_col16\" class=\"data row8 col16\" >0</td>\n",
              "      <td id=\"T_35759_row8_col17\" class=\"data row8 col17\" >0</td>\n",
              "    </tr>\n",
              "    <tr>\n",
              "      <th id=\"T_35759_level0_row9\" class=\"row_heading level0 row9\" >9</th>\n",
              "      <td id=\"T_35759_row9_col0\" class=\"data row9 col0\" >0</td>\n",
              "      <td id=\"T_35759_row9_col1\" class=\"data row9 col1\" >0</td>\n",
              "      <td id=\"T_35759_row9_col2\" class=\"data row9 col2\" >0</td>\n",
              "      <td id=\"T_35759_row9_col3\" class=\"data row9 col3\" >0</td>\n",
              "      <td id=\"T_35759_row9_col4\" class=\"data row9 col4\" >0</td>\n",
              "      <td id=\"T_35759_row9_col5\" class=\"data row9 col5\" >16</td>\n",
              "      <td id=\"T_35759_row9_col6\" class=\"data row9 col6\" >248</td>\n",
              "      <td id=\"T_35759_row9_col7\" class=\"data row9 col7\" >250</td>\n",
              "      <td id=\"T_35759_row9_col8\" class=\"data row9 col8\" >253</td>\n",
              "      <td id=\"T_35759_row9_col9\" class=\"data row9 col9\" >253</td>\n",
              "      <td id=\"T_35759_row9_col10\" class=\"data row9 col10\" >253</td>\n",
              "      <td id=\"T_35759_row9_col11\" class=\"data row9 col11\" >253</td>\n",
              "      <td id=\"T_35759_row9_col12\" class=\"data row9 col12\" >232</td>\n",
              "      <td id=\"T_35759_row9_col13\" class=\"data row9 col13\" >213</td>\n",
              "      <td id=\"T_35759_row9_col14\" class=\"data row9 col14\" >111</td>\n",
              "      <td id=\"T_35759_row9_col15\" class=\"data row9 col15\" >2</td>\n",
              "      <td id=\"T_35759_row9_col16\" class=\"data row9 col16\" >0</td>\n",
              "      <td id=\"T_35759_row9_col17\" class=\"data row9 col17\" >0</td>\n",
              "    </tr>\n",
              "    <tr>\n",
              "      <th id=\"T_35759_level0_row10\" class=\"row_heading level0 row10\" >10</th>\n",
              "      <td id=\"T_35759_row10_col0\" class=\"data row10 col0\" >0</td>\n",
              "      <td id=\"T_35759_row10_col1\" class=\"data row10 col1\" >0</td>\n",
              "      <td id=\"T_35759_row10_col2\" class=\"data row10 col2\" >0</td>\n",
              "      <td id=\"T_35759_row10_col3\" class=\"data row10 col3\" >0</td>\n",
              "      <td id=\"T_35759_row10_col4\" class=\"data row10 col4\" >0</td>\n",
              "      <td id=\"T_35759_row10_col5\" class=\"data row10 col5\" >0</td>\n",
              "      <td id=\"T_35759_row10_col6\" class=\"data row10 col6\" >0</td>\n",
              "      <td id=\"T_35759_row10_col7\" class=\"data row10 col7\" >43</td>\n",
              "      <td id=\"T_35759_row10_col8\" class=\"data row10 col8\" >98</td>\n",
              "      <td id=\"T_35759_row10_col9\" class=\"data row10 col9\" >98</td>\n",
              "      <td id=\"T_35759_row10_col10\" class=\"data row10 col10\" >208</td>\n",
              "      <td id=\"T_35759_row10_col11\" class=\"data row10 col11\" >253</td>\n",
              "      <td id=\"T_35759_row10_col12\" class=\"data row10 col12\" >253</td>\n",
              "      <td id=\"T_35759_row10_col13\" class=\"data row10 col13\" >253</td>\n",
              "      <td id=\"T_35759_row10_col14\" class=\"data row10 col14\" >253</td>\n",
              "      <td id=\"T_35759_row10_col15\" class=\"data row10 col15\" >187</td>\n",
              "      <td id=\"T_35759_row10_col16\" class=\"data row10 col16\" >22</td>\n",
              "      <td id=\"T_35759_row10_col17\" class=\"data row10 col17\" >0</td>\n",
              "    </tr>\n",
              "  </tbody>\n",
              "</table>\n"
            ]
          },
          "metadata": {},
          "execution_count": 9
        }
      ]
    },
    {
      "cell_type": "code",
      "source": [
        "#Store all image in tensors\n",
        "seven_tensors = [tensor(Image.open(o)) for o in sevens]\n",
        "three_tensors = [tensor(Image.open(o)) for o in threes]\n",
        "len(three_tensors), len(seven_tensors)"
      ],
      "metadata": {
        "colab": {
          "base_uri": "https://localhost:8080/"
        },
        "id": "oPD_OiJGT1Mk",
        "outputId": "7ec8ea28-e91a-4c3f-e8c9-3205dd525cf3"
      },
      "execution_count": 10,
      "outputs": [
        {
          "output_type": "execute_result",
          "data": {
            "text/plain": [
              "(6131, 6265)"
            ]
          },
          "metadata": {},
          "execution_count": 10
        }
      ]
    },
    {
      "cell_type": "code",
      "source": [
        "#use fastai show_image to display image in tensor\n",
        "show_image(three_tensors[92])"
      ],
      "metadata": {
        "colab": {
          "base_uri": "https://localhost:8080/",
          "height": 102
        },
        "id": "dWyyPzcsUJUm",
        "outputId": "b830ce63-1897-4211-8e52-32646503ef4f"
      },
      "execution_count": 11,
      "outputs": [
        {
          "output_type": "execute_result",
          "data": {
            "text/plain": [
              "<matplotlib.axes._subplots.AxesSubplot at 0x7fcac019f850>"
            ]
          },
          "metadata": {},
          "execution_count": 11
        },
        {
          "output_type": "display_data",
          "data": {
            "text/plain": [
              "<Figure size 72x72 with 1 Axes>"
            ],
            "image/png": "[encoded data removed]"
          },
          "metadata": {
            "needs_background": "light"
          }
        }
      ]
    },
    {
      "cell_type": "code",
      "source": [
        "#Our initial approach we are going to get average of all pixels\n",
        "#To do this we will stack all images of each number into a single tensor\n",
        "stacked_threes = torch.stack(three_tensors).float()/255\n",
        "stacked_sevens = torch.stack(seven_tensors).float()/255\n",
        "\n",
        "#Size gives us the length of each axis in a tensor\n",
        "#Here we have count, pixels width, pixels height\n",
        "stacked_threes.shape"
      ],
      "metadata": {
        "colab": {
          "base_uri": "https://localhost:8080/"
        },
        "id": "kxjYSEbwUi6T",
        "outputId": "cc4529f2-1e07-4749-b0f8-b22f591a6b31"
      },
      "execution_count": 12,
      "outputs": [
        {
          "output_type": "execute_result",
          "data": {
            "text/plain": [
              "torch.Size([6131, 28, 28])"
            ]
          },
          "metadata": {},
          "execution_count": 12
        }
      ]
    },
    {
      "cell_type": "code",
      "source": [
        "#The length of the shape is a tensor's rank\n",
        "len(stacked_threes.shape)"
      ],
      "metadata": {
        "colab": {
          "base_uri": "https://localhost:8080/"
        },
        "id": "0Mt1HeXBVVQz",
        "outputId": "691cce4f-2230-4e4d-b49b-86c16c33d4c4"
      },
      "execution_count": 13,
      "outputs": [
        {
          "output_type": "execute_result",
          "data": {
            "text/plain": [
              "3"
            ]
          },
          "metadata": {},
          "execution_count": 13
        }
      ]
    },
    {
      "cell_type": "code",
      "source": [
        "#Rank can also be accessed with ndim\n",
        "stacked_threes.ndim "
      ],
      "metadata": {
        "colab": {
          "base_uri": "https://localhost:8080/"
        },
        "id": "mIm3MeqKVg3t",
        "outputId": "228fa28a-98cb-44e9-f0ab-7e6715cec0b3"
      },
      "execution_count": 14,
      "outputs": [
        {
          "output_type": "execute_result",
          "data": {
            "text/plain": [
              "3"
            ]
          },
          "metadata": {},
          "execution_count": 14
        }
      ]
    },
    {
      "cell_type": "code",
      "source": [
        "#To get the average of all images we call the mean method on dim 0 of stack\n",
        "mean3 = stacked_threes.mean(0)\n",
        "show_image(mean3)"
      ],
      "metadata": {
        "colab": {
          "base_uri": "https://localhost:8080/",
          "height": 102
        },
        "id": "Nlvt0EJeVzjc",
        "outputId": "a7d62fe2-f4ae-4e64-8630-9419598e05b8"
      },
      "execution_count": 15,
      "outputs": [
        {
          "output_type": "execute_result",
          "data": {
            "text/plain": [
              "<matplotlib.axes._subplots.AxesSubplot at 0x7fcac0180f90>"
            ]
          },
          "metadata": {},
          "execution_count": 15
        },
        {
          "output_type": "display_data",
          "data": {
            "text/plain": [
              "<Figure size 72x72 with 1 Axes>"
            ],
            "image/png": "[encoded data removed]"
          },
          "metadata": {
            "needs_background": "light"
          }
        }
      ]
    },
    {
      "cell_type": "code",
      "source": [
        "#Now for our set of 7s\n",
        "mean7 = stacked_sevens.mean(0)\n",
        "show_image(mean7)"
      ],
      "metadata": {
        "colab": {
          "base_uri": "https://localhost:8080/",
          "height": 102
        },
        "id": "RKvp-9hpWAbW",
        "outputId": "18300254-f634-4ec2-8f25-fcd0d993cf80"
      },
      "execution_count": 16,
      "outputs": [
        {
          "output_type": "execute_result",
          "data": {
            "text/plain": [
              "<matplotlib.axes._subplots.AxesSubplot at 0x7fcabf74da50>"
            ]
          },
          "metadata": {},
          "execution_count": 16
        },
        {
          "output_type": "display_data",
          "data": {
            "text/plain": [
              "<Figure size 72x72 with 1 Axes>"
            ],
            "image/png": "[encoded data removed]"
          },
          "metadata": {
            "needs_background": "light"
          }
        }
      ]
    },
    {
      "cell_type": "code",
      "source": [
        "#We can test to see how far a test image is from the avg 3 or avg 7\n",
        "a_3 = stacked_threes[2] #Test img\n",
        "#Get absloute val of pixel differences to avoid cancellation of \"too light\" and \"too dark\"\n",
        "dist_3_abs = (a_3 - mean3).abs().mean() #dist to avg 3\n",
        "dist_7_abs = (a_3 - mean7).abs().mean() #dist to avg 7\n",
        "dist_3_abs, dist_7_abs #Dist to 3 is smaller, so model picks 3"
      ],
      "metadata": {
        "colab": {
          "base_uri": "https://localhost:8080/"
        },
        "id": "rU0gnY3-Wdn-",
        "outputId": "1aae8ebb-0ba9-48ad-ab49-20d5eae43ee2"
      },
      "execution_count": 17,
      "outputs": [
        {
          "output_type": "execute_result",
          "data": {
            "text/plain": [
              "(tensor(0.1100), tensor(0.1541))"
            ]
          },
          "metadata": {},
          "execution_count": 17
        }
      ]
    },
    {
      "cell_type": "code",
      "source": [
        "#We can do a similar thing by squaring the differences (to get a positive) then taking the root\n",
        "dist_3_sqr = ((a_3 - mean3)**2).mean().sqrt() #to 3\n",
        "dist_7_sqr = ((a_3 - mean7)**2).mean().sqrt() #to 7\n",
        "dist_3_sqr, dist_7_sqr #again 3 is a better solution"
      ],
      "metadata": {
        "colab": {
          "base_uri": "https://localhost:8080/"
        },
        "id": "cKjV41U5XE3F",
        "outputId": "52b7d257-390e-4c2d-8472-0221b3fd6278"
      },
      "execution_count": 18,
      "outputs": [
        {
          "output_type": "execute_result",
          "data": {
            "text/plain": [
              "(tensor(0.1980), tensor(0.2974))"
            ]
          },
          "metadata": {},
          "execution_count": 18
        }
      ]
    },
    {
      "cell_type": "code",
      "source": [
        "#Pytorch already provides these as loss functions\n",
        "F.l1_loss(a_3.float(),mean7), F.mse_loss(a_3,mean7).sqrt()"
      ],
      "metadata": {
        "colab": {
          "base_uri": "https://localhost:8080/"
        },
        "id": "4-nf4qa0Xqkb",
        "outputId": "d59fa454-0495-417c-dea5-c9bcc2b4b280"
      },
      "execution_count": 19,
      "outputs": [
        {
          "output_type": "execute_result",
          "data": {
            "text/plain": [
              "(tensor(0.1541), tensor(0.2974))"
            ]
          },
          "metadata": {},
          "execution_count": 19
        }
      ]
    }
  ]
}