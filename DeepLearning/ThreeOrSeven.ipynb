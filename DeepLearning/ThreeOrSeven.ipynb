{
  "nbformat": 4,
  "nbformat_minor": 0,
  "metadata": {
    "colab": {
      "name": "ThreeOrSeven.ipynb",
      "provenance": [],
      "authorship_tag": "ABX9TyOWxirgcHNgodE27UMoy/tb",
      "include_colab_link": true
    },
    "kernelspec": {
      "name": "python3",
      "display_name": "Python 3"
    },
    "language_info": {
      "name": "python"
    },
    "accelerator": "GPU"
  },
  "cells": [
    {
      "cell_type": "markdown",
      "metadata": {
        "id": "view-in-github",
        "colab_type": "text"
      },
      "source": [
        "<a href=\"https://colab.research.google.com/github/steimel60/ML/blob/main/DeepLearning/ThreeOrSeven.ipynb\" target=\"_parent\"><img src=\"https://colab.research.google.com/assets/colab-badge.svg\" alt=\"Open In Colab\"/></a>"
      ]
    },
    {
      "cell_type": "code",
      "execution_count": 1,
      "metadata": {
        "colab": {
          "base_uri": "https://localhost:8080/"
        },
        "id": "IKmxXHdqQggi",
        "outputId": "183afec6-2d85-40a3-ddad-2f603cfe0952"
      },
      "outputs": [
        {
          "output_type": "stream",
          "name": "stdout",
          "text": [
            "\u001b[K     |████████████████████████████████| 719 kB 15.8 MB/s \n",
            "\u001b[K     |████████████████████████████████| 4.2 MB 55.7 MB/s \n",
            "\u001b[K     |████████████████████████████████| 197 kB 45.5 MB/s \n",
            "\u001b[K     |████████████████████████████████| 346 kB 30.8 MB/s \n",
            "\u001b[K     |████████████████████████████████| 1.2 MB 18.6 MB/s \n",
            "\u001b[K     |████████████████████████████████| 59 kB 4.5 MB/s \n",
            "\u001b[K     |████████████████████████████████| 140 kB 57.5 MB/s \n",
            "\u001b[K     |████████████████████████████████| 1.1 MB 58.0 MB/s \n",
            "\u001b[K     |████████████████████████████████| 212 kB 74.7 MB/s \n",
            "\u001b[K     |████████████████████████████████| 86 kB 7.0 MB/s \n",
            "\u001b[K     |████████████████████████████████| 84 kB 3.0 MB/s \n",
            "\u001b[K     |████████████████████████████████| 127 kB 63.4 MB/s \n",
            "\u001b[K     |████████████████████████████████| 271 kB 70.9 MB/s \n",
            "\u001b[K     |████████████████████████████████| 94 kB 4.4 MB/s \n",
            "\u001b[K     |████████████████████████████████| 144 kB 76.4 MB/s \n",
            "\u001b[K     |████████████████████████████████| 596 kB 60.0 MB/s \n",
            "\u001b[K     |████████████████████████████████| 6.6 MB 64.8 MB/s \n",
            "\u001b[31mERROR: pip's dependency resolver does not currently take into account all the packages that are installed. This behaviour is the source of the following dependency conflicts.\n",
            "datascience 0.10.6 requires folium==0.2.1, but you have folium 0.8.3 which is incompatible.\u001b[0m\n",
            "\u001b[?25hMounted at /content/gdrive\n"
          ]
        }
      ],
      "source": [
        "!pip install -Uqq fastbook\n",
        "import fastbook\n",
        "fastbook.setup_book()\n",
        "from fastbook import *"
      ]
    },
    {
      "cell_type": "code",
      "source": [
        "#Load in images of 3s and 7s\n",
        "path = untar_data(URLs.MNIST_SAMPLE)\n",
        "#List things in the path\n",
        "path.ls()"
      ],
      "metadata": {
        "colab": {
          "base_uri": "https://localhost:8080/",
          "height": 54
        },
        "id": "Jl43aZ1GRFPn",
        "outputId": "c2fdf233-1027-4619-8ec0-b194ec5f7780"
      },
      "execution_count": 2,
      "outputs": [
        {
          "output_type": "display_data",
          "data": {
            "text/plain": [
              "<IPython.core.display.HTML object>"
            ],
            "text/html": [
              "\n",
              "<style>\n",
              "    /* Turns off some styling */\n",
              "    progress {\n",
              "        /* gets rid of default border in Firefox and Opera. */\n",
              "        border: none;\n",
              "        /* Needs to be in here for Safari polyfill so background images work as expected. */\n",
              "        background-size: auto;\n",
              "    }\n",
              "    .progress-bar-interrupted, .progress-bar-interrupted::-webkit-progress-bar {\n",
              "        background: #F44336;\n",
              "    }\n",
              "</style>\n"
            ]
          },
          "metadata": {}
        },
        {
          "output_type": "display_data",
          "data": {
            "text/plain": [
              "<IPython.core.display.HTML object>"
            ],
            "text/html": [
              "\n",
              "    <div>\n",
              "      <progress value='3219456' class='' max='3214948' style='width:300px; height:20px; vertical-align: middle;'></progress>\n",
              "      100.14% [3219456/3214948 00:00<00:00]\n",
              "    </div>\n",
              "    "
            ]
          },
          "metadata": {}
        },
        {
          "output_type": "execute_result",
          "data": {
            "text/plain": [
              "(#3) [Path('/root/.fastai/data/mnist_sample/valid'),Path('/root/.fastai/data/mnist_sample/train'),Path('/root/.fastai/data/mnist_sample/labels.csv')]"
            ]
          },
          "metadata": {},
          "execution_count": 2
        }
      ]
    },
    {
      "cell_type": "code",
      "source": [
        "#Get image paths for 3s and 7s\n",
        "threes = (path/'train'/'3').ls().sorted()\n",
        "sevens = (path/'train'/'7').ls().sorted()\n",
        "threes"
      ],
      "metadata": {
        "colab": {
          "base_uri": "https://localhost:8080/"
        },
        "id": "LMv_i_fhRrC_",
        "outputId": "5f5d1430-5f4f-4785-bf9a-8a70f5551e93"
      },
      "execution_count": 3,
      "outputs": [
        {
          "output_type": "execute_result",
          "data": {
            "text/plain": [
              "(#6131) [Path('/root/.fastai/data/mnist_sample/train/3/10.png'),Path('/root/.fastai/data/mnist_sample/train/3/10000.png'),Path('/root/.fastai/data/mnist_sample/train/3/10011.png'),Path('/root/.fastai/data/mnist_sample/train/3/10031.png'),Path('/root/.fastai/data/mnist_sample/train/3/10034.png'),Path('/root/.fastai/data/mnist_sample/train/3/10042.png'),Path('/root/.fastai/data/mnist_sample/train/3/10052.png'),Path('/root/.fastai/data/mnist_sample/train/3/1007.png'),Path('/root/.fastai/data/mnist_sample/train/3/10074.png'),Path('/root/.fastai/data/mnist_sample/train/3/10091.png')...]"
            ]
          },
          "metadata": {},
          "execution_count": 3
        }
      ]
    },
    {
      "cell_type": "code",
      "source": [
        "#Show image\n",
        "im3_path = threes[1]\n",
        "im3 = Image.open(im3_path)\n",
        "im3"
      ],
      "metadata": {
        "colab": {
          "base_uri": "https://localhost:8080/",
          "height": 45
        },
        "id": "W6SorNYWSCFD",
        "outputId": "8ba1f3d7-abcd-409b-f859-832f436490ad"
      },
      "execution_count": 4,
      "outputs": [
        {
          "output_type": "execute_result",
          "data": {
            "text/plain": [
              "<PIL.PngImagePlugin.PngImageFile image mode=L size=28x28 at 0x7FA4DBDB5FD0>"
            ],
            "image/png": "[encoded data removed]"
          },
          "metadata": {},
          "execution_count": 4
        }
      ]
    },
    {
      "cell_type": "code",
      "source": [
        "#Image data can be represented in arrays\n",
        "#Here is our image in a numpy array - showing rows and cols 4 through 10\n",
        "array(im3)[4:10,4:10]"
      ],
      "metadata": {
        "colab": {
          "base_uri": "https://localhost:8080/"
        },
        "id": "1-KxWmSgSWau",
        "outputId": "aba6b8db-f29b-47fa-ad3f-6dc9d389055d"
      },
      "execution_count": 5,
      "outputs": [
        {
          "output_type": "execute_result",
          "data": {
            "text/plain": [
              "array([[  0,   0,   0,   0,   0,   0],\n",
              "       [  0,   0,   0,   0,   0,  29],\n",
              "       [  0,   0,   0,  48, 166, 224],\n",
              "       [  0,  93, 244, 249, 253, 187],\n",
              "       [  0, 107, 253, 253, 230,  48],\n",
              "       [  0,   3,  20,  20,  15,   0]], dtype=uint8)"
            ]
          },
          "metadata": {},
          "execution_count": 5
        }
      ]
    },
    {
      "cell_type": "code",
      "source": [
        "#And now as a PyTorch Tensor\n",
        "tensor(im3)[4:10,4:10]"
      ],
      "metadata": {
        "colab": {
          "base_uri": "https://localhost:8080/"
        },
        "id": "Mamcbcq3Smau",
        "outputId": "cd312896-2210-4d4c-faaa-8c125873d668"
      },
      "execution_count": 6,
      "outputs": [
        {
          "output_type": "execute_result",
          "data": {
            "text/plain": [
              "tensor([[  0,   0,   0,   0,   0,   0],\n",
              "        [  0,   0,   0,   0,   0,  29],\n",
              "        [  0,   0,   0,  48, 166, 224],\n",
              "        [  0,  93, 244, 249, 253, 187],\n",
              "        [  0, 107, 253, 253, 230,  48],\n",
              "        [  0,   3,  20,  20,  15,   0]], dtype=torch.uint8)"
            ]
          },
          "metadata": {},
          "execution_count": 6
        }
      ]
    },
    {
      "cell_type": "code",
      "source": [
        "#Use pandas to color code the values, giving us a better representation\n",
        "im3_t = tensor(im3)\n",
        "df = pd.DataFrame(im3_t[4:15,4:22])\n",
        "df.style.set_properties(**{'font-size':'6pt'}).background_gradient('Greys')"
      ],
      "metadata": {
        "colab": {
          "base_uri": "https://localhost:8080/",
          "height": 394
        },
        "id": "bzx2juYUSvBG",
        "outputId": "de69498e-64ff-4ff7-ea3d-7547877d0741"
      },
      "execution_count": 7,
      "outputs": [
        {
          "output_type": "execute_result",
          "data": {
            "text/plain": [
              "<pandas.io.formats.style.Styler at 0x7fa4dbeaf750>"
            ],
            "text/html": [
              "<style type=\"text/css\">\n",
              "#T_a4837_row0_col0, #T_a4837_row0_col1, #T_a4837_row0_col2, #T_a4837_row0_col3, #T_a4837_row0_col4, #T_a4837_row0_col5, #T_a4837_row0_col6, #T_a4837_row0_col7, #T_a4837_row0_col8, #T_a4837_row0_col9, #T_a4837_row0_col10, #T_a4837_row0_col11, #T_a4837_row0_col12, #T_a4837_row0_col13, #T_a4837_row0_col14, #T_a4837_row0_col15, #T_a4837_row0_col16, #T_a4837_row0_col17, #T_a4837_row1_col0, #T_a4837_row1_col1, #T_a4837_row1_col2, #T_a4837_row1_col3, #T_a4837_row1_col4, #T_a4837_row1_col15, #T_a4837_row1_col16, #T_a4837_row1_col17, #T_a4837_row2_col0, #T_a4837_row2_col1, #T_a4837_row2_col2, #T_a4837_row2_col15, #T_a4837_row2_col16, #T_a4837_row2_col17, #T_a4837_row3_col0, #T_a4837_row3_col15, #T_a4837_row3_col16, #T_a4837_row3_col17, #T_a4837_row4_col0, #T_a4837_row4_col6, #T_a4837_row4_col7, #T_a4837_row4_col8, #T_a4837_row4_col9, #T_a4837_row4_col10, #T_a4837_row4_col15, #T_a4837_row4_col16, #T_a4837_row4_col17, #T_a4837_row5_col0, #T_a4837_row5_col5, #T_a4837_row5_col6, #T_a4837_row5_col7, #T_a4837_row5_col8, #T_a4837_row5_col9, #T_a4837_row5_col15, #T_a4837_row5_col16, #T_a4837_row5_col17, #T_a4837_row6_col0, #T_a4837_row6_col1, #T_a4837_row6_col2, #T_a4837_row6_col3, #T_a4837_row6_col4, #T_a4837_row6_col5, #T_a4837_row6_col6, #T_a4837_row6_col7, #T_a4837_row6_col8, #T_a4837_row6_col9, #T_a4837_row6_col14, #T_a4837_row6_col15, #T_a4837_row6_col16, #T_a4837_row6_col17, #T_a4837_row7_col0, #T_a4837_row7_col1, #T_a4837_row7_col2, #T_a4837_row7_col3, #T_a4837_row7_col4, #T_a4837_row7_col5, #T_a4837_row7_col6, #T_a4837_row7_col13, #T_a4837_row7_col14, #T_a4837_row7_col15, #T_a4837_row7_col16, #T_a4837_row7_col17, #T_a4837_row8_col0, #T_a4837_row8_col1, #T_a4837_row8_col2, #T_a4837_row8_col3, #T_a4837_row8_col4, #T_a4837_row8_col13, #T_a4837_row8_col14, #T_a4837_row8_col15, #T_a4837_row8_col16, #T_a4837_row8_col17, #T_a4837_row9_col0, #T_a4837_row9_col1, #T_a4837_row9_col2, #T_a4837_row9_col3, #T_a4837_row9_col4, #T_a4837_row9_col16, #T_a4837_row9_col17, #T_a4837_row10_col0, #T_a4837_row10_col1, #T_a4837_row10_col2, #T_a4837_row10_col3, #T_a4837_row10_col4, #T_a4837_row10_col5, #T_a4837_row10_col6, #T_a4837_row10_col17 {\n",
              "  font-size: 6pt;\n",
              "  background-color: #ffffff;\n",
              "  color: #000000;\n",
              "}\n",
              "#T_a4837_row1_col5 {\n",
              "  font-size: 6pt;\n",
              "  background-color: #efefef;\n",
              "  color: #000000;\n",
              "}\n",
              "#T_a4837_row1_col6, #T_a4837_row1_col13 {\n",
              "  font-size: 6pt;\n",
              "  background-color: #7c7c7c;\n",
              "  color: #f1f1f1;\n",
              "}\n",
              "#T_a4837_row1_col7 {\n",
              "  font-size: 6pt;\n",
              "  background-color: #4a4a4a;\n",
              "  color: #f1f1f1;\n",
              "}\n",
              "#T_a4837_row1_col8, #T_a4837_row1_col9, #T_a4837_row1_col10, #T_a4837_row2_col5, #T_a4837_row2_col6, #T_a4837_row2_col7, #T_a4837_row2_col11, #T_a4837_row2_col12, #T_a4837_row2_col13, #T_a4837_row3_col4, #T_a4837_row3_col12, #T_a4837_row3_col13, #T_a4837_row4_col1, #T_a4837_row4_col2, #T_a4837_row4_col3, #T_a4837_row4_col12, #T_a4837_row4_col13, #T_a4837_row5_col12, #T_a4837_row6_col11, #T_a4837_row9_col11, #T_a4837_row10_col11, #T_a4837_row10_col12, #T_a4837_row10_col13, #T_a4837_row10_col14, #T_a4837_row10_col15, #T_a4837_row10_col16 {\n",
              "  font-size: 6pt;\n",
              "  background-color: #000000;\n",
              "  color: #f1f1f1;\n",
              "}\n",
              "#T_a4837_row1_col11 {\n",
              "  font-size: 6pt;\n",
              "  background-color: #606060;\n",
              "  color: #f1f1f1;\n",
              "}\n",
              "#T_a4837_row1_col12 {\n",
              "  font-size: 6pt;\n",
              "  background-color: #4d4d4d;\n",
              "  color: #f1f1f1;\n",
              "}\n",
              "#T_a4837_row1_col14 {\n",
              "  font-size: 6pt;\n",
              "  background-color: #bbbbbb;\n",
              "  color: #000000;\n",
              "}\n",
              "#T_a4837_row2_col3 {\n",
              "  font-size: 6pt;\n",
              "  background-color: #e4e4e4;\n",
              "  color: #000000;\n",
              "}\n",
              "#T_a4837_row2_col4, #T_a4837_row8_col6 {\n",
              "  font-size: 6pt;\n",
              "  background-color: #6b6b6b;\n",
              "  color: #f1f1f1;\n",
              "}\n",
              "#T_a4837_row2_col8, #T_a4837_row2_col14, #T_a4837_row3_col14 {\n",
              "  font-size: 6pt;\n",
              "  background-color: #171717;\n",
              "  color: #f1f1f1;\n",
              "}\n",
              "#T_a4837_row2_col9, #T_a4837_row3_col11 {\n",
              "  font-size: 6pt;\n",
              "  background-color: #4b4b4b;\n",
              "  color: #f1f1f1;\n",
              "}\n",
              "#T_a4837_row2_col10, #T_a4837_row7_col10, #T_a4837_row8_col8, #T_a4837_row8_col10, #T_a4837_row9_col8, #T_a4837_row9_col10 {\n",
              "  font-size: 6pt;\n",
              "  background-color: #010101;\n",
              "  color: #f1f1f1;\n",
              "}\n",
              "#T_a4837_row3_col1 {\n",
              "  font-size: 6pt;\n",
              "  background-color: #272727;\n",
              "  color: #f1f1f1;\n",
              "}\n",
              "#T_a4837_row3_col2 {\n",
              "  font-size: 6pt;\n",
              "  background-color: #0a0a0a;\n",
              "  color: #f1f1f1;\n",
              "}\n",
              "#T_a4837_row3_col3 {\n",
              "  font-size: 6pt;\n",
              "  background-color: #050505;\n",
              "  color: #f1f1f1;\n",
              "}\n",
              "#T_a4837_row3_col5 {\n",
              "  font-size: 6pt;\n",
              "  background-color: #333333;\n",
              "  color: #f1f1f1;\n",
              "}\n",
              "#T_a4837_row3_col6 {\n",
              "  font-size: 6pt;\n",
              "  background-color: #e6e6e6;\n",
              "  color: #000000;\n",
              "}\n",
              "#T_a4837_row3_col7, #T_a4837_row3_col10 {\n",
              "  font-size: 6pt;\n",
              "  background-color: #fafafa;\n",
              "  color: #000000;\n",
              "}\n",
              "#T_a4837_row3_col8 {\n",
              "  font-size: 6pt;\n",
              "  background-color: #fbfbfb;\n",
              "  color: #000000;\n",
              "}\n",
              "#T_a4837_row3_col9 {\n",
              "  font-size: 6pt;\n",
              "  background-color: #fdfdfd;\n",
              "  color: #000000;\n",
              "}\n",
              "#T_a4837_row4_col4 {\n",
              "  font-size: 6pt;\n",
              "  background-color: #1b1b1b;\n",
              "  color: #f1f1f1;\n",
              "}\n",
              "#T_a4837_row4_col5 {\n",
              "  font-size: 6pt;\n",
              "  background-color: #e0e0e0;\n",
              "  color: #000000;\n",
              "}\n",
              "#T_a4837_row4_col11 {\n",
              "  font-size: 6pt;\n",
              "  background-color: #4e4e4e;\n",
              "  color: #f1f1f1;\n",
              "}\n",
              "#T_a4837_row4_col14 {\n",
              "  font-size: 6pt;\n",
              "  background-color: #767676;\n",
              "  color: #f1f1f1;\n",
              "}\n",
              "#T_a4837_row5_col1 {\n",
              "  font-size: 6pt;\n",
              "  background-color: #fcfcfc;\n",
              "  color: #000000;\n",
              "}\n",
              "#T_a4837_row5_col2, #T_a4837_row5_col3 {\n",
              "  font-size: 6pt;\n",
              "  background-color: #f6f6f6;\n",
              "  color: #000000;\n",
              "}\n",
              "#T_a4837_row5_col4, #T_a4837_row7_col7 {\n",
              "  font-size: 6pt;\n",
              "  background-color: #f8f8f8;\n",
              "  color: #000000;\n",
              "}\n",
              "#T_a4837_row5_col10, #T_a4837_row10_col7 {\n",
              "  font-size: 6pt;\n",
              "  background-color: #e8e8e8;\n",
              "  color: #000000;\n",
              "}\n",
              "#T_a4837_row5_col11 {\n",
              "  font-size: 6pt;\n",
              "  background-color: #222222;\n",
              "  color: #f1f1f1;\n",
              "}\n",
              "#T_a4837_row5_col13, #T_a4837_row6_col12 {\n",
              "  font-size: 6pt;\n",
              "  background-color: #090909;\n",
              "  color: #f1f1f1;\n",
              "}\n",
              "#T_a4837_row5_col14 {\n",
              "  font-size: 6pt;\n",
              "  background-color: #d0d0d0;\n",
              "  color: #000000;\n",
              "}\n",
              "#T_a4837_row6_col10, #T_a4837_row7_col11, #T_a4837_row9_col6 {\n",
              "  font-size: 6pt;\n",
              "  background-color: #060606;\n",
              "  color: #f1f1f1;\n",
              "}\n",
              "#T_a4837_row6_col13 {\n",
              "  font-size: 6pt;\n",
              "  background-color: #979797;\n",
              "  color: #f1f1f1;\n",
              "}\n",
              "#T_a4837_row7_col8 {\n",
              "  font-size: 6pt;\n",
              "  background-color: #b6b6b6;\n",
              "  color: #000000;\n",
              "}\n",
              "#T_a4837_row7_col9 {\n",
              "  font-size: 6pt;\n",
              "  background-color: #252525;\n",
              "  color: #f1f1f1;\n",
              "}\n",
              "#T_a4837_row7_col12 {\n",
              "  font-size: 6pt;\n",
              "  background-color: #999999;\n",
              "  color: #f1f1f1;\n",
              "}\n",
              "#T_a4837_row8_col5 {\n",
              "  font-size: 6pt;\n",
              "  background-color: #f9f9f9;\n",
              "  color: #000000;\n",
              "}\n",
              "#T_a4837_row8_col7 {\n",
              "  font-size: 6pt;\n",
              "  background-color: #101010;\n",
              "  color: #f1f1f1;\n",
              "}\n",
              "#T_a4837_row8_col9, #T_a4837_row9_col9 {\n",
              "  font-size: 6pt;\n",
              "  background-color: #020202;\n",
              "  color: #f1f1f1;\n",
              "}\n",
              "#T_a4837_row8_col11 {\n",
              "  font-size: 6pt;\n",
              "  background-color: #545454;\n",
              "  color: #f1f1f1;\n",
              "}\n",
              "#T_a4837_row8_col12 {\n",
              "  font-size: 6pt;\n",
              "  background-color: #f1f1f1;\n",
              "  color: #000000;\n",
              "}\n",
              "#T_a4837_row9_col5 {\n",
              "  font-size: 6pt;\n",
              "  background-color: #f7f7f7;\n",
              "  color: #000000;\n",
              "}\n",
              "#T_a4837_row9_col7 {\n",
              "  font-size: 6pt;\n",
              "  background-color: #030303;\n",
              "  color: #f1f1f1;\n",
              "}\n",
              "#T_a4837_row9_col12 {\n",
              "  font-size: 6pt;\n",
              "  background-color: #181818;\n",
              "  color: #f1f1f1;\n",
              "}\n",
              "#T_a4837_row9_col13 {\n",
              "  font-size: 6pt;\n",
              "  background-color: #303030;\n",
              "  color: #f1f1f1;\n",
              "}\n",
              "#T_a4837_row9_col14 {\n",
              "  font-size: 6pt;\n",
              "  background-color: #a9a9a9;\n",
              "  color: #f1f1f1;\n",
              "}\n",
              "#T_a4837_row9_col15 {\n",
              "  font-size: 6pt;\n",
              "  background-color: #fefefe;\n",
              "  color: #000000;\n",
              "}\n",
              "#T_a4837_row10_col8, #T_a4837_row10_col9 {\n",
              "  font-size: 6pt;\n",
              "  background-color: #bababa;\n",
              "  color: #000000;\n",
              "}\n",
              "#T_a4837_row10_col10 {\n",
              "  font-size: 6pt;\n",
              "  background-color: #393939;\n",
              "  color: #f1f1f1;\n",
              "}\n",
              "</style>\n",
              "<table id=\"T_a4837_\" class=\"dataframe\">\n",
              "  <thead>\n",
              "    <tr>\n",
              "      <th class=\"blank level0\" >&nbsp;</th>\n",
              "      <th class=\"col_heading level0 col0\" >0</th>\n",
              "      <th class=\"col_heading level0 col1\" >1</th>\n",
              "      <th class=\"col_heading level0 col2\" >2</th>\n",
              "      <th class=\"col_heading level0 col3\" >3</th>\n",
              "      <th class=\"col_heading level0 col4\" >4</th>\n",
              "      <th class=\"col_heading level0 col5\" >5</th>\n",
              "      <th class=\"col_heading level0 col6\" >6</th>\n",
              "      <th class=\"col_heading level0 col7\" >7</th>\n",
              "      <th class=\"col_heading level0 col8\" >8</th>\n",
              "      <th class=\"col_heading level0 col9\" >9</th>\n",
              "      <th class=\"col_heading level0 col10\" >10</th>\n",
              "      <th class=\"col_heading level0 col11\" >11</th>\n",
              "      <th class=\"col_heading level0 col12\" >12</th>\n",
              "      <th class=\"col_heading level0 col13\" >13</th>\n",
              "      <th class=\"col_heading level0 col14\" >14</th>\n",
              "      <th class=\"col_heading level0 col15\" >15</th>\n",
              "      <th class=\"col_heading level0 col16\" >16</th>\n",
              "      <th class=\"col_heading level0 col17\" >17</th>\n",
              "    </tr>\n",
              "  </thead>\n",
              "  <tbody>\n",
              "    <tr>\n",
              "      <th id=\"T_a4837_level0_row0\" class=\"row_heading level0 row0\" >0</th>\n",
              "      <td id=\"T_a4837_row0_col0\" class=\"data row0 col0\" >0</td>\n",
              "      <td id=\"T_a4837_row0_col1\" class=\"data row0 col1\" >0</td>\n",
              "      <td id=\"T_a4837_row0_col2\" class=\"data row0 col2\" >0</td>\n",
              "      <td id=\"T_a4837_row0_col3\" class=\"data row0 col3\" >0</td>\n",
              "      <td id=\"T_a4837_row0_col4\" class=\"data row0 col4\" >0</td>\n",
              "      <td id=\"T_a4837_row0_col5\" class=\"data row0 col5\" >0</td>\n",
              "      <td id=\"T_a4837_row0_col6\" class=\"data row0 col6\" >0</td>\n",
              "      <td id=\"T_a4837_row0_col7\" class=\"data row0 col7\" >0</td>\n",
              "      <td id=\"T_a4837_row0_col8\" class=\"data row0 col8\" >0</td>\n",
              "      <td id=\"T_a4837_row0_col9\" class=\"data row0 col9\" >0</td>\n",
              "      <td id=\"T_a4837_row0_col10\" class=\"data row0 col10\" >0</td>\n",
              "      <td id=\"T_a4837_row0_col11\" class=\"data row0 col11\" >0</td>\n",
              "      <td id=\"T_a4837_row0_col12\" class=\"data row0 col12\" >0</td>\n",
              "      <td id=\"T_a4837_row0_col13\" class=\"data row0 col13\" >0</td>\n",
              "      <td id=\"T_a4837_row0_col14\" class=\"data row0 col14\" >0</td>\n",
              "      <td id=\"T_a4837_row0_col15\" class=\"data row0 col15\" >0</td>\n",
              "      <td id=\"T_a4837_row0_col16\" class=\"data row0 col16\" >0</td>\n",
              "      <td id=\"T_a4837_row0_col17\" class=\"data row0 col17\" >0</td>\n",
              "    </tr>\n",
              "    <tr>\n",
              "      <th id=\"T_a4837_level0_row1\" class=\"row_heading level0 row1\" >1</th>\n",
              "      <td id=\"T_a4837_row1_col0\" class=\"data row1 col0\" >0</td>\n",
              "      <td id=\"T_a4837_row1_col1\" class=\"data row1 col1\" >0</td>\n",
              "      <td id=\"T_a4837_row1_col2\" class=\"data row1 col2\" >0</td>\n",
              "      <td id=\"T_a4837_row1_col3\" class=\"data row1 col3\" >0</td>\n",
              "      <td id=\"T_a4837_row1_col4\" class=\"data row1 col4\" >0</td>\n",
              "      <td id=\"T_a4837_row1_col5\" class=\"data row1 col5\" >29</td>\n",
              "      <td id=\"T_a4837_row1_col6\" class=\"data row1 col6\" >150</td>\n",
              "      <td id=\"T_a4837_row1_col7\" class=\"data row1 col7\" >195</td>\n",
              "      <td id=\"T_a4837_row1_col8\" class=\"data row1 col8\" >254</td>\n",
              "      <td id=\"T_a4837_row1_col9\" class=\"data row1 col9\" >255</td>\n",
              "      <td id=\"T_a4837_row1_col10\" class=\"data row1 col10\" >254</td>\n",
              "      <td id=\"T_a4837_row1_col11\" class=\"data row1 col11\" >176</td>\n",
              "      <td id=\"T_a4837_row1_col12\" class=\"data row1 col12\" >193</td>\n",
              "      <td id=\"T_a4837_row1_col13\" class=\"data row1 col13\" >150</td>\n",
              "      <td id=\"T_a4837_row1_col14\" class=\"data row1 col14\" >96</td>\n",
              "      <td id=\"T_a4837_row1_col15\" class=\"data row1 col15\" >0</td>\n",
              "      <td id=\"T_a4837_row1_col16\" class=\"data row1 col16\" >0</td>\n",
              "      <td id=\"T_a4837_row1_col17\" class=\"data row1 col17\" >0</td>\n",
              "    </tr>\n",
              "    <tr>\n",
              "      <th id=\"T_a4837_level0_row2\" class=\"row_heading level0 row2\" >2</th>\n",
              "      <td id=\"T_a4837_row2_col0\" class=\"data row2 col0\" >0</td>\n",
              "      <td id=\"T_a4837_row2_col1\" class=\"data row2 col1\" >0</td>\n",
              "      <td id=\"T_a4837_row2_col2\" class=\"data row2 col2\" >0</td>\n",
              "      <td id=\"T_a4837_row2_col3\" class=\"data row2 col3\" >48</td>\n",
              "      <td id=\"T_a4837_row2_col4\" class=\"data row2 col4\" >166</td>\n",
              "      <td id=\"T_a4837_row2_col5\" class=\"data row2 col5\" >224</td>\n",
              "      <td id=\"T_a4837_row2_col6\" class=\"data row2 col6\" >253</td>\n",
              "      <td id=\"T_a4837_row2_col7\" class=\"data row2 col7\" >253</td>\n",
              "      <td id=\"T_a4837_row2_col8\" class=\"data row2 col8\" >234</td>\n",
              "      <td id=\"T_a4837_row2_col9\" class=\"data row2 col9\" >196</td>\n",
              "      <td id=\"T_a4837_row2_col10\" class=\"data row2 col10\" >253</td>\n",
              "      <td id=\"T_a4837_row2_col11\" class=\"data row2 col11\" >253</td>\n",
              "      <td id=\"T_a4837_row2_col12\" class=\"data row2 col12\" >253</td>\n",
              "      <td id=\"T_a4837_row2_col13\" class=\"data row2 col13\" >253</td>\n",
              "      <td id=\"T_a4837_row2_col14\" class=\"data row2 col14\" >233</td>\n",
              "      <td id=\"T_a4837_row2_col15\" class=\"data row2 col15\" >0</td>\n",
              "      <td id=\"T_a4837_row2_col16\" class=\"data row2 col16\" >0</td>\n",
              "      <td id=\"T_a4837_row2_col17\" class=\"data row2 col17\" >0</td>\n",
              "    </tr>\n",
              "    <tr>\n",
              "      <th id=\"T_a4837_level0_row3\" class=\"row_heading level0 row3\" >3</th>\n",
              "      <td id=\"T_a4837_row3_col0\" class=\"data row3 col0\" >0</td>\n",
              "      <td id=\"T_a4837_row3_col1\" class=\"data row3 col1\" >93</td>\n",
              "      <td id=\"T_a4837_row3_col2\" class=\"data row3 col2\" >244</td>\n",
              "      <td id=\"T_a4837_row3_col3\" class=\"data row3 col3\" >249</td>\n",
              "      <td id=\"T_a4837_row3_col4\" class=\"data row3 col4\" >253</td>\n",
              "      <td id=\"T_a4837_row3_col5\" class=\"data row3 col5\" >187</td>\n",
              "      <td id=\"T_a4837_row3_col6\" class=\"data row3 col6\" >46</td>\n",
              "      <td id=\"T_a4837_row3_col7\" class=\"data row3 col7\" >10</td>\n",
              "      <td id=\"T_a4837_row3_col8\" class=\"data row3 col8\" >8</td>\n",
              "      <td id=\"T_a4837_row3_col9\" class=\"data row3 col9\" >4</td>\n",
              "      <td id=\"T_a4837_row3_col10\" class=\"data row3 col10\" >10</td>\n",
              "      <td id=\"T_a4837_row3_col11\" class=\"data row3 col11\" >194</td>\n",
              "      <td id=\"T_a4837_row3_col12\" class=\"data row3 col12\" >253</td>\n",
              "      <td id=\"T_a4837_row3_col13\" class=\"data row3 col13\" >253</td>\n",
              "      <td id=\"T_a4837_row3_col14\" class=\"data row3 col14\" >233</td>\n",
              "      <td id=\"T_a4837_row3_col15\" class=\"data row3 col15\" >0</td>\n",
              "      <td id=\"T_a4837_row3_col16\" class=\"data row3 col16\" >0</td>\n",
              "      <td id=\"T_a4837_row3_col17\" class=\"data row3 col17\" >0</td>\n",
              "    </tr>\n",
              "    <tr>\n",
              "      <th id=\"T_a4837_level0_row4\" class=\"row_heading level0 row4\" >4</th>\n",
              "      <td id=\"T_a4837_row4_col0\" class=\"data row4 col0\" >0</td>\n",
              "      <td id=\"T_a4837_row4_col1\" class=\"data row4 col1\" >107</td>\n",
              "      <td id=\"T_a4837_row4_col2\" class=\"data row4 col2\" >253</td>\n",
              "      <td id=\"T_a4837_row4_col3\" class=\"data row4 col3\" >253</td>\n",
              "      <td id=\"T_a4837_row4_col4\" class=\"data row4 col4\" >230</td>\n",
              "      <td id=\"T_a4837_row4_col5\" class=\"data row4 col5\" >48</td>\n",
              "      <td id=\"T_a4837_row4_col6\" class=\"data row4 col6\" >0</td>\n",
              "      <td id=\"T_a4837_row4_col7\" class=\"data row4 col7\" >0</td>\n",
              "      <td id=\"T_a4837_row4_col8\" class=\"data row4 col8\" >0</td>\n",
              "      <td id=\"T_a4837_row4_col9\" class=\"data row4 col9\" >0</td>\n",
              "      <td id=\"T_a4837_row4_col10\" class=\"data row4 col10\" >0</td>\n",
              "      <td id=\"T_a4837_row4_col11\" class=\"data row4 col11\" >192</td>\n",
              "      <td id=\"T_a4837_row4_col12\" class=\"data row4 col12\" >253</td>\n",
              "      <td id=\"T_a4837_row4_col13\" class=\"data row4 col13\" >253</td>\n",
              "      <td id=\"T_a4837_row4_col14\" class=\"data row4 col14\" >156</td>\n",
              "      <td id=\"T_a4837_row4_col15\" class=\"data row4 col15\" >0</td>\n",
              "      <td id=\"T_a4837_row4_col16\" class=\"data row4 col16\" >0</td>\n",
              "      <td id=\"T_a4837_row4_col17\" class=\"data row4 col17\" >0</td>\n",
              "    </tr>\n",
              "    <tr>\n",
              "      <th id=\"T_a4837_level0_row5\" class=\"row_heading level0 row5\" >5</th>\n",
              "      <td id=\"T_a4837_row5_col0\" class=\"data row5 col0\" >0</td>\n",
              "      <td id=\"T_a4837_row5_col1\" class=\"data row5 col1\" >3</td>\n",
              "      <td id=\"T_a4837_row5_col2\" class=\"data row5 col2\" >20</td>\n",
              "      <td id=\"T_a4837_row5_col3\" class=\"data row5 col3\" >20</td>\n",
              "      <td id=\"T_a4837_row5_col4\" class=\"data row5 col4\" >15</td>\n",
              "      <td id=\"T_a4837_row5_col5\" class=\"data row5 col5\" >0</td>\n",
              "      <td id=\"T_a4837_row5_col6\" class=\"data row5 col6\" >0</td>\n",
              "      <td id=\"T_a4837_row5_col7\" class=\"data row5 col7\" >0</td>\n",
              "      <td id=\"T_a4837_row5_col8\" class=\"data row5 col8\" >0</td>\n",
              "      <td id=\"T_a4837_row5_col9\" class=\"data row5 col9\" >0</td>\n",
              "      <td id=\"T_a4837_row5_col10\" class=\"data row5 col10\" >43</td>\n",
              "      <td id=\"T_a4837_row5_col11\" class=\"data row5 col11\" >224</td>\n",
              "      <td id=\"T_a4837_row5_col12\" class=\"data row5 col12\" >253</td>\n",
              "      <td id=\"T_a4837_row5_col13\" class=\"data row5 col13\" >245</td>\n",
              "      <td id=\"T_a4837_row5_col14\" class=\"data row5 col14\" >74</td>\n",
              "      <td id=\"T_a4837_row5_col15\" class=\"data row5 col15\" >0</td>\n",
              "      <td id=\"T_a4837_row5_col16\" class=\"data row5 col16\" >0</td>\n",
              "      <td id=\"T_a4837_row5_col17\" class=\"data row5 col17\" >0</td>\n",
              "    </tr>\n",
              "    <tr>\n",
              "      <th id=\"T_a4837_level0_row6\" class=\"row_heading level0 row6\" >6</th>\n",
              "      <td id=\"T_a4837_row6_col0\" class=\"data row6 col0\" >0</td>\n",
              "      <td id=\"T_a4837_row6_col1\" class=\"data row6 col1\" >0</td>\n",
              "      <td id=\"T_a4837_row6_col2\" class=\"data row6 col2\" >0</td>\n",
              "      <td id=\"T_a4837_row6_col3\" class=\"data row6 col3\" >0</td>\n",
              "      <td id=\"T_a4837_row6_col4\" class=\"data row6 col4\" >0</td>\n",
              "      <td id=\"T_a4837_row6_col5\" class=\"data row6 col5\" >0</td>\n",
              "      <td id=\"T_a4837_row6_col6\" class=\"data row6 col6\" >0</td>\n",
              "      <td id=\"T_a4837_row6_col7\" class=\"data row6 col7\" >0</td>\n",
              "      <td id=\"T_a4837_row6_col8\" class=\"data row6 col8\" >0</td>\n",
              "      <td id=\"T_a4837_row6_col9\" class=\"data row6 col9\" >0</td>\n",
              "      <td id=\"T_a4837_row6_col10\" class=\"data row6 col10\" >249</td>\n",
              "      <td id=\"T_a4837_row6_col11\" class=\"data row6 col11\" >253</td>\n",
              "      <td id=\"T_a4837_row6_col12\" class=\"data row6 col12\" >245</td>\n",
              "      <td id=\"T_a4837_row6_col13\" class=\"data row6 col13\" >126</td>\n",
              "      <td id=\"T_a4837_row6_col14\" class=\"data row6 col14\" >0</td>\n",
              "      <td id=\"T_a4837_row6_col15\" class=\"data row6 col15\" >0</td>\n",
              "      <td id=\"T_a4837_row6_col16\" class=\"data row6 col16\" >0</td>\n",
              "      <td id=\"T_a4837_row6_col17\" class=\"data row6 col17\" >0</td>\n",
              "    </tr>\n",
              "    <tr>\n",
              "      <th id=\"T_a4837_level0_row7\" class=\"row_heading level0 row7\" >7</th>\n",
              "      <td id=\"T_a4837_row7_col0\" class=\"data row7 col0\" >0</td>\n",
              "      <td id=\"T_a4837_row7_col1\" class=\"data row7 col1\" >0</td>\n",
              "      <td id=\"T_a4837_row7_col2\" class=\"data row7 col2\" >0</td>\n",
              "      <td id=\"T_a4837_row7_col3\" class=\"data row7 col3\" >0</td>\n",
              "      <td id=\"T_a4837_row7_col4\" class=\"data row7 col4\" >0</td>\n",
              "      <td id=\"T_a4837_row7_col5\" class=\"data row7 col5\" >0</td>\n",
              "      <td id=\"T_a4837_row7_col6\" class=\"data row7 col6\" >0</td>\n",
              "      <td id=\"T_a4837_row7_col7\" class=\"data row7 col7\" >14</td>\n",
              "      <td id=\"T_a4837_row7_col8\" class=\"data row7 col8\" >101</td>\n",
              "      <td id=\"T_a4837_row7_col9\" class=\"data row7 col9\" >223</td>\n",
              "      <td id=\"T_a4837_row7_col10\" class=\"data row7 col10\" >253</td>\n",
              "      <td id=\"T_a4837_row7_col11\" class=\"data row7 col11\" >248</td>\n",
              "      <td id=\"T_a4837_row7_col12\" class=\"data row7 col12\" >124</td>\n",
              "      <td id=\"T_a4837_row7_col13\" class=\"data row7 col13\" >0</td>\n",
              "      <td id=\"T_a4837_row7_col14\" class=\"data row7 col14\" >0</td>\n",
              "      <td id=\"T_a4837_row7_col15\" class=\"data row7 col15\" >0</td>\n",
              "      <td id=\"T_a4837_row7_col16\" class=\"data row7 col16\" >0</td>\n",
              "      <td id=\"T_a4837_row7_col17\" class=\"data row7 col17\" >0</td>\n",
              "    </tr>\n",
              "    <tr>\n",
              "      <th id=\"T_a4837_level0_row8\" class=\"row_heading level0 row8\" >8</th>\n",
              "      <td id=\"T_a4837_row8_col0\" class=\"data row8 col0\" >0</td>\n",
              "      <td id=\"T_a4837_row8_col1\" class=\"data row8 col1\" >0</td>\n",
              "      <td id=\"T_a4837_row8_col2\" class=\"data row8 col2\" >0</td>\n",
              "      <td id=\"T_a4837_row8_col3\" class=\"data row8 col3\" >0</td>\n",
              "      <td id=\"T_a4837_row8_col4\" class=\"data row8 col4\" >0</td>\n",
              "      <td id=\"T_a4837_row8_col5\" class=\"data row8 col5\" >11</td>\n",
              "      <td id=\"T_a4837_row8_col6\" class=\"data row8 col6\" >166</td>\n",
              "      <td id=\"T_a4837_row8_col7\" class=\"data row8 col7\" >239</td>\n",
              "      <td id=\"T_a4837_row8_col8\" class=\"data row8 col8\" >253</td>\n",
              "      <td id=\"T_a4837_row8_col9\" class=\"data row8 col9\" >253</td>\n",
              "      <td id=\"T_a4837_row8_col10\" class=\"data row8 col10\" >253</td>\n",
              "      <td id=\"T_a4837_row8_col11\" class=\"data row8 col11\" >187</td>\n",
              "      <td id=\"T_a4837_row8_col12\" class=\"data row8 col12\" >30</td>\n",
              "      <td id=\"T_a4837_row8_col13\" class=\"data row8 col13\" >0</td>\n",
              "      <td id=\"T_a4837_row8_col14\" class=\"data row8 col14\" >0</td>\n",
              "      <td id=\"T_a4837_row8_col15\" class=\"data row8 col15\" >0</td>\n",
              "      <td id=\"T_a4837_row8_col16\" class=\"data row8 col16\" >0</td>\n",
              "      <td id=\"T_a4837_row8_col17\" class=\"data row8 col17\" >0</td>\n",
              "    </tr>\n",
              "    <tr>\n",
              "      <th id=\"T_a4837_level0_row9\" class=\"row_heading level0 row9\" >9</th>\n",
              "      <td id=\"T_a4837_row9_col0\" class=\"data row9 col0\" >0</td>\n",
              "      <td id=\"T_a4837_row9_col1\" class=\"data row9 col1\" >0</td>\n",
              "      <td id=\"T_a4837_row9_col2\" class=\"data row9 col2\" >0</td>\n",
              "      <td id=\"T_a4837_row9_col3\" class=\"data row9 col3\" >0</td>\n",
              "      <td id=\"T_a4837_row9_col4\" class=\"data row9 col4\" >0</td>\n",
              "      <td id=\"T_a4837_row9_col5\" class=\"data row9 col5\" >16</td>\n",
              "      <td id=\"T_a4837_row9_col6\" class=\"data row9 col6\" >248</td>\n",
              "      <td id=\"T_a4837_row9_col7\" class=\"data row9 col7\" >250</td>\n",
              "      <td id=\"T_a4837_row9_col8\" class=\"data row9 col8\" >253</td>\n",
              "      <td id=\"T_a4837_row9_col9\" class=\"data row9 col9\" >253</td>\n",
              "      <td id=\"T_a4837_row9_col10\" class=\"data row9 col10\" >253</td>\n",
              "      <td id=\"T_a4837_row9_col11\" class=\"data row9 col11\" >253</td>\n",
              "      <td id=\"T_a4837_row9_col12\" class=\"data row9 col12\" >232</td>\n",
              "      <td id=\"T_a4837_row9_col13\" class=\"data row9 col13\" >213</td>\n",
              "      <td id=\"T_a4837_row9_col14\" class=\"data row9 col14\" >111</td>\n",
              "      <td id=\"T_a4837_row9_col15\" class=\"data row9 col15\" >2</td>\n",
              "      <td id=\"T_a4837_row9_col16\" class=\"data row9 col16\" >0</td>\n",
              "      <td id=\"T_a4837_row9_col17\" class=\"data row9 col17\" >0</td>\n",
              "    </tr>\n",
              "    <tr>\n",
              "      <th id=\"T_a4837_level0_row10\" class=\"row_heading level0 row10\" >10</th>\n",
              "      <td id=\"T_a4837_row10_col0\" class=\"data row10 col0\" >0</td>\n",
              "      <td id=\"T_a4837_row10_col1\" class=\"data row10 col1\" >0</td>\n",
              "      <td id=\"T_a4837_row10_col2\" class=\"data row10 col2\" >0</td>\n",
              "      <td id=\"T_a4837_row10_col3\" class=\"data row10 col3\" >0</td>\n",
              "      <td id=\"T_a4837_row10_col4\" class=\"data row10 col4\" >0</td>\n",
              "      <td id=\"T_a4837_row10_col5\" class=\"data row10 col5\" >0</td>\n",
              "      <td id=\"T_a4837_row10_col6\" class=\"data row10 col6\" >0</td>\n",
              "      <td id=\"T_a4837_row10_col7\" class=\"data row10 col7\" >43</td>\n",
              "      <td id=\"T_a4837_row10_col8\" class=\"data row10 col8\" >98</td>\n",
              "      <td id=\"T_a4837_row10_col9\" class=\"data row10 col9\" >98</td>\n",
              "      <td id=\"T_a4837_row10_col10\" class=\"data row10 col10\" >208</td>\n",
              "      <td id=\"T_a4837_row10_col11\" class=\"data row10 col11\" >253</td>\n",
              "      <td id=\"T_a4837_row10_col12\" class=\"data row10 col12\" >253</td>\n",
              "      <td id=\"T_a4837_row10_col13\" class=\"data row10 col13\" >253</td>\n",
              "      <td id=\"T_a4837_row10_col14\" class=\"data row10 col14\" >253</td>\n",
              "      <td id=\"T_a4837_row10_col15\" class=\"data row10 col15\" >187</td>\n",
              "      <td id=\"T_a4837_row10_col16\" class=\"data row10 col16\" >22</td>\n",
              "      <td id=\"T_a4837_row10_col17\" class=\"data row10 col17\" >0</td>\n",
              "    </tr>\n",
              "  </tbody>\n",
              "</table>\n"
            ]
          },
          "metadata": {},
          "execution_count": 7
        }
      ]
    },
    {
      "cell_type": "code",
      "source": [
        "#Store all image in tensors\n",
        "seven_tensors = [tensor(Image.open(o)) for o in sevens]\n",
        "three_tensors = [tensor(Image.open(o)) for o in threes]\n",
        "len(three_tensors), len(seven_tensors)"
      ],
      "metadata": {
        "colab": {
          "base_uri": "https://localhost:8080/"
        },
        "id": "oPD_OiJGT1Mk",
        "outputId": "772553c1-35e8-4ab8-bcee-d25a109e7de2"
      },
      "execution_count": 8,
      "outputs": [
        {
          "output_type": "execute_result",
          "data": {
            "text/plain": [
              "(6131, 6265)"
            ]
          },
          "metadata": {},
          "execution_count": 8
        }
      ]
    },
    {
      "cell_type": "code",
      "source": [
        "#use fastai show_image to display image in tensor\n",
        "show_image(three_tensors[92])"
      ],
      "metadata": {
        "colab": {
          "base_uri": "https://localhost:8080/",
          "height": 102
        },
        "id": "dWyyPzcsUJUm",
        "outputId": "3e4df9df-161a-4bfe-8829-c515df19e49e"
      },
      "execution_count": 9,
      "outputs": [
        {
          "output_type": "execute_result",
          "data": {
            "text/plain": [
              "<matplotlib.axes._subplots.AxesSubplot at 0x7fa4dc7bae50>"
            ]
          },
          "metadata": {},
          "execution_count": 9
        },
        {
          "output_type": "display_data",
          "data": {
            "text/plain": [
              "<Figure size 72x72 with 1 Axes>"
            ],
            "image/png": "[encoded data removed]"
          },
          "metadata": {
            "needs_background": "light"
          }
        }
      ]
    },
    {
      "cell_type": "code",
      "source": [
        "#Our initial approach we are going to get average of all pixels\n",
        "#To do this we will stack all images of each number into a single tensor\n",
        "stacked_threes = torch.stack(three_tensors).float()/255\n",
        "stacked_sevens = torch.stack(seven_tensors).float()/255\n",
        "\n",
        "#Size gives us the length of each axis in a tensor\n",
        "#Here we have count, pixels width, pixels height\n",
        "stacked_threes.shape"
      ],
      "metadata": {
        "colab": {
          "base_uri": "https://localhost:8080/"
        },
        "id": "kxjYSEbwUi6T",
        "outputId": "aa044c2a-ff76-43af-e15f-536b5f494ffd"
      },
      "execution_count": 10,
      "outputs": [
        {
          "output_type": "execute_result",
          "data": {
            "text/plain": [
              "torch.Size([6131, 28, 28])"
            ]
          },
          "metadata": {},
          "execution_count": 10
        }
      ]
    },
    {
      "cell_type": "code",
      "source": [
        "#The length of the shape is a tensor's rank\n",
        "len(stacked_threes.shape)"
      ],
      "metadata": {
        "colab": {
          "base_uri": "https://localhost:8080/"
        },
        "id": "0Mt1HeXBVVQz",
        "outputId": "e1283e51-ecc7-4464-e5cc-84ac7e67e151"
      },
      "execution_count": 11,
      "outputs": [
        {
          "output_type": "execute_result",
          "data": {
            "text/plain": [
              "3"
            ]
          },
          "metadata": {},
          "execution_count": 11
        }
      ]
    },
    {
      "cell_type": "code",
      "source": [
        "#Rank can also be accessed with ndim\n",
        "stacked_threes.ndim "
      ],
      "metadata": {
        "colab": {
          "base_uri": "https://localhost:8080/"
        },
        "id": "mIm3MeqKVg3t",
        "outputId": "e9c1dcb5-32be-4f09-b4ab-d75c8e4841a8"
      },
      "execution_count": 12,
      "outputs": [
        {
          "output_type": "execute_result",
          "data": {
            "text/plain": [
              "3"
            ]
          },
          "metadata": {},
          "execution_count": 12
        }
      ]
    },
    {
      "cell_type": "code",
      "source": [
        "#To get the average of all images we call the mean method on dim 0 of stack\n",
        "mean3 = stacked_threes.mean(0)\n",
        "show_image(mean3)"
      ],
      "metadata": {
        "colab": {
          "base_uri": "https://localhost:8080/",
          "height": 102
        },
        "id": "Nlvt0EJeVzjc",
        "outputId": "eaf592e6-8621-4c0a-f49c-e5efdc5977c6"
      },
      "execution_count": 13,
      "outputs": [
        {
          "output_type": "execute_result",
          "data": {
            "text/plain": [
              "<matplotlib.axes._subplots.AxesSubplot at 0x7fa4dc176050>"
            ]
          },
          "metadata": {},
          "execution_count": 13
        },
        {
          "output_type": "display_data",
          "data": {
            "text/plain": [
              "<Figure size 72x72 with 1 Axes>"
            ],
            "image/png": "[encoded data removed]"
          },
          "metadata": {
            "needs_background": "light"
          }
        }
      ]
    },
    {
      "cell_type": "code",
      "source": [
        "#Now for our set of 7s\n",
        "mean7 = stacked_sevens.mean(0)\n",
        "show_image(mean7)"
      ],
      "metadata": {
        "colab": {
          "base_uri": "https://localhost:8080/",
          "height": 102
        },
        "id": "RKvp-9hpWAbW",
        "outputId": "a4033d31-2ea5-4238-e5b4-4602db781ce2"
      },
      "execution_count": 14,
      "outputs": [
        {
          "output_type": "execute_result",
          "data": {
            "text/plain": [
              "<matplotlib.axes._subplots.AxesSubplot at 0x7fa4dc0f8f50>"
            ]
          },
          "metadata": {},
          "execution_count": 14
        },
        {
          "output_type": "display_data",
          "data": {
            "text/plain": [
              "<Figure size 72x72 with 1 Axes>"
            ],
            "image/png": "[encoded data removed]"
          },
          "metadata": {
            "needs_background": "light"
          }
        }
      ]
    },
    {
      "cell_type": "code",
      "source": [
        "#We can test to see how far a test image is from the avg 3 or avg 7\n",
        "a_3 = stacked_threes[2] #Test img\n",
        "#Get absloute val of pixel differences to avoid cancellation of \"too light\" and \"too dark\"\n",
        "dist_3_abs = (a_3 - mean3).abs().mean() #dist to avg 3\n",
        "dist_7_abs = (a_3 - mean7).abs().mean() #dist to avg 7\n",
        "dist_3_abs, dist_7_abs #Dist to 3 is smaller, so model picks 3"
      ],
      "metadata": {
        "colab": {
          "base_uri": "https://localhost:8080/"
        },
        "id": "rU0gnY3-Wdn-",
        "outputId": "e0dab0eb-c12a-4bda-ea8a-6fb17fce47a9"
      },
      "execution_count": 15,
      "outputs": [
        {
          "output_type": "execute_result",
          "data": {
            "text/plain": [
              "(tensor(0.1100), tensor(0.1541))"
            ]
          },
          "metadata": {},
          "execution_count": 15
        }
      ]
    },
    {
      "cell_type": "code",
      "source": [
        "#We can do a similar thing by squaring the differences (to get a positive) then taking the root\n",
        "dist_3_sqr = ((a_3 - mean3)**2).mean().sqrt() #to 3\n",
        "dist_7_sqr = ((a_3 - mean7)**2).mean().sqrt() #to 7\n",
        "dist_3_sqr, dist_7_sqr #again 3 is a better solution"
      ],
      "metadata": {
        "colab": {
          "base_uri": "https://localhost:8080/"
        },
        "id": "cKjV41U5XE3F",
        "outputId": "e244cf42-93f0-4b30-da8e-c585e260dbbe"
      },
      "execution_count": 16,
      "outputs": [
        {
          "output_type": "execute_result",
          "data": {
            "text/plain": [
              "(tensor(0.1980), tensor(0.2974))"
            ]
          },
          "metadata": {},
          "execution_count": 16
        }
      ]
    },
    {
      "cell_type": "code",
      "source": [
        "#Pytorch already provides these as loss functions\n",
        "F.l1_loss(a_3.float(),mean7), F.mse_loss(a_3,mean7).sqrt()"
      ],
      "metadata": {
        "colab": {
          "base_uri": "https://localhost:8080/"
        },
        "id": "4-nf4qa0Xqkb",
        "outputId": "051972d8-de7c-49cd-cfa1-4f29195d4964"
      },
      "execution_count": 17,
      "outputs": [
        {
          "output_type": "execute_result",
          "data": {
            "text/plain": [
              "(tensor(0.1541), tensor(0.2974))"
            ]
          },
          "metadata": {},
          "execution_count": 17
        }
      ]
    },
    {
      "cell_type": "code",
      "source": [
        "#Create tensor objs for validation set\n",
        "valid_3_tens = torch.stack([tensor(Image.open(o)) for o in (path/'valid'/'3').ls()])\n",
        "valid_7_tens = torch.stack([tensor(Image.open(o)) for o in (path/'valid'/'7').ls()])\n",
        "#Change float to 0 to 1\n",
        "valid_3_tens = valid_3_tens.float() / 255\n",
        "valid_7_tens = valid_7_tens.float() / 255\n",
        "#Print size\n",
        "valid_3_tens.shape, valid_7_tens.shape"
      ],
      "metadata": {
        "colab": {
          "base_uri": "https://localhost:8080/"
        },
        "id": "GgNb_pmZfWHU",
        "outputId": "75656499-b7b1-4d38-ccd0-59121cb254a6"
      },
      "execution_count": 18,
      "outputs": [
        {
          "output_type": "execute_result",
          "data": {
            "text/plain": [
              "(torch.Size([1010, 28, 28]), torch.Size([1028, 28, 28]))"
            ]
          },
          "metadata": {},
          "execution_count": 18
        }
      ]
    },
    {
      "cell_type": "code",
      "source": [
        "#Create func to determine distance of an image to a mean\n",
        "def mnist_distance(a,b): return (a-b).abs().mean((-1,-2))\n",
        "mnist_distance(a_3, mean3)"
      ],
      "metadata": {
        "colab": {
          "base_uri": "https://localhost:8080/"
        },
        "id": "aw04qbglgbhf",
        "outputId": "72d2ed97-6f95-403d-bfc2-32395ab9af0f"
      },
      "execution_count": 19,
      "outputs": [
        {
          "output_type": "execute_result",
          "data": {
            "text/plain": [
              "tensor(0.1100)"
            ]
          },
          "metadata": {},
          "execution_count": 19
        }
      ]
    },
    {
      "cell_type": "code",
      "source": [
        "#Get dist of all images in validation set\n",
        "valid_3_dist = mnist_distance(valid_3_tens, mean3)\n",
        "valid_3_dist, valid_3_dist.shape"
      ],
      "metadata": {
        "colab": {
          "base_uri": "https://localhost:8080/"
        },
        "id": "7F3dyLkRh90W",
        "outputId": "716a166b-890a-4be4-b67e-501a97accef6"
      },
      "execution_count": 20,
      "outputs": [
        {
          "output_type": "execute_result",
          "data": {
            "text/plain": [
              "(tensor([0.1373, 0.1638, 0.1190,  ..., 0.1331, 0.1224, 0.1778]),\n",
              " torch.Size([1010]))"
            ]
          },
          "metadata": {},
          "execution_count": 20
        }
      ]
    },
    {
      "cell_type": "code",
      "source": [
        "#Func to determine 3 or 7\n",
        "def is_3(x): return mnist_distance(x, mean3) < mnist_distance(x, mean7)\n",
        "#See if it works\n",
        "is_3(a_3), is_3(a_3).float()"
      ],
      "metadata": {
        "colab": {
          "base_uri": "https://localhost:8080/"
        },
        "id": "DtfRHNBFimo4",
        "outputId": "1175ff04-0c86-4434-cdf1-8707f2a38160"
      },
      "execution_count": 21,
      "outputs": [
        {
          "output_type": "execute_result",
          "data": {
            "text/plain": [
              "(tensor(True), tensor(1.))"
            ]
          },
          "metadata": {},
          "execution_count": 21
        }
      ]
    },
    {
      "cell_type": "code",
      "source": [
        "#Thanks to broadcasting we can tet entire validation set\n",
        "is_3(valid_3_tens)"
      ],
      "metadata": {
        "colab": {
          "base_uri": "https://localhost:8080/"
        },
        "id": "6gXTt8NBj3Fq",
        "outputId": "acef8d94-8dbc-4811-a59d-849987936bd7"
      },
      "execution_count": 22,
      "outputs": [
        {
          "output_type": "execute_result",
          "data": {
            "text/plain": [
              "tensor([False,  True,  True,  ...,  True,  True,  True])"
            ]
          },
          "metadata": {},
          "execution_count": 22
        }
      ]
    },
    {
      "cell_type": "code",
      "source": [
        "#We can test the accuracy by getting the average of the bool vals\n",
        "acc_3 = is_3(valid_3_tens).float().mean()\n",
        "acc_7 = 1 - is_3(valid_7_tens).float().mean()\n",
        "acc_3, acc_7"
      ],
      "metadata": {
        "colab": {
          "base_uri": "https://localhost:8080/"
        },
        "id": "aD-vX5A7kF9Y",
        "outputId": "e2758a65-67b6-4d9d-b7b6-a9c3e0d3a880"
      },
      "execution_count": 23,
      "outputs": [
        {
          "output_type": "execute_result",
          "data": {
            "text/plain": [
              "(tensor(0.9168), tensor(0.9854))"
            ]
          },
          "metadata": {},
          "execution_count": 23
        }
      ]
    },
    {
      "cell_type": "code",
      "source": [
        "#Stocahastic Gradient Example\n",
        "def f(x): return x**2\n",
        "plot_function(f, 'x', 'x**2')"
      ],
      "metadata": {
        "colab": {
          "base_uri": "https://localhost:8080/",
          "height": 279
        },
        "id": "awjP_BzFmQV2",
        "outputId": "48c8d619-0fad-4e74-d965-7c4d8b5973e0"
      },
      "execution_count": 24,
      "outputs": [
        {
          "output_type": "display_data",
          "data": {
            "text/plain": [
              "<Figure size 432x288 with 1 Axes>"
            ],
            "image/png": "[encoded data removed]"
          },
          "metadata": {
            "needs_background": "light"
          }
        }
      ]
    },
    {
      "cell_type": "code",
      "source": [
        "#Create tensor and tell it that we need gradients\n",
        "xt = tensor(3.).requires_grad_()\n",
        "#Calculate f(xt)\n",
        "yt = f(xt)\n",
        "yt #tensor obj that has gradient"
      ],
      "metadata": {
        "colab": {
          "base_uri": "https://localhost:8080/"
        },
        "id": "ze65EK1EmeLA",
        "outputId": "fdb12b93-0ccd-4d4e-a278-6c064f3084a4"
      },
      "execution_count": 25,
      "outputs": [
        {
          "output_type": "execute_result",
          "data": {
            "text/plain": [
              "tensor(9., grad_fn=<PowBackward0>)"
            ]
          },
          "metadata": {},
          "execution_count": 25
        }
      ]
    },
    {
      "cell_type": "code",
      "source": [
        "#calculate gradient\n",
        "yt.backward()\n",
        "#We can now view the gradients\n",
        "xt.grad"
      ],
      "metadata": {
        "colab": {
          "base_uri": "https://localhost:8080/"
        },
        "id": "pA5eEwhLm7xp",
        "outputId": "1116af1f-d72c-4f67-fdd8-2e3929ea6c8e"
      },
      "execution_count": 26,
      "outputs": [
        {
          "output_type": "execute_result",
          "data": {
            "text/plain": [
              "tensor(6.)"
            ]
          },
          "metadata": {},
          "execution_count": 26
        }
      ]
    },
    {
      "cell_type": "code",
      "source": [
        "#we can do this on vectors as well\n",
        "xt = tensor([3.,4.,10.]).requires_grad_()\n",
        "xt"
      ],
      "metadata": {
        "colab": {
          "base_uri": "https://localhost:8080/"
        },
        "id": "gIx41MiMnQcy",
        "outputId": "df005ae7-e7ff-4e4c-f332-9097d551a8f2"
      },
      "execution_count": 27,
      "outputs": [
        {
          "output_type": "execute_result",
          "data": {
            "text/plain": [
              "tensor([ 3.,  4., 10.], requires_grad=True)"
            ]
          },
          "metadata": {},
          "execution_count": 27
        }
      ]
    },
    {
      "cell_type": "code",
      "source": [
        "def f(x): return (x**2).sum() #add sum so we can handle vectors\n",
        "yt = f(xt)\n",
        "yt.backward()\n",
        "xt.grad"
      ],
      "metadata": {
        "colab": {
          "base_uri": "https://localhost:8080/"
        },
        "id": "s9hHIt3wnaH4",
        "outputId": "f71d608d-82a8-4c79-819a-9d4276a4b687"
      },
      "execution_count": 28,
      "outputs": [
        {
          "output_type": "execute_result",
          "data": {
            "text/plain": [
              "tensor([ 6.,  8., 20.])"
            ]
          },
          "metadata": {},
          "execution_count": 28
        }
      ]
    },
    {
      "cell_type": "markdown",
      "source": [
        "## Below we will cover the learning rate, which is the coefficent we use to decide how far we move based on the gradient calculated"
      ],
      "metadata": {
        "id": "sSrK4u0nb17-"
      }
    },
    {
      "cell_type": "code",
      "source": [
        "#Get some data\n",
        "time = torch.arange(0,20).float()\n",
        "speed = torch.randn(20)*3 + .75*(time-9.5)**2 + 1\n",
        "plt.scatter(time, speed)"
      ],
      "metadata": {
        "colab": {
          "base_uri": "https://localhost:8080/",
          "height": 282
        },
        "id": "4sXXEf3VcNh2",
        "outputId": "b895b318-aadb-4086-de26-683375a07d40"
      },
      "execution_count": 51,
      "outputs": [
        {
          "output_type": "execute_result",
          "data": {
            "text/plain": [
              "<matplotlib.collections.PathCollection at 0x7fa4d8939210>"
            ]
          },
          "metadata": {},
          "execution_count": 51
        },
        {
          "output_type": "display_data",
          "data": {
            "text/plain": [
              "<Figure size 432x288 with 1 Axes>"
            ],
            "image/png": "[encoded data removed]"
          },
          "metadata": {
            "needs_background": "light"
          }
        }
      ]
    },
    {
      "cell_type": "code",
      "source": [
        "#separate time and parameters\n",
        "#We restrict the best function to the best 'quadratic' function\n",
        "def f(t, params):\n",
        "  a, b, c = params\n",
        "  return a*(t**2) + (b*t) + c"
      ],
      "metadata": {
        "id": "xYeAr29Wcuq5"
      },
      "execution_count": 52,
      "outputs": []
    },
    {
      "cell_type": "code",
      "source": [
        "def mse(preds, targets): return ((preds-targets)**2).mean()"
      ],
      "metadata": {
        "id": "h1a4cDG8c5T0"
      },
      "execution_count": 53,
      "outputs": []
    },
    {
      "cell_type": "code",
      "source": [
        "#Step 1: Initialize Parameters\n",
        "params = torch.randn(3).requires_grad_()  #Random starting pos\n",
        "#Step 2: Calculate Predictions\n",
        "preds = f(time, params)\n",
        "  #Show how good predictions are\n",
        "def show_preds(preds, ax=None):\n",
        "  if ax is None: ax = plt.subplots()[1]\n",
        "  ax.scatter(time, speed)\n",
        "  ax.scatter(time, to_np(preds), color='red')\n",
        "  ax.set_ylim(-300,100)\n",
        "show_preds(preds)"
      ],
      "metadata": {
        "colab": {
          "base_uri": "https://localhost:8080/",
          "height": 269
        },
        "id": "Mq08C1VodeyZ",
        "outputId": "a57e3eab-07ae-4210-c989-1d1b4b2e97c7"
      },
      "execution_count": 54,
      "outputs": [
        {
          "output_type": "display_data",
          "data": {
            "text/plain": [
              "<Figure size 432x288 with 1 Axes>"
            ],
            "image/png": "[encoded data removed]"
          },
          "metadata": {
            "needs_background": "light"
          }
        }
      ]
    },
    {
      "cell_type": "code",
      "source": [
        "#Step 3: Calculate Loss\n",
        "loss = mse(preds, speed)\n",
        "loss"
      ],
      "metadata": {
        "colab": {
          "base_uri": "https://localhost:8080/"
        },
        "id": "BZiLtPT8egbr",
        "outputId": "948a322d-d6bd-4793-ea49-845492cbd836"
      },
      "execution_count": 55,
      "outputs": [
        {
          "output_type": "execute_result",
          "data": {
            "text/plain": [
              "tensor(5246.0479, grad_fn=<MeanBackward0>)"
            ]
          },
          "metadata": {},
          "execution_count": 55
        }
      ]
    },
    {
      "cell_type": "code",
      "source": [
        "#Step 4: Calculate Gradients\n",
        "loss.backward()\n",
        "params.grad"
      ],
      "metadata": {
        "colab": {
          "base_uri": "https://localhost:8080/"
        },
        "id": "-7-5AadFeqXs",
        "outputId": "c1820af5-167a-42eb-ed6c-16e194eb663c"
      },
      "execution_count": 56,
      "outputs": [
        {
          "output_type": "execute_result",
          "data": {
            "text/plain": [
              "tensor([-22875.8320,  -1470.5222,   -118.8852])"
            ]
          },
          "metadata": {},
          "execution_count": 56
        }
      ]
    },
    {
      "cell_type": "code",
      "source": [
        "#Step 5: Step the weights\n",
        "lr = .00001\n",
        "params.data -= lr * params.grad.data #Step\n",
        "params.grad = None  #Clear gradients\n",
        "#See if we improved\n",
        "preds = f(time,params)\n",
        "mse(preds,speed)"
      ],
      "metadata": {
        "colab": {
          "base_uri": "https://localhost:8080/"
        },
        "id": "gkykflJ5fAhH",
        "outputId": "73809ee3-5d1b-40ad-ff51-fdd8eac54811"
      },
      "execution_count": 57,
      "outputs": [
        {
          "output_type": "execute_result",
          "data": {
            "text/plain": [
              "tensor(1475.7100, grad_fn=<MeanBackward0>)"
            ]
          },
          "metadata": {},
          "execution_count": 57
        }
      ]
    },
    {
      "cell_type": "code",
      "source": [
        "#Show in plot\n",
        "show_preds(preds)"
      ],
      "metadata": {
        "colab": {
          "base_uri": "https://localhost:8080/",
          "height": 269
        },
        "id": "wyYo_rr7ffJi",
        "outputId": "9c2033fe-534e-4bfc-d4d0-9971a44214a6"
      },
      "execution_count": 58,
      "outputs": [
        {
          "output_type": "display_data",
          "data": {
            "text/plain": [
              "<Figure size 432x288 with 1 Axes>"
            ],
            "image/png": "[encoded data removed]"
          },
          "metadata": {
            "needs_background": "light"
          }
        }
      ]
    },
    {
      "cell_type": "code",
      "source": [
        "#Def above as func\n",
        "def apply_step(params, prn=True):\n",
        "  preds = f(time,params)\n",
        "  loss = mse(preds, speed)\n",
        "  loss.backward()\n",
        "  params.data -= lr * params.grad.data\n",
        "  params.grad = None\n",
        "  if prn: print(loss.item())\n",
        "  return preds"
      ],
      "metadata": {
        "id": "_djUXpYff5KC"
      },
      "execution_count": 59,
      "outputs": []
    },
    {
      "cell_type": "code",
      "source": [
        "#Step 6: Repeat the process\n",
        "for i in range(10): apply_step(params)"
      ],
      "metadata": {
        "colab": {
          "base_uri": "https://localhost:8080/"
        },
        "id": "RRHuLiGsgXd6",
        "outputId": "e52cdb52-5e3c-4296-e98d-4e1c1182951a"
      },
      "execution_count": 60,
      "outputs": [
        {
          "output_type": "stream",
          "name": "stdout",
          "text": [
            "1475.7099609375\n",
            "762.2440185546875\n",
            "627.2316284179688\n",
            "601.6802978515625\n",
            "596.842529296875\n",
            "595.9243774414062\n",
            "595.7476806640625\n",
            "595.7115478515625\n",
            "595.701904296875\n",
            "595.697265625\n"
          ]
        }
      ]
    },
    {
      "cell_type": "code",
      "source": [
        "#Plot func at every step for better visual\n",
        "_,axs = plt.subplots(1,4,figsize=(12,3))\n",
        "for ax in axs: show_preds(apply_step(params, False), ax)\n",
        "plt.tight_layout()"
      ],
      "metadata": {
        "colab": {
          "base_uri": "https://localhost:8080/",
          "height": 225
        },
        "id": "b6Y2vM0xg5dg",
        "outputId": "d37f8479-ae2f-472d-8d1c-9654e552f389"
      },
      "execution_count": 62,
      "outputs": [
        {
          "output_type": "display_data",
          "data": {
            "text/plain": [
              "<Figure size 864x216 with 4 Axes>"
            ],
            "image/png": "[encoded data removed]"
          },
          "metadata": {
            "needs_background": "light"
          }
        }
      ]
    },
    {
      "cell_type": "code",
      "source": [
        "#Step 7: Stop\n",
        "#In practice we'd watch the validation losses and metrics to determine a stopping parameter"
      ],
      "metadata": {
        "id": "7nlr8WTUhgL6"
      },
      "execution_count": null,
      "outputs": []
    },
    {
      "cell_type": "markdown",
      "source": [
        "## We now jump back into our 3s vs 7s example. In this section we will define a training objective"
      ],
      "metadata": {
        "id": "vot2fjIxiFXk"
      }
    },
    {
      "cell_type": "code",
      "source": [
        "#Concatenate training data into list of vectors (rank 2)\n",
        "#View can change shape withou changing contents, -1 means \"make this axis as big as needed\"\n",
        "train_x = torch.cat([stacked_threes, stacked_sevens]).view(-1, 28*28)\n",
        "\n",
        "#Label each image, 1 for 3 and 0 for 7\n",
        "train_y = tensor([1]*len(threes) + [0]*len(sevens)).unsqueeze(1)\n",
        "train_x.shape, train_y.shape #Make sure shapes match"
      ],
      "metadata": {
        "colab": {
          "base_uri": "https://localhost:8080/"
        },
        "id": "2XIAHmypiKuQ",
        "outputId": "24c94fa4-b6f8-4ccd-a990-eaa92baa6258"
      },
      "execution_count": 63,
      "outputs": [
        {
          "output_type": "execute_result",
          "data": {
            "text/plain": [
              "(torch.Size([12396, 784]), torch.Size([12396, 1]))"
            ]
          },
          "metadata": {},
          "execution_count": 63
        }
      ]
    },
    {
      "cell_type": "code",
      "source": [
        "#Dataset in PyTorch requires a return tuple of (x,y)\n",
        "dset = list(zip(train_x, train_y))\n",
        "x,y = dset[0]\n",
        "x.shape, y"
      ],
      "metadata": {
        "colab": {
          "base_uri": "https://localhost:8080/"
        },
        "id": "3Kd4MmMgjjY_",
        "outputId": "90023909-db33-44d0-de92-0f7b5369fb17"
      },
      "execution_count": 65,
      "outputs": [
        {
          "output_type": "execute_result",
          "data": {
            "text/plain": [
              "(torch.Size([784]), tensor([1]))"
            ]
          },
          "metadata": {},
          "execution_count": 65
        }
      ]
    },
    {
      "cell_type": "code",
      "source": [
        "#Do same for validation data\n",
        "valid_x = torch.cat([valid_3_tens, valid_7_tens]).view(-1, 28*28)\n",
        "valid_y = tensor([1]*len(valid_3_tens) + [0]*len(valid_7_tens)).unsqueeze(1)\n",
        "valid_dset = list(zip(valid_x, valid_y))"
      ],
      "metadata": {
        "id": "bxmE5RHZj5qV"
      },
      "execution_count": 66,
      "outputs": []
    },
    {
      "cell_type": "code",
      "source": [
        "#Generate random init weight for each pixel\n",
        "def init_params(size, std=1.0): return (torch.randn(size)*std).requires_grad_()\n",
        "weights = init_params((28*28,1))\n",
        "bias = init_params(1)\n",
        "#y = wx+b, w is weights b is bias"
      ],
      "metadata": {
        "id": "8dEovQxMkf3P"
      },
      "execution_count": 67,
      "outputs": []
    },
    {
      "cell_type": "code",
      "source": [
        "#Set up matrix multiplication using @ operator for fast iteration\n",
        "def linear1(xb): return xb@weights + bias\n",
        "preds = linear1(train_x)\n",
        "preds"
      ],
      "metadata": {
        "colab": {
          "base_uri": "https://localhost:8080/"
        },
        "id": "WxLrorpUlp7F",
        "outputId": "1d237852-da6c-4a28-acaa-b28eb7341b36"
      },
      "execution_count": 68,
      "outputs": [
        {
          "output_type": "execute_result",
          "data": {
            "text/plain": [
              "tensor([[-0.5521],\n",
              "        [-3.3493],\n",
              "        [-5.9666],\n",
              "        ...,\n",
              "        [ 4.0908],\n",
              "        [ 9.0340],\n",
              "        [ 7.6712]], grad_fn=<AddBackward0>)"
            ]
          },
          "metadata": {},
          "execution_count": 68
        }
      ]
    },
    {
      "cell_type": "code",
      "source": [
        "#Check our accuracy\n",
        "corrects = (preds>0.0).float() == train_y #recall our labels are 0s and 1s so a match is a correct prediction\n",
        "acc = corrects.float().mean().item()\n",
        "acc"
      ],
      "metadata": {
        "colab": {
          "base_uri": "https://localhost:8080/"
        },
        "id": "HCDACyTumQUu",
        "outputId": "7c0a0c92-95b7-4468-cd9b-50ba0e4c36df"
      },
      "execution_count": 69,
      "outputs": [
        {
          "output_type": "execute_result",
          "data": {
            "text/plain": [
              "0.5101645588874817"
            ]
          },
          "metadata": {},
          "execution_count": 69
        }
      ]
    },
    {
      "cell_type": "code",
      "source": [
        "\"\"\"We cant use acc as a loss func because small changes most likely wont change predictions\n",
        "So our gradients would be 0 because old_acc = new_acc in that case\n",
        "We can use confidience levels to help.\n",
        "\n",
        "Let trgts be our labels and 3s = 1 and 7s = 0\n",
        "Let prbs be our probability an image is a 3\n",
        "    So .2 is pretty confident its a 7\n",
        "    .9 is very confident its a 3\n",
        "    .45 be not conmfident at all but pick 7\n",
        "\n",
        "trgts = [1, 0, 1]\n",
        "prbs = [.9, .45, .2]\n",
        "\n",
        "then we can take our distances to each label and get an idea of our loss from the function below\n",
        "\"\"\"\n",
        "\n",
        "def mnist_loss(predictions, targets):\n",
        "  predictions.sigmoid() #Just double check all our predictions are between 0 and 1\n",
        "  return torch.where(targets==1, 1-predictions, predictions).mean() #1-preds when label 1, preds otherwise. Then get mean\n"
      ],
      "metadata": {
        "id": "4Sag0_4FmwrI"
      },
      "execution_count": 71,
      "outputs": []
    }
  ]
}