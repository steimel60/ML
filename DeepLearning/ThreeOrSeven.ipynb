{
  "nbformat": 4,
  "nbformat_minor": 0,
  "metadata": {
    "colab": {
      "name": "ThreeOrSeven.ipynb",
      "provenance": [],
      "collapsed_sections": [],
      "authorship_tag": "ABX9TyMLhvTZx8XWlna0bluPhEQs",
      "include_colab_link": true
    },
    "kernelspec": {
      "name": "python3",
      "display_name": "Python 3"
    },
    "language_info": {
      "name": "python"
    },
    "accelerator": "GPU"
  },
  "cells": [
    {
      "cell_type": "markdown",
      "metadata": {
        "id": "view-in-github",
        "colab_type": "text"
      },
      "source": [
        "<a href=\"https://colab.research.google.com/github/steimel60/ML/blob/main/DeepLearning/ThreeOrSeven.ipynb\" target=\"_parent\"><img src=\"https://colab.research.google.com/assets/colab-badge.svg\" alt=\"Open In Colab\"/></a>"
      ]
    },
    {
      "cell_type": "code",
      "execution_count": 193,
      "metadata": {
        "id": "IKmxXHdqQggi"
      },
      "outputs": [],
      "source": [
        "!pip install -Uqq fastbook\n",
        "import fastbook\n",
        "fastbook.setup_book()\n",
        "from fastbook import *"
      ]
    },
    {
      "cell_type": "code",
      "source": [
        "#Load in images of 3s and 7s\n",
        "path = untar_data(URLs.MNIST_SAMPLE)\n",
        "#List things in the path\n",
        "path.ls()"
      ],
      "metadata": {
        "colab": {
          "base_uri": "https://localhost:8080/"
        },
        "id": "Jl43aZ1GRFPn",
        "outputId": "78c338b9-9623-4d3b-8934-fbe140682ba8"
      },
      "execution_count": 194,
      "outputs": [
        {
          "output_type": "execute_result",
          "data": {
            "text/plain": [
              "(#3) [Path('/root/.fastai/data/mnist_sample/train'),Path('/root/.fastai/data/mnist_sample/labels.csv'),Path('/root/.fastai/data/mnist_sample/valid')]"
            ]
          },
          "metadata": {},
          "execution_count": 194
        }
      ]
    },
    {
      "cell_type": "code",
      "source": [
        "#Get image paths for 3s and 7s\n",
        "threes = (path/'train'/'3').ls().sorted()\n",
        "sevens = (path/'train'/'7').ls().sorted()\n",
        "threes"
      ],
      "metadata": {
        "colab": {
          "base_uri": "https://localhost:8080/"
        },
        "id": "LMv_i_fhRrC_",
        "outputId": "7a905158-eda8-4b24-d87e-ba953bb33f5b"
      },
      "execution_count": 195,
      "outputs": [
        {
          "output_type": "execute_result",
          "data": {
            "text/plain": [
              "(#6131) [Path('/root/.fastai/data/mnist_sample/train/3/10.png'),Path('/root/.fastai/data/mnist_sample/train/3/10000.png'),Path('/root/.fastai/data/mnist_sample/train/3/10011.png'),Path('/root/.fastai/data/mnist_sample/train/3/10031.png'),Path('/root/.fastai/data/mnist_sample/train/3/10034.png'),Path('/root/.fastai/data/mnist_sample/train/3/10042.png'),Path('/root/.fastai/data/mnist_sample/train/3/10052.png'),Path('/root/.fastai/data/mnist_sample/train/3/1007.png'),Path('/root/.fastai/data/mnist_sample/train/3/10074.png'),Path('/root/.fastai/data/mnist_sample/train/3/10091.png')...]"
            ]
          },
          "metadata": {},
          "execution_count": 195
        }
      ]
    },
    {
      "cell_type": "code",
      "source": [
        "#Show image\n",
        "im3_path = threes[1]\n",
        "im3 = Image.open(im3_path)\n",
        "im3"
      ],
      "metadata": {
        "colab": {
          "base_uri": "https://localhost:8080/",
          "height": 45
        },
        "id": "W6SorNYWSCFD",
        "outputId": "3dd8e769-944f-483d-f0df-dc44717f7428"
      },
      "execution_count": 196,
      "outputs": [
        {
          "output_type": "execute_result",
          "data": {
            "text/plain": [
              "<PIL.PngImagePlugin.PngImageFile image mode=L size=28x28 at 0x7F3426AECF90>"
            ],
            "image/png": "[encoded data removed]"
          },
          "metadata": {},
          "execution_count": 196
        }
      ]
    },
    {
      "cell_type": "code",
      "source": [
        "#Image data can be represented in arrays\n",
        "#Here is our image in a numpy array - showing rows and cols 4 through 10\n",
        "array(im3)[4:10,4:10]"
      ],
      "metadata": {
        "colab": {
          "base_uri": "https://localhost:8080/"
        },
        "id": "1-KxWmSgSWau",
        "outputId": "0221b04e-d7e2-4ec5-d773-8edd008eb397"
      },
      "execution_count": 197,
      "outputs": [
        {
          "output_type": "execute_result",
          "data": {
            "text/plain": [
              "array([[  0,   0,   0,   0,   0,   0],\n",
              "       [  0,   0,   0,   0,   0,  29],\n",
              "       [  0,   0,   0,  48, 166, 224],\n",
              "       [  0,  93, 244, 249, 253, 187],\n",
              "       [  0, 107, 253, 253, 230,  48],\n",
              "       [  0,   3,  20,  20,  15,   0]], dtype=uint8)"
            ]
          },
          "metadata": {},
          "execution_count": 197
        }
      ]
    },
    {
      "cell_type": "code",
      "source": [
        "#And now as a PyTorch Tensor\n",
        "tensor(im3)[4:10,4:10]"
      ],
      "metadata": {
        "colab": {
          "base_uri": "https://localhost:8080/"
        },
        "id": "Mamcbcq3Smau",
        "outputId": "e54a48d3-02e1-4010-f609-72f857ceb390"
      },
      "execution_count": 198,
      "outputs": [
        {
          "output_type": "execute_result",
          "data": {
            "text/plain": [
              "tensor([[  0,   0,   0,   0,   0,   0],\n",
              "        [  0,   0,   0,   0,   0,  29],\n",
              "        [  0,   0,   0,  48, 166, 224],\n",
              "        [  0,  93, 244, 249, 253, 187],\n",
              "        [  0, 107, 253, 253, 230,  48],\n",
              "        [  0,   3,  20,  20,  15,   0]], dtype=torch.uint8)"
            ]
          },
          "metadata": {},
          "execution_count": 198
        }
      ]
    },
    {
      "cell_type": "code",
      "source": [
        "#Use pandas to color code the values, giving us a better representation\n",
        "im3_t = tensor(im3)\n",
        "df = pd.DataFrame(im3_t[4:15,4:22])\n",
        "df.style.set_properties(**{'font-size':'6pt'}).background_gradient('Greys')"
      ],
      "metadata": {
        "colab": {
          "base_uri": "https://localhost:8080/",
          "height": 394
        },
        "id": "bzx2juYUSvBG",
        "outputId": "3e2ad97d-04a2-4586-9067-b74477de018d"
      },
      "execution_count": 199,
      "outputs": [
        {
          "output_type": "execute_result",
          "data": {
            "text/plain": [
              "<pandas.io.formats.style.Styler at 0x7f3427113b10>"
            ],
            "text/html": [
              "<style type=\"text/css\">\n",
              "#T_7046d_row0_col0, #T_7046d_row0_col1, #T_7046d_row0_col2, #T_7046d_row0_col3, #T_7046d_row0_col4, #T_7046d_row0_col5, #T_7046d_row0_col6, #T_7046d_row0_col7, #T_7046d_row0_col8, #T_7046d_row0_col9, #T_7046d_row0_col10, #T_7046d_row0_col11, #T_7046d_row0_col12, #T_7046d_row0_col13, #T_7046d_row0_col14, #T_7046d_row0_col15, #T_7046d_row0_col16, #T_7046d_row0_col17, #T_7046d_row1_col0, #T_7046d_row1_col1, #T_7046d_row1_col2, #T_7046d_row1_col3, #T_7046d_row1_col4, #T_7046d_row1_col15, #T_7046d_row1_col16, #T_7046d_row1_col17, #T_7046d_row2_col0, #T_7046d_row2_col1, #T_7046d_row2_col2, #T_7046d_row2_col15, #T_7046d_row2_col16, #T_7046d_row2_col17, #T_7046d_row3_col0, #T_7046d_row3_col15, #T_7046d_row3_col16, #T_7046d_row3_col17, #T_7046d_row4_col0, #T_7046d_row4_col6, #T_7046d_row4_col7, #T_7046d_row4_col8, #T_7046d_row4_col9, #T_7046d_row4_col10, #T_7046d_row4_col15, #T_7046d_row4_col16, #T_7046d_row4_col17, #T_7046d_row5_col0, #T_7046d_row5_col5, #T_7046d_row5_col6, #T_7046d_row5_col7, #T_7046d_row5_col8, #T_7046d_row5_col9, #T_7046d_row5_col15, #T_7046d_row5_col16, #T_7046d_row5_col17, #T_7046d_row6_col0, #T_7046d_row6_col1, #T_7046d_row6_col2, #T_7046d_row6_col3, #T_7046d_row6_col4, #T_7046d_row6_col5, #T_7046d_row6_col6, #T_7046d_row6_col7, #T_7046d_row6_col8, #T_7046d_row6_col9, #T_7046d_row6_col14, #T_7046d_row6_col15, #T_7046d_row6_col16, #T_7046d_row6_col17, #T_7046d_row7_col0, #T_7046d_row7_col1, #T_7046d_row7_col2, #T_7046d_row7_col3, #T_7046d_row7_col4, #T_7046d_row7_col5, #T_7046d_row7_col6, #T_7046d_row7_col13, #T_7046d_row7_col14, #T_7046d_row7_col15, #T_7046d_row7_col16, #T_7046d_row7_col17, #T_7046d_row8_col0, #T_7046d_row8_col1, #T_7046d_row8_col2, #T_7046d_row8_col3, #T_7046d_row8_col4, #T_7046d_row8_col13, #T_7046d_row8_col14, #T_7046d_row8_col15, #T_7046d_row8_col16, #T_7046d_row8_col17, #T_7046d_row9_col0, #T_7046d_row9_col1, #T_7046d_row9_col2, #T_7046d_row9_col3, #T_7046d_row9_col4, #T_7046d_row9_col16, #T_7046d_row9_col17, #T_7046d_row10_col0, #T_7046d_row10_col1, #T_7046d_row10_col2, #T_7046d_row10_col3, #T_7046d_row10_col4, #T_7046d_row10_col5, #T_7046d_row10_col6, #T_7046d_row10_col17 {\n",
              "  font-size: 6pt;\n",
              "  background-color: #ffffff;\n",
              "  color: #000000;\n",
              "}\n",
              "#T_7046d_row1_col5 {\n",
              "  font-size: 6pt;\n",
              "  background-color: #efefef;\n",
              "  color: #000000;\n",
              "}\n",
              "#T_7046d_row1_col6, #T_7046d_row1_col13 {\n",
              "  font-size: 6pt;\n",
              "  background-color: #7c7c7c;\n",
              "  color: #f1f1f1;\n",
              "}\n",
              "#T_7046d_row1_col7 {\n",
              "  font-size: 6pt;\n",
              "  background-color: #4a4a4a;\n",
              "  color: #f1f1f1;\n",
              "}\n",
              "#T_7046d_row1_col8, #T_7046d_row1_col9, #T_7046d_row1_col10, #T_7046d_row2_col5, #T_7046d_row2_col6, #T_7046d_row2_col7, #T_7046d_row2_col11, #T_7046d_row2_col12, #T_7046d_row2_col13, #T_7046d_row3_col4, #T_7046d_row3_col12, #T_7046d_row3_col13, #T_7046d_row4_col1, #T_7046d_row4_col2, #T_7046d_row4_col3, #T_7046d_row4_col12, #T_7046d_row4_col13, #T_7046d_row5_col12, #T_7046d_row6_col11, #T_7046d_row9_col11, #T_7046d_row10_col11, #T_7046d_row10_col12, #T_7046d_row10_col13, #T_7046d_row10_col14, #T_7046d_row10_col15, #T_7046d_row10_col16 {\n",
              "  font-size: 6pt;\n",
              "  background-color: #000000;\n",
              "  color: #f1f1f1;\n",
              "}\n",
              "#T_7046d_row1_col11 {\n",
              "  font-size: 6pt;\n",
              "  background-color: #606060;\n",
              "  color: #f1f1f1;\n",
              "}\n",
              "#T_7046d_row1_col12 {\n",
              "  font-size: 6pt;\n",
              "  background-color: #4d4d4d;\n",
              "  color: #f1f1f1;\n",
              "}\n",
              "#T_7046d_row1_col14 {\n",
              "  font-size: 6pt;\n",
              "  background-color: #bbbbbb;\n",
              "  color: #000000;\n",
              "}\n",
              "#T_7046d_row2_col3 {\n",
              "  font-size: 6pt;\n",
              "  background-color: #e4e4e4;\n",
              "  color: #000000;\n",
              "}\n",
              "#T_7046d_row2_col4, #T_7046d_row8_col6 {\n",
              "  font-size: 6pt;\n",
              "  background-color: #6b6b6b;\n",
              "  color: #f1f1f1;\n",
              "}\n",
              "#T_7046d_row2_col8, #T_7046d_row2_col14, #T_7046d_row3_col14 {\n",
              "  font-size: 6pt;\n",
              "  background-color: #171717;\n",
              "  color: #f1f1f1;\n",
              "}\n",
              "#T_7046d_row2_col9, #T_7046d_row3_col11 {\n",
              "  font-size: 6pt;\n",
              "  background-color: #4b4b4b;\n",
              "  color: #f1f1f1;\n",
              "}\n",
              "#T_7046d_row2_col10, #T_7046d_row7_col10, #T_7046d_row8_col8, #T_7046d_row8_col10, #T_7046d_row9_col8, #T_7046d_row9_col10 {\n",
              "  font-size: 6pt;\n",
              "  background-color: #010101;\n",
              "  color: #f1f1f1;\n",
              "}\n",
              "#T_7046d_row3_col1 {\n",
              "  font-size: 6pt;\n",
              "  background-color: #272727;\n",
              "  color: #f1f1f1;\n",
              "}\n",
              "#T_7046d_row3_col2 {\n",
              "  font-size: 6pt;\n",
              "  background-color: #0a0a0a;\n",
              "  color: #f1f1f1;\n",
              "}\n",
              "#T_7046d_row3_col3 {\n",
              "  font-size: 6pt;\n",
              "  background-color: #050505;\n",
              "  color: #f1f1f1;\n",
              "}\n",
              "#T_7046d_row3_col5 {\n",
              "  font-size: 6pt;\n",
              "  background-color: #333333;\n",
              "  color: #f1f1f1;\n",
              "}\n",
              "#T_7046d_row3_col6 {\n",
              "  font-size: 6pt;\n",
              "  background-color: #e6e6e6;\n",
              "  color: #000000;\n",
              "}\n",
              "#T_7046d_row3_col7, #T_7046d_row3_col10 {\n",
              "  font-size: 6pt;\n",
              "  background-color: #fafafa;\n",
              "  color: #000000;\n",
              "}\n",
              "#T_7046d_row3_col8 {\n",
              "  font-size: 6pt;\n",
              "  background-color: #fbfbfb;\n",
              "  color: #000000;\n",
              "}\n",
              "#T_7046d_row3_col9 {\n",
              "  font-size: 6pt;\n",
              "  background-color: #fdfdfd;\n",
              "  color: #000000;\n",
              "}\n",
              "#T_7046d_row4_col4 {\n",
              "  font-size: 6pt;\n",
              "  background-color: #1b1b1b;\n",
              "  color: #f1f1f1;\n",
              "}\n",
              "#T_7046d_row4_col5 {\n",
              "  font-size: 6pt;\n",
              "  background-color: #e0e0e0;\n",
              "  color: #000000;\n",
              "}\n",
              "#T_7046d_row4_col11 {\n",
              "  font-size: 6pt;\n",
              "  background-color: #4e4e4e;\n",
              "  color: #f1f1f1;\n",
              "}\n",
              "#T_7046d_row4_col14 {\n",
              "  font-size: 6pt;\n",
              "  background-color: #767676;\n",
              "  color: #f1f1f1;\n",
              "}\n",
              "#T_7046d_row5_col1 {\n",
              "  font-size: 6pt;\n",
              "  background-color: #fcfcfc;\n",
              "  color: #000000;\n",
              "}\n",
              "#T_7046d_row5_col2, #T_7046d_row5_col3 {\n",
              "  font-size: 6pt;\n",
              "  background-color: #f6f6f6;\n",
              "  color: #000000;\n",
              "}\n",
              "#T_7046d_row5_col4, #T_7046d_row7_col7 {\n",
              "  font-size: 6pt;\n",
              "  background-color: #f8f8f8;\n",
              "  color: #000000;\n",
              "}\n",
              "#T_7046d_row5_col10, #T_7046d_row10_col7 {\n",
              "  font-size: 6pt;\n",
              "  background-color: #e8e8e8;\n",
              "  color: #000000;\n",
              "}\n",
              "#T_7046d_row5_col11 {\n",
              "  font-size: 6pt;\n",
              "  background-color: #222222;\n",
              "  color: #f1f1f1;\n",
              "}\n",
              "#T_7046d_row5_col13, #T_7046d_row6_col12 {\n",
              "  font-size: 6pt;\n",
              "  background-color: #090909;\n",
              "  color: #f1f1f1;\n",
              "}\n",
              "#T_7046d_row5_col14 {\n",
              "  font-size: 6pt;\n",
              "  background-color: #d0d0d0;\n",
              "  color: #000000;\n",
              "}\n",
              "#T_7046d_row6_col10, #T_7046d_row7_col11, #T_7046d_row9_col6 {\n",
              "  font-size: 6pt;\n",
              "  background-color: #060606;\n",
              "  color: #f1f1f1;\n",
              "}\n",
              "#T_7046d_row6_col13 {\n",
              "  font-size: 6pt;\n",
              "  background-color: #979797;\n",
              "  color: #f1f1f1;\n",
              "}\n",
              "#T_7046d_row7_col8 {\n",
              "  font-size: 6pt;\n",
              "  background-color: #b6b6b6;\n",
              "  color: #000000;\n",
              "}\n",
              "#T_7046d_row7_col9 {\n",
              "  font-size: 6pt;\n",
              "  background-color: #252525;\n",
              "  color: #f1f1f1;\n",
              "}\n",
              "#T_7046d_row7_col12 {\n",
              "  font-size: 6pt;\n",
              "  background-color: #999999;\n",
              "  color: #f1f1f1;\n",
              "}\n",
              "#T_7046d_row8_col5 {\n",
              "  font-size: 6pt;\n",
              "  background-color: #f9f9f9;\n",
              "  color: #000000;\n",
              "}\n",
              "#T_7046d_row8_col7 {\n",
              "  font-size: 6pt;\n",
              "  background-color: #101010;\n",
              "  color: #f1f1f1;\n",
              "}\n",
              "#T_7046d_row8_col9, #T_7046d_row9_col9 {\n",
              "  font-size: 6pt;\n",
              "  background-color: #020202;\n",
              "  color: #f1f1f1;\n",
              "}\n",
              "#T_7046d_row8_col11 {\n",
              "  font-size: 6pt;\n",
              "  background-color: #545454;\n",
              "  color: #f1f1f1;\n",
              "}\n",
              "#T_7046d_row8_col12 {\n",
              "  font-size: 6pt;\n",
              "  background-color: #f1f1f1;\n",
              "  color: #000000;\n",
              "}\n",
              "#T_7046d_row9_col5 {\n",
              "  font-size: 6pt;\n",
              "  background-color: #f7f7f7;\n",
              "  color: #000000;\n",
              "}\n",
              "#T_7046d_row9_col7 {\n",
              "  font-size: 6pt;\n",
              "  background-color: #030303;\n",
              "  color: #f1f1f1;\n",
              "}\n",
              "#T_7046d_row9_col12 {\n",
              "  font-size: 6pt;\n",
              "  background-color: #181818;\n",
              "  color: #f1f1f1;\n",
              "}\n",
              "#T_7046d_row9_col13 {\n",
              "  font-size: 6pt;\n",
              "  background-color: #303030;\n",
              "  color: #f1f1f1;\n",
              "}\n",
              "#T_7046d_row9_col14 {\n",
              "  font-size: 6pt;\n",
              "  background-color: #a9a9a9;\n",
              "  color: #f1f1f1;\n",
              "}\n",
              "#T_7046d_row9_col15 {\n",
              "  font-size: 6pt;\n",
              "  background-color: #fefefe;\n",
              "  color: #000000;\n",
              "}\n",
              "#T_7046d_row10_col8, #T_7046d_row10_col9 {\n",
              "  font-size: 6pt;\n",
              "  background-color: #bababa;\n",
              "  color: #000000;\n",
              "}\n",
              "#T_7046d_row10_col10 {\n",
              "  font-size: 6pt;\n",
              "  background-color: #393939;\n",
              "  color: #f1f1f1;\n",
              "}\n",
              "</style>\n",
              "<table id=\"T_7046d_\" class=\"dataframe\">\n",
              "  <thead>\n",
              "    <tr>\n",
              "      <th class=\"blank level0\" >&nbsp;</th>\n",
              "      <th class=\"col_heading level0 col0\" >0</th>\n",
              "      <th class=\"col_heading level0 col1\" >1</th>\n",
              "      <th class=\"col_heading level0 col2\" >2</th>\n",
              "      <th class=\"col_heading level0 col3\" >3</th>\n",
              "      <th class=\"col_heading level0 col4\" >4</th>\n",
              "      <th class=\"col_heading level0 col5\" >5</th>\n",
              "      <th class=\"col_heading level0 col6\" >6</th>\n",
              "      <th class=\"col_heading level0 col7\" >7</th>\n",
              "      <th class=\"col_heading level0 col8\" >8</th>\n",
              "      <th class=\"col_heading level0 col9\" >9</th>\n",
              "      <th class=\"col_heading level0 col10\" >10</th>\n",
              "      <th class=\"col_heading level0 col11\" >11</th>\n",
              "      <th class=\"col_heading level0 col12\" >12</th>\n",
              "      <th class=\"col_heading level0 col13\" >13</th>\n",
              "      <th class=\"col_heading level0 col14\" >14</th>\n",
              "      <th class=\"col_heading level0 col15\" >15</th>\n",
              "      <th class=\"col_heading level0 col16\" >16</th>\n",
              "      <th class=\"col_heading level0 col17\" >17</th>\n",
              "    </tr>\n",
              "  </thead>\n",
              "  <tbody>\n",
              "    <tr>\n",
              "      <th id=\"T_7046d_level0_row0\" class=\"row_heading level0 row0\" >0</th>\n",
              "      <td id=\"T_7046d_row0_col0\" class=\"data row0 col0\" >0</td>\n",
              "      <td id=\"T_7046d_row0_col1\" class=\"data row0 col1\" >0</td>\n",
              "      <td id=\"T_7046d_row0_col2\" class=\"data row0 col2\" >0</td>\n",
              "      <td id=\"T_7046d_row0_col3\" class=\"data row0 col3\" >0</td>\n",
              "      <td id=\"T_7046d_row0_col4\" class=\"data row0 col4\" >0</td>\n",
              "      <td id=\"T_7046d_row0_col5\" class=\"data row0 col5\" >0</td>\n",
              "      <td id=\"T_7046d_row0_col6\" class=\"data row0 col6\" >0</td>\n",
              "      <td id=\"T_7046d_row0_col7\" class=\"data row0 col7\" >0</td>\n",
              "      <td id=\"T_7046d_row0_col8\" class=\"data row0 col8\" >0</td>\n",
              "      <td id=\"T_7046d_row0_col9\" class=\"data row0 col9\" >0</td>\n",
              "      <td id=\"T_7046d_row0_col10\" class=\"data row0 col10\" >0</td>\n",
              "      <td id=\"T_7046d_row0_col11\" class=\"data row0 col11\" >0</td>\n",
              "      <td id=\"T_7046d_row0_col12\" class=\"data row0 col12\" >0</td>\n",
              "      <td id=\"T_7046d_row0_col13\" class=\"data row0 col13\" >0</td>\n",
              "      <td id=\"T_7046d_row0_col14\" class=\"data row0 col14\" >0</td>\n",
              "      <td id=\"T_7046d_row0_col15\" class=\"data row0 col15\" >0</td>\n",
              "      <td id=\"T_7046d_row0_col16\" class=\"data row0 col16\" >0</td>\n",
              "      <td id=\"T_7046d_row0_col17\" class=\"data row0 col17\" >0</td>\n",
              "    </tr>\n",
              "    <tr>\n",
              "      <th id=\"T_7046d_level0_row1\" class=\"row_heading level0 row1\" >1</th>\n",
              "      <td id=\"T_7046d_row1_col0\" class=\"data row1 col0\" >0</td>\n",
              "      <td id=\"T_7046d_row1_col1\" class=\"data row1 col1\" >0</td>\n",
              "      <td id=\"T_7046d_row1_col2\" class=\"data row1 col2\" >0</td>\n",
              "      <td id=\"T_7046d_row1_col3\" class=\"data row1 col3\" >0</td>\n",
              "      <td id=\"T_7046d_row1_col4\" class=\"data row1 col4\" >0</td>\n",
              "      <td id=\"T_7046d_row1_col5\" class=\"data row1 col5\" >29</td>\n",
              "      <td id=\"T_7046d_row1_col6\" class=\"data row1 col6\" >150</td>\n",
              "      <td id=\"T_7046d_row1_col7\" class=\"data row1 col7\" >195</td>\n",
              "      <td id=\"T_7046d_row1_col8\" class=\"data row1 col8\" >254</td>\n",
              "      <td id=\"T_7046d_row1_col9\" class=\"data row1 col9\" >255</td>\n",
              "      <td id=\"T_7046d_row1_col10\" class=\"data row1 col10\" >254</td>\n",
              "      <td id=\"T_7046d_row1_col11\" class=\"data row1 col11\" >176</td>\n",
              "      <td id=\"T_7046d_row1_col12\" class=\"data row1 col12\" >193</td>\n",
              "      <td id=\"T_7046d_row1_col13\" class=\"data row1 col13\" >150</td>\n",
              "      <td id=\"T_7046d_row1_col14\" class=\"data row1 col14\" >96</td>\n",
              "      <td id=\"T_7046d_row1_col15\" class=\"data row1 col15\" >0</td>\n",
              "      <td id=\"T_7046d_row1_col16\" class=\"data row1 col16\" >0</td>\n",
              "      <td id=\"T_7046d_row1_col17\" class=\"data row1 col17\" >0</td>\n",
              "    </tr>\n",
              "    <tr>\n",
              "      <th id=\"T_7046d_level0_row2\" class=\"row_heading level0 row2\" >2</th>\n",
              "      <td id=\"T_7046d_row2_col0\" class=\"data row2 col0\" >0</td>\n",
              "      <td id=\"T_7046d_row2_col1\" class=\"data row2 col1\" >0</td>\n",
              "      <td id=\"T_7046d_row2_col2\" class=\"data row2 col2\" >0</td>\n",
              "      <td id=\"T_7046d_row2_col3\" class=\"data row2 col3\" >48</td>\n",
              "      <td id=\"T_7046d_row2_col4\" class=\"data row2 col4\" >166</td>\n",
              "      <td id=\"T_7046d_row2_col5\" class=\"data row2 col5\" >224</td>\n",
              "      <td id=\"T_7046d_row2_col6\" class=\"data row2 col6\" >253</td>\n",
              "      <td id=\"T_7046d_row2_col7\" class=\"data row2 col7\" >253</td>\n",
              "      <td id=\"T_7046d_row2_col8\" class=\"data row2 col8\" >234</td>\n",
              "      <td id=\"T_7046d_row2_col9\" class=\"data row2 col9\" >196</td>\n",
              "      <td id=\"T_7046d_row2_col10\" class=\"data row2 col10\" >253</td>\n",
              "      <td id=\"T_7046d_row2_col11\" class=\"data row2 col11\" >253</td>\n",
              "      <td id=\"T_7046d_row2_col12\" class=\"data row2 col12\" >253</td>\n",
              "      <td id=\"T_7046d_row2_col13\" class=\"data row2 col13\" >253</td>\n",
              "      <td id=\"T_7046d_row2_col14\" class=\"data row2 col14\" >233</td>\n",
              "      <td id=\"T_7046d_row2_col15\" class=\"data row2 col15\" >0</td>\n",
              "      <td id=\"T_7046d_row2_col16\" class=\"data row2 col16\" >0</td>\n",
              "      <td id=\"T_7046d_row2_col17\" class=\"data row2 col17\" >0</td>\n",
              "    </tr>\n",
              "    <tr>\n",
              "      <th id=\"T_7046d_level0_row3\" class=\"row_heading level0 row3\" >3</th>\n",
              "      <td id=\"T_7046d_row3_col0\" class=\"data row3 col0\" >0</td>\n",
              "      <td id=\"T_7046d_row3_col1\" class=\"data row3 col1\" >93</td>\n",
              "      <td id=\"T_7046d_row3_col2\" class=\"data row3 col2\" >244</td>\n",
              "      <td id=\"T_7046d_row3_col3\" class=\"data row3 col3\" >249</td>\n",
              "      <td id=\"T_7046d_row3_col4\" class=\"data row3 col4\" >253</td>\n",
              "      <td id=\"T_7046d_row3_col5\" class=\"data row3 col5\" >187</td>\n",
              "      <td id=\"T_7046d_row3_col6\" class=\"data row3 col6\" >46</td>\n",
              "      <td id=\"T_7046d_row3_col7\" class=\"data row3 col7\" >10</td>\n",
              "      <td id=\"T_7046d_row3_col8\" class=\"data row3 col8\" >8</td>\n",
              "      <td id=\"T_7046d_row3_col9\" class=\"data row3 col9\" >4</td>\n",
              "      <td id=\"T_7046d_row3_col10\" class=\"data row3 col10\" >10</td>\n",
              "      <td id=\"T_7046d_row3_col11\" class=\"data row3 col11\" >194</td>\n",
              "      <td id=\"T_7046d_row3_col12\" class=\"data row3 col12\" >253</td>\n",
              "      <td id=\"T_7046d_row3_col13\" class=\"data row3 col13\" >253</td>\n",
              "      <td id=\"T_7046d_row3_col14\" class=\"data row3 col14\" >233</td>\n",
              "      <td id=\"T_7046d_row3_col15\" class=\"data row3 col15\" >0</td>\n",
              "      <td id=\"T_7046d_row3_col16\" class=\"data row3 col16\" >0</td>\n",
              "      <td id=\"T_7046d_row3_col17\" class=\"data row3 col17\" >0</td>\n",
              "    </tr>\n",
              "    <tr>\n",
              "      <th id=\"T_7046d_level0_row4\" class=\"row_heading level0 row4\" >4</th>\n",
              "      <td id=\"T_7046d_row4_col0\" class=\"data row4 col0\" >0</td>\n",
              "      <td id=\"T_7046d_row4_col1\" class=\"data row4 col1\" >107</td>\n",
              "      <td id=\"T_7046d_row4_col2\" class=\"data row4 col2\" >253</td>\n",
              "      <td id=\"T_7046d_row4_col3\" class=\"data row4 col3\" >253</td>\n",
              "      <td id=\"T_7046d_row4_col4\" class=\"data row4 col4\" >230</td>\n",
              "      <td id=\"T_7046d_row4_col5\" class=\"data row4 col5\" >48</td>\n",
              "      <td id=\"T_7046d_row4_col6\" class=\"data row4 col6\" >0</td>\n",
              "      <td id=\"T_7046d_row4_col7\" class=\"data row4 col7\" >0</td>\n",
              "      <td id=\"T_7046d_row4_col8\" class=\"data row4 col8\" >0</td>\n",
              "      <td id=\"T_7046d_row4_col9\" class=\"data row4 col9\" >0</td>\n",
              "      <td id=\"T_7046d_row4_col10\" class=\"data row4 col10\" >0</td>\n",
              "      <td id=\"T_7046d_row4_col11\" class=\"data row4 col11\" >192</td>\n",
              "      <td id=\"T_7046d_row4_col12\" class=\"data row4 col12\" >253</td>\n",
              "      <td id=\"T_7046d_row4_col13\" class=\"data row4 col13\" >253</td>\n",
              "      <td id=\"T_7046d_row4_col14\" class=\"data row4 col14\" >156</td>\n",
              "      <td id=\"T_7046d_row4_col15\" class=\"data row4 col15\" >0</td>\n",
              "      <td id=\"T_7046d_row4_col16\" class=\"data row4 col16\" >0</td>\n",
              "      <td id=\"T_7046d_row4_col17\" class=\"data row4 col17\" >0</td>\n",
              "    </tr>\n",
              "    <tr>\n",
              "      <th id=\"T_7046d_level0_row5\" class=\"row_heading level0 row5\" >5</th>\n",
              "      <td id=\"T_7046d_row5_col0\" class=\"data row5 col0\" >0</td>\n",
              "      <td id=\"T_7046d_row5_col1\" class=\"data row5 col1\" >3</td>\n",
              "      <td id=\"T_7046d_row5_col2\" class=\"data row5 col2\" >20</td>\n",
              "      <td id=\"T_7046d_row5_col3\" class=\"data row5 col3\" >20</td>\n",
              "      <td id=\"T_7046d_row5_col4\" class=\"data row5 col4\" >15</td>\n",
              "      <td id=\"T_7046d_row5_col5\" class=\"data row5 col5\" >0</td>\n",
              "      <td id=\"T_7046d_row5_col6\" class=\"data row5 col6\" >0</td>\n",
              "      <td id=\"T_7046d_row5_col7\" class=\"data row5 col7\" >0</td>\n",
              "      <td id=\"T_7046d_row5_col8\" class=\"data row5 col8\" >0</td>\n",
              "      <td id=\"T_7046d_row5_col9\" class=\"data row5 col9\" >0</td>\n",
              "      <td id=\"T_7046d_row5_col10\" class=\"data row5 col10\" >43</td>\n",
              "      <td id=\"T_7046d_row5_col11\" class=\"data row5 col11\" >224</td>\n",
              "      <td id=\"T_7046d_row5_col12\" class=\"data row5 col12\" >253</td>\n",
              "      <td id=\"T_7046d_row5_col13\" class=\"data row5 col13\" >245</td>\n",
              "      <td id=\"T_7046d_row5_col14\" class=\"data row5 col14\" >74</td>\n",
              "      <td id=\"T_7046d_row5_col15\" class=\"data row5 col15\" >0</td>\n",
              "      <td id=\"T_7046d_row5_col16\" class=\"data row5 col16\" >0</td>\n",
              "      <td id=\"T_7046d_row5_col17\" class=\"data row5 col17\" >0</td>\n",
              "    </tr>\n",
              "    <tr>\n",
              "      <th id=\"T_7046d_level0_row6\" class=\"row_heading level0 row6\" >6</th>\n",
              "      <td id=\"T_7046d_row6_col0\" class=\"data row6 col0\" >0</td>\n",
              "      <td id=\"T_7046d_row6_col1\" class=\"data row6 col1\" >0</td>\n",
              "      <td id=\"T_7046d_row6_col2\" class=\"data row6 col2\" >0</td>\n",
              "      <td id=\"T_7046d_row6_col3\" class=\"data row6 col3\" >0</td>\n",
              "      <td id=\"T_7046d_row6_col4\" class=\"data row6 col4\" >0</td>\n",
              "      <td id=\"T_7046d_row6_col5\" class=\"data row6 col5\" >0</td>\n",
              "      <td id=\"T_7046d_row6_col6\" class=\"data row6 col6\" >0</td>\n",
              "      <td id=\"T_7046d_row6_col7\" class=\"data row6 col7\" >0</td>\n",
              "      <td id=\"T_7046d_row6_col8\" class=\"data row6 col8\" >0</td>\n",
              "      <td id=\"T_7046d_row6_col9\" class=\"data row6 col9\" >0</td>\n",
              "      <td id=\"T_7046d_row6_col10\" class=\"data row6 col10\" >249</td>\n",
              "      <td id=\"T_7046d_row6_col11\" class=\"data row6 col11\" >253</td>\n",
              "      <td id=\"T_7046d_row6_col12\" class=\"data row6 col12\" >245</td>\n",
              "      <td id=\"T_7046d_row6_col13\" class=\"data row6 col13\" >126</td>\n",
              "      <td id=\"T_7046d_row6_col14\" class=\"data row6 col14\" >0</td>\n",
              "      <td id=\"T_7046d_row6_col15\" class=\"data row6 col15\" >0</td>\n",
              "      <td id=\"T_7046d_row6_col16\" class=\"data row6 col16\" >0</td>\n",
              "      <td id=\"T_7046d_row6_col17\" class=\"data row6 col17\" >0</td>\n",
              "    </tr>\n",
              "    <tr>\n",
              "      <th id=\"T_7046d_level0_row7\" class=\"row_heading level0 row7\" >7</th>\n",
              "      <td id=\"T_7046d_row7_col0\" class=\"data row7 col0\" >0</td>\n",
              "      <td id=\"T_7046d_row7_col1\" class=\"data row7 col1\" >0</td>\n",
              "      <td id=\"T_7046d_row7_col2\" class=\"data row7 col2\" >0</td>\n",
              "      <td id=\"T_7046d_row7_col3\" class=\"data row7 col3\" >0</td>\n",
              "      <td id=\"T_7046d_row7_col4\" class=\"data row7 col4\" >0</td>\n",
              "      <td id=\"T_7046d_row7_col5\" class=\"data row7 col5\" >0</td>\n",
              "      <td id=\"T_7046d_row7_col6\" class=\"data row7 col6\" >0</td>\n",
              "      <td id=\"T_7046d_row7_col7\" class=\"data row7 col7\" >14</td>\n",
              "      <td id=\"T_7046d_row7_col8\" class=\"data row7 col8\" >101</td>\n",
              "      <td id=\"T_7046d_row7_col9\" class=\"data row7 col9\" >223</td>\n",
              "      <td id=\"T_7046d_row7_col10\" class=\"data row7 col10\" >253</td>\n",
              "      <td id=\"T_7046d_row7_col11\" class=\"data row7 col11\" >248</td>\n",
              "      <td id=\"T_7046d_row7_col12\" class=\"data row7 col12\" >124</td>\n",
              "      <td id=\"T_7046d_row7_col13\" class=\"data row7 col13\" >0</td>\n",
              "      <td id=\"T_7046d_row7_col14\" class=\"data row7 col14\" >0</td>\n",
              "      <td id=\"T_7046d_row7_col15\" class=\"data row7 col15\" >0</td>\n",
              "      <td id=\"T_7046d_row7_col16\" class=\"data row7 col16\" >0</td>\n",
              "      <td id=\"T_7046d_row7_col17\" class=\"data row7 col17\" >0</td>\n",
              "    </tr>\n",
              "    <tr>\n",
              "      <th id=\"T_7046d_level0_row8\" class=\"row_heading level0 row8\" >8</th>\n",
              "      <td id=\"T_7046d_row8_col0\" class=\"data row8 col0\" >0</td>\n",
              "      <td id=\"T_7046d_row8_col1\" class=\"data row8 col1\" >0</td>\n",
              "      <td id=\"T_7046d_row8_col2\" class=\"data row8 col2\" >0</td>\n",
              "      <td id=\"T_7046d_row8_col3\" class=\"data row8 col3\" >0</td>\n",
              "      <td id=\"T_7046d_row8_col4\" class=\"data row8 col4\" >0</td>\n",
              "      <td id=\"T_7046d_row8_col5\" class=\"data row8 col5\" >11</td>\n",
              "      <td id=\"T_7046d_row8_col6\" class=\"data row8 col6\" >166</td>\n",
              "      <td id=\"T_7046d_row8_col7\" class=\"data row8 col7\" >239</td>\n",
              "      <td id=\"T_7046d_row8_col8\" class=\"data row8 col8\" >253</td>\n",
              "      <td id=\"T_7046d_row8_col9\" class=\"data row8 col9\" >253</td>\n",
              "      <td id=\"T_7046d_row8_col10\" class=\"data row8 col10\" >253</td>\n",
              "      <td id=\"T_7046d_row8_col11\" class=\"data row8 col11\" >187</td>\n",
              "      <td id=\"T_7046d_row8_col12\" class=\"data row8 col12\" >30</td>\n",
              "      <td id=\"T_7046d_row8_col13\" class=\"data row8 col13\" >0</td>\n",
              "      <td id=\"T_7046d_row8_col14\" class=\"data row8 col14\" >0</td>\n",
              "      <td id=\"T_7046d_row8_col15\" class=\"data row8 col15\" >0</td>\n",
              "      <td id=\"T_7046d_row8_col16\" class=\"data row8 col16\" >0</td>\n",
              "      <td id=\"T_7046d_row8_col17\" class=\"data row8 col17\" >0</td>\n",
              "    </tr>\n",
              "    <tr>\n",
              "      <th id=\"T_7046d_level0_row9\" class=\"row_heading level0 row9\" >9</th>\n",
              "      <td id=\"T_7046d_row9_col0\" class=\"data row9 col0\" >0</td>\n",
              "      <td id=\"T_7046d_row9_col1\" class=\"data row9 col1\" >0</td>\n",
              "      <td id=\"T_7046d_row9_col2\" class=\"data row9 col2\" >0</td>\n",
              "      <td id=\"T_7046d_row9_col3\" class=\"data row9 col3\" >0</td>\n",
              "      <td id=\"T_7046d_row9_col4\" class=\"data row9 col4\" >0</td>\n",
              "      <td id=\"T_7046d_row9_col5\" class=\"data row9 col5\" >16</td>\n",
              "      <td id=\"T_7046d_row9_col6\" class=\"data row9 col6\" >248</td>\n",
              "      <td id=\"T_7046d_row9_col7\" class=\"data row9 col7\" >250</td>\n",
              "      <td id=\"T_7046d_row9_col8\" class=\"data row9 col8\" >253</td>\n",
              "      <td id=\"T_7046d_row9_col9\" class=\"data row9 col9\" >253</td>\n",
              "      <td id=\"T_7046d_row9_col10\" class=\"data row9 col10\" >253</td>\n",
              "      <td id=\"T_7046d_row9_col11\" class=\"data row9 col11\" >253</td>\n",
              "      <td id=\"T_7046d_row9_col12\" class=\"data row9 col12\" >232</td>\n",
              "      <td id=\"T_7046d_row9_col13\" class=\"data row9 col13\" >213</td>\n",
              "      <td id=\"T_7046d_row9_col14\" class=\"data row9 col14\" >111</td>\n",
              "      <td id=\"T_7046d_row9_col15\" class=\"data row9 col15\" >2</td>\n",
              "      <td id=\"T_7046d_row9_col16\" class=\"data row9 col16\" >0</td>\n",
              "      <td id=\"T_7046d_row9_col17\" class=\"data row9 col17\" >0</td>\n",
              "    </tr>\n",
              "    <tr>\n",
              "      <th id=\"T_7046d_level0_row10\" class=\"row_heading level0 row10\" >10</th>\n",
              "      <td id=\"T_7046d_row10_col0\" class=\"data row10 col0\" >0</td>\n",
              "      <td id=\"T_7046d_row10_col1\" class=\"data row10 col1\" >0</td>\n",
              "      <td id=\"T_7046d_row10_col2\" class=\"data row10 col2\" >0</td>\n",
              "      <td id=\"T_7046d_row10_col3\" class=\"data row10 col3\" >0</td>\n",
              "      <td id=\"T_7046d_row10_col4\" class=\"data row10 col4\" >0</td>\n",
              "      <td id=\"T_7046d_row10_col5\" class=\"data row10 col5\" >0</td>\n",
              "      <td id=\"T_7046d_row10_col6\" class=\"data row10 col6\" >0</td>\n",
              "      <td id=\"T_7046d_row10_col7\" class=\"data row10 col7\" >43</td>\n",
              "      <td id=\"T_7046d_row10_col8\" class=\"data row10 col8\" >98</td>\n",
              "      <td id=\"T_7046d_row10_col9\" class=\"data row10 col9\" >98</td>\n",
              "      <td id=\"T_7046d_row10_col10\" class=\"data row10 col10\" >208</td>\n",
              "      <td id=\"T_7046d_row10_col11\" class=\"data row10 col11\" >253</td>\n",
              "      <td id=\"T_7046d_row10_col12\" class=\"data row10 col12\" >253</td>\n",
              "      <td id=\"T_7046d_row10_col13\" class=\"data row10 col13\" >253</td>\n",
              "      <td id=\"T_7046d_row10_col14\" class=\"data row10 col14\" >253</td>\n",
              "      <td id=\"T_7046d_row10_col15\" class=\"data row10 col15\" >187</td>\n",
              "      <td id=\"T_7046d_row10_col16\" class=\"data row10 col16\" >22</td>\n",
              "      <td id=\"T_7046d_row10_col17\" class=\"data row10 col17\" >0</td>\n",
              "    </tr>\n",
              "  </tbody>\n",
              "</table>\n"
            ]
          },
          "metadata": {},
          "execution_count": 199
        }
      ]
    },
    {
      "cell_type": "code",
      "source": [
        "#Store all image in tensors\n",
        "seven_tensors = [tensor(Image.open(o)) for o in sevens]\n",
        "three_tensors = [tensor(Image.open(o)) for o in threes]\n",
        "len(three_tensors), len(seven_tensors)"
      ],
      "metadata": {
        "colab": {
          "base_uri": "https://localhost:8080/"
        },
        "id": "oPD_OiJGT1Mk",
        "outputId": "ca69d3af-bd9f-45ba-b420-8af999d22fda"
      },
      "execution_count": 200,
      "outputs": [
        {
          "output_type": "execute_result",
          "data": {
            "text/plain": [
              "(6131, 6265)"
            ]
          },
          "metadata": {},
          "execution_count": 200
        }
      ]
    },
    {
      "cell_type": "code",
      "source": [
        "#use fastai show_image to display image in tensor\n",
        "show_image(three_tensors[92])"
      ],
      "metadata": {
        "colab": {
          "base_uri": "https://localhost:8080/",
          "height": 102
        },
        "id": "dWyyPzcsUJUm",
        "outputId": "0fcd245f-b0f9-4a92-d8ed-fdffa672c759"
      },
      "execution_count": 201,
      "outputs": [
        {
          "output_type": "execute_result",
          "data": {
            "text/plain": [
              "<matplotlib.axes._subplots.AxesSubplot at 0x7f342e100950>"
            ]
          },
          "metadata": {},
          "execution_count": 201
        },
        {
          "output_type": "display_data",
          "data": {
            "text/plain": [
              "<Figure size 72x72 with 1 Axes>"
            ],
            "image/png": "[encoded data removed]"
          },
          "metadata": {
            "needs_background": "light"
          }
        }
      ]
    },
    {
      "cell_type": "code",
      "source": [
        "#Our initial approach we are going to get average of all pixels\n",
        "#To do this we will stack all images of each number into a single tensor\n",
        "stacked_threes = torch.stack(three_tensors).float()/255\n",
        "stacked_sevens = torch.stack(seven_tensors).float()/255\n",
        "\n",
        "#Size gives us the length of each axis in a tensor\n",
        "#Here we have count, pixels width, pixels height\n",
        "stacked_threes.shape"
      ],
      "metadata": {
        "colab": {
          "base_uri": "https://localhost:8080/"
        },
        "id": "kxjYSEbwUi6T",
        "outputId": "d9f8590b-fbb0-484e-debe-eea880360af0"
      },
      "execution_count": 202,
      "outputs": [
        {
          "output_type": "execute_result",
          "data": {
            "text/plain": [
              "torch.Size([6131, 28, 28])"
            ]
          },
          "metadata": {},
          "execution_count": 202
        }
      ]
    },
    {
      "cell_type": "code",
      "source": [
        "#The length of the shape is a tensor's rank\n",
        "len(stacked_threes.shape)"
      ],
      "metadata": {
        "colab": {
          "base_uri": "https://localhost:8080/"
        },
        "id": "0Mt1HeXBVVQz",
        "outputId": "f2980568-2ea2-43df-9682-1a16f9009932"
      },
      "execution_count": 203,
      "outputs": [
        {
          "output_type": "execute_result",
          "data": {
            "text/plain": [
              "3"
            ]
          },
          "metadata": {},
          "execution_count": 203
        }
      ]
    },
    {
      "cell_type": "code",
      "source": [
        "#Rank can also be accessed with ndim\n",
        "stacked_threes.ndim "
      ],
      "metadata": {
        "colab": {
          "base_uri": "https://localhost:8080/"
        },
        "id": "mIm3MeqKVg3t",
        "outputId": "af5d6c52-5ebd-4494-cfb1-e998db41bf7a"
      },
      "execution_count": 204,
      "outputs": [
        {
          "output_type": "execute_result",
          "data": {
            "text/plain": [
              "3"
            ]
          },
          "metadata": {},
          "execution_count": 204
        }
      ]
    },
    {
      "cell_type": "code",
      "source": [
        "#To get the average of all images we call the mean method on dim 0 of stack\n",
        "mean3 = stacked_threes.mean(0)\n",
        "show_image(mean3)"
      ],
      "metadata": {
        "colab": {
          "base_uri": "https://localhost:8080/",
          "height": 102
        },
        "id": "Nlvt0EJeVzjc",
        "outputId": "e410b213-63c9-40d0-a325-5f05a3d3b3c8"
      },
      "execution_count": 205,
      "outputs": [
        {
          "output_type": "execute_result",
          "data": {
            "text/plain": [
              "<matplotlib.axes._subplots.AxesSubplot at 0x7f3427b60650>"
            ]
          },
          "metadata": {},
          "execution_count": 205
        },
        {
          "output_type": "display_data",
          "data": {
            "text/plain": [
              "<Figure size 72x72 with 1 Axes>"
            ],
            "image/png": "[encoded data removed]"
          },
          "metadata": {
            "needs_background": "light"
          }
        }
      ]
    },
    {
      "cell_type": "code",
      "source": [
        "#Now for our set of 7s\n",
        "mean7 = stacked_sevens.mean(0)\n",
        "show_image(mean7)"
      ],
      "metadata": {
        "colab": {
          "base_uri": "https://localhost:8080/",
          "height": 102
        },
        "id": "RKvp-9hpWAbW",
        "outputId": "ce574494-0b1b-43c2-c7dd-4a5975e87f5f"
      },
      "execution_count": 206,
      "outputs": [
        {
          "output_type": "execute_result",
          "data": {
            "text/plain": [
              "<matplotlib.axes._subplots.AxesSubplot at 0x7f3427b96790>"
            ]
          },
          "metadata": {},
          "execution_count": 206
        },
        {
          "output_type": "display_data",
          "data": {
            "text/plain": [
              "<Figure size 72x72 with 1 Axes>"
            ],
            "image/png": "[encoded data removed]"
          },
          "metadata": {
            "needs_background": "light"
          }
        }
      ]
    },
    {
      "cell_type": "code",
      "source": [
        "#We can test to see how far a test image is from the avg 3 or avg 7\n",
        "a_3 = stacked_threes[2] #Test img\n",
        "#Get absloute val of pixel differences to avoid cancellation of \"too light\" and \"too dark\"\n",
        "dist_3_abs = (a_3 - mean3).abs().mean() #dist to avg 3\n",
        "dist_7_abs = (a_3 - mean7).abs().mean() #dist to avg 7\n",
        "dist_3_abs, dist_7_abs #Dist to 3 is smaller, so model picks 3"
      ],
      "metadata": {
        "colab": {
          "base_uri": "https://localhost:8080/"
        },
        "id": "rU0gnY3-Wdn-",
        "outputId": "0afdf0e0-e6a8-46e9-d1a6-a89370b34da3"
      },
      "execution_count": 207,
      "outputs": [
        {
          "output_type": "execute_result",
          "data": {
            "text/plain": [
              "(tensor(0.1100), tensor(0.1541))"
            ]
          },
          "metadata": {},
          "execution_count": 207
        }
      ]
    },
    {
      "cell_type": "code",
      "source": [
        "#We can do a similar thing by squaring the differences (to get a positive) then taking the root\n",
        "dist_3_sqr = ((a_3 - mean3)**2).mean().sqrt() #to 3\n",
        "dist_7_sqr = ((a_3 - mean7)**2).mean().sqrt() #to 7\n",
        "dist_3_sqr, dist_7_sqr #again 3 is a better solution"
      ],
      "metadata": {
        "colab": {
          "base_uri": "https://localhost:8080/"
        },
        "id": "cKjV41U5XE3F",
        "outputId": "05b11540-9243-43e7-e68c-e18c4e11bbb1"
      },
      "execution_count": 208,
      "outputs": [
        {
          "output_type": "execute_result",
          "data": {
            "text/plain": [
              "(tensor(0.1980), tensor(0.2974))"
            ]
          },
          "metadata": {},
          "execution_count": 208
        }
      ]
    },
    {
      "cell_type": "code",
      "source": [
        "#Pytorch already provides these as loss functions\n",
        "F.l1_loss(a_3.float(),mean7), F.mse_loss(a_3,mean7).sqrt()"
      ],
      "metadata": {
        "colab": {
          "base_uri": "https://localhost:8080/"
        },
        "id": "4-nf4qa0Xqkb",
        "outputId": "b12835c3-e122-4f54-9bae-4c31dc728177"
      },
      "execution_count": 209,
      "outputs": [
        {
          "output_type": "execute_result",
          "data": {
            "text/plain": [
              "(tensor(0.1541), tensor(0.2974))"
            ]
          },
          "metadata": {},
          "execution_count": 209
        }
      ]
    },
    {
      "cell_type": "code",
      "source": [
        "#Create tensor objs for validation set\n",
        "valid_3_tens = torch.stack([tensor(Image.open(o)) for o in (path/'valid'/'3').ls()])\n",
        "valid_7_tens = torch.stack([tensor(Image.open(o)) for o in (path/'valid'/'7').ls()])\n",
        "#Change float to 0 to 1\n",
        "valid_3_tens = valid_3_tens.float() / 255\n",
        "valid_7_tens = valid_7_tens.float() / 255\n",
        "#Print size\n",
        "valid_3_tens.shape, valid_7_tens.shape"
      ],
      "metadata": {
        "colab": {
          "base_uri": "https://localhost:8080/"
        },
        "id": "GgNb_pmZfWHU",
        "outputId": "783aa7a8-6af8-4066-ca01-54d0d7533f7c"
      },
      "execution_count": 210,
      "outputs": [
        {
          "output_type": "execute_result",
          "data": {
            "text/plain": [
              "(torch.Size([1010, 28, 28]), torch.Size([1028, 28, 28]))"
            ]
          },
          "metadata": {},
          "execution_count": 210
        }
      ]
    },
    {
      "cell_type": "code",
      "source": [
        "#Create func to determine distance of an image to a mean\n",
        "def mnist_distance(a,b): return (a-b).abs().mean((-1,-2))\n",
        "mnist_distance(a_3, mean3)"
      ],
      "metadata": {
        "colab": {
          "base_uri": "https://localhost:8080/"
        },
        "id": "aw04qbglgbhf",
        "outputId": "f67324fc-fc9f-4429-b342-cf7a60119bca"
      },
      "execution_count": 211,
      "outputs": [
        {
          "output_type": "execute_result",
          "data": {
            "text/plain": [
              "tensor(0.1100)"
            ]
          },
          "metadata": {},
          "execution_count": 211
        }
      ]
    },
    {
      "cell_type": "code",
      "source": [
        "#Get dist of all images in validation set\n",
        "valid_3_dist = mnist_distance(valid_3_tens, mean3)\n",
        "valid_3_dist, valid_3_dist.shape"
      ],
      "metadata": {
        "colab": {
          "base_uri": "https://localhost:8080/"
        },
        "id": "7F3dyLkRh90W",
        "outputId": "c4e1b30d-ccce-4cc4-dfad-95ac819e0287"
      },
      "execution_count": 212,
      "outputs": [
        {
          "output_type": "execute_result",
          "data": {
            "text/plain": [
              "(tensor([0.1133, 0.1357, 0.1406,  ..., 0.1233, 0.1166, 0.1109]),\n",
              " torch.Size([1010]))"
            ]
          },
          "metadata": {},
          "execution_count": 212
        }
      ]
    },
    {
      "cell_type": "code",
      "source": [
        "#Func to determine 3 or 7\n",
        "def is_3(x): return mnist_distance(x, mean3) < mnist_distance(x, mean7)\n",
        "#See if it works\n",
        "is_3(a_3), is_3(a_3).float()"
      ],
      "metadata": {
        "colab": {
          "base_uri": "https://localhost:8080/"
        },
        "id": "DtfRHNBFimo4",
        "outputId": "a1f3ef6c-e377-4069-800e-bb69cebdcdb4"
      },
      "execution_count": 213,
      "outputs": [
        {
          "output_type": "execute_result",
          "data": {
            "text/plain": [
              "(tensor(True), tensor(1.))"
            ]
          },
          "metadata": {},
          "execution_count": 213
        }
      ]
    },
    {
      "cell_type": "code",
      "source": [
        "#Thanks to broadcasting we can tet entire validation set\n",
        "is_3(valid_3_tens)"
      ],
      "metadata": {
        "colab": {
          "base_uri": "https://localhost:8080/"
        },
        "id": "6gXTt8NBj3Fq",
        "outputId": "db327031-e729-4c74-96d5-cf808c84cdc5"
      },
      "execution_count": 214,
      "outputs": [
        {
          "output_type": "execute_result",
          "data": {
            "text/plain": [
              "tensor([ True, False,  True,  ...,  True,  True,  True])"
            ]
          },
          "metadata": {},
          "execution_count": 214
        }
      ]
    },
    {
      "cell_type": "code",
      "source": [
        "#We can test the accuracy by getting the average of the bool vals\n",
        "acc_3 = is_3(valid_3_tens).float().mean()\n",
        "acc_7 = 1 - is_3(valid_7_tens).float().mean()\n",
        "acc_3, acc_7"
      ],
      "metadata": {
        "colab": {
          "base_uri": "https://localhost:8080/"
        },
        "id": "aD-vX5A7kF9Y",
        "outputId": "138be89b-5cfb-4cb3-abfb-4cc8c6387275"
      },
      "execution_count": 215,
      "outputs": [
        {
          "output_type": "execute_result",
          "data": {
            "text/plain": [
              "(tensor(0.9168), tensor(0.9854))"
            ]
          },
          "metadata": {},
          "execution_count": 215
        }
      ]
    },
    {
      "cell_type": "code",
      "source": [
        "#Stocahastic Gradient Example\n",
        "def f(x): return x**2\n",
        "plot_function(f, 'x', 'x**2')"
      ],
      "metadata": {
        "colab": {
          "base_uri": "https://localhost:8080/",
          "height": 285
        },
        "id": "awjP_BzFmQV2",
        "outputId": "a88bfb58-5817-49ef-cf13-c5ab9871cb79"
      },
      "execution_count": 216,
      "outputs": [
        {
          "output_type": "display_data",
          "data": {
            "text/plain": [
              "<Figure size 432x288 with 1 Axes>"
            ],
            "image/png": "[encoded data removed]"
          },
          "metadata": {
            "needs_background": "light"
          }
        }
      ]
    },
    {
      "cell_type": "code",
      "source": [
        "#Create tensor and tell it that we need gradients\n",
        "xt = tensor(3.).requires_grad_()\n",
        "#Calculate f(xt)\n",
        "yt = f(xt)\n",
        "yt #tensor obj that has gradient"
      ],
      "metadata": {
        "colab": {
          "base_uri": "https://localhost:8080/"
        },
        "id": "ze65EK1EmeLA",
        "outputId": "bb52452f-c08a-40b4-853f-e2f170d41645"
      },
      "execution_count": 217,
      "outputs": [
        {
          "output_type": "execute_result",
          "data": {
            "text/plain": [
              "tensor(9., grad_fn=<PowBackward0>)"
            ]
          },
          "metadata": {},
          "execution_count": 217
        }
      ]
    },
    {
      "cell_type": "code",
      "source": [
        "#calculate gradient\n",
        "yt.backward()\n",
        "#We can now view the gradients\n",
        "xt.grad"
      ],
      "metadata": {
        "colab": {
          "base_uri": "https://localhost:8080/"
        },
        "id": "pA5eEwhLm7xp",
        "outputId": "d2eae00b-2586-4173-aae1-918189972f9a"
      },
      "execution_count": 218,
      "outputs": [
        {
          "output_type": "execute_result",
          "data": {
            "text/plain": [
              "tensor(6.)"
            ]
          },
          "metadata": {},
          "execution_count": 218
        }
      ]
    },
    {
      "cell_type": "code",
      "source": [
        "#we can do this on vectors as well\n",
        "xt = tensor([3.,4.,10.]).requires_grad_()\n",
        "xt"
      ],
      "metadata": {
        "colab": {
          "base_uri": "https://localhost:8080/"
        },
        "id": "gIx41MiMnQcy",
        "outputId": "2e06eecd-a9c4-4f51-e514-c10de07f54fe"
      },
      "execution_count": 219,
      "outputs": [
        {
          "output_type": "execute_result",
          "data": {
            "text/plain": [
              "tensor([ 3.,  4., 10.], requires_grad=True)"
            ]
          },
          "metadata": {},
          "execution_count": 219
        }
      ]
    },
    {
      "cell_type": "code",
      "source": [
        "def f(x): return (x**2).sum() #add sum so we can handle vectors\n",
        "yt = f(xt)\n",
        "yt.backward()\n",
        "xt.grad"
      ],
      "metadata": {
        "colab": {
          "base_uri": "https://localhost:8080/"
        },
        "id": "s9hHIt3wnaH4",
        "outputId": "3859ce01-1eb3-46b5-81f4-5514f39b635e"
      },
      "execution_count": 220,
      "outputs": [
        {
          "output_type": "execute_result",
          "data": {
            "text/plain": [
              "tensor([ 6.,  8., 20.])"
            ]
          },
          "metadata": {},
          "execution_count": 220
        }
      ]
    },
    {
      "cell_type": "markdown",
      "source": [
        "## Below we will cover the learning rate, which is the coefficent we use to decide how far we move based on the gradient calculated"
      ],
      "metadata": {
        "id": "sSrK4u0nb17-"
      }
    },
    {
      "cell_type": "code",
      "source": [
        "#Get some data\n",
        "time = torch.arange(0,20).float()\n",
        "speed = torch.randn(20)*3 + .75*(time-9.5)**2 + 1\n",
        "plt.scatter(time, speed)"
      ],
      "metadata": {
        "colab": {
          "base_uri": "https://localhost:8080/",
          "height": 285
        },
        "id": "4sXXEf3VcNh2",
        "outputId": "fe6f8bab-7fd3-48d0-abef-3e80ac5c3dc3"
      },
      "execution_count": 221,
      "outputs": [
        {
          "output_type": "execute_result",
          "data": {
            "text/plain": [
              "<matplotlib.collections.PathCollection at 0x7f3427bdcdd0>"
            ]
          },
          "metadata": {},
          "execution_count": 221
        },
        {
          "output_type": "display_data",
          "data": {
            "text/plain": [
              "<Figure size 432x288 with 1 Axes>"
            ],
            "image/png": "[encoded data removed]"
          },
          "metadata": {
            "needs_background": "light"
          }
        }
      ]
    },
    {
      "cell_type": "code",
      "source": [
        "#separate time and parameters\n",
        "#We restrict the best function to the best 'quadratic' function\n",
        "def f(t, params):\n",
        "  a, b, c = params\n",
        "  return a*(t**2) + (b*t) + c"
      ],
      "metadata": {
        "id": "xYeAr29Wcuq5"
      },
      "execution_count": 222,
      "outputs": []
    },
    {
      "cell_type": "code",
      "source": [
        "def mse(preds, targets): return ((preds-targets)**2).mean()"
      ],
      "metadata": {
        "id": "h1a4cDG8c5T0"
      },
      "execution_count": 223,
      "outputs": []
    },
    {
      "cell_type": "code",
      "source": [
        "#Step 1: Initialize Parameters\n",
        "params = torch.randn(3).requires_grad_()  #Random starting pos\n",
        "#Step 2: Calculate Predictions\n",
        "preds = f(time, params)\n",
        "  #Show how good predictions are\n",
        "def show_preds(preds, ax=None):\n",
        "  if ax is None: ax = plt.subplots()[1]\n",
        "  ax.scatter(time, speed)\n",
        "  ax.scatter(time, to_np(preds), color='red')\n",
        "  ax.set_ylim(-300,100)\n",
        "show_preds(preds)"
      ],
      "metadata": {
        "colab": {
          "base_uri": "https://localhost:8080/",
          "height": 273
        },
        "id": "Mq08C1VodeyZ",
        "outputId": "3131fb9f-16ab-4300-83b2-3c9528c42094"
      },
      "execution_count": 224,
      "outputs": [
        {
          "output_type": "display_data",
          "data": {
            "text/plain": [
              "<Figure size 432x288 with 1 Axes>"
            ],
            "image/png": "[encoded data removed]"
          },
          "metadata": {
            "needs_background": "light"
          }
        }
      ]
    },
    {
      "cell_type": "code",
      "source": [
        "#Step 3: Calculate Loss\n",
        "loss = mse(preds, speed)\n",
        "loss"
      ],
      "metadata": {
        "colab": {
          "base_uri": "https://localhost:8080/"
        },
        "id": "BZiLtPT8egbr",
        "outputId": "1c9b5187-c41c-4830-e1ee-b50ab023de90"
      },
      "execution_count": 225,
      "outputs": [
        {
          "output_type": "execute_result",
          "data": {
            "text/plain": [
              "tensor(71071.8906, grad_fn=<MeanBackward0>)"
            ]
          },
          "metadata": {},
          "execution_count": 225
        }
      ]
    },
    {
      "cell_type": "code",
      "source": [
        "#Step 4: Calculate Gradients\n",
        "loss.backward()\n",
        "params.grad"
      ],
      "metadata": {
        "colab": {
          "base_uri": "https://localhost:8080/"
        },
        "id": "-7-5AadFeqXs",
        "outputId": "ec490451-ba1a-4686-f57d-587d2f022c59"
      },
      "execution_count": 226,
      "outputs": [
        {
          "output_type": "execute_result",
          "data": {
            "text/plain": [
              "tensor([-88979.8438,  -5743.0059,   -416.5849])"
            ]
          },
          "metadata": {},
          "execution_count": 226
        }
      ]
    },
    {
      "cell_type": "code",
      "source": [
        "#Step 5: Step the weights\n",
        "lr = .00001\n",
        "params.data -= lr * params.grad.data #Step\n",
        "params.grad = None  #Clear gradients\n",
        "#See if we improved\n",
        "preds = f(time,params)\n",
        "mse(preds,speed)"
      ],
      "metadata": {
        "colab": {
          "base_uri": "https://localhost:8080/"
        },
        "id": "gkykflJ5fAhH",
        "outputId": "c6ee2b48-3718-426b-989a-46119545cdff"
      },
      "execution_count": 227,
      "outputs": [
        {
          "output_type": "execute_result",
          "data": {
            "text/plain": [
              "tensor(14026.3125, grad_fn=<MeanBackward0>)"
            ]
          },
          "metadata": {},
          "execution_count": 227
        }
      ]
    },
    {
      "cell_type": "code",
      "source": [
        "#Show in plot\n",
        "show_preds(preds)"
      ],
      "metadata": {
        "colab": {
          "base_uri": "https://localhost:8080/",
          "height": 273
        },
        "id": "wyYo_rr7ffJi",
        "outputId": "a93f077a-3b27-4917-dc6e-6aca7ecd5ee5"
      },
      "execution_count": 228,
      "outputs": [
        {
          "output_type": "display_data",
          "data": {
            "text/plain": [
              "<Figure size 432x288 with 1 Axes>"
            ],
            "image/png": "[encoded data removed]"
          },
          "metadata": {
            "needs_background": "light"
          }
        }
      ]
    },
    {
      "cell_type": "code",
      "source": [
        "#Def above as func\n",
        "def apply_step(params, prn=True):\n",
        "  preds = f(time,params)\n",
        "  loss = mse(preds, speed)\n",
        "  loss.backward()\n",
        "  params.data -= lr * params.grad.data\n",
        "  params.grad = None\n",
        "  if prn: print(loss.item())\n",
        "  return preds"
      ],
      "metadata": {
        "id": "_djUXpYff5KC"
      },
      "execution_count": 229,
      "outputs": []
    },
    {
      "cell_type": "code",
      "source": [
        "#Step 6: Repeat the process\n",
        "for i in range(10): apply_step(params)"
      ],
      "metadata": {
        "colab": {
          "base_uri": "https://localhost:8080/"
        },
        "id": "RRHuLiGsgXd6",
        "outputId": "93fd5244-dcad-44ea-ca67-6ef5c6e164b4"
      },
      "execution_count": 230,
      "outputs": [
        {
          "output_type": "stream",
          "name": "stdout",
          "text": [
            "14026.3125\n",
            "3231.53466796875\n",
            "1188.8197021484375\n",
            "802.2618408203125\n",
            "729.0993041992188\n",
            "715.2408447265625\n",
            "712.6046142578125\n",
            "712.0918579101562\n",
            "711.98095703125\n",
            "711.9461059570312\n"
          ]
        }
      ]
    },
    {
      "cell_type": "code",
      "source": [
        "#Plot func at every step for better visual\n",
        "_,axs = plt.subplots(1,4,figsize=(12,3))\n",
        "for ax in axs: show_preds(apply_step(params, False), ax)\n",
        "plt.tight_layout()"
      ],
      "metadata": {
        "colab": {
          "base_uri": "https://localhost:8080/",
          "height": 221
        },
        "id": "b6Y2vM0xg5dg",
        "outputId": "eea9a054-434c-49ad-f383-7b564dafa51f"
      },
      "execution_count": 231,
      "outputs": [
        {
          "output_type": "display_data",
          "data": {
            "text/plain": [
              "<Figure size 864x216 with 4 Axes>"
            ],
            "image/png": "[encoded data removed]"
          },
          "metadata": {
            "needs_background": "light"
          }
        }
      ]
    },
    {
      "cell_type": "code",
      "source": [
        "#Step 7: Stop\n",
        "#In practice we'd watch the validation losses and metrics to determine a stopping parameter"
      ],
      "metadata": {
        "id": "7nlr8WTUhgL6"
      },
      "execution_count": 232,
      "outputs": []
    },
    {
      "cell_type": "markdown",
      "source": [
        "## We now jump back into our 3s vs 7s example. In this section we will define a training objective"
      ],
      "metadata": {
        "id": "vot2fjIxiFXk"
      }
    },
    {
      "cell_type": "code",
      "source": [
        "#Concatenate training data into list of vectors (rank 2)\n",
        "#View can change shape withou changing contents, -1 means \"make this axis as big as needed\"\n",
        "train_x = torch.cat([stacked_threes, stacked_sevens]).view(-1, 28*28)\n",
        "\n",
        "#Label each image, 1 for 3 and 0 for 7\n",
        "train_y = tensor([1]*len(threes) + [0]*len(sevens)).unsqueeze(1)\n",
        "train_x.shape, train_y.shape #Make sure shapes match"
      ],
      "metadata": {
        "colab": {
          "base_uri": "https://localhost:8080/"
        },
        "id": "2XIAHmypiKuQ",
        "outputId": "37ed7e0c-6610-4a9f-e938-5b97a9adaaf8"
      },
      "execution_count": 233,
      "outputs": [
        {
          "output_type": "execute_result",
          "data": {
            "text/plain": [
              "(torch.Size([12396, 784]), torch.Size([12396, 1]))"
            ]
          },
          "metadata": {},
          "execution_count": 233
        }
      ]
    },
    {
      "cell_type": "code",
      "source": [
        "#Dataset in PyTorch requires a return tuple of (x,y)\n",
        "dset = list(zip(train_x, train_y))\n",
        "x,y = dset[0]\n",
        "x.shape, y"
      ],
      "metadata": {
        "colab": {
          "base_uri": "https://localhost:8080/"
        },
        "id": "3Kd4MmMgjjY_",
        "outputId": "7240cf75-8c7f-40e6-c9ab-f9e4d2e9820a"
      },
      "execution_count": 234,
      "outputs": [
        {
          "output_type": "execute_result",
          "data": {
            "text/plain": [
              "(torch.Size([784]), tensor([1]))"
            ]
          },
          "metadata": {},
          "execution_count": 234
        }
      ]
    },
    {
      "cell_type": "code",
      "source": [
        "#Do same for validation data\n",
        "valid_x = torch.cat([valid_3_tens, valid_7_tens]).view(-1, 28*28)\n",
        "valid_y = tensor([1]*len(valid_3_tens) + [0]*len(valid_7_tens)).unsqueeze(1)\n",
        "valid_dset = list(zip(valid_x, valid_y))"
      ],
      "metadata": {
        "id": "bxmE5RHZj5qV"
      },
      "execution_count": 235,
      "outputs": []
    },
    {
      "cell_type": "code",
      "source": [
        "#Generate random init weight for each pixel\n",
        "def init_params(size, std=1.0): return (torch.randn(size)*std).requires_grad_()\n",
        "weights = init_params((28*28,1))\n",
        "bias = init_params(1)\n",
        "#y = wx+b, w is weights b is bias"
      ],
      "metadata": {
        "id": "8dEovQxMkf3P"
      },
      "execution_count": 236,
      "outputs": []
    },
    {
      "cell_type": "code",
      "source": [
        "#Set up matrix multiplication using @ operator for fast iteration\n",
        "def linear1(xb): return xb@weights + bias\n",
        "preds = linear1(train_x)\n",
        "preds"
      ],
      "metadata": {
        "colab": {
          "base_uri": "https://localhost:8080/"
        },
        "id": "WxLrorpUlp7F",
        "outputId": "d41b7134-2ab2-4720-d456-db790f915f17"
      },
      "execution_count": 237,
      "outputs": [
        {
          "output_type": "execute_result",
          "data": {
            "text/plain": [
              "tensor([[  4.2706],\n",
              "        [ -6.4684],\n",
              "        [ -4.9104],\n",
              "        ...,\n",
              "        [ -0.2667],\n",
              "        [ -9.8638],\n",
              "        [-10.6865]], grad_fn=<AddBackward0>)"
            ]
          },
          "metadata": {},
          "execution_count": 237
        }
      ]
    },
    {
      "cell_type": "code",
      "source": [
        "#Check our accuracy\n",
        "corrects = (preds>0.0).float() == train_y #recall our labels are 0s and 1s so a match is a correct prediction\n",
        "acc = corrects.float().mean().item()\n",
        "acc"
      ],
      "metadata": {
        "colab": {
          "base_uri": "https://localhost:8080/"
        },
        "id": "HCDACyTumQUu",
        "outputId": "1e74ba46-f1a0-4611-98f9-91fcd1baee16"
      },
      "execution_count": 238,
      "outputs": [
        {
          "output_type": "execute_result",
          "data": {
            "text/plain": [
              "0.5726847648620605"
            ]
          },
          "metadata": {},
          "execution_count": 238
        }
      ]
    },
    {
      "cell_type": "code",
      "source": [
        "\"\"\"We cant use acc as a loss func because small changes most likely wont change predictions\n",
        "So our gradients would be 0 because old_acc = new_acc in that case\n",
        "We can use confidience levels to help.\n",
        "\n",
        "Let trgts be our labels and 3s = 1 and 7s = 0\n",
        "Let prbs be our probability an image is a 3\n",
        "    So .2 is pretty confident its a 7\n",
        "    .9 is very confident its a 3\n",
        "    .45 be not conmfident at all but pick 7\n",
        "\n",
        "trgts = [1, 0, 1]\n",
        "prbs = [.9, .45, .2]\n",
        "\n",
        "then we can take our distances to each label and get an idea of our loss from the function below\n",
        "\"\"\"\n",
        "\n",
        "def mnist_loss(predictions, targets):\n",
        "  predictions.sigmoid() #Just double check all our predictions are between 0 and 1\n",
        "  return torch.where(targets==1, 1-predictions, predictions).mean() #1-preds when label 1, preds otherwise. Then get mean\n"
      ],
      "metadata": {
        "id": "4Sag0_4FmwrI"
      },
      "execution_count": 239,
      "outputs": []
    },
    {
      "cell_type": "markdown",
      "source": [
        "## Next is the Optimization Step. For a blend of Optimization and Accuracy we use mini-batches. We calculate the average loss for the data in each mini-batch at the same time."
      ],
      "metadata": {
        "id": "O5bZj54_yj8T"
      }
    },
    {
      "cell_type": "code",
      "source": [
        "#Reinitialize our params\n",
        "weights = init_params((28*28,1))\n",
        "bias = init_params(1)\n",
        "#Create a DataLoader from a Dataset\n",
        "dl = DataLoader(dset, batch_size=256)\n",
        "xb,yb = first(dl)\n",
        "xb.shape, yb.shape"
      ],
      "metadata": {
        "colab": {
          "base_uri": "https://localhost:8080/"
        },
        "id": "WyjCLRQczMzV",
        "outputId": "e821dc05-64c0-4160-fab7-b65ebda4c396"
      },
      "execution_count": 240,
      "outputs": [
        {
          "output_type": "execute_result",
          "data": {
            "text/plain": [
              "(torch.Size([256, 784]), torch.Size([256, 1]))"
            ]
          },
          "metadata": {},
          "execution_count": 240
        }
      ]
    },
    {
      "cell_type": "code",
      "source": [
        "#Do same for validation set\n",
        "valid_dl = DataLoader(valid_dset, batch_size=256)\n",
        "#Create mini-batch of size 4 for testing\n",
        "batch = train_x[:4]\n",
        "batch.shape"
      ],
      "metadata": {
        "colab": {
          "base_uri": "https://localhost:8080/"
        },
        "id": "9SIqU2F30FN_",
        "outputId": "02fec1c5-4184-47a9-9df2-027e02eef958"
      },
      "execution_count": 241,
      "outputs": [
        {
          "output_type": "execute_result",
          "data": {
            "text/plain": [
              "torch.Size([4, 784])"
            ]
          },
          "metadata": {},
          "execution_count": 241
        }
      ]
    },
    {
      "cell_type": "code",
      "source": [
        "preds = linear1(batch)\n",
        "#Calculate loss\n",
        "loss = mnist_loss(preds, train_y[:4])\n",
        "loss"
      ],
      "metadata": {
        "colab": {
          "base_uri": "https://localhost:8080/"
        },
        "id": "x6Y452CJ0ZjQ",
        "outputId": "03737c73-01f2-4aa1-fd86-23a772c23ff1"
      },
      "execution_count": 242,
      "outputs": [
        {
          "output_type": "execute_result",
          "data": {
            "text/plain": [
              "tensor(-5.3930, grad_fn=<MeanBackward0>)"
            ]
          },
          "metadata": {},
          "execution_count": 242
        }
      ]
    },
    {
      "cell_type": "code",
      "source": [
        "loss.backward()\n",
        "weights.grad.shape, weights.grad.mean(), bias.grad"
      ],
      "metadata": {
        "colab": {
          "base_uri": "https://localhost:8080/"
        },
        "id": "qRCx_FFm079I",
        "outputId": "6c3e733c-88b4-4839-ffe8-e075c453cbf2"
      },
      "execution_count": 243,
      "outputs": [
        {
          "output_type": "execute_result",
          "data": {
            "text/plain": [
              "(torch.Size([784, 1]), tensor(-0.1511), tensor([-1.]))"
            ]
          },
          "metadata": {},
          "execution_count": 243
        }
      ]
    },
    {
      "cell_type": "code",
      "source": [
        "#Put it all in a function\n",
        "def calc_grad(xb, yb, model):\n",
        "  preds = model(xb)             #Make prediction\n",
        "  loss = mnist_loss(preds, yb)  #Calculate Loss\n",
        "  loss.backward()               #Call gradient func"
      ],
      "metadata": {
        "id": "7SmMTkIP1XPz"
      },
      "execution_count": 244,
      "outputs": []
    },
    {
      "cell_type": "code",
      "source": [
        "def train_epoch(model, lr, params):\n",
        "  for xb, yb in dl:\n",
        "    calc_grad(xb, yb, model)  #See cell above\n",
        "    for p in params:\n",
        "      p.data -= p.grad*lr     #Update parameters (weights/bias) by gradient * learning rate\n",
        "      p.grad.zero_()          #Set gradients to zero or else they add up"
      ],
      "metadata": {
        "id": "vFUftzQC2b_Z"
      },
      "execution_count": 245,
      "outputs": []
    },
    {
      "cell_type": "code",
      "source": [
        "def batch_accuracy(xb, yb):\n",
        "  preds = xb.sigmoid()          #Get predicitons as prob between 0 and 1\n",
        "  correct = (preds>.5) == yb    #Get correct predictions\n",
        "  return correct.float().mean() #Return percent correct"
      ],
      "metadata": {
        "id": "D7aeFWDh3QBD"
      },
      "execution_count": 246,
      "outputs": []
    },
    {
      "cell_type": "code",
      "source": [
        "#Putting all the batches together\n",
        "def validate_epoch(model):\n",
        "  accs = [batch_accuracy(model(xb), yb) for xb,yb in valid_dl]  #Get accuracy on validation set of all batches\n",
        "  return round(torch.stack(accs).mean().item(), 4) #Return avg batch accuracy"
      ],
      "metadata": {
        "id": "FjDOTWG_4Ao1"
      },
      "execution_count": 247,
      "outputs": []
    },
    {
      "cell_type": "code",
      "source": [
        "#Results after 1 epoch\n",
        "lr = .0001\n",
        "params = weights,bias\n",
        "train_epoch(linear1, lr, params)\n",
        "validate_epoch(linear1)"
      ],
      "metadata": {
        "colab": {
          "base_uri": "https://localhost:8080/"
        },
        "id": "ugvGE6954mQs",
        "outputId": "6caf9b6f-9a61-4108-b562-a39cd3d36d98"
      },
      "execution_count": 248,
      "outputs": [
        {
          "output_type": "execute_result",
          "data": {
            "text/plain": [
              "0.4517"
            ]
          },
          "metadata": {},
          "execution_count": 248
        }
      ]
    },
    {
      "cell_type": "code",
      "source": [
        "#For a few more epochs\n",
        "for i in range(20):\n",
        "  train_epoch(linear1, lr, params)\n",
        "  print(validate_epoch(linear1), end=' ')"
      ],
      "metadata": {
        "colab": {
          "base_uri": "https://localhost:8080/"
        },
        "id": "NUzbSUlZ42qs",
        "outputId": "65cede40-0e6a-45af-c216-9c3acf741c5c"
      },
      "execution_count": 249,
      "outputs": [
        {
          "output_type": "stream",
          "name": "stdout",
          "text": [
            "0.4537 0.4551 0.4551 0.4561 0.4571 0.4576 0.4586 0.461 0.462 0.4625 0.463 0.464 0.464 0.465 0.4664 0.4689 0.4703 0.4703 0.4708 0.4718 "
          ]
        }
      ]
    },
    {
      "cell_type": "code",
      "source": [
        "#PyTorch provides some useful classes to make it easier to implement\n",
        "\n",
        "#nn.Linear does same thing as our init_params and linear together\n",
        "linear_model = nn.Linear(28*28,1)\n",
        "w,b = linear_model.parameters() #we can get trainable parameters\n",
        "\n",
        "#We can use this info to create an optimizer\n",
        "class BasicOptim:\n",
        "  def __init__(self, params, lr): self.params,self.lr = list(params), lr\n",
        "\n",
        "  def step(self, *args, **kwargs):\n",
        "    for p in self.params: p.data -= p.grad.data * self.lr\n",
        "  \n",
        "  def zero_grad(self, *args, **kwargs):\n",
        "    for p in self.params: p.grad = None\n",
        "\n",
        "opt = BasicOptim(linear_model.parameters(), lr) #Create optimizer instance\n",
        "\n",
        "#we can now simplify our training loop\n",
        "def train_epoch(model):\n",
        "  for xb, yb in dl:\n",
        "    calc_grad(xb, yb, model)\n",
        "    opt.step()\n",
        "    opt.zero_grad()\n",
        "#Our validation func still works\n",
        "validate_epoch(linear_model)"
      ],
      "metadata": {
        "colab": {
          "base_uri": "https://localhost:8080/"
        },
        "id": "3aNCoQvW5chf",
        "outputId": "c357a3a9-7e7a-4c91-c308-6ab71d54a33b"
      },
      "execution_count": 250,
      "outputs": [
        {
          "output_type": "execute_result",
          "data": {
            "text/plain": [
              "0.4594"
            ]
          },
          "metadata": {},
          "execution_count": 250
        }
      ]
    },
    {
      "cell_type": "code",
      "source": [
        "def train_model(model, epochs):\n",
        "  for i in range(epochs):\n",
        "    train_epoch(model)\n",
        "    print(validate_epoch(model), end=' ')\n",
        "#Results are the same\n",
        "train_model(linear_model, 20)"
      ],
      "metadata": {
        "colab": {
          "base_uri": "https://localhost:8080/"
        },
        "id": "c1h-0IBX7ccY",
        "outputId": "192123be-2d76-4e85-8112-67247f0b693c"
      },
      "execution_count": 251,
      "outputs": [
        {
          "output_type": "stream",
          "name": "stdout",
          "text": [
            "0.5079 0.5379 0.5659 0.591 0.6332 0.6707 0.7071 0.742 0.781 0.7992 0.8224 0.8402 0.8535 0.8663 0.8771 0.8835 0.8919 0.8964 0.9053 0.9082 "
          ]
        }
      ]
    },
    {
      "cell_type": "code",
      "source": [
        "#fastAI provides SGD class that does the same thing as BasicOptim\n",
        "linear_model = nn.Linear(28*28,1)\n",
        "opt = SGD(linear_model.parameters(), lr)\n",
        "train_model(linear_model, 20)\n",
        "#fastAI also provides a Learner.fit which we can use to replace train_model\n",
        "dls = DataLoaders(dl, valid_dl)\n",
        "learn = Learner(dls, nn.Linear(28*28,1), opt_func=SGD, loss_func=mnist_loss, metrics=batch_accuracy)\n",
        "learn.fit(10, lr=lr)"
      ],
      "metadata": {
        "colab": {
          "base_uri": "https://localhost:8080/",
          "height": 380
        },
        "id": "rR53eQz78elN",
        "outputId": "bd676ef8-5d86-4701-c65d-7e19c61b0e6d"
      },
      "execution_count": 253,
      "outputs": [
        {
          "output_type": "stream",
          "name": "stdout",
          "text": [
            "0.5392 0.6049 0.6772 0.7344 0.7994 0.8419 0.881 0.901 0.9162 0.9274 0.9372 0.9426 0.9446 0.9485 0.949 0.9509 0.9524 0.9529 0.9529 0.9539 "
          ]
        },
        {
          "output_type": "display_data",
          "data": {
            "text/plain": [
              "<IPython.core.display.HTML object>"
            ],
            "text/html": [
              "\n",
              "<style>\n",
              "    /* Turns off some styling */\n",
              "    progress {\n",
              "        /* gets rid of default border in Firefox and Opera. */\n",
              "        border: none;\n",
              "        /* Needs to be in here for Safari polyfill so background images work as expected. */\n",
              "        background-size: auto;\n",
              "    }\n",
              "    .progress-bar-interrupted, .progress-bar-interrupted::-webkit-progress-bar {\n",
              "        background: #F44336;\n",
              "    }\n",
              "</style>\n"
            ]
          },
          "metadata": {}
        },
        {
          "output_type": "display_data",
          "data": {
            "text/plain": [
              "<IPython.core.display.HTML object>"
            ],
            "text/html": [
              "<table border=\"1\" class=\"dataframe\">\n",
              "  <thead>\n",
              "    <tr style=\"text-align: left;\">\n",
              "      <th>epoch</th>\n",
              "      <th>train_loss</th>\n",
              "      <th>valid_loss</th>\n",
              "      <th>batch_accuracy</th>\n",
              "      <th>time</th>\n",
              "    </tr>\n",
              "  </thead>\n",
              "  <tbody>\n",
              "    <tr>\n",
              "      <td>0</td>\n",
              "      <td>0.336087</td>\n",
              "      <td>0.450501</td>\n",
              "      <td>0.645731</td>\n",
              "      <td>00:00</td>\n",
              "    </tr>\n",
              "    <tr>\n",
              "      <td>1</td>\n",
              "      <td>0.313450</td>\n",
              "      <td>0.416870</td>\n",
              "      <td>0.737488</td>\n",
              "      <td>00:00</td>\n",
              "    </tr>\n",
              "    <tr>\n",
              "      <td>2</td>\n",
              "      <td>0.287311</td>\n",
              "      <td>0.383238</td>\n",
              "      <td>0.800785</td>\n",
              "      <td>00:00</td>\n",
              "    </tr>\n",
              "    <tr>\n",
              "      <td>3</td>\n",
              "      <td>0.258886</td>\n",
              "      <td>0.349606</td>\n",
              "      <td>0.846418</td>\n",
              "      <td>00:00</td>\n",
              "    </tr>\n",
              "    <tr>\n",
              "      <td>4</td>\n",
              "      <td>0.229143</td>\n",
              "      <td>0.315975</td>\n",
              "      <td>0.880275</td>\n",
              "      <td>00:00</td>\n",
              "    </tr>\n",
              "    <tr>\n",
              "      <td>5</td>\n",
              "      <td>0.198710</td>\n",
              "      <td>0.282343</td>\n",
              "      <td>0.896958</td>\n",
              "      <td>00:00</td>\n",
              "    </tr>\n",
              "    <tr>\n",
              "      <td>6</td>\n",
              "      <td>0.167939</td>\n",
              "      <td>0.248711</td>\n",
              "      <td>0.906281</td>\n",
              "      <td>00:00</td>\n",
              "    </tr>\n",
              "    <tr>\n",
              "      <td>7</td>\n",
              "      <td>0.137012</td>\n",
              "      <td>0.215080</td>\n",
              "      <td>0.919038</td>\n",
              "      <td>00:00</td>\n",
              "    </tr>\n",
              "    <tr>\n",
              "      <td>8</td>\n",
              "      <td>0.106015</td>\n",
              "      <td>0.181448</td>\n",
              "      <td>0.925908</td>\n",
              "      <td>00:00</td>\n",
              "    </tr>\n",
              "    <tr>\n",
              "      <td>9</td>\n",
              "      <td>0.074988</td>\n",
              "      <td>0.147816</td>\n",
              "      <td>0.935231</td>\n",
              "      <td>00:00</td>\n",
              "    </tr>\n",
              "  </tbody>\n",
              "</table>"
            ]
          },
          "metadata": {}
        }
      ]
    },
    {
      "cell_type": "code",
      "source": [
        "#Now we want to add nonlinearity so we will create a simple neural network\n",
        "def simple_net(xb):\n",
        "  res = xb@w1 + b1\n",
        "  res = res.max(tensor(0.0)) #replace all neg vals with 0\n",
        "  res = res@w2 + b2\n",
        "  return res\n",
        "#Where w1,w2 are weights and b1,b2 are biases\n",
        "num_features = 30\n",
        "w1 = init_params((28*28,num_features))\n",
        "b1 = init_params((num_features))\n",
        "w2 = init_params((num_features,1))\n",
        "b2 = init_params(1)"
      ],
      "metadata": {
        "id": "C6U66K8691UH"
      },
      "execution_count": 257,
      "outputs": []
    },
    {
      "cell_type": "code",
      "source": [
        "#Again we can simplify with PyTorch\n",
        "simple_net = nn.Sequential(\n",
        "    nn.Linear(28*28,num_features),\n",
        "    nn.ReLU(), #No negatives\n",
        "    nn.Linear(num_features, 1)\n",
        ")"
      ],
      "metadata": {
        "id": "rb-5qMYN_qpJ"
      },
      "execution_count": 258,
      "outputs": []
    },
    {
      "cell_type": "code",
      "source": [
        "learn = Learner(dls, simple_net, opt_func=SGD, loss_func=mnist_loss, metrics=batch_accuracy)\n",
        "learn.fit(50, .0001)"
      ],
      "metadata": {
        "colab": {
          "base_uri": "https://localhost:8080/",
          "height": 1000
        },
        "id": "Sgw7eN0eAD6c",
        "outputId": "4f1769c9-15ae-4179-931d-d578a5989209"
      },
      "execution_count": 259,
      "outputs": [
        {
          "output_type": "display_data",
          "data": {
            "text/plain": [
              "<IPython.core.display.HTML object>"
            ],
            "text/html": [
              "\n",
              "<style>\n",
              "    /* Turns off some styling */\n",
              "    progress {\n",
              "        /* gets rid of default border in Firefox and Opera. */\n",
              "        border: none;\n",
              "        /* Needs to be in here for Safari polyfill so background images work as expected. */\n",
              "        background-size: auto;\n",
              "    }\n",
              "    .progress-bar-interrupted, .progress-bar-interrupted::-webkit-progress-bar {\n",
              "        background: #F44336;\n",
              "    }\n",
              "</style>\n"
            ]
          },
          "metadata": {}
        },
        {
          "output_type": "display_data",
          "data": {
            "text/plain": [
              "<IPython.core.display.HTML object>"
            ],
            "text/html": [
              "<table border=\"1\" class=\"dataframe\">\n",
              "  <thead>\n",
              "    <tr style=\"text-align: left;\">\n",
              "      <th>epoch</th>\n",
              "      <th>train_loss</th>\n",
              "      <th>valid_loss</th>\n",
              "      <th>batch_accuracy</th>\n",
              "      <th>time</th>\n",
              "    </tr>\n",
              "  </thead>\n",
              "  <tbody>\n",
              "    <tr>\n",
              "      <td>0</td>\n",
              "      <td>0.362916</td>\n",
              "      <td>0.492412</td>\n",
              "      <td>0.519627</td>\n",
              "      <td>00:00</td>\n",
              "    </tr>\n",
              "    <tr>\n",
              "      <td>1</td>\n",
              "      <td>0.359384</td>\n",
              "      <td>0.487226</td>\n",
              "      <td>0.566732</td>\n",
              "      <td>00:00</td>\n",
              "    </tr>\n",
              "    <tr>\n",
              "      <td>2</td>\n",
              "      <td>0.355287</td>\n",
              "      <td>0.482020</td>\n",
              "      <td>0.607949</td>\n",
              "      <td>00:00</td>\n",
              "    </tr>\n",
              "    <tr>\n",
              "      <td>3</td>\n",
              "      <td>0.350806</td>\n",
              "      <td>0.476796</td>\n",
              "      <td>0.656526</td>\n",
              "      <td>00:00</td>\n",
              "    </tr>\n",
              "    <tr>\n",
              "      <td>4</td>\n",
              "      <td>0.346091</td>\n",
              "      <td>0.471558</td>\n",
              "      <td>0.692836</td>\n",
              "      <td>00:00</td>\n",
              "    </tr>\n",
              "    <tr>\n",
              "      <td>5</td>\n",
              "      <td>0.341238</td>\n",
              "      <td>0.466298</td>\n",
              "      <td>0.728656</td>\n",
              "      <td>00:00</td>\n",
              "    </tr>\n",
              "    <tr>\n",
              "      <td>6</td>\n",
              "      <td>0.336298</td>\n",
              "      <td>0.461019</td>\n",
              "      <td>0.752208</td>\n",
              "      <td>00:00</td>\n",
              "    </tr>\n",
              "    <tr>\n",
              "      <td>7</td>\n",
              "      <td>0.331299</td>\n",
              "      <td>0.455715</td>\n",
              "      <td>0.774779</td>\n",
              "      <td>00:00</td>\n",
              "    </tr>\n",
              "    <tr>\n",
              "      <td>8</td>\n",
              "      <td>0.326253</td>\n",
              "      <td>0.450386</td>\n",
              "      <td>0.796369</td>\n",
              "      <td>00:00</td>\n",
              "    </tr>\n",
              "    <tr>\n",
              "      <td>9</td>\n",
              "      <td>0.321159</td>\n",
              "      <td>0.445016</td>\n",
              "      <td>0.814524</td>\n",
              "      <td>00:00</td>\n",
              "    </tr>\n",
              "    <tr>\n",
              "      <td>10</td>\n",
              "      <td>0.316013</td>\n",
              "      <td>0.439621</td>\n",
              "      <td>0.827772</td>\n",
              "      <td>00:00</td>\n",
              "    </tr>\n",
              "    <tr>\n",
              "      <td>11</td>\n",
              "      <td>0.310811</td>\n",
              "      <td>0.434192</td>\n",
              "      <td>0.843965</td>\n",
              "      <td>00:00</td>\n",
              "    </tr>\n",
              "    <tr>\n",
              "      <td>12</td>\n",
              "      <td>0.305553</td>\n",
              "      <td>0.428727</td>\n",
              "      <td>0.856722</td>\n",
              "      <td>00:00</td>\n",
              "    </tr>\n",
              "    <tr>\n",
              "      <td>13</td>\n",
              "      <td>0.300241</td>\n",
              "      <td>0.423224</td>\n",
              "      <td>0.867027</td>\n",
              "      <td>00:00</td>\n",
              "    </tr>\n",
              "    <tr>\n",
              "      <td>14</td>\n",
              "      <td>0.294870</td>\n",
              "      <td>0.417680</td>\n",
              "      <td>0.877331</td>\n",
              "      <td>00:00</td>\n",
              "    </tr>\n",
              "    <tr>\n",
              "      <td>15</td>\n",
              "      <td>0.289436</td>\n",
              "      <td>0.412089</td>\n",
              "      <td>0.886654</td>\n",
              "      <td>00:00</td>\n",
              "    </tr>\n",
              "    <tr>\n",
              "      <td>16</td>\n",
              "      <td>0.283931</td>\n",
              "      <td>0.406444</td>\n",
              "      <td>0.892542</td>\n",
              "      <td>00:00</td>\n",
              "    </tr>\n",
              "    <tr>\n",
              "      <td>17</td>\n",
              "      <td>0.278352</td>\n",
              "      <td>0.400739</td>\n",
              "      <td>0.897448</td>\n",
              "      <td>00:00</td>\n",
              "    </tr>\n",
              "    <tr>\n",
              "      <td>18</td>\n",
              "      <td>0.272692</td>\n",
              "      <td>0.394970</td>\n",
              "      <td>0.901374</td>\n",
              "      <td>00:00</td>\n",
              "    </tr>\n",
              "    <tr>\n",
              "      <td>19</td>\n",
              "      <td>0.266942</td>\n",
              "      <td>0.389139</td>\n",
              "      <td>0.905299</td>\n",
              "      <td>00:00</td>\n",
              "    </tr>\n",
              "    <tr>\n",
              "      <td>20</td>\n",
              "      <td>0.261102</td>\n",
              "      <td>0.383253</td>\n",
              "      <td>0.908243</td>\n",
              "      <td>00:00</td>\n",
              "    </tr>\n",
              "    <tr>\n",
              "      <td>21</td>\n",
              "      <td>0.255172</td>\n",
              "      <td>0.377293</td>\n",
              "      <td>0.911187</td>\n",
              "      <td>00:00</td>\n",
              "    </tr>\n",
              "    <tr>\n",
              "      <td>22</td>\n",
              "      <td>0.249149</td>\n",
              "      <td>0.371257</td>\n",
              "      <td>0.913641</td>\n",
              "      <td>00:00</td>\n",
              "    </tr>\n",
              "    <tr>\n",
              "      <td>23</td>\n",
              "      <td>0.243033</td>\n",
              "      <td>0.365154</td>\n",
              "      <td>0.916585</td>\n",
              "      <td>00:00</td>\n",
              "    </tr>\n",
              "    <tr>\n",
              "      <td>24</td>\n",
              "      <td>0.236825</td>\n",
              "      <td>0.358979</td>\n",
              "      <td>0.920020</td>\n",
              "      <td>00:00</td>\n",
              "    </tr>\n",
              "    <tr>\n",
              "      <td>25</td>\n",
              "      <td>0.230527</td>\n",
              "      <td>0.352729</td>\n",
              "      <td>0.921492</td>\n",
              "      <td>00:00</td>\n",
              "    </tr>\n",
              "    <tr>\n",
              "      <td>26</td>\n",
              "      <td>0.224135</td>\n",
              "      <td>0.346399</td>\n",
              "      <td>0.923454</td>\n",
              "      <td>00:00</td>\n",
              "    </tr>\n",
              "    <tr>\n",
              "      <td>27</td>\n",
              "      <td>0.217650</td>\n",
              "      <td>0.339987</td>\n",
              "      <td>0.928852</td>\n",
              "      <td>00:00</td>\n",
              "    </tr>\n",
              "    <tr>\n",
              "      <td>28</td>\n",
              "      <td>0.211073</td>\n",
              "      <td>0.333490</td>\n",
              "      <td>0.929833</td>\n",
              "      <td>00:00</td>\n",
              "    </tr>\n",
              "    <tr>\n",
              "      <td>29</td>\n",
              "      <td>0.204400</td>\n",
              "      <td>0.326904</td>\n",
              "      <td>0.930324</td>\n",
              "      <td>00:00</td>\n",
              "    </tr>\n",
              "    <tr>\n",
              "      <td>30</td>\n",
              "      <td>0.197631</td>\n",
              "      <td>0.320227</td>\n",
              "      <td>0.932287</td>\n",
              "      <td>00:00</td>\n",
              "    </tr>\n",
              "    <tr>\n",
              "      <td>31</td>\n",
              "      <td>0.190763</td>\n",
              "      <td>0.313457</td>\n",
              "      <td>0.933759</td>\n",
              "      <td>00:00</td>\n",
              "    </tr>\n",
              "    <tr>\n",
              "      <td>32</td>\n",
              "      <td>0.183797</td>\n",
              "      <td>0.306596</td>\n",
              "      <td>0.934249</td>\n",
              "      <td>00:00</td>\n",
              "    </tr>\n",
              "    <tr>\n",
              "      <td>33</td>\n",
              "      <td>0.176732</td>\n",
              "      <td>0.299634</td>\n",
              "      <td>0.935721</td>\n",
              "      <td>00:00</td>\n",
              "    </tr>\n",
              "    <tr>\n",
              "      <td>34</td>\n",
              "      <td>0.169560</td>\n",
              "      <td>0.292576</td>\n",
              "      <td>0.936212</td>\n",
              "      <td>00:00</td>\n",
              "    </tr>\n",
              "    <tr>\n",
              "      <td>35</td>\n",
              "      <td>0.162278</td>\n",
              "      <td>0.285408</td>\n",
              "      <td>0.936703</td>\n",
              "      <td>00:00</td>\n",
              "    </tr>\n",
              "    <tr>\n",
              "      <td>36</td>\n",
              "      <td>0.154881</td>\n",
              "      <td>0.278131</td>\n",
              "      <td>0.936703</td>\n",
              "      <td>00:00</td>\n",
              "    </tr>\n",
              "    <tr>\n",
              "      <td>37</td>\n",
              "      <td>0.147370</td>\n",
              "      <td>0.270738</td>\n",
              "      <td>0.937193</td>\n",
              "      <td>00:00</td>\n",
              "    </tr>\n",
              "    <tr>\n",
              "      <td>38</td>\n",
              "      <td>0.139738</td>\n",
              "      <td>0.263223</td>\n",
              "      <td>0.938175</td>\n",
              "      <td>00:00</td>\n",
              "    </tr>\n",
              "    <tr>\n",
              "      <td>39</td>\n",
              "      <td>0.131978</td>\n",
              "      <td>0.255586</td>\n",
              "      <td>0.939647</td>\n",
              "      <td>00:00</td>\n",
              "    </tr>\n",
              "    <tr>\n",
              "      <td>40</td>\n",
              "      <td>0.124090</td>\n",
              "      <td>0.247819</td>\n",
              "      <td>0.940137</td>\n",
              "      <td>00:00</td>\n",
              "    </tr>\n",
              "    <tr>\n",
              "      <td>41</td>\n",
              "      <td>0.116069</td>\n",
              "      <td>0.239921</td>\n",
              "      <td>0.941119</td>\n",
              "      <td>00:00</td>\n",
              "    </tr>\n",
              "    <tr>\n",
              "      <td>42</td>\n",
              "      <td>0.107909</td>\n",
              "      <td>0.231883</td>\n",
              "      <td>0.942100</td>\n",
              "      <td>00:00</td>\n",
              "    </tr>\n",
              "    <tr>\n",
              "      <td>43</td>\n",
              "      <td>0.099604</td>\n",
              "      <td>0.223702</td>\n",
              "      <td>0.943572</td>\n",
              "      <td>00:00</td>\n",
              "    </tr>\n",
              "    <tr>\n",
              "      <td>44</td>\n",
              "      <td>0.091150</td>\n",
              "      <td>0.215371</td>\n",
              "      <td>0.943572</td>\n",
              "      <td>00:00</td>\n",
              "    </tr>\n",
              "    <tr>\n",
              "      <td>45</td>\n",
              "      <td>0.082541</td>\n",
              "      <td>0.206887</td>\n",
              "      <td>0.945044</td>\n",
              "      <td>00:00</td>\n",
              "    </tr>\n",
              "    <tr>\n",
              "      <td>46</td>\n",
              "      <td>0.073774</td>\n",
              "      <td>0.198247</td>\n",
              "      <td>0.945044</td>\n",
              "      <td>00:00</td>\n",
              "    </tr>\n",
              "    <tr>\n",
              "      <td>47</td>\n",
              "      <td>0.064840</td>\n",
              "      <td>0.189441</td>\n",
              "      <td>0.945535</td>\n",
              "      <td>00:00</td>\n",
              "    </tr>\n",
              "    <tr>\n",
              "      <td>48</td>\n",
              "      <td>0.055735</td>\n",
              "      <td>0.180466</td>\n",
              "      <td>0.945535</td>\n",
              "      <td>00:00</td>\n",
              "    </tr>\n",
              "    <tr>\n",
              "      <td>49</td>\n",
              "      <td>0.046451</td>\n",
              "      <td>0.171311</td>\n",
              "      <td>0.945044</td>\n",
              "      <td>00:00</td>\n",
              "    </tr>\n",
              "  </tbody>\n",
              "</table>"
            ]
          },
          "metadata": {}
        }
      ]
    },
    {
      "cell_type": "code",
      "source": [
        "#It's not common to only have a few layers\n",
        "#With more layers you can use less parameters (faster) and thus get better results\n",
        "#Below is an example with 18 layers\n",
        "dls = ImageDataLoaders.from_folder(path)\n",
        "learn = cnn_learner(dls, resnet18, pretrained=False, loss_func=F.cross_entropy, metrics=accuracy)\n",
        "learn.fit_one_cycle(1, .01)"
      ],
      "metadata": {
        "colab": {
          "base_uri": "https://localhost:8080/",
          "height": 115
        },
        "id": "2UHnBs8zA0k8",
        "outputId": "b48ee123-866e-4a59-9a50-1a17d363c752"
      },
      "execution_count": 260,
      "outputs": [
        {
          "output_type": "stream",
          "name": "stderr",
          "text": [
            "/usr/local/lib/python3.7/dist-packages/fastai/vision/learner.py:265: UserWarning: `cnn_learner` has been renamed to `vision_learner` -- please update your code\n",
            "  warn(\"`cnn_learner` has been renamed to `vision_learner` -- please update your code\")\n"
          ]
        },
        {
          "output_type": "display_data",
          "data": {
            "text/plain": [
              "<IPython.core.display.HTML object>"
            ],
            "text/html": [
              "\n",
              "<style>\n",
              "    /* Turns off some styling */\n",
              "    progress {\n",
              "        /* gets rid of default border in Firefox and Opera. */\n",
              "        border: none;\n",
              "        /* Needs to be in here for Safari polyfill so background images work as expected. */\n",
              "        background-size: auto;\n",
              "    }\n",
              "    .progress-bar-interrupted, .progress-bar-interrupted::-webkit-progress-bar {\n",
              "        background: #F44336;\n",
              "    }\n",
              "</style>\n"
            ]
          },
          "metadata": {}
        },
        {
          "output_type": "display_data",
          "data": {
            "text/plain": [
              "<IPython.core.display.HTML object>"
            ],
            "text/html": [
              "<table border=\"1\" class=\"dataframe\">\n",
              "  <thead>\n",
              "    <tr style=\"text-align: left;\">\n",
              "      <th>epoch</th>\n",
              "      <th>train_loss</th>\n",
              "      <th>valid_loss</th>\n",
              "      <th>accuracy</th>\n",
              "      <th>time</th>\n",
              "    </tr>\n",
              "  </thead>\n",
              "  <tbody>\n",
              "    <tr>\n",
              "      <td>0</td>\n",
              "      <td>0.050413</td>\n",
              "      <td>0.012762</td>\n",
              "      <td>0.995584</td>\n",
              "      <td>00:17</td>\n",
              "    </tr>\n",
              "  </tbody>\n",
              "</table>"
            ]
          },
          "metadata": {}
        }
      ]
    }
  ]
}