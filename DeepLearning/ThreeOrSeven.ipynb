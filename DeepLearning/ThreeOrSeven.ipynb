{
  "nbformat": 4,
  "nbformat_minor": 0,
  "metadata": {
    "colab": {
      "name": "ThreeOrSeven.ipynb",
      "provenance": [],
      "authorship_tag": "ABX9TyNUVxIOMvrCoecyXDt6cpCu",
      "include_colab_link": true
    },
    "kernelspec": {
      "name": "python3",
      "display_name": "Python 3"
    },
    "language_info": {
      "name": "python"
    },
    "accelerator": "GPU"
  },
  "cells": [
    {
      "cell_type": "markdown",
      "metadata": {
        "id": "view-in-github",
        "colab_type": "text"
      },
      "source": [
        "<a href=\"https://colab.research.google.com/github/steimel60/ML/blob/main/DeepLearning/ThreeOrSeven.ipynb\" target=\"_parent\"><img src=\"https://colab.research.google.com/assets/colab-badge.svg\" alt=\"Open In Colab\"/></a>"
      ]
    },
    {
      "cell_type": "code",
      "execution_count": 1,
      "metadata": {
        "colab": {
          "base_uri": "https://localhost:8080/"
        },
        "id": "IKmxXHdqQggi",
        "outputId": "6f498a17-ef87-40cf-a604-be35a68eab43"
      },
      "outputs": [
        {
          "output_type": "stream",
          "name": "stdout",
          "text": [
            "\u001b[K     |████████████████████████████████| 719 kB 4.8 MB/s \n",
            "\u001b[K     |████████████████████████████████| 1.2 MB 34.8 MB/s \n",
            "\u001b[K     |████████████████████████████████| 197 kB 62.3 MB/s \n",
            "\u001b[K     |████████████████████████████████| 4.2 MB 51.7 MB/s \n",
            "\u001b[K     |████████████████████████████████| 346 kB 72.8 MB/s \n",
            "\u001b[K     |████████████████████████████████| 59 kB 8.8 MB/s \n",
            "\u001b[K     |████████████████████████████████| 84 kB 4.2 MB/s \n",
            "\u001b[K     |████████████████████████████████| 212 kB 71.3 MB/s \n",
            "\u001b[K     |████████████████████████████████| 140 kB 72.3 MB/s \n",
            "\u001b[K     |████████████████████████████████| 1.1 MB 53.8 MB/s \n",
            "\u001b[K     |████████████████████████████████| 127 kB 73.4 MB/s \n",
            "\u001b[K     |████████████████████████████████| 271 kB 68.8 MB/s \n",
            "\u001b[K     |████████████████████████████████| 94 kB 4.0 MB/s \n",
            "\u001b[K     |████████████████████████████████| 144 kB 77.5 MB/s \n",
            "\u001b[K     |████████████████████████████████| 6.6 MB 55.8 MB/s \n",
            "\u001b[K     |████████████████████████████████| 596 kB 60.5 MB/s \n",
            "\u001b[31mERROR: pip's dependency resolver does not currently take into account all the packages that are installed. This behaviour is the source of the following dependency conflicts.\n",
            "datascience 0.10.6 requires folium==0.2.1, but you have folium 0.8.3 which is incompatible.\u001b[0m\n",
            "\u001b[?25hMounted at /content/gdrive\n"
          ]
        }
      ],
      "source": [
        "!pip install -Uqq fastbook\n",
        "import fastbook\n",
        "fastbook.setup_book()\n",
        "from fastbook import *"
      ]
    },
    {
      "cell_type": "code",
      "source": [
        "#Load in images of 3s and 7s\n",
        "path = untar_data(URLs.MNIST_SAMPLE)\n",
        "#List things in the path\n",
        "path.ls()"
      ],
      "metadata": {
        "colab": {
          "base_uri": "https://localhost:8080/",
          "height": 54
        },
        "id": "Jl43aZ1GRFPn",
        "outputId": "6ba3a931-3e06-4009-e118-95922668c6ba"
      },
      "execution_count": 2,
      "outputs": [
        {
          "output_type": "display_data",
          "data": {
            "text/plain": [
              "<IPython.core.display.HTML object>"
            ],
            "text/html": [
              "\n",
              "<style>\n",
              "    /* Turns off some styling */\n",
              "    progress {\n",
              "        /* gets rid of default border in Firefox and Opera. */\n",
              "        border: none;\n",
              "        /* Needs to be in here for Safari polyfill so background images work as expected. */\n",
              "        background-size: auto;\n",
              "    }\n",
              "    .progress-bar-interrupted, .progress-bar-interrupted::-webkit-progress-bar {\n",
              "        background: #F44336;\n",
              "    }\n",
              "</style>\n"
            ]
          },
          "metadata": {}
        },
        {
          "output_type": "display_data",
          "data": {
            "text/plain": [
              "<IPython.core.display.HTML object>"
            ],
            "text/html": [
              "\n",
              "    <div>\n",
              "      <progress value='3219456' class='' max='3214948' style='width:300px; height:20px; vertical-align: middle;'></progress>\n",
              "      100.14% [3219456/3214948 00:00<00:00]\n",
              "    </div>\n",
              "    "
            ]
          },
          "metadata": {}
        },
        {
          "output_type": "execute_result",
          "data": {
            "text/plain": [
              "(#3) [Path('/root/.fastai/data/mnist_sample/train'),Path('/root/.fastai/data/mnist_sample/valid'),Path('/root/.fastai/data/mnist_sample/labels.csv')]"
            ]
          },
          "metadata": {},
          "execution_count": 2
        }
      ]
    },
    {
      "cell_type": "code",
      "source": [
        "#Get image paths for 3s and 7s\n",
        "threes = (path/'train'/'3').ls().sorted()\n",
        "sevens = (path/'train'/'7').ls().sorted()\n",
        "threes"
      ],
      "metadata": {
        "colab": {
          "base_uri": "https://localhost:8080/"
        },
        "id": "LMv_i_fhRrC_",
        "outputId": "d066c0d4-ce20-4d2f-a9d0-c8ecc7fe78fe"
      },
      "execution_count": 3,
      "outputs": [
        {
          "output_type": "execute_result",
          "data": {
            "text/plain": [
              "(#6131) [Path('/root/.fastai/data/mnist_sample/train/3/10.png'),Path('/root/.fastai/data/mnist_sample/train/3/10000.png'),Path('/root/.fastai/data/mnist_sample/train/3/10011.png'),Path('/root/.fastai/data/mnist_sample/train/3/10031.png'),Path('/root/.fastai/data/mnist_sample/train/3/10034.png'),Path('/root/.fastai/data/mnist_sample/train/3/10042.png'),Path('/root/.fastai/data/mnist_sample/train/3/10052.png'),Path('/root/.fastai/data/mnist_sample/train/3/1007.png'),Path('/root/.fastai/data/mnist_sample/train/3/10074.png'),Path('/root/.fastai/data/mnist_sample/train/3/10091.png')...]"
            ]
          },
          "metadata": {},
          "execution_count": 3
        }
      ]
    },
    {
      "cell_type": "code",
      "source": [
        "#Show image\n",
        "im3_path = threes[1]\n",
        "im3 = Image.open(im3_path)\n",
        "im3"
      ],
      "metadata": {
        "colab": {
          "base_uri": "https://localhost:8080/",
          "height": 45
        },
        "id": "W6SorNYWSCFD",
        "outputId": "896e15c6-0a1b-467b-afca-1074c268e31b"
      },
      "execution_count": 4,
      "outputs": [
        {
          "output_type": "execute_result",
          "data": {
            "text/plain": [
              "<PIL.PngImagePlugin.PngImageFile image mode=L size=28x28 at 0x7F0F650A5850>"
            ],
            "image/png": "[encoded data removed]"
          },
          "metadata": {},
          "execution_count": 4
        }
      ]
    },
    {
      "cell_type": "code",
      "source": [
        "#Image data can be represented in arrays\n",
        "#Here is our image in a numpy array - showing rows and cols 4 through 10\n",
        "array(im3)[4:10,4:10]"
      ],
      "metadata": {
        "colab": {
          "base_uri": "https://localhost:8080/"
        },
        "id": "1-KxWmSgSWau",
        "outputId": "570caf0e-61ab-443c-87bd-73565cadfe42"
      },
      "execution_count": 5,
      "outputs": [
        {
          "output_type": "execute_result",
          "data": {
            "text/plain": [
              "array([[  0,   0,   0,   0,   0,   0],\n",
              "       [  0,   0,   0,   0,   0,  29],\n",
              "       [  0,   0,   0,  48, 166, 224],\n",
              "       [  0,  93, 244, 249, 253, 187],\n",
              "       [  0, 107, 253, 253, 230,  48],\n",
              "       [  0,   3,  20,  20,  15,   0]], dtype=uint8)"
            ]
          },
          "metadata": {},
          "execution_count": 5
        }
      ]
    },
    {
      "cell_type": "code",
      "source": [
        "#And now as a PyTorch Tensor\n",
        "tensor(im3)[4:10,4:10]"
      ],
      "metadata": {
        "colab": {
          "base_uri": "https://localhost:8080/"
        },
        "id": "Mamcbcq3Smau",
        "outputId": "af611bfb-048d-4614-ea47-78d113a9a7c7"
      },
      "execution_count": 6,
      "outputs": [
        {
          "output_type": "execute_result",
          "data": {
            "text/plain": [
              "tensor([[  0,   0,   0,   0,   0,   0],\n",
              "        [  0,   0,   0,   0,   0,  29],\n",
              "        [  0,   0,   0,  48, 166, 224],\n",
              "        [  0,  93, 244, 249, 253, 187],\n",
              "        [  0, 107, 253, 253, 230,  48],\n",
              "        [  0,   3,  20,  20,  15,   0]], dtype=torch.uint8)"
            ]
          },
          "metadata": {},
          "execution_count": 6
        }
      ]
    },
    {
      "cell_type": "code",
      "source": [
        "#Use pandas to color code the values, giving us a better representation\n",
        "im3_t = tensor(im3)\n",
        "df = pd.DataFrame(im3_t[4:15,4:22])\n",
        "df.style.set_properties(**{'font-size':'6pt'}).background_gradient('Greys')"
      ],
      "metadata": {
        "colab": {
          "base_uri": "https://localhost:8080/",
          "height": 394
        },
        "id": "bzx2juYUSvBG",
        "outputId": "488c2220-e53d-4145-a660-a07fe5ef5a51"
      },
      "execution_count": 7,
      "outputs": [
        {
          "output_type": "execute_result",
          "data": {
            "text/plain": [
              "<pandas.io.formats.style.Styler at 0x7f0f64a97f90>"
            ],
            "text/html": [
              "<style type=\"text/css\">\n",
              "#T_ea7dc_row0_col0, #T_ea7dc_row0_col1, #T_ea7dc_row0_col2, #T_ea7dc_row0_col3, #T_ea7dc_row0_col4, #T_ea7dc_row0_col5, #T_ea7dc_row0_col6, #T_ea7dc_row0_col7, #T_ea7dc_row0_col8, #T_ea7dc_row0_col9, #T_ea7dc_row0_col10, #T_ea7dc_row0_col11, #T_ea7dc_row0_col12, #T_ea7dc_row0_col13, #T_ea7dc_row0_col14, #T_ea7dc_row0_col15, #T_ea7dc_row0_col16, #T_ea7dc_row0_col17, #T_ea7dc_row1_col0, #T_ea7dc_row1_col1, #T_ea7dc_row1_col2, #T_ea7dc_row1_col3, #T_ea7dc_row1_col4, #T_ea7dc_row1_col15, #T_ea7dc_row1_col16, #T_ea7dc_row1_col17, #T_ea7dc_row2_col0, #T_ea7dc_row2_col1, #T_ea7dc_row2_col2, #T_ea7dc_row2_col15, #T_ea7dc_row2_col16, #T_ea7dc_row2_col17, #T_ea7dc_row3_col0, #T_ea7dc_row3_col15, #T_ea7dc_row3_col16, #T_ea7dc_row3_col17, #T_ea7dc_row4_col0, #T_ea7dc_row4_col6, #T_ea7dc_row4_col7, #T_ea7dc_row4_col8, #T_ea7dc_row4_col9, #T_ea7dc_row4_col10, #T_ea7dc_row4_col15, #T_ea7dc_row4_col16, #T_ea7dc_row4_col17, #T_ea7dc_row5_col0, #T_ea7dc_row5_col5, #T_ea7dc_row5_col6, #T_ea7dc_row5_col7, #T_ea7dc_row5_col8, #T_ea7dc_row5_col9, #T_ea7dc_row5_col15, #T_ea7dc_row5_col16, #T_ea7dc_row5_col17, #T_ea7dc_row6_col0, #T_ea7dc_row6_col1, #T_ea7dc_row6_col2, #T_ea7dc_row6_col3, #T_ea7dc_row6_col4, #T_ea7dc_row6_col5, #T_ea7dc_row6_col6, #T_ea7dc_row6_col7, #T_ea7dc_row6_col8, #T_ea7dc_row6_col9, #T_ea7dc_row6_col14, #T_ea7dc_row6_col15, #T_ea7dc_row6_col16, #T_ea7dc_row6_col17, #T_ea7dc_row7_col0, #T_ea7dc_row7_col1, #T_ea7dc_row7_col2, #T_ea7dc_row7_col3, #T_ea7dc_row7_col4, #T_ea7dc_row7_col5, #T_ea7dc_row7_col6, #T_ea7dc_row7_col13, #T_ea7dc_row7_col14, #T_ea7dc_row7_col15, #T_ea7dc_row7_col16, #T_ea7dc_row7_col17, #T_ea7dc_row8_col0, #T_ea7dc_row8_col1, #T_ea7dc_row8_col2, #T_ea7dc_row8_col3, #T_ea7dc_row8_col4, #T_ea7dc_row8_col13, #T_ea7dc_row8_col14, #T_ea7dc_row8_col15, #T_ea7dc_row8_col16, #T_ea7dc_row8_col17, #T_ea7dc_row9_col0, #T_ea7dc_row9_col1, #T_ea7dc_row9_col2, #T_ea7dc_row9_col3, #T_ea7dc_row9_col4, #T_ea7dc_row9_col16, #T_ea7dc_row9_col17, #T_ea7dc_row10_col0, #T_ea7dc_row10_col1, #T_ea7dc_row10_col2, #T_ea7dc_row10_col3, #T_ea7dc_row10_col4, #T_ea7dc_row10_col5, #T_ea7dc_row10_col6, #T_ea7dc_row10_col17 {\n",
              "  font-size: 6pt;\n",
              "  background-color: #ffffff;\n",
              "  color: #000000;\n",
              "}\n",
              "#T_ea7dc_row1_col5 {\n",
              "  font-size: 6pt;\n",
              "  background-color: #efefef;\n",
              "  color: #000000;\n",
              "}\n",
              "#T_ea7dc_row1_col6, #T_ea7dc_row1_col13 {\n",
              "  font-size: 6pt;\n",
              "  background-color: #7c7c7c;\n",
              "  color: #f1f1f1;\n",
              "}\n",
              "#T_ea7dc_row1_col7 {\n",
              "  font-size: 6pt;\n",
              "  background-color: #4a4a4a;\n",
              "  color: #f1f1f1;\n",
              "}\n",
              "#T_ea7dc_row1_col8, #T_ea7dc_row1_col9, #T_ea7dc_row1_col10, #T_ea7dc_row2_col5, #T_ea7dc_row2_col6, #T_ea7dc_row2_col7, #T_ea7dc_row2_col11, #T_ea7dc_row2_col12, #T_ea7dc_row2_col13, #T_ea7dc_row3_col4, #T_ea7dc_row3_col12, #T_ea7dc_row3_col13, #T_ea7dc_row4_col1, #T_ea7dc_row4_col2, #T_ea7dc_row4_col3, #T_ea7dc_row4_col12, #T_ea7dc_row4_col13, #T_ea7dc_row5_col12, #T_ea7dc_row6_col11, #T_ea7dc_row9_col11, #T_ea7dc_row10_col11, #T_ea7dc_row10_col12, #T_ea7dc_row10_col13, #T_ea7dc_row10_col14, #T_ea7dc_row10_col15, #T_ea7dc_row10_col16 {\n",
              "  font-size: 6pt;\n",
              "  background-color: #000000;\n",
              "  color: #f1f1f1;\n",
              "}\n",
              "#T_ea7dc_row1_col11 {\n",
              "  font-size: 6pt;\n",
              "  background-color: #606060;\n",
              "  color: #f1f1f1;\n",
              "}\n",
              "#T_ea7dc_row1_col12 {\n",
              "  font-size: 6pt;\n",
              "  background-color: #4d4d4d;\n",
              "  color: #f1f1f1;\n",
              "}\n",
              "#T_ea7dc_row1_col14 {\n",
              "  font-size: 6pt;\n",
              "  background-color: #bbbbbb;\n",
              "  color: #000000;\n",
              "}\n",
              "#T_ea7dc_row2_col3 {\n",
              "  font-size: 6pt;\n",
              "  background-color: #e4e4e4;\n",
              "  color: #000000;\n",
              "}\n",
              "#T_ea7dc_row2_col4, #T_ea7dc_row8_col6 {\n",
              "  font-size: 6pt;\n",
              "  background-color: #6b6b6b;\n",
              "  color: #f1f1f1;\n",
              "}\n",
              "#T_ea7dc_row2_col8, #T_ea7dc_row2_col14, #T_ea7dc_row3_col14 {\n",
              "  font-size: 6pt;\n",
              "  background-color: #171717;\n",
              "  color: #f1f1f1;\n",
              "}\n",
              "#T_ea7dc_row2_col9, #T_ea7dc_row3_col11 {\n",
              "  font-size: 6pt;\n",
              "  background-color: #4b4b4b;\n",
              "  color: #f1f1f1;\n",
              "}\n",
              "#T_ea7dc_row2_col10, #T_ea7dc_row7_col10, #T_ea7dc_row8_col8, #T_ea7dc_row8_col10, #T_ea7dc_row9_col8, #T_ea7dc_row9_col10 {\n",
              "  font-size: 6pt;\n",
              "  background-color: #010101;\n",
              "  color: #f1f1f1;\n",
              "}\n",
              "#T_ea7dc_row3_col1 {\n",
              "  font-size: 6pt;\n",
              "  background-color: #272727;\n",
              "  color: #f1f1f1;\n",
              "}\n",
              "#T_ea7dc_row3_col2 {\n",
              "  font-size: 6pt;\n",
              "  background-color: #0a0a0a;\n",
              "  color: #f1f1f1;\n",
              "}\n",
              "#T_ea7dc_row3_col3 {\n",
              "  font-size: 6pt;\n",
              "  background-color: #050505;\n",
              "  color: #f1f1f1;\n",
              "}\n",
              "#T_ea7dc_row3_col5 {\n",
              "  font-size: 6pt;\n",
              "  background-color: #333333;\n",
              "  color: #f1f1f1;\n",
              "}\n",
              "#T_ea7dc_row3_col6 {\n",
              "  font-size: 6pt;\n",
              "  background-color: #e6e6e6;\n",
              "  color: #000000;\n",
              "}\n",
              "#T_ea7dc_row3_col7, #T_ea7dc_row3_col10 {\n",
              "  font-size: 6pt;\n",
              "  background-color: #fafafa;\n",
              "  color: #000000;\n",
              "}\n",
              "#T_ea7dc_row3_col8 {\n",
              "  font-size: 6pt;\n",
              "  background-color: #fbfbfb;\n",
              "  color: #000000;\n",
              "}\n",
              "#T_ea7dc_row3_col9 {\n",
              "  font-size: 6pt;\n",
              "  background-color: #fdfdfd;\n",
              "  color: #000000;\n",
              "}\n",
              "#T_ea7dc_row4_col4 {\n",
              "  font-size: 6pt;\n",
              "  background-color: #1b1b1b;\n",
              "  color: #f1f1f1;\n",
              "}\n",
              "#T_ea7dc_row4_col5 {\n",
              "  font-size: 6pt;\n",
              "  background-color: #e0e0e0;\n",
              "  color: #000000;\n",
              "}\n",
              "#T_ea7dc_row4_col11 {\n",
              "  font-size: 6pt;\n",
              "  background-color: #4e4e4e;\n",
              "  color: #f1f1f1;\n",
              "}\n",
              "#T_ea7dc_row4_col14 {\n",
              "  font-size: 6pt;\n",
              "  background-color: #767676;\n",
              "  color: #f1f1f1;\n",
              "}\n",
              "#T_ea7dc_row5_col1 {\n",
              "  font-size: 6pt;\n",
              "  background-color: #fcfcfc;\n",
              "  color: #000000;\n",
              "}\n",
              "#T_ea7dc_row5_col2, #T_ea7dc_row5_col3 {\n",
              "  font-size: 6pt;\n",
              "  background-color: #f6f6f6;\n",
              "  color: #000000;\n",
              "}\n",
              "#T_ea7dc_row5_col4, #T_ea7dc_row7_col7 {\n",
              "  font-size: 6pt;\n",
              "  background-color: #f8f8f8;\n",
              "  color: #000000;\n",
              "}\n",
              "#T_ea7dc_row5_col10, #T_ea7dc_row10_col7 {\n",
              "  font-size: 6pt;\n",
              "  background-color: #e8e8e8;\n",
              "  color: #000000;\n",
              "}\n",
              "#T_ea7dc_row5_col11 {\n",
              "  font-size: 6pt;\n",
              "  background-color: #222222;\n",
              "  color: #f1f1f1;\n",
              "}\n",
              "#T_ea7dc_row5_col13, #T_ea7dc_row6_col12 {\n",
              "  font-size: 6pt;\n",
              "  background-color: #090909;\n",
              "  color: #f1f1f1;\n",
              "}\n",
              "#T_ea7dc_row5_col14 {\n",
              "  font-size: 6pt;\n",
              "  background-color: #d0d0d0;\n",
              "  color: #000000;\n",
              "}\n",
              "#T_ea7dc_row6_col10, #T_ea7dc_row7_col11, #T_ea7dc_row9_col6 {\n",
              "  font-size: 6pt;\n",
              "  background-color: #060606;\n",
              "  color: #f1f1f1;\n",
              "}\n",
              "#T_ea7dc_row6_col13 {\n",
              "  font-size: 6pt;\n",
              "  background-color: #979797;\n",
              "  color: #f1f1f1;\n",
              "}\n",
              "#T_ea7dc_row7_col8 {\n",
              "  font-size: 6pt;\n",
              "  background-color: #b6b6b6;\n",
              "  color: #000000;\n",
              "}\n",
              "#T_ea7dc_row7_col9 {\n",
              "  font-size: 6pt;\n",
              "  background-color: #252525;\n",
              "  color: #f1f1f1;\n",
              "}\n",
              "#T_ea7dc_row7_col12 {\n",
              "  font-size: 6pt;\n",
              "  background-color: #999999;\n",
              "  color: #f1f1f1;\n",
              "}\n",
              "#T_ea7dc_row8_col5 {\n",
              "  font-size: 6pt;\n",
              "  background-color: #f9f9f9;\n",
              "  color: #000000;\n",
              "}\n",
              "#T_ea7dc_row8_col7 {\n",
              "  font-size: 6pt;\n",
              "  background-color: #101010;\n",
              "  color: #f1f1f1;\n",
              "}\n",
              "#T_ea7dc_row8_col9, #T_ea7dc_row9_col9 {\n",
              "  font-size: 6pt;\n",
              "  background-color: #020202;\n",
              "  color: #f1f1f1;\n",
              "}\n",
              "#T_ea7dc_row8_col11 {\n",
              "  font-size: 6pt;\n",
              "  background-color: #545454;\n",
              "  color: #f1f1f1;\n",
              "}\n",
              "#T_ea7dc_row8_col12 {\n",
              "  font-size: 6pt;\n",
              "  background-color: #f1f1f1;\n",
              "  color: #000000;\n",
              "}\n",
              "#T_ea7dc_row9_col5 {\n",
              "  font-size: 6pt;\n",
              "  background-color: #f7f7f7;\n",
              "  color: #000000;\n",
              "}\n",
              "#T_ea7dc_row9_col7 {\n",
              "  font-size: 6pt;\n",
              "  background-color: #030303;\n",
              "  color: #f1f1f1;\n",
              "}\n",
              "#T_ea7dc_row9_col12 {\n",
              "  font-size: 6pt;\n",
              "  background-color: #181818;\n",
              "  color: #f1f1f1;\n",
              "}\n",
              "#T_ea7dc_row9_col13 {\n",
              "  font-size: 6pt;\n",
              "  background-color: #303030;\n",
              "  color: #f1f1f1;\n",
              "}\n",
              "#T_ea7dc_row9_col14 {\n",
              "  font-size: 6pt;\n",
              "  background-color: #a9a9a9;\n",
              "  color: #f1f1f1;\n",
              "}\n",
              "#T_ea7dc_row9_col15 {\n",
              "  font-size: 6pt;\n",
              "  background-color: #fefefe;\n",
              "  color: #000000;\n",
              "}\n",
              "#T_ea7dc_row10_col8, #T_ea7dc_row10_col9 {\n",
              "  font-size: 6pt;\n",
              "  background-color: #bababa;\n",
              "  color: #000000;\n",
              "}\n",
              "#T_ea7dc_row10_col10 {\n",
              "  font-size: 6pt;\n",
              "  background-color: #393939;\n",
              "  color: #f1f1f1;\n",
              "}\n",
              "</style>\n",
              "<table id=\"T_ea7dc_\" class=\"dataframe\">\n",
              "  <thead>\n",
              "    <tr>\n",
              "      <th class=\"blank level0\" >&nbsp;</th>\n",
              "      <th class=\"col_heading level0 col0\" >0</th>\n",
              "      <th class=\"col_heading level0 col1\" >1</th>\n",
              "      <th class=\"col_heading level0 col2\" >2</th>\n",
              "      <th class=\"col_heading level0 col3\" >3</th>\n",
              "      <th class=\"col_heading level0 col4\" >4</th>\n",
              "      <th class=\"col_heading level0 col5\" >5</th>\n",
              "      <th class=\"col_heading level0 col6\" >6</th>\n",
              "      <th class=\"col_heading level0 col7\" >7</th>\n",
              "      <th class=\"col_heading level0 col8\" >8</th>\n",
              "      <th class=\"col_heading level0 col9\" >9</th>\n",
              "      <th class=\"col_heading level0 col10\" >10</th>\n",
              "      <th class=\"col_heading level0 col11\" >11</th>\n",
              "      <th class=\"col_heading level0 col12\" >12</th>\n",
              "      <th class=\"col_heading level0 col13\" >13</th>\n",
              "      <th class=\"col_heading level0 col14\" >14</th>\n",
              "      <th class=\"col_heading level0 col15\" >15</th>\n",
              "      <th class=\"col_heading level0 col16\" >16</th>\n",
              "      <th class=\"col_heading level0 col17\" >17</th>\n",
              "    </tr>\n",
              "  </thead>\n",
              "  <tbody>\n",
              "    <tr>\n",
              "      <th id=\"T_ea7dc_level0_row0\" class=\"row_heading level0 row0\" >0</th>\n",
              "      <td id=\"T_ea7dc_row0_col0\" class=\"data row0 col0\" >0</td>\n",
              "      <td id=\"T_ea7dc_row0_col1\" class=\"data row0 col1\" >0</td>\n",
              "      <td id=\"T_ea7dc_row0_col2\" class=\"data row0 col2\" >0</td>\n",
              "      <td id=\"T_ea7dc_row0_col3\" class=\"data row0 col3\" >0</td>\n",
              "      <td id=\"T_ea7dc_row0_col4\" class=\"data row0 col4\" >0</td>\n",
              "      <td id=\"T_ea7dc_row0_col5\" class=\"data row0 col5\" >0</td>\n",
              "      <td id=\"T_ea7dc_row0_col6\" class=\"data row0 col6\" >0</td>\n",
              "      <td id=\"T_ea7dc_row0_col7\" class=\"data row0 col7\" >0</td>\n",
              "      <td id=\"T_ea7dc_row0_col8\" class=\"data row0 col8\" >0</td>\n",
              "      <td id=\"T_ea7dc_row0_col9\" class=\"data row0 col9\" >0</td>\n",
              "      <td id=\"T_ea7dc_row0_col10\" class=\"data row0 col10\" >0</td>\n",
              "      <td id=\"T_ea7dc_row0_col11\" class=\"data row0 col11\" >0</td>\n",
              "      <td id=\"T_ea7dc_row0_col12\" class=\"data row0 col12\" >0</td>\n",
              "      <td id=\"T_ea7dc_row0_col13\" class=\"data row0 col13\" >0</td>\n",
              "      <td id=\"T_ea7dc_row0_col14\" class=\"data row0 col14\" >0</td>\n",
              "      <td id=\"T_ea7dc_row0_col15\" class=\"data row0 col15\" >0</td>\n",
              "      <td id=\"T_ea7dc_row0_col16\" class=\"data row0 col16\" >0</td>\n",
              "      <td id=\"T_ea7dc_row0_col17\" class=\"data row0 col17\" >0</td>\n",
              "    </tr>\n",
              "    <tr>\n",
              "      <th id=\"T_ea7dc_level0_row1\" class=\"row_heading level0 row1\" >1</th>\n",
              "      <td id=\"T_ea7dc_row1_col0\" class=\"data row1 col0\" >0</td>\n",
              "      <td id=\"T_ea7dc_row1_col1\" class=\"data row1 col1\" >0</td>\n",
              "      <td id=\"T_ea7dc_row1_col2\" class=\"data row1 col2\" >0</td>\n",
              "      <td id=\"T_ea7dc_row1_col3\" class=\"data row1 col3\" >0</td>\n",
              "      <td id=\"T_ea7dc_row1_col4\" class=\"data row1 col4\" >0</td>\n",
              "      <td id=\"T_ea7dc_row1_col5\" class=\"data row1 col5\" >29</td>\n",
              "      <td id=\"T_ea7dc_row1_col6\" class=\"data row1 col6\" >150</td>\n",
              "      <td id=\"T_ea7dc_row1_col7\" class=\"data row1 col7\" >195</td>\n",
              "      <td id=\"T_ea7dc_row1_col8\" class=\"data row1 col8\" >254</td>\n",
              "      <td id=\"T_ea7dc_row1_col9\" class=\"data row1 col9\" >255</td>\n",
              "      <td id=\"T_ea7dc_row1_col10\" class=\"data row1 col10\" >254</td>\n",
              "      <td id=\"T_ea7dc_row1_col11\" class=\"data row1 col11\" >176</td>\n",
              "      <td id=\"T_ea7dc_row1_col12\" class=\"data row1 col12\" >193</td>\n",
              "      <td id=\"T_ea7dc_row1_col13\" class=\"data row1 col13\" >150</td>\n",
              "      <td id=\"T_ea7dc_row1_col14\" class=\"data row1 col14\" >96</td>\n",
              "      <td id=\"T_ea7dc_row1_col15\" class=\"data row1 col15\" >0</td>\n",
              "      <td id=\"T_ea7dc_row1_col16\" class=\"data row1 col16\" >0</td>\n",
              "      <td id=\"T_ea7dc_row1_col17\" class=\"data row1 col17\" >0</td>\n",
              "    </tr>\n",
              "    <tr>\n",
              "      <th id=\"T_ea7dc_level0_row2\" class=\"row_heading level0 row2\" >2</th>\n",
              "      <td id=\"T_ea7dc_row2_col0\" class=\"data row2 col0\" >0</td>\n",
              "      <td id=\"T_ea7dc_row2_col1\" class=\"data row2 col1\" >0</td>\n",
              "      <td id=\"T_ea7dc_row2_col2\" class=\"data row2 col2\" >0</td>\n",
              "      <td id=\"T_ea7dc_row2_col3\" class=\"data row2 col3\" >48</td>\n",
              "      <td id=\"T_ea7dc_row2_col4\" class=\"data row2 col4\" >166</td>\n",
              "      <td id=\"T_ea7dc_row2_col5\" class=\"data row2 col5\" >224</td>\n",
              "      <td id=\"T_ea7dc_row2_col6\" class=\"data row2 col6\" >253</td>\n",
              "      <td id=\"T_ea7dc_row2_col7\" class=\"data row2 col7\" >253</td>\n",
              "      <td id=\"T_ea7dc_row2_col8\" class=\"data row2 col8\" >234</td>\n",
              "      <td id=\"T_ea7dc_row2_col9\" class=\"data row2 col9\" >196</td>\n",
              "      <td id=\"T_ea7dc_row2_col10\" class=\"data row2 col10\" >253</td>\n",
              "      <td id=\"T_ea7dc_row2_col11\" class=\"data row2 col11\" >253</td>\n",
              "      <td id=\"T_ea7dc_row2_col12\" class=\"data row2 col12\" >253</td>\n",
              "      <td id=\"T_ea7dc_row2_col13\" class=\"data row2 col13\" >253</td>\n",
              "      <td id=\"T_ea7dc_row2_col14\" class=\"data row2 col14\" >233</td>\n",
              "      <td id=\"T_ea7dc_row2_col15\" class=\"data row2 col15\" >0</td>\n",
              "      <td id=\"T_ea7dc_row2_col16\" class=\"data row2 col16\" >0</td>\n",
              "      <td id=\"T_ea7dc_row2_col17\" class=\"data row2 col17\" >0</td>\n",
              "    </tr>\n",
              "    <tr>\n",
              "      <th id=\"T_ea7dc_level0_row3\" class=\"row_heading level0 row3\" >3</th>\n",
              "      <td id=\"T_ea7dc_row3_col0\" class=\"data row3 col0\" >0</td>\n",
              "      <td id=\"T_ea7dc_row3_col1\" class=\"data row3 col1\" >93</td>\n",
              "      <td id=\"T_ea7dc_row3_col2\" class=\"data row3 col2\" >244</td>\n",
              "      <td id=\"T_ea7dc_row3_col3\" class=\"data row3 col3\" >249</td>\n",
              "      <td id=\"T_ea7dc_row3_col4\" class=\"data row3 col4\" >253</td>\n",
              "      <td id=\"T_ea7dc_row3_col5\" class=\"data row3 col5\" >187</td>\n",
              "      <td id=\"T_ea7dc_row3_col6\" class=\"data row3 col6\" >46</td>\n",
              "      <td id=\"T_ea7dc_row3_col7\" class=\"data row3 col7\" >10</td>\n",
              "      <td id=\"T_ea7dc_row3_col8\" class=\"data row3 col8\" >8</td>\n",
              "      <td id=\"T_ea7dc_row3_col9\" class=\"data row3 col9\" >4</td>\n",
              "      <td id=\"T_ea7dc_row3_col10\" class=\"data row3 col10\" >10</td>\n",
              "      <td id=\"T_ea7dc_row3_col11\" class=\"data row3 col11\" >194</td>\n",
              "      <td id=\"T_ea7dc_row3_col12\" class=\"data row3 col12\" >253</td>\n",
              "      <td id=\"T_ea7dc_row3_col13\" class=\"data row3 col13\" >253</td>\n",
              "      <td id=\"T_ea7dc_row3_col14\" class=\"data row3 col14\" >233</td>\n",
              "      <td id=\"T_ea7dc_row3_col15\" class=\"data row3 col15\" >0</td>\n",
              "      <td id=\"T_ea7dc_row3_col16\" class=\"data row3 col16\" >0</td>\n",
              "      <td id=\"T_ea7dc_row3_col17\" class=\"data row3 col17\" >0</td>\n",
              "    </tr>\n",
              "    <tr>\n",
              "      <th id=\"T_ea7dc_level0_row4\" class=\"row_heading level0 row4\" >4</th>\n",
              "      <td id=\"T_ea7dc_row4_col0\" class=\"data row4 col0\" >0</td>\n",
              "      <td id=\"T_ea7dc_row4_col1\" class=\"data row4 col1\" >107</td>\n",
              "      <td id=\"T_ea7dc_row4_col2\" class=\"data row4 col2\" >253</td>\n",
              "      <td id=\"T_ea7dc_row4_col3\" class=\"data row4 col3\" >253</td>\n",
              "      <td id=\"T_ea7dc_row4_col4\" class=\"data row4 col4\" >230</td>\n",
              "      <td id=\"T_ea7dc_row4_col5\" class=\"data row4 col5\" >48</td>\n",
              "      <td id=\"T_ea7dc_row4_col6\" class=\"data row4 col6\" >0</td>\n",
              "      <td id=\"T_ea7dc_row4_col7\" class=\"data row4 col7\" >0</td>\n",
              "      <td id=\"T_ea7dc_row4_col8\" class=\"data row4 col8\" >0</td>\n",
              "      <td id=\"T_ea7dc_row4_col9\" class=\"data row4 col9\" >0</td>\n",
              "      <td id=\"T_ea7dc_row4_col10\" class=\"data row4 col10\" >0</td>\n",
              "      <td id=\"T_ea7dc_row4_col11\" class=\"data row4 col11\" >192</td>\n",
              "      <td id=\"T_ea7dc_row4_col12\" class=\"data row4 col12\" >253</td>\n",
              "      <td id=\"T_ea7dc_row4_col13\" class=\"data row4 col13\" >253</td>\n",
              "      <td id=\"T_ea7dc_row4_col14\" class=\"data row4 col14\" >156</td>\n",
              "      <td id=\"T_ea7dc_row4_col15\" class=\"data row4 col15\" >0</td>\n",
              "      <td id=\"T_ea7dc_row4_col16\" class=\"data row4 col16\" >0</td>\n",
              "      <td id=\"T_ea7dc_row4_col17\" class=\"data row4 col17\" >0</td>\n",
              "    </tr>\n",
              "    <tr>\n",
              "      <th id=\"T_ea7dc_level0_row5\" class=\"row_heading level0 row5\" >5</th>\n",
              "      <td id=\"T_ea7dc_row5_col0\" class=\"data row5 col0\" >0</td>\n",
              "      <td id=\"T_ea7dc_row5_col1\" class=\"data row5 col1\" >3</td>\n",
              "      <td id=\"T_ea7dc_row5_col2\" class=\"data row5 col2\" >20</td>\n",
              "      <td id=\"T_ea7dc_row5_col3\" class=\"data row5 col3\" >20</td>\n",
              "      <td id=\"T_ea7dc_row5_col4\" class=\"data row5 col4\" >15</td>\n",
              "      <td id=\"T_ea7dc_row5_col5\" class=\"data row5 col5\" >0</td>\n",
              "      <td id=\"T_ea7dc_row5_col6\" class=\"data row5 col6\" >0</td>\n",
              "      <td id=\"T_ea7dc_row5_col7\" class=\"data row5 col7\" >0</td>\n",
              "      <td id=\"T_ea7dc_row5_col8\" class=\"data row5 col8\" >0</td>\n",
              "      <td id=\"T_ea7dc_row5_col9\" class=\"data row5 col9\" >0</td>\n",
              "      <td id=\"T_ea7dc_row5_col10\" class=\"data row5 col10\" >43</td>\n",
              "      <td id=\"T_ea7dc_row5_col11\" class=\"data row5 col11\" >224</td>\n",
              "      <td id=\"T_ea7dc_row5_col12\" class=\"data row5 col12\" >253</td>\n",
              "      <td id=\"T_ea7dc_row5_col13\" class=\"data row5 col13\" >245</td>\n",
              "      <td id=\"T_ea7dc_row5_col14\" class=\"data row5 col14\" >74</td>\n",
              "      <td id=\"T_ea7dc_row5_col15\" class=\"data row5 col15\" >0</td>\n",
              "      <td id=\"T_ea7dc_row5_col16\" class=\"data row5 col16\" >0</td>\n",
              "      <td id=\"T_ea7dc_row5_col17\" class=\"data row5 col17\" >0</td>\n",
              "    </tr>\n",
              "    <tr>\n",
              "      <th id=\"T_ea7dc_level0_row6\" class=\"row_heading level0 row6\" >6</th>\n",
              "      <td id=\"T_ea7dc_row6_col0\" class=\"data row6 col0\" >0</td>\n",
              "      <td id=\"T_ea7dc_row6_col1\" class=\"data row6 col1\" >0</td>\n",
              "      <td id=\"T_ea7dc_row6_col2\" class=\"data row6 col2\" >0</td>\n",
              "      <td id=\"T_ea7dc_row6_col3\" class=\"data row6 col3\" >0</td>\n",
              "      <td id=\"T_ea7dc_row6_col4\" class=\"data row6 col4\" >0</td>\n",
              "      <td id=\"T_ea7dc_row6_col5\" class=\"data row6 col5\" >0</td>\n",
              "      <td id=\"T_ea7dc_row6_col6\" class=\"data row6 col6\" >0</td>\n",
              "      <td id=\"T_ea7dc_row6_col7\" class=\"data row6 col7\" >0</td>\n",
              "      <td id=\"T_ea7dc_row6_col8\" class=\"data row6 col8\" >0</td>\n",
              "      <td id=\"T_ea7dc_row6_col9\" class=\"data row6 col9\" >0</td>\n",
              "      <td id=\"T_ea7dc_row6_col10\" class=\"data row6 col10\" >249</td>\n",
              "      <td id=\"T_ea7dc_row6_col11\" class=\"data row6 col11\" >253</td>\n",
              "      <td id=\"T_ea7dc_row6_col12\" class=\"data row6 col12\" >245</td>\n",
              "      <td id=\"T_ea7dc_row6_col13\" class=\"data row6 col13\" >126</td>\n",
              "      <td id=\"T_ea7dc_row6_col14\" class=\"data row6 col14\" >0</td>\n",
              "      <td id=\"T_ea7dc_row6_col15\" class=\"data row6 col15\" >0</td>\n",
              "      <td id=\"T_ea7dc_row6_col16\" class=\"data row6 col16\" >0</td>\n",
              "      <td id=\"T_ea7dc_row6_col17\" class=\"data row6 col17\" >0</td>\n",
              "    </tr>\n",
              "    <tr>\n",
              "      <th id=\"T_ea7dc_level0_row7\" class=\"row_heading level0 row7\" >7</th>\n",
              "      <td id=\"T_ea7dc_row7_col0\" class=\"data row7 col0\" >0</td>\n",
              "      <td id=\"T_ea7dc_row7_col1\" class=\"data row7 col1\" >0</td>\n",
              "      <td id=\"T_ea7dc_row7_col2\" class=\"data row7 col2\" >0</td>\n",
              "      <td id=\"T_ea7dc_row7_col3\" class=\"data row7 col3\" >0</td>\n",
              "      <td id=\"T_ea7dc_row7_col4\" class=\"data row7 col4\" >0</td>\n",
              "      <td id=\"T_ea7dc_row7_col5\" class=\"data row7 col5\" >0</td>\n",
              "      <td id=\"T_ea7dc_row7_col6\" class=\"data row7 col6\" >0</td>\n",
              "      <td id=\"T_ea7dc_row7_col7\" class=\"data row7 col7\" >14</td>\n",
              "      <td id=\"T_ea7dc_row7_col8\" class=\"data row7 col8\" >101</td>\n",
              "      <td id=\"T_ea7dc_row7_col9\" class=\"data row7 col9\" >223</td>\n",
              "      <td id=\"T_ea7dc_row7_col10\" class=\"data row7 col10\" >253</td>\n",
              "      <td id=\"T_ea7dc_row7_col11\" class=\"data row7 col11\" >248</td>\n",
              "      <td id=\"T_ea7dc_row7_col12\" class=\"data row7 col12\" >124</td>\n",
              "      <td id=\"T_ea7dc_row7_col13\" class=\"data row7 col13\" >0</td>\n",
              "      <td id=\"T_ea7dc_row7_col14\" class=\"data row7 col14\" >0</td>\n",
              "      <td id=\"T_ea7dc_row7_col15\" class=\"data row7 col15\" >0</td>\n",
              "      <td id=\"T_ea7dc_row7_col16\" class=\"data row7 col16\" >0</td>\n",
              "      <td id=\"T_ea7dc_row7_col17\" class=\"data row7 col17\" >0</td>\n",
              "    </tr>\n",
              "    <tr>\n",
              "      <th id=\"T_ea7dc_level0_row8\" class=\"row_heading level0 row8\" >8</th>\n",
              "      <td id=\"T_ea7dc_row8_col0\" class=\"data row8 col0\" >0</td>\n",
              "      <td id=\"T_ea7dc_row8_col1\" class=\"data row8 col1\" >0</td>\n",
              "      <td id=\"T_ea7dc_row8_col2\" class=\"data row8 col2\" >0</td>\n",
              "      <td id=\"T_ea7dc_row8_col3\" class=\"data row8 col3\" >0</td>\n",
              "      <td id=\"T_ea7dc_row8_col4\" class=\"data row8 col4\" >0</td>\n",
              "      <td id=\"T_ea7dc_row8_col5\" class=\"data row8 col5\" >11</td>\n",
              "      <td id=\"T_ea7dc_row8_col6\" class=\"data row8 col6\" >166</td>\n",
              "      <td id=\"T_ea7dc_row8_col7\" class=\"data row8 col7\" >239</td>\n",
              "      <td id=\"T_ea7dc_row8_col8\" class=\"data row8 col8\" >253</td>\n",
              "      <td id=\"T_ea7dc_row8_col9\" class=\"data row8 col9\" >253</td>\n",
              "      <td id=\"T_ea7dc_row8_col10\" class=\"data row8 col10\" >253</td>\n",
              "      <td id=\"T_ea7dc_row8_col11\" class=\"data row8 col11\" >187</td>\n",
              "      <td id=\"T_ea7dc_row8_col12\" class=\"data row8 col12\" >30</td>\n",
              "      <td id=\"T_ea7dc_row8_col13\" class=\"data row8 col13\" >0</td>\n",
              "      <td id=\"T_ea7dc_row8_col14\" class=\"data row8 col14\" >0</td>\n",
              "      <td id=\"T_ea7dc_row8_col15\" class=\"data row8 col15\" >0</td>\n",
              "      <td id=\"T_ea7dc_row8_col16\" class=\"data row8 col16\" >0</td>\n",
              "      <td id=\"T_ea7dc_row8_col17\" class=\"data row8 col17\" >0</td>\n",
              "    </tr>\n",
              "    <tr>\n",
              "      <th id=\"T_ea7dc_level0_row9\" class=\"row_heading level0 row9\" >9</th>\n",
              "      <td id=\"T_ea7dc_row9_col0\" class=\"data row9 col0\" >0</td>\n",
              "      <td id=\"T_ea7dc_row9_col1\" class=\"data row9 col1\" >0</td>\n",
              "      <td id=\"T_ea7dc_row9_col2\" class=\"data row9 col2\" >0</td>\n",
              "      <td id=\"T_ea7dc_row9_col3\" class=\"data row9 col3\" >0</td>\n",
              "      <td id=\"T_ea7dc_row9_col4\" class=\"data row9 col4\" >0</td>\n",
              "      <td id=\"T_ea7dc_row9_col5\" class=\"data row9 col5\" >16</td>\n",
              "      <td id=\"T_ea7dc_row9_col6\" class=\"data row9 col6\" >248</td>\n",
              "      <td id=\"T_ea7dc_row9_col7\" class=\"data row9 col7\" >250</td>\n",
              "      <td id=\"T_ea7dc_row9_col8\" class=\"data row9 col8\" >253</td>\n",
              "      <td id=\"T_ea7dc_row9_col9\" class=\"data row9 col9\" >253</td>\n",
              "      <td id=\"T_ea7dc_row9_col10\" class=\"data row9 col10\" >253</td>\n",
              "      <td id=\"T_ea7dc_row9_col11\" class=\"data row9 col11\" >253</td>\n",
              "      <td id=\"T_ea7dc_row9_col12\" class=\"data row9 col12\" >232</td>\n",
              "      <td id=\"T_ea7dc_row9_col13\" class=\"data row9 col13\" >213</td>\n",
              "      <td id=\"T_ea7dc_row9_col14\" class=\"data row9 col14\" >111</td>\n",
              "      <td id=\"T_ea7dc_row9_col15\" class=\"data row9 col15\" >2</td>\n",
              "      <td id=\"T_ea7dc_row9_col16\" class=\"data row9 col16\" >0</td>\n",
              "      <td id=\"T_ea7dc_row9_col17\" class=\"data row9 col17\" >0</td>\n",
              "    </tr>\n",
              "    <tr>\n",
              "      <th id=\"T_ea7dc_level0_row10\" class=\"row_heading level0 row10\" >10</th>\n",
              "      <td id=\"T_ea7dc_row10_col0\" class=\"data row10 col0\" >0</td>\n",
              "      <td id=\"T_ea7dc_row10_col1\" class=\"data row10 col1\" >0</td>\n",
              "      <td id=\"T_ea7dc_row10_col2\" class=\"data row10 col2\" >0</td>\n",
              "      <td id=\"T_ea7dc_row10_col3\" class=\"data row10 col3\" >0</td>\n",
              "      <td id=\"T_ea7dc_row10_col4\" class=\"data row10 col4\" >0</td>\n",
              "      <td id=\"T_ea7dc_row10_col5\" class=\"data row10 col5\" >0</td>\n",
              "      <td id=\"T_ea7dc_row10_col6\" class=\"data row10 col6\" >0</td>\n",
              "      <td id=\"T_ea7dc_row10_col7\" class=\"data row10 col7\" >43</td>\n",
              "      <td id=\"T_ea7dc_row10_col8\" class=\"data row10 col8\" >98</td>\n",
              "      <td id=\"T_ea7dc_row10_col9\" class=\"data row10 col9\" >98</td>\n",
              "      <td id=\"T_ea7dc_row10_col10\" class=\"data row10 col10\" >208</td>\n",
              "      <td id=\"T_ea7dc_row10_col11\" class=\"data row10 col11\" >253</td>\n",
              "      <td id=\"T_ea7dc_row10_col12\" class=\"data row10 col12\" >253</td>\n",
              "      <td id=\"T_ea7dc_row10_col13\" class=\"data row10 col13\" >253</td>\n",
              "      <td id=\"T_ea7dc_row10_col14\" class=\"data row10 col14\" >253</td>\n",
              "      <td id=\"T_ea7dc_row10_col15\" class=\"data row10 col15\" >187</td>\n",
              "      <td id=\"T_ea7dc_row10_col16\" class=\"data row10 col16\" >22</td>\n",
              "      <td id=\"T_ea7dc_row10_col17\" class=\"data row10 col17\" >0</td>\n",
              "    </tr>\n",
              "  </tbody>\n",
              "</table>\n"
            ]
          },
          "metadata": {},
          "execution_count": 7
        }
      ]
    },
    {
      "cell_type": "code",
      "source": [
        "#Store all image in tensors\n",
        "seven_tensors = [tensor(Image.open(o)) for o in sevens]\n",
        "three_tensors = [tensor(Image.open(o)) for o in threes]\n",
        "len(three_tensors), len(seven_tensors)"
      ],
      "metadata": {
        "colab": {
          "base_uri": "https://localhost:8080/"
        },
        "id": "oPD_OiJGT1Mk",
        "outputId": "7f7cc5a6-0f10-44ff-f84d-f61c405be9c0"
      },
      "execution_count": 8,
      "outputs": [
        {
          "output_type": "execute_result",
          "data": {
            "text/plain": [
              "(6131, 6265)"
            ]
          },
          "metadata": {},
          "execution_count": 8
        }
      ]
    },
    {
      "cell_type": "code",
      "source": [
        "#use fastai show_image to display image in tensor\n",
        "show_image(three_tensors[92])"
      ],
      "metadata": {
        "colab": {
          "base_uri": "https://localhost:8080/",
          "height": 102
        },
        "id": "dWyyPzcsUJUm",
        "outputId": "042a3c0b-913f-4230-b623-bf34eca3cee1"
      },
      "execution_count": 9,
      "outputs": [
        {
          "output_type": "execute_result",
          "data": {
            "text/plain": [
              "<matplotlib.axes._subplots.AxesSubplot at 0x7f0f6486b750>"
            ]
          },
          "metadata": {},
          "execution_count": 9
        },
        {
          "output_type": "display_data",
          "data": {
            "text/plain": [
              "<Figure size 72x72 with 1 Axes>"
            ],
            "image/png": "[encoded data removed]"
          },
          "metadata": {
            "needs_background": "light"
          }
        }
      ]
    },
    {
      "cell_type": "code",
      "source": [
        "#Our initial approach we are going to get average of all pixels\n",
        "#To do this we will stack all images of each number into a single tensor\n",
        "stacked_threes = torch.stack(three_tensors).float()/255\n",
        "stacked_sevens = torch.stack(seven_tensors).float()/255\n",
        "\n",
        "#Size gives us the length of each axis in a tensor\n",
        "#Here we have count, pixels width, pixels height\n",
        "stacked_threes.shape"
      ],
      "metadata": {
        "colab": {
          "base_uri": "https://localhost:8080/"
        },
        "id": "kxjYSEbwUi6T",
        "outputId": "816bd7d0-9d18-47f4-c0f5-f2da44254c58"
      },
      "execution_count": 10,
      "outputs": [
        {
          "output_type": "execute_result",
          "data": {
            "text/plain": [
              "torch.Size([6131, 28, 28])"
            ]
          },
          "metadata": {},
          "execution_count": 10
        }
      ]
    },
    {
      "cell_type": "code",
      "source": [
        "#The length of the shape is a tensor's rank\n",
        "len(stacked_threes.shape)"
      ],
      "metadata": {
        "colab": {
          "base_uri": "https://localhost:8080/"
        },
        "id": "0Mt1HeXBVVQz",
        "outputId": "24a1ac73-bca6-4b01-9f0a-72db90fb5f47"
      },
      "execution_count": 11,
      "outputs": [
        {
          "output_type": "execute_result",
          "data": {
            "text/plain": [
              "3"
            ]
          },
          "metadata": {},
          "execution_count": 11
        }
      ]
    },
    {
      "cell_type": "code",
      "source": [
        "#Rank can also be accessed with ndim\n",
        "stacked_threes.ndim "
      ],
      "metadata": {
        "colab": {
          "base_uri": "https://localhost:8080/"
        },
        "id": "mIm3MeqKVg3t",
        "outputId": "8d78739c-e980-4eb7-bcd4-6e0bb0abfba4"
      },
      "execution_count": 12,
      "outputs": [
        {
          "output_type": "execute_result",
          "data": {
            "text/plain": [
              "3"
            ]
          },
          "metadata": {},
          "execution_count": 12
        }
      ]
    },
    {
      "cell_type": "code",
      "source": [
        "#To get the average of all images we call the mean method on dim 0 of stack\n",
        "mean3 = stacked_threes.mean(0)\n",
        "show_image(mean3)"
      ],
      "metadata": {
        "colab": {
          "base_uri": "https://localhost:8080/",
          "height": 102
        },
        "id": "Nlvt0EJeVzjc",
        "outputId": "40d037f8-0aff-42ba-b55c-97ffb3fd2389"
      },
      "execution_count": 13,
      "outputs": [
        {
          "output_type": "execute_result",
          "data": {
            "text/plain": [
              "<matplotlib.axes._subplots.AxesSubplot at 0x7f0f6423b150>"
            ]
          },
          "metadata": {},
          "execution_count": 13
        },
        {
          "output_type": "display_data",
          "data": {
            "text/plain": [
              "<Figure size 72x72 with 1 Axes>"
            ],
            "image/png": "[encoded data removed]"
          },
          "metadata": {
            "needs_background": "light"
          }
        }
      ]
    },
    {
      "cell_type": "code",
      "source": [
        "#Now for our set of 7s\n",
        "mean7 = stacked_sevens.mean(0)\n",
        "show_image(mean7)"
      ],
      "metadata": {
        "colab": {
          "base_uri": "https://localhost:8080/",
          "height": 102
        },
        "id": "RKvp-9hpWAbW",
        "outputId": "cdac21c1-2d9e-4645-d439-f2a8ce4af572"
      },
      "execution_count": 14,
      "outputs": [
        {
          "output_type": "execute_result",
          "data": {
            "text/plain": [
              "<matplotlib.axes._subplots.AxesSubplot at 0x7f0f641fb150>"
            ]
          },
          "metadata": {},
          "execution_count": 14
        },
        {
          "output_type": "display_data",
          "data": {
            "text/plain": [
              "<Figure size 72x72 with 1 Axes>"
            ],
            "image/png": "[encoded data removed]"
          },
          "metadata": {
            "needs_background": "light"
          }
        }
      ]
    },
    {
      "cell_type": "code",
      "source": [
        "#We can test to see how far a test image is from the avg 3 or avg 7\n",
        "a_3 = stacked_threes[2] #Test img\n",
        "#Get absloute val of pixel differences to avoid cancellation of \"too light\" and \"too dark\"\n",
        "dist_3_abs = (a_3 - mean3).abs().mean() #dist to avg 3\n",
        "dist_7_abs = (a_3 - mean7).abs().mean() #dist to avg 7\n",
        "dist_3_abs, dist_7_abs #Dist to 3 is smaller, so model picks 3"
      ],
      "metadata": {
        "colab": {
          "base_uri": "https://localhost:8080/"
        },
        "id": "rU0gnY3-Wdn-",
        "outputId": "5c51a662-4941-4fa4-b400-956073df4fb1"
      },
      "execution_count": 15,
      "outputs": [
        {
          "output_type": "execute_result",
          "data": {
            "text/plain": [
              "(tensor(0.1100), tensor(0.1541))"
            ]
          },
          "metadata": {},
          "execution_count": 15
        }
      ]
    },
    {
      "cell_type": "code",
      "source": [
        "#We can do a similar thing by squaring the differences (to get a positive) then taking the root\n",
        "dist_3_sqr = ((a_3 - mean3)**2).mean().sqrt() #to 3\n",
        "dist_7_sqr = ((a_3 - mean7)**2).mean().sqrt() #to 7\n",
        "dist_3_sqr, dist_7_sqr #again 3 is a better solution"
      ],
      "metadata": {
        "colab": {
          "base_uri": "https://localhost:8080/"
        },
        "id": "cKjV41U5XE3F",
        "outputId": "c36fc673-49e1-4185-87de-d5de9a67a345"
      },
      "execution_count": 16,
      "outputs": [
        {
          "output_type": "execute_result",
          "data": {
            "text/plain": [
              "(tensor(0.1980), tensor(0.2974))"
            ]
          },
          "metadata": {},
          "execution_count": 16
        }
      ]
    },
    {
      "cell_type": "code",
      "source": [
        "#Pytorch already provides these as loss functions\n",
        "F.l1_loss(a_3.float(),mean7), F.mse_loss(a_3,mean7).sqrt()"
      ],
      "metadata": {
        "colab": {
          "base_uri": "https://localhost:8080/"
        },
        "id": "4-nf4qa0Xqkb",
        "outputId": "78f1d9d1-6eed-4b7c-b88d-09ab19356f41"
      },
      "execution_count": 17,
      "outputs": [
        {
          "output_type": "execute_result",
          "data": {
            "text/plain": [
              "(tensor(0.1541), tensor(0.2974))"
            ]
          },
          "metadata": {},
          "execution_count": 17
        }
      ]
    },
    {
      "cell_type": "code",
      "source": [
        "#Create tensor objs for validation set\n",
        "valid_3_tens = torch.stack([tensor(Image.open(o)) for o in (path/'valid'/'3').ls()])\n",
        "valid_7_tens = torch.stack([tensor(Image.open(o)) for o in (path/'valid'/'7').ls()])\n",
        "#Change float to 0 to 1\n",
        "valid_3_tens = valid_3_tens.float() / 255\n",
        "valid_7_tens = valid_7_tens.float() / 255\n",
        "#Print size\n",
        "valid_3_tens.shape, valid_7_tens.shape"
      ],
      "metadata": {
        "colab": {
          "base_uri": "https://localhost:8080/"
        },
        "id": "GgNb_pmZfWHU",
        "outputId": "f2c06d1b-66ce-4793-a5be-bb5d0bd1f339"
      },
      "execution_count": 18,
      "outputs": [
        {
          "output_type": "execute_result",
          "data": {
            "text/plain": [
              "(torch.Size([1010, 28, 28]), torch.Size([1028, 28, 28]))"
            ]
          },
          "metadata": {},
          "execution_count": 18
        }
      ]
    },
    {
      "cell_type": "code",
      "source": [
        "#Create func to determine distance of an image to a mean\n",
        "def mnist_distance(a,b): return (a-b).abs().mean((-1,-2))\n",
        "mnist_distance(a_3, mean3)"
      ],
      "metadata": {
        "colab": {
          "base_uri": "https://localhost:8080/"
        },
        "id": "aw04qbglgbhf",
        "outputId": "96db423a-d8cb-436a-9751-1ed24608b4ff"
      },
      "execution_count": 19,
      "outputs": [
        {
          "output_type": "execute_result",
          "data": {
            "text/plain": [
              "tensor(0.1100)"
            ]
          },
          "metadata": {},
          "execution_count": 19
        }
      ]
    },
    {
      "cell_type": "code",
      "source": [
        "#Get dist of all images in validation set\n",
        "valid_3_dist = mnist_distance(valid_3_tens, mean3)\n",
        "valid_3_dist, valid_3_dist.shape"
      ],
      "metadata": {
        "colab": {
          "base_uri": "https://localhost:8080/"
        },
        "id": "7F3dyLkRh90W",
        "outputId": "7ac947db-6171-460c-fc9a-02946226fe48"
      },
      "execution_count": 20,
      "outputs": [
        {
          "output_type": "execute_result",
          "data": {
            "text/plain": [
              "(tensor([0.1430, 0.1247, 0.1616,  ..., 0.1176, 0.1233, 0.1165]),\n",
              " torch.Size([1010]))"
            ]
          },
          "metadata": {},
          "execution_count": 20
        }
      ]
    },
    {
      "cell_type": "code",
      "source": [
        "#Func to determine 3 or 7\n",
        "def is_3(x): return mnist_distance(x, mean3) < mnist_distance(x, mean7)\n",
        "#See if it works\n",
        "is_3(a_3), is_3(a_3).float()"
      ],
      "metadata": {
        "colab": {
          "base_uri": "https://localhost:8080/"
        },
        "id": "DtfRHNBFimo4",
        "outputId": "58d77e0d-3ea3-4286-b815-d15add2b7d06"
      },
      "execution_count": 21,
      "outputs": [
        {
          "output_type": "execute_result",
          "data": {
            "text/plain": [
              "(tensor(True), tensor(1.))"
            ]
          },
          "metadata": {},
          "execution_count": 21
        }
      ]
    },
    {
      "cell_type": "code",
      "source": [
        "#Thanks to broadcasting we can tet entire validation set\n",
        "is_3(valid_3_tens)"
      ],
      "metadata": {
        "colab": {
          "base_uri": "https://localhost:8080/"
        },
        "id": "6gXTt8NBj3Fq",
        "outputId": "215c8070-dcf4-48a3-f933-66dacfb8e999"
      },
      "execution_count": 22,
      "outputs": [
        {
          "output_type": "execute_result",
          "data": {
            "text/plain": [
              "tensor([ True,  True, False,  ...,  True,  True,  True])"
            ]
          },
          "metadata": {},
          "execution_count": 22
        }
      ]
    },
    {
      "cell_type": "code",
      "source": [
        "#We can test the accuracy by getting the average of the bool vals\n",
        "acc_3 = is_3(valid_3_tens).float().mean()\n",
        "acc_7 = 1 - is_3(valid_7_tens).float().mean()\n",
        "acc_3, acc_7"
      ],
      "metadata": {
        "colab": {
          "base_uri": "https://localhost:8080/"
        },
        "id": "aD-vX5A7kF9Y",
        "outputId": "3654d2e7-fcd9-4184-857d-667b9ef616a1"
      },
      "execution_count": 23,
      "outputs": [
        {
          "output_type": "execute_result",
          "data": {
            "text/plain": [
              "(tensor(0.9168), tensor(0.9854))"
            ]
          },
          "metadata": {},
          "execution_count": 23
        }
      ]
    },
    {
      "cell_type": "code",
      "source": [
        "#Stocahastic Gradient Example\n",
        "def f(x): return x**2\n",
        "plot_function(f, 'x', 'x**2')"
      ],
      "metadata": {
        "colab": {
          "base_uri": "https://localhost:8080/",
          "height": 279
        },
        "id": "awjP_BzFmQV2",
        "outputId": "5a291fe8-0f00-4e36-a163-928fb150ae3f"
      },
      "execution_count": 24,
      "outputs": [
        {
          "output_type": "display_data",
          "data": {
            "text/plain": [
              "<Figure size 432x288 with 1 Axes>"
            ],
            "image/png": "[encoded data removed]"
          },
          "metadata": {
            "needs_background": "light"
          }
        }
      ]
    },
    {
      "cell_type": "code",
      "source": [
        "#Create tensor and tell it that we need gradients\n",
        "xt = tensor(3.).requires_grad_()\n",
        "#Calculate f(xt)\n",
        "yt = f(xt)\n",
        "yt #tensor obj that has gradient"
      ],
      "metadata": {
        "colab": {
          "base_uri": "https://localhost:8080/"
        },
        "id": "ze65EK1EmeLA",
        "outputId": "879bf700-48f3-4470-afe8-6bcc5cea8beb"
      },
      "execution_count": 25,
      "outputs": [
        {
          "output_type": "execute_result",
          "data": {
            "text/plain": [
              "tensor(9., grad_fn=<PowBackward0>)"
            ]
          },
          "metadata": {},
          "execution_count": 25
        }
      ]
    },
    {
      "cell_type": "code",
      "source": [
        "#calculate gradient\n",
        "yt.backward()\n",
        "#We can now view the gradients\n",
        "xt.grad"
      ],
      "metadata": {
        "colab": {
          "base_uri": "https://localhost:8080/"
        },
        "id": "pA5eEwhLm7xp",
        "outputId": "f8dfccd4-1e2d-4871-fda8-36fcb34eb9eb"
      },
      "execution_count": 26,
      "outputs": [
        {
          "output_type": "execute_result",
          "data": {
            "text/plain": [
              "tensor(6.)"
            ]
          },
          "metadata": {},
          "execution_count": 26
        }
      ]
    },
    {
      "cell_type": "code",
      "source": [
        "#we can do this on vectors as well\n",
        "xt = tensor([3.,4.,10.]).requires_grad_()\n",
        "xt"
      ],
      "metadata": {
        "colab": {
          "base_uri": "https://localhost:8080/"
        },
        "id": "gIx41MiMnQcy",
        "outputId": "a3995eac-8b6e-412a-e617-05e16300700e"
      },
      "execution_count": 27,
      "outputs": [
        {
          "output_type": "execute_result",
          "data": {
            "text/plain": [
              "tensor([ 3.,  4., 10.], requires_grad=True)"
            ]
          },
          "metadata": {},
          "execution_count": 27
        }
      ]
    },
    {
      "cell_type": "code",
      "source": [
        "def f(x): return (x**2).sum() #add sum so we can handle vectors\n",
        "yt = f(xt)\n",
        "yt.backward()\n",
        "xt.grad"
      ],
      "metadata": {
        "colab": {
          "base_uri": "https://localhost:8080/"
        },
        "id": "s9hHIt3wnaH4",
        "outputId": "a02c729c-ff8b-42f4-d914-c4fd48727504"
      },
      "execution_count": 28,
      "outputs": [
        {
          "output_type": "execute_result",
          "data": {
            "text/plain": [
              "tensor([ 6.,  8., 20.])"
            ]
          },
          "metadata": {},
          "execution_count": 28
        }
      ]
    }
  ]
}