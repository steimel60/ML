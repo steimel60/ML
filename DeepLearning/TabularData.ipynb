{
  "nbformat": 4,
  "nbformat_minor": 0,
  "metadata": {
    "colab": {
      "name": "TabularData.ipynb",
      "provenance": [],
      "authorship_tag": "ABX9TyNpe2v0Bq3wyIGLgpBUZmR0",
      "include_colab_link": true
    },
    "kernelspec": {
      "name": "python3",
      "display_name": "Python 3"
    },
    "language_info": {
      "name": "python"
    },
    "accelerator": "GPU"
  },
  "cells": [
    {
      "cell_type": "markdown",
      "metadata": {
        "id": "view-in-github",
        "colab_type": "text"
      },
      "source": [
        "<a href=\"https://colab.research.google.com/github/steimel60/ML/blob/main/DeepLearning/TabularData.ipynb\" target=\"_parent\"><img src=\"https://colab.research.google.com/assets/colab-badge.svg\" alt=\"Open In Colab\"/></a>"
      ]
    },
    {
      "cell_type": "code",
      "execution_count": 1,
      "metadata": {
        "colab": {
          "base_uri": "https://localhost:8080/"
        },
        "id": "WrvZXisH0BCc",
        "outputId": "d7784403-088d-489e-ec33-104bd8ee91f8"
      },
      "outputs": [
        {
          "output_type": "stream",
          "name": "stdout",
          "text": [
            "\u001b[K     |████████████████████████████████| 719 kB 5.1 MB/s \n",
            "\u001b[K     |████████████████████████████████| 1.2 MB 38.6 MB/s \n",
            "\u001b[K     |████████████████████████████████| 4.2 MB 44.1 MB/s \n",
            "\u001b[K     |████████████████████████████████| 197 kB 67.0 MB/s \n",
            "\u001b[K     |████████████████████████████████| 346 kB 66.1 MB/s \n",
            "\u001b[K     |████████████████████████████████| 59 kB 8.6 MB/s \n",
            "\u001b[K     |████████████████████████████████| 212 kB 72.9 MB/s \n",
            "\u001b[K     |████████████████████████████████| 140 kB 73.7 MB/s \n",
            "\u001b[K     |████████████████████████████████| 1.1 MB 53.6 MB/s \n",
            "\u001b[K     |████████████████████████████████| 86 kB 5.2 MB/s \n",
            "\u001b[K     |████████████████████████████████| 86 kB 6.6 MB/s \n",
            "\u001b[K     |████████████████████████████████| 596 kB 59.8 MB/s \n",
            "\u001b[K     |████████████████████████████████| 127 kB 73.5 MB/s \n",
            "\u001b[K     |████████████████████████████████| 271 kB 71.6 MB/s \n",
            "\u001b[K     |████████████████████████████████| 94 kB 4.3 MB/s \n",
            "\u001b[K     |████████████████████████████████| 144 kB 67.0 MB/s \n",
            "\u001b[K     |████████████████████████████████| 112 kB 63.0 MB/s \n",
            "\u001b[K     |████████████████████████████████| 6.6 MB 50.5 MB/s \n",
            "\u001b[31mERROR: pip's dependency resolver does not currently take into account all the packages that are installed. This behaviour is the source of the following dependency conflicts.\n",
            "datascience 0.10.6 requires folium==0.2.1, but you have folium 0.8.3 which is incompatible.\u001b[0m\n",
            "\u001b[?25hMounted at /content/gdrive\n",
            "Looking in indexes: https://pypi.org/simple, https://us-python.pkg.dev/colab-wheels/public/simple/\n",
            "Requirement already satisfied: kaggle in /usr/local/lib/python3.7/dist-packages (1.5.12)\n",
            "Requirement already satisfied: tqdm in /usr/local/lib/python3.7/dist-packages (from kaggle) (4.64.0)\n",
            "Requirement already satisfied: python-slugify in /usr/local/lib/python3.7/dist-packages (from kaggle) (6.1.2)\n",
            "Requirement already satisfied: urllib3 in /usr/local/lib/python3.7/dist-packages (from kaggle) (1.25.11)\n",
            "Requirement already satisfied: certifi in /usr/local/lib/python3.7/dist-packages (from kaggle) (2022.5.18.1)\n",
            "Requirement already satisfied: requests in /usr/local/lib/python3.7/dist-packages (from kaggle) (2.23.0)\n",
            "Requirement already satisfied: six>=1.10 in /usr/local/lib/python3.7/dist-packages (from kaggle) (1.15.0)\n",
            "Requirement already satisfied: python-dateutil in /usr/local/lib/python3.7/dist-packages (from kaggle) (2.8.2)\n",
            "Requirement already satisfied: text-unidecode>=1.3 in /usr/local/lib/python3.7/dist-packages (from python-slugify->kaggle) (1.3)\n",
            "Requirement already satisfied: idna<3,>=2.5 in /usr/local/lib/python3.7/dist-packages (from requests->kaggle) (2.10)\n",
            "Requirement already satisfied: chardet<4,>=3.0.2 in /usr/local/lib/python3.7/dist-packages (from requests->kaggle) (3.0.4)\n"
          ]
        }
      ],
      "source": [
        "!pip install -Uqq fastbook\n",
        "import fastbook\n",
        "fastbook.setup_book()\n",
        "from fastbook import *\n",
        "!pip install kaggle"
      ]
    },
    {
      "cell_type": "code",
      "source": [
        "creds = '{\"username\":\"dylansteimel\",\"key\":\"b866f4bd21f4258d1089a99637b0af63\"}'\n",
        "cred_path = Path('~/.kaggle/kaggle.json').expanduser()\n",
        "if not cred_path.exists():\n",
        "  cred_path.parent.mkdir(exist_ok=True)\n",
        "  cred_path.mk_write(creds)\n",
        "  cred_path.chmod(0o600)\n",
        "\n",
        "import kaggle\n",
        "api = kaggle.api"
      ],
      "metadata": {
        "id": "Kr34eveb4wps"
      },
      "execution_count": 2,
      "outputs": []
    },
    {
      "cell_type": "code",
      "source": [
        "def file_extract(fname, dest=None):\n",
        "     \"Extract `fname` to `dest` using `tarfile` or `zipfile`.\"\n",
        "     if dest is None: dest = Path(fname).parent\n",
        "     fname = str(fname)\n",
        "     if   fname.endswith('gz'):  tarfile.open(fname, 'r:gz').extractall(dest)\n",
        "     elif fname.endswith('zip'): zipfile.ZipFile(fname     ).extractall(dest)\n",
        "     else: raise Exception(f'Unrecognized archive: {fname}')"
      ],
      "metadata": {
        "id": "ToIbduPa7A9v"
      },
      "execution_count": 3,
      "outputs": []
    },
    {
      "cell_type": "code",
      "source": [
        "path = Path('/content/bluebook')\n",
        "if not path.exists():\n",
        "  path.mkdir()\n",
        "  kaggle.api.competition_download_cli('bluebook-for-bulldozers', path=path)\n",
        "file_extract(path/'bluebook-for-bulldozers.zip')\n",
        "path.ls(file_type='text')"
      ],
      "metadata": {
        "colab": {
          "base_uri": "https://localhost:8080/"
        },
        "id": "KzGLtw6I2TFe",
        "outputId": "41a33201-45e1-40e5-d858-22c12fae0b33"
      },
      "execution_count": 4,
      "outputs": [
        {
          "output_type": "stream",
          "name": "stdout",
          "text": [
            "Downloading bluebook-for-bulldozers.zip to /content/bluebook\n"
          ]
        },
        {
          "output_type": "stream",
          "name": "stderr",
          "text": [
            "100%|██████████| 48.4M/48.4M [00:02<00:00, 23.3MB/s]\n"
          ]
        },
        {
          "output_type": "stream",
          "name": "stdout",
          "text": [
            "\n"
          ]
        },
        {
          "output_type": "execute_result",
          "data": {
            "text/plain": [
              "(#7) [Path('/content/bluebook/Valid.csv'),Path('/content/bluebook/median_benchmark.csv'),Path('/content/bluebook/TrainAndValid.csv'),Path('/content/bluebook/ValidSolution.csv'),Path('/content/bluebook/Test.csv'),Path('/content/bluebook/Machine_Appendix.csv'),Path('/content/bluebook/random_forest_benchmark_test.csv')]"
            ]
          },
          "metadata": {},
          "execution_count": 4
        }
      ]
    },
    {
      "cell_type": "code",
      "source": [
        "import pandas as pd"
      ],
      "metadata": {
        "id": "MeMo9Tu47YEe"
      },
      "execution_count": 5,
      "outputs": []
    },
    {
      "cell_type": "code",
      "source": [
        "df = pd.read_csv(path/'TrainAndValid.csv', low_memory=False)\n",
        "df.columns"
      ],
      "metadata": {
        "colab": {
          "base_uri": "https://localhost:8080/"
        },
        "id": "T3DvXhXf7dH2",
        "outputId": "293bcdf0-b7ed-43b6-d0af-43a15419ccab"
      },
      "execution_count": 6,
      "outputs": [
        {
          "output_type": "execute_result",
          "data": {
            "text/plain": [
              "Index(['SalesID', 'SalePrice', 'MachineID', 'ModelID', 'datasource',\n",
              "       'auctioneerID', 'YearMade', 'MachineHoursCurrentMeter', 'UsageBand',\n",
              "       'saledate', 'fiModelDesc', 'fiBaseModel', 'fiSecondaryDesc',\n",
              "       'fiModelSeries', 'fiModelDescriptor', 'ProductSize',\n",
              "       'fiProductClassDesc', 'state', 'ProductGroup', 'ProductGroupDesc',\n",
              "       'Drive_System', 'Enclosure', 'Forks', 'Pad_Type', 'Ride_Control',\n",
              "       'Stick', 'Transmission', 'Turbocharged', 'Blade_Extension',\n",
              "       'Blade_Width', 'Enclosure_Type', 'Engine_Horsepower', 'Hydraulics',\n",
              "       'Pushblock', 'Ripper', 'Scarifier', 'Tip_Control', 'Tire_Size',\n",
              "       'Coupler', 'Coupler_System', 'Grouser_Tracks', 'Hydraulics_Flow',\n",
              "       'Track_Type', 'Undercarriage_Pad_Width', 'Stick_Length', 'Thumb',\n",
              "       'Pattern_Changer', 'Grouser_Type', 'Backhoe_Mounting', 'Blade_Type',\n",
              "       'Travel_Controls', 'Differential_Type', 'Steering_Controls'],\n",
              "      dtype='object')"
            ]
          },
          "metadata": {},
          "execution_count": 6
        }
      ]
    },
    {
      "cell_type": "code",
      "source": [
        "#View sizes\n",
        "df['ProductSize'].unique()"
      ],
      "metadata": {
        "colab": {
          "base_uri": "https://localhost:8080/"
        },
        "id": "7D0lFFdv70yS",
        "outputId": "8fac39a5-1539-4770-dbfc-1bc218eff968"
      },
      "execution_count": 7,
      "outputs": [
        {
          "output_type": "execute_result",
          "data": {
            "text/plain": [
              "array([nan, 'Medium', 'Small', 'Large / Medium', 'Mini', 'Large', 'Compact'], dtype=object)"
            ]
          },
          "metadata": {},
          "execution_count": 7
        }
      ]
    },
    {
      "cell_type": "code",
      "source": [
        "#Order the products by size\n",
        "sizes = 'Large', 'Large / Medium', 'Medium', 'Small', 'Mini', 'Compact'\n",
        "df['ProductSize'] = df['ProductSize'].astype('category')\n",
        "df['ProductSize'].cat.set_categories(sizes, ordered=True, inplace=True)"
      ],
      "metadata": {
        "colab": {
          "base_uri": "https://localhost:8080/"
        },
        "id": "jxX-e6-3754q",
        "outputId": "18b79c5c-03c9-4583-d807-c50a931e3fe7"
      },
      "execution_count": 8,
      "outputs": [
        {
          "output_type": "stream",
          "name": "stderr",
          "text": [
            "/usr/local/lib/python3.7/dist-packages/pandas/core/arrays/categorical.py:2631: FutureWarning: The `inplace` parameter in pandas.Categorical.set_categories is deprecated and will be removed in a future version. Removing unused categories will always return a new Categorical object.\n",
            "  res = method(*args, **kwargs)\n"
          ]
        }
      ]
    },
    {
      "cell_type": "code",
      "source": [
        "#Kaggle tells us to us Root Mean Squared Log Error as our metric\n",
        "#So we change our dependant variable - Sales Price - to it's log\n",
        "dv = 'SalePrice'\n",
        "df[dv] = np.log(df[dv])"
      ],
      "metadata": {
        "id": "AcTnQAV38rZZ"
      },
      "execution_count": 9,
      "outputs": []
    },
    {
      "cell_type": "markdown",
      "source": [
        "This Section goes over Decision Trees which I go over in more detail in my ML/BaseReferences directory."
      ],
      "metadata": {
        "id": "4-pWU1ShwLJt"
      }
    }
  ]
}