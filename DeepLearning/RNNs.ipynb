{
  "nbformat": 4,
  "nbformat_minor": 0,
  "metadata": {
    "colab": {
      "name": "RNNs.ipynb",
      "provenance": [],
      "authorship_tag": "ABX9TyP2NQwMXfA/cZipAoO6Y1Ia",
      "include_colab_link": true
    },
    "kernelspec": {
      "name": "python3",
      "display_name": "Python 3"
    },
    "language_info": {
      "name": "python"
    },
    "accelerator": "GPU"
  },
  "cells": [
    {
      "cell_type": "markdown",
      "metadata": {
        "id": "view-in-github",
        "colab_type": "text"
      },
      "source": [
        "<a href=\"https://colab.research.google.com/github/steimel60/ML/blob/main/DeepLearning/RNNs.ipynb\" target=\"_parent\"><img src=\"https://colab.research.google.com/assets/colab-badge.svg\" alt=\"Open In Colab\"/></a>"
      ]
    },
    {
      "cell_type": "code",
      "execution_count": 1,
      "metadata": {
        "colab": {
          "base_uri": "https://localhost:8080/"
        },
        "id": "8X6JG3i1COyC",
        "outputId": "daf4407e-c7e6-4f9b-c9bd-7fbc5ec0a44a"
      },
      "outputs": [
        {
          "output_type": "stream",
          "name": "stdout",
          "text": [
            "\u001b[K     |████████████████████████████████| 719 kB 19.2 MB/s \n",
            "\u001b[K     |████████████████████████████████| 4.2 MB 46.8 MB/s \n",
            "\u001b[K     |████████████████████████████████| 197 kB 54.2 MB/s \n",
            "\u001b[K     |████████████████████████████████| 1.2 MB 69.2 MB/s \n",
            "\u001b[K     |████████████████████████████████| 346 kB 69.1 MB/s \n",
            "\u001b[K     |████████████████████████████████| 60 kB 7.3 MB/s \n",
            "\u001b[K     |████████████████████████████████| 1.1 MB 32.1 MB/s \n",
            "\u001b[K     |████████████████████████████████| 86 kB 7.4 MB/s \n",
            "\u001b[K     |████████████████████████████████| 212 kB 65.3 MB/s \n",
            "\u001b[K     |████████████████████████████████| 86 kB 5.9 MB/s \n",
            "\u001b[K     |████████████████████████████████| 140 kB 70.5 MB/s \n",
            "\u001b[K     |████████████████████████████████| 596 kB 53.0 MB/s \n",
            "\u001b[K     |████████████████████████████████| 127 kB 80.2 MB/s \n",
            "\u001b[K     |████████████████████████████████| 271 kB 75.3 MB/s \n",
            "\u001b[K     |████████████████████████████████| 144 kB 51.6 MB/s \n",
            "\u001b[K     |████████████████████████████████| 94 kB 4.0 MB/s \n",
            "\u001b[K     |████████████████████████████████| 112 kB 3.3 MB/s \n",
            "\u001b[K     |████████████████████████████████| 6.6 MB 67.8 MB/s \n",
            "\u001b[31mERROR: pip's dependency resolver does not currently take into account all the packages that are installed. This behaviour is the source of the following dependency conflicts.\n",
            "datascience 0.10.6 requires folium==0.2.1, but you have folium 0.8.3 which is incompatible.\u001b[0m\n",
            "\u001b[?25hMounted at /content/gdrive\n"
          ]
        }
      ],
      "source": [
        "!pip install -Uqq fastbook\n",
        "import fastbook\n",
        "fastbook.setup_book()\n",
        "from fastbook import *\n",
        "from fastai.text.all import *"
      ]
    },
    {
      "cell_type": "code",
      "source": [
        "path = untar_data(URLs.IMDB)\n",
        "files = get_text_files(path, folders = ['train', 'test', 'unsup'])\n",
        "txt = files[0].open().read()\n",
        "txt [:75]"
      ],
      "metadata": {
        "colab": {
          "base_uri": "https://localhost:8080/",
          "height": 55
        },
        "id": "b-fBxOYuEYJ4",
        "outputId": "9f9069e6-3b42-4e77-e585-aeac0acce653"
      },
      "execution_count": 3,
      "outputs": [
        {
          "output_type": "display_data",
          "data": {
            "text/plain": [
              "<IPython.core.display.HTML object>"
            ],
            "text/html": [
              "\n",
              "<style>\n",
              "    /* Turns off some styling */\n",
              "    progress {\n",
              "        /* gets rid of default border in Firefox and Opera. */\n",
              "        border: none;\n",
              "        /* Needs to be in here for Safari polyfill so background images work as expected. */\n",
              "        background-size: auto;\n",
              "    }\n",
              "    .progress-bar-interrupted, .progress-bar-interrupted::-webkit-progress-bar {\n",
              "        background: #F44336;\n",
              "    }\n",
              "</style>\n"
            ]
          },
          "metadata": {}
        },
        {
          "output_type": "display_data",
          "data": {
            "text/plain": [
              "<IPython.core.display.HTML object>"
            ],
            "text/html": [
              "\n",
              "    <div>\n",
              "      <progress value='144441344' class='' max='144440600' style='width:300px; height:20px; vertical-align: middle;'></progress>\n",
              "      100.00% [144441344/144440600 00:02<00:00]\n",
              "    </div>\n",
              "    "
            ]
          },
          "metadata": {}
        },
        {
          "output_type": "execute_result",
          "data": {
            "text/plain": [
              "'\"The Secret Garden\" is one of those rare films that forces you to see Life\\''"
            ],
            "application/vnd.google.colaboratory.intrinsic+json": {
              "type": "string"
            }
          },
          "metadata": {},
          "execution_count": 3
        }
      ]
    },
    {
      "cell_type": "code",
      "source": [
        "spacy = WordTokenizer()\n",
        "toks = first(spacy([txt])) #fastai's tokenizers take collections of docs so we wrap txt in a list\n",
        "print(coll_repr(toks, 30)) #Show our collection of tokens"
      ],
      "metadata": {
        "colab": {
          "base_uri": "https://localhost:8080/"
        },
        "id": "rXnIjZZ7E6Qb",
        "outputId": "34ce8e7b-e7d5-4fd2-8c6c-f60cdfefa8de"
      },
      "execution_count": 4,
      "outputs": [
        {
          "output_type": "stream",
          "name": "stdout",
          "text": [
            "(#194) ['\"','The','Secret','Garden','\"','is','one','of','those','rare','films','that','forces','you','to','see','Life',\"'s\",'inherent','beauty','.','It','is','a','gothic','tale','which','miraculously','transforms','itself'...]\n"
          ]
        }
      ]
    },
    {
      "cell_type": "code",
      "source": [
        "#We can use fastai to add some additional functionality, like add prefix xx to words without a common base\n",
        "tkn = Tokenizer(spacy)\n",
        "print(coll_repr(tkn(txt)),31)"
      ],
      "metadata": {
        "colab": {
          "base_uri": "https://localhost:8080/"
        },
        "id": "g0QRkFODGCND",
        "outputId": "d494f693-cd5e-42a0-fde2-34f94974ac73"
      },
      "execution_count": 5,
      "outputs": [
        {
          "output_type": "stream",
          "name": "stdout",
          "text": [
            "(#210) ['xxbos','\"','the','xxmaj','secret','xxmaj','garden','\"','is','one'...] 31\n"
          ]
        }
      ]
    },
    {
      "cell_type": "markdown",
      "source": [
        "Subtokens can be used to get the most commonly occuring groups of letters."
      ],
      "metadata": {
        "id": "FlYvF2ItHUZY"
      }
    },
    {
      "cell_type": "code",
      "source": [
        "txts = L(o.open().read() for o in files[:2000])\n",
        "\n",
        "def subword(sz):\n",
        "  sp = SubwordTokenizer(vocab_sz=sz)\n",
        "  sp.setup(txts)\n",
        "  return ' '.join(first(sp([txt]))[:40])\n",
        "\n",
        "subword(1000) #1000 most common combinations of letters (from our txts docs) grouped together and applied to txt example"
      ],
      "metadata": {
        "colab": {
          "base_uri": "https://localhost:8080/",
          "height": 35
        },
        "id": "TJYyLerCHf0p",
        "outputId": "3ab37934-68d5-49a9-ce8b-844e9ba3d3ee"
      },
      "execution_count": 7,
      "outputs": [
        {
          "output_type": "display_data",
          "data": {
            "text/plain": [
              "<IPython.core.display.HTML object>"
            ],
            "text/html": [
              "\n",
              "<style>\n",
              "    /* Turns off some styling */\n",
              "    progress {\n",
              "        /* gets rid of default border in Firefox and Opera. */\n",
              "        border: none;\n",
              "        /* Needs to be in here for Safari polyfill so background images work as expected. */\n",
              "        background-size: auto;\n",
              "    }\n",
              "    .progress-bar-interrupted, .progress-bar-interrupted::-webkit-progress-bar {\n",
              "        background: #F44336;\n",
              "    }\n",
              "</style>\n"
            ]
          },
          "metadata": {}
        },
        {
          "output_type": "display_data",
          "data": {
            "text/plain": [
              "<IPython.core.display.HTML object>"
            ],
            "text/html": [
              ""
            ]
          },
          "metadata": {}
        },
        {
          "output_type": "execute_result",
          "data": {
            "text/plain": [
              "'▁\" The ▁S e c re t ▁G ard en \" ▁is ▁one ▁of ▁those ▁ra re ▁films ▁that ▁for ce s ▁you ▁to ▁see ▁Li f e \\' s ▁in h er ent ▁be a ut y . ▁It'"
            ],
            "application/vnd.google.colaboratory.intrinsic+json": {
              "type": "string"
            }
          },
          "metadata": {},
          "execution_count": 7
        }
      ]
    },
    {
      "cell_type": "markdown",
      "source": [
        "Numericalization is the process of mapping tokens to integers"
      ],
      "metadata": {
        "id": "FvwzGWxsIV_r"
      }
    },
    {
      "cell_type": "code",
      "source": [
        "toks200 = txts[:200].map(tkn) #Get small subset of tokenized docs\n",
        "toks200[0]"
      ],
      "metadata": {
        "colab": {
          "base_uri": "https://localhost:8080/"
        },
        "id": "uTPG_D4PIbm1",
        "outputId": "7ec9851b-991e-4725-ba15-0943d3cf5508"
      },
      "execution_count": 8,
      "outputs": [
        {
          "output_type": "execute_result",
          "data": {
            "text/plain": [
              "(#210) ['xxbos','\"','the','xxmaj','secret','xxmaj','garden','\"','is','one'...]"
            ]
          },
          "metadata": {},
          "execution_count": 8
        }
      ]
    },
    {
      "cell_type": "code",
      "source": [
        "#Pass this to set up vocab\n",
        "num = Numericalize()\n",
        "num.setup(toks200)\n",
        "coll_repr(num.vocab,20)"
      ],
      "metadata": {
        "colab": {
          "base_uri": "https://localhost:8080/",
          "height": 35
        },
        "id": "Ev58TA5bIpQ3",
        "outputId": "75bcd427-76f6-4406-e11a-8075db7e0872"
      },
      "execution_count": 9,
      "outputs": [
        {
          "output_type": "execute_result",
          "data": {
            "text/plain": [
              "\"(#2040) ['xxunk','xxpad','xxbos','xxeos','xxfld','xxrep','xxwrep','xxup','xxmaj','the',',','.','and','a','of','to','is','it','in','i'...]\""
            ],
            "application/vnd.google.colaboratory.intrinsic+json": {
              "type": "string"
            }
          },
          "metadata": {},
          "execution_count": 9
        }
      ]
    },
    {
      "cell_type": "code",
      "source": [
        "#we can use num as a func\n",
        "nums = num(toks)[:20]\n",
        "nums"
      ],
      "metadata": {
        "colab": {
          "base_uri": "https://localhost:8080/"
        },
        "id": "d3A9ZIVJJOMa",
        "outputId": "3447dcfc-1b4f-4e93-da28-bf28c9fcf416"
      },
      "execution_count": 10,
      "outputs": [
        {
          "output_type": "execute_result",
          "data": {
            "text/plain": [
              "TensorText([ 22,   0,   0,   0,  22,  16,  41,  14, 155,   0, 142,  20,   0,  42,  15,  94,   0,  23,   0, 737])"
            ]
          },
          "metadata": {},
          "execution_count": 10
        }
      ]
    },
    {
      "cell_type": "code",
      "source": [
        "#nums is just a tensor of indices we can map to get our text\n",
        "' '.join(num.vocab[o] for o in nums)"
      ],
      "metadata": {
        "colab": {
          "base_uri": "https://localhost:8080/",
          "height": 35
        },
        "id": "mvRvHg3ZJXqZ",
        "outputId": "d0ba5f84-7a9d-4d17-8eb6-116523785d27"
      },
      "execution_count": 11,
      "outputs": [
        {
          "output_type": "execute_result",
          "data": {
            "text/plain": [
              "'\" xxunk xxunk xxunk \" is one of those xxunk films that xxunk you to see xxunk \\'s xxunk beauty'"
            ],
            "application/vnd.google.colaboratory.intrinsic+json": {
              "type": "string"
            }
          },
          "metadata": {},
          "execution_count": 11
        }
      ]
    }
  ]
}