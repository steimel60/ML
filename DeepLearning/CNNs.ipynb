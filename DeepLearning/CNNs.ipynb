{
  "nbformat": 4,
  "nbformat_minor": 0,
  "metadata": {
    "colab": {
      "name": "CNNs.ipynb",
      "provenance": [],
      "authorship_tag": "ABX9TyMiNpJDYBCp5NIb0Au0ZENh",
      "include_colab_link": true
    },
    "kernelspec": {
      "name": "python3",
      "display_name": "Python 3"
    },
    "language_info": {
      "name": "python"
    }
  },
  "cells": [
    {
      "cell_type": "markdown",
      "metadata": {
        "id": "view-in-github",
        "colab_type": "text"
      },
      "source": [
        "<a href=\"https://colab.research.google.com/github/steimel60/ML/blob/main/DeepLearning/CNNs.ipynb\" target=\"_parent\"><img src=\"https://colab.research.google.com/assets/colab-badge.svg\" alt=\"Open In Colab\"/></a>"
      ]
    },
    {
      "cell_type": "code",
      "execution_count": 1,
      "metadata": {
        "colab": {
          "base_uri": "https://localhost:8080/"
        },
        "id": "vFq-Ho4jAYG5",
        "outputId": "6ae515c2-8e59-4a60-e82d-11ff049444b4"
      },
      "outputs": [
        {
          "output_type": "stream",
          "name": "stdout",
          "text": [
            "\u001b[K     |████████████████████████████████| 719 kB 20.3 MB/s \n",
            "\u001b[K     |████████████████████████████████| 1.2 MB 39.9 MB/s \n",
            "\u001b[K     |████████████████████████████████| 4.4 MB 18.1 MB/s \n",
            "\u001b[K     |████████████████████████████████| 362 kB 48.9 MB/s \n",
            "\u001b[K     |████████████████████████████████| 86 kB 2.1 MB/s \n",
            "\u001b[K     |████████████████████████████████| 212 kB 29.3 MB/s \n",
            "\u001b[K     |████████████████████████████████| 1.1 MB 36.2 MB/s \n",
            "\u001b[K     |████████████████████████████████| 140 kB 48.3 MB/s \n",
            "\u001b[K     |████████████████████████████████| 596 kB 42.4 MB/s \n",
            "\u001b[K     |████████████████████████████████| 127 kB 47.4 MB/s \n",
            "\u001b[K     |████████████████████████████████| 144 kB 37.9 MB/s \n",
            "\u001b[K     |████████████████████████████████| 271 kB 44.7 MB/s \n",
            "\u001b[K     |████████████████████████████████| 94 kB 2.4 MB/s \n",
            "\u001b[K     |████████████████████████████████| 6.6 MB 47.5 MB/s \n",
            "\u001b[31mERROR: pip's dependency resolver does not currently take into account all the packages that are installed. This behaviour is the source of the following dependency conflicts.\n",
            "datascience 0.10.6 requires folium==0.2.1, but you have folium 0.8.3 which is incompatible.\u001b[0m\n",
            "\u001b[?25hMounted at /content/gdrive\n"
          ]
        }
      ],
      "source": [
        "!pip install -Uqq fastbook\n",
        "import fastbook\n",
        "fastbook.setup_book()\n",
        "from fastbook import *\n",
        "from fastai.vision.all import *"
      ]
    },
    {
      "cell_type": "markdown",
      "source": [
        "We can use Kernels (small matrices of -1s, 0s, and 1s) to search for edges in our image - a common trait of certain numbers"
      ],
      "metadata": {
        "id": "hXZJbDENB2Gg"
      }
    },
    {
      "cell_type": "code",
      "source": [
        "#Make our kernel\n",
        "top_edge = tensor([[-1,-1,-1],\n",
        "                   [0,0,0],\n",
        "                   [1,1,1]]).float()"
      ],
      "metadata": {
        "id": "WcFpFCSiAooy"
      },
      "execution_count": 2,
      "outputs": []
    },
    {
      "cell_type": "code",
      "source": [
        "#Get an image\n",
        "path = untar_data(URLs.MNIST_SAMPLE)\n",
        "im3 = Image.open(path/'train'/'3'/'12.png')\n",
        "show_image(im3)"
      ],
      "metadata": {
        "colab": {
          "base_uri": "https://localhost:8080/",
          "height": 122
        },
        "id": "NcNDpFEECR2P",
        "outputId": "fd252256-d64b-491b-9e8c-dc2852ff7854"
      },
      "execution_count": 3,
      "outputs": [
        {
          "output_type": "display_data",
          "data": {
            "text/plain": [
              "<IPython.core.display.HTML object>"
            ],
            "text/html": [
              "\n",
              "<style>\n",
              "    /* Turns off some styling */\n",
              "    progress {\n",
              "        /* gets rid of default border in Firefox and Opera. */\n",
              "        border: none;\n",
              "        /* Needs to be in here for Safari polyfill so background images work as expected. */\n",
              "        background-size: auto;\n",
              "    }\n",
              "    .progress-bar-interrupted, .progress-bar-interrupted::-webkit-progress-bar {\n",
              "        background: #F44336;\n",
              "    }\n",
              "</style>\n"
            ]
          },
          "metadata": {}
        },
        {
          "output_type": "display_data",
          "data": {
            "text/plain": [
              "<IPython.core.display.HTML object>"
            ],
            "text/html": [
              "\n",
              "    <div>\n",
              "      <progress value='3219456' class='' max='3214948' style='width:300px; height:20px; vertical-align: middle;'></progress>\n",
              "      100.14% [3219456/3214948 00:00<00:00]\n",
              "    </div>\n",
              "    "
            ]
          },
          "metadata": {}
        },
        {
          "output_type": "execute_result",
          "data": {
            "text/plain": [
              "<matplotlib.axes._subplots.AxesSubplot at 0x7f27bfc909d0>"
            ]
          },
          "metadata": {},
          "execution_count": 3
        },
        {
          "output_type": "display_data",
          "data": {
            "text/plain": [
              "<Figure size 72x72 with 1 Axes>"
            ],
            "image/png": "[encoded data removed]"
          },
          "metadata": {
            "needs_background": "light"
          }
        }
      ]
    },
    {
      "cell_type": "code",
      "source": [
        "im3_t = tensor(im3)\n",
        "im3_t[0:3,0:3] * top_edge #Multiply a section of our image by our top edge matrix filter"
      ],
      "metadata": {
        "colab": {
          "base_uri": "https://localhost:8080/"
        },
        "id": "_12Fpz-2EirJ",
        "outputId": "eed2bc4d-6177-4f98-b27b-2467814f4548"
      },
      "execution_count": 4,
      "outputs": [
        {
          "output_type": "execute_result",
          "data": {
            "text/plain": [
              "tensor([[-0., -0., -0.],\n",
              "        [0., 0., 0.],\n",
              "        [0., 0., 0.]])"
            ]
          },
          "metadata": {},
          "execution_count": 4
        }
      ]
    },
    {
      "cell_type": "code",
      "source": [
        "(im3_t[0:3,0:3] * top_edge).sum() #Note our top corner was empty so we get all 0s"
      ],
      "metadata": {
        "colab": {
          "base_uri": "https://localhost:8080/"
        },
        "id": "uMZdJhJHFEKs",
        "outputId": "473cdc13-f2c1-44a7-d667-ec6a6439ea5c"
      },
      "execution_count": 5,
      "outputs": [
        {
          "output_type": "execute_result",
          "data": {
            "text/plain": [
              "tensor(0.)"
            ]
          },
          "metadata": {},
          "execution_count": 5
        }
      ]
    },
    {
      "cell_type": "code",
      "source": [
        "#Lets get more interesting part of image\n",
        "df = pd.DataFrame(im3_t[:10,:20])\n",
        "df.style.set_properties(**{'font-size':'6pt'}).background_gradient('Greys')"
      ],
      "metadata": {
        "colab": {
          "base_uri": "https://localhost:8080/",
          "height": 363
        },
        "id": "4zLpy114FPud",
        "outputId": "bef6045a-7290-4026-dc4b-c72aa7944736"
      },
      "execution_count": 6,
      "outputs": [
        {
          "output_type": "execute_result",
          "data": {
            "text/plain": [
              "<pandas.io.formats.style.Styler at 0x7f27bf3ca7d0>"
            ],
            "text/html": [
              "<style type=\"text/css\">\n",
              "#T_81cc7_row0_col0, #T_81cc7_row0_col1, #T_81cc7_row0_col2, #T_81cc7_row0_col3, #T_81cc7_row0_col4, #T_81cc7_row0_col5, #T_81cc7_row0_col6, #T_81cc7_row0_col7, #T_81cc7_row0_col8, #T_81cc7_row0_col9, #T_81cc7_row0_col10, #T_81cc7_row0_col11, #T_81cc7_row0_col12, #T_81cc7_row0_col13, #T_81cc7_row0_col14, #T_81cc7_row0_col15, #T_81cc7_row0_col16, #T_81cc7_row0_col17, #T_81cc7_row0_col18, #T_81cc7_row0_col19, #T_81cc7_row1_col0, #T_81cc7_row1_col1, #T_81cc7_row1_col2, #T_81cc7_row1_col3, #T_81cc7_row1_col4, #T_81cc7_row1_col5, #T_81cc7_row1_col6, #T_81cc7_row1_col7, #T_81cc7_row1_col8, #T_81cc7_row1_col9, #T_81cc7_row1_col10, #T_81cc7_row1_col11, #T_81cc7_row1_col12, #T_81cc7_row1_col13, #T_81cc7_row1_col14, #T_81cc7_row1_col15, #T_81cc7_row1_col16, #T_81cc7_row1_col17, #T_81cc7_row1_col18, #T_81cc7_row1_col19, #T_81cc7_row2_col0, #T_81cc7_row2_col1, #T_81cc7_row2_col2, #T_81cc7_row2_col3, #T_81cc7_row2_col4, #T_81cc7_row2_col5, #T_81cc7_row2_col6, #T_81cc7_row2_col7, #T_81cc7_row2_col8, #T_81cc7_row2_col9, #T_81cc7_row2_col10, #T_81cc7_row2_col11, #T_81cc7_row2_col12, #T_81cc7_row2_col13, #T_81cc7_row2_col14, #T_81cc7_row2_col15, #T_81cc7_row2_col16, #T_81cc7_row2_col17, #T_81cc7_row2_col18, #T_81cc7_row2_col19, #T_81cc7_row3_col0, #T_81cc7_row3_col1, #T_81cc7_row3_col2, #T_81cc7_row3_col3, #T_81cc7_row3_col4, #T_81cc7_row3_col5, #T_81cc7_row3_col6, #T_81cc7_row3_col7, #T_81cc7_row3_col8, #T_81cc7_row3_col9, #T_81cc7_row3_col10, #T_81cc7_row3_col11, #T_81cc7_row3_col12, #T_81cc7_row3_col13, #T_81cc7_row3_col14, #T_81cc7_row3_col15, #T_81cc7_row3_col16, #T_81cc7_row3_col17, #T_81cc7_row3_col18, #T_81cc7_row3_col19, #T_81cc7_row4_col0, #T_81cc7_row4_col1, #T_81cc7_row4_col2, #T_81cc7_row4_col3, #T_81cc7_row4_col4, #T_81cc7_row4_col5, #T_81cc7_row4_col6, #T_81cc7_row4_col7, #T_81cc7_row4_col8, #T_81cc7_row4_col9, #T_81cc7_row4_col10, #T_81cc7_row4_col11, #T_81cc7_row4_col12, #T_81cc7_row4_col13, #T_81cc7_row4_col14, #T_81cc7_row4_col15, #T_81cc7_row4_col16, #T_81cc7_row4_col17, #T_81cc7_row4_col18, #T_81cc7_row4_col19, #T_81cc7_row5_col0, #T_81cc7_row5_col1, #T_81cc7_row5_col2, #T_81cc7_row5_col16, #T_81cc7_row5_col17, #T_81cc7_row5_col18, #T_81cc7_row5_col19, #T_81cc7_row6_col0, #T_81cc7_row6_col1, #T_81cc7_row6_col2, #T_81cc7_row6_col19, #T_81cc7_row7_col0, #T_81cc7_row7_col1, #T_81cc7_row7_col2, #T_81cc7_row7_col19, #T_81cc7_row8_col0, #T_81cc7_row8_col1, #T_81cc7_row8_col2, #T_81cc7_row8_col8, #T_81cc7_row8_col9, #T_81cc7_row8_col10, #T_81cc7_row8_col11, #T_81cc7_row8_col12, #T_81cc7_row8_col13, #T_81cc7_row8_col19, #T_81cc7_row9_col0, #T_81cc7_row9_col1, #T_81cc7_row9_col2, #T_81cc7_row9_col3, #T_81cc7_row9_col4, #T_81cc7_row9_col5, #T_81cc7_row9_col6, #T_81cc7_row9_col7, #T_81cc7_row9_col8, #T_81cc7_row9_col9, #T_81cc7_row9_col10, #T_81cc7_row9_col11, #T_81cc7_row9_col12, #T_81cc7_row9_col13, #T_81cc7_row9_col19 {\n",
              "  font-size: 6pt;\n",
              "  background-color: #ffffff;\n",
              "  color: #000000;\n",
              "}\n",
              "#T_81cc7_row5_col3, #T_81cc7_row8_col14 {\n",
              "  font-size: 6pt;\n",
              "  background-color: #f9f9f9;\n",
              "  color: #000000;\n",
              "}\n",
              "#T_81cc7_row5_col4 {\n",
              "  font-size: 6pt;\n",
              "  background-color: #b9b9b9;\n",
              "  color: #000000;\n",
              "}\n",
              "#T_81cc7_row5_col5 {\n",
              "  font-size: 6pt;\n",
              "  background-color: #c1c1c1;\n",
              "  color: #000000;\n",
              "}\n",
              "#T_81cc7_row5_col6 {\n",
              "  font-size: 6pt;\n",
              "  background-color: #858585;\n",
              "  color: #f1f1f1;\n",
              "}\n",
              "#T_81cc7_row5_col7, #T_81cc7_row5_col10, #T_81cc7_row5_col11, #T_81cc7_row5_col12, #T_81cc7_row5_col13 {\n",
              "  font-size: 6pt;\n",
              "  background-color: #777777;\n",
              "  color: #f1f1f1;\n",
              "}\n",
              "#T_81cc7_row5_col8 {\n",
              "  font-size: 6pt;\n",
              "  background-color: #090909;\n",
              "  color: #f1f1f1;\n",
              "}\n",
              "#T_81cc7_row5_col9 {\n",
              "  font-size: 6pt;\n",
              "  background-color: #5b5b5b;\n",
              "  color: #f1f1f1;\n",
              "}\n",
              "#T_81cc7_row5_col14 {\n",
              "  font-size: 6pt;\n",
              "  background-color: #919191;\n",
              "  color: #f1f1f1;\n",
              "}\n",
              "#T_81cc7_row5_col15 {\n",
              "  font-size: 6pt;\n",
              "  background-color: #e1e1e1;\n",
              "  color: #000000;\n",
              "}\n",
              "#T_81cc7_row6_col3 {\n",
              "  font-size: 6pt;\n",
              "  background-color: #727272;\n",
              "  color: #f1f1f1;\n",
              "}\n",
              "#T_81cc7_row6_col4, #T_81cc7_row6_col5, #T_81cc7_row6_col6, #T_81cc7_row6_col7, #T_81cc7_row6_col8, #T_81cc7_row6_col9, #T_81cc7_row6_col10, #T_81cc7_row6_col11, #T_81cc7_row6_col12, #T_81cc7_row6_col13, #T_81cc7_row6_col14, #T_81cc7_row7_col3, #T_81cc7_row7_col4, #T_81cc7_row7_col5, #T_81cc7_row7_col6, #T_81cc7_row7_col15, #T_81cc7_row7_col16, #T_81cc7_row7_col17, #T_81cc7_row8_col16, #T_81cc7_row8_col17, #T_81cc7_row8_col18, #T_81cc7_row9_col15, #T_81cc7_row9_col16 {\n",
              "  font-size: 6pt;\n",
              "  background-color: #000000;\n",
              "  color: #f1f1f1;\n",
              "}\n",
              "#T_81cc7_row6_col15 {\n",
              "  font-size: 6pt;\n",
              "  background-color: #020202;\n",
              "  color: #f1f1f1;\n",
              "}\n",
              "#T_81cc7_row6_col16 {\n",
              "  font-size: 6pt;\n",
              "  background-color: #363636;\n",
              "  color: #f1f1f1;\n",
              "}\n",
              "#T_81cc7_row6_col17 {\n",
              "  font-size: 6pt;\n",
              "  background-color: #9d9d9d;\n",
              "  color: #f1f1f1;\n",
              "}\n",
              "#T_81cc7_row6_col18 {\n",
              "  font-size: 6pt;\n",
              "  background-color: #dfdfdf;\n",
              "  color: #000000;\n",
              "}\n",
              "#T_81cc7_row7_col7 {\n",
              "  font-size: 6pt;\n",
              "  background-color: #161616;\n",
              "  color: #f1f1f1;\n",
              "}\n",
              "#T_81cc7_row7_col8, #T_81cc7_row7_col9, #T_81cc7_row7_col10, #T_81cc7_row7_col11, #T_81cc7_row7_col13 {\n",
              "  font-size: 6pt;\n",
              "  background-color: #535353;\n",
              "  color: #f1f1f1;\n",
              "}\n",
              "#T_81cc7_row7_col12 {\n",
              "  font-size: 6pt;\n",
              "  background-color: #7c7c7c;\n",
              "  color: #f1f1f1;\n",
              "}\n",
              "#T_81cc7_row7_col14 {\n",
              "  font-size: 6pt;\n",
              "  background-color: #3d3d3d;\n",
              "  color: #f1f1f1;\n",
              "}\n",
              "#T_81cc7_row7_col18 {\n",
              "  font-size: 6pt;\n",
              "  background-color: #999999;\n",
              "  color: #f1f1f1;\n",
              "}\n",
              "#T_81cc7_row8_col3 {\n",
              "  font-size: 6pt;\n",
              "  background-color: #eaeaea;\n",
              "  color: #000000;\n",
              "}\n",
              "#T_81cc7_row8_col4 {\n",
              "  font-size: 6pt;\n",
              "  background-color: #d0d0d0;\n",
              "  color: #000000;\n",
              "}\n",
              "#T_81cc7_row8_col5, #T_81cc7_row8_col6 {\n",
              "  font-size: 6pt;\n",
              "  background-color: #eeeeee;\n",
              "  color: #000000;\n",
              "}\n",
              "#T_81cc7_row8_col7 {\n",
              "  font-size: 6pt;\n",
              "  background-color: #f3f3f3;\n",
              "  color: #000000;\n",
              "}\n",
              "#T_81cc7_row8_col15 {\n",
              "  font-size: 6pt;\n",
              "  background-color: #232323;\n",
              "  color: #f1f1f1;\n",
              "}\n",
              "#T_81cc7_row9_col14 {\n",
              "  font-size: 6pt;\n",
              "  background-color: #c2c2c2;\n",
              "  color: #000000;\n",
              "}\n",
              "#T_81cc7_row9_col17 {\n",
              "  font-size: 6pt;\n",
              "  background-color: #080808;\n",
              "  color: #f1f1f1;\n",
              "}\n",
              "#T_81cc7_row9_col18 {\n",
              "  font-size: 6pt;\n",
              "  background-color: #c4c4c4;\n",
              "  color: #000000;\n",
              "}\n",
              "</style>\n",
              "<table id=\"T_81cc7_\" class=\"dataframe\">\n",
              "  <thead>\n",
              "    <tr>\n",
              "      <th class=\"blank level0\" >&nbsp;</th>\n",
              "      <th class=\"col_heading level0 col0\" >0</th>\n",
              "      <th class=\"col_heading level0 col1\" >1</th>\n",
              "      <th class=\"col_heading level0 col2\" >2</th>\n",
              "      <th class=\"col_heading level0 col3\" >3</th>\n",
              "      <th class=\"col_heading level0 col4\" >4</th>\n",
              "      <th class=\"col_heading level0 col5\" >5</th>\n",
              "      <th class=\"col_heading level0 col6\" >6</th>\n",
              "      <th class=\"col_heading level0 col7\" >7</th>\n",
              "      <th class=\"col_heading level0 col8\" >8</th>\n",
              "      <th class=\"col_heading level0 col9\" >9</th>\n",
              "      <th class=\"col_heading level0 col10\" >10</th>\n",
              "      <th class=\"col_heading level0 col11\" >11</th>\n",
              "      <th class=\"col_heading level0 col12\" >12</th>\n",
              "      <th class=\"col_heading level0 col13\" >13</th>\n",
              "      <th class=\"col_heading level0 col14\" >14</th>\n",
              "      <th class=\"col_heading level0 col15\" >15</th>\n",
              "      <th class=\"col_heading level0 col16\" >16</th>\n",
              "      <th class=\"col_heading level0 col17\" >17</th>\n",
              "      <th class=\"col_heading level0 col18\" >18</th>\n",
              "      <th class=\"col_heading level0 col19\" >19</th>\n",
              "    </tr>\n",
              "  </thead>\n",
              "  <tbody>\n",
              "    <tr>\n",
              "      <th id=\"T_81cc7_level0_row0\" class=\"row_heading level0 row0\" >0</th>\n",
              "      <td id=\"T_81cc7_row0_col0\" class=\"data row0 col0\" >0</td>\n",
              "      <td id=\"T_81cc7_row0_col1\" class=\"data row0 col1\" >0</td>\n",
              "      <td id=\"T_81cc7_row0_col2\" class=\"data row0 col2\" >0</td>\n",
              "      <td id=\"T_81cc7_row0_col3\" class=\"data row0 col3\" >0</td>\n",
              "      <td id=\"T_81cc7_row0_col4\" class=\"data row0 col4\" >0</td>\n",
              "      <td id=\"T_81cc7_row0_col5\" class=\"data row0 col5\" >0</td>\n",
              "      <td id=\"T_81cc7_row0_col6\" class=\"data row0 col6\" >0</td>\n",
              "      <td id=\"T_81cc7_row0_col7\" class=\"data row0 col7\" >0</td>\n",
              "      <td id=\"T_81cc7_row0_col8\" class=\"data row0 col8\" >0</td>\n",
              "      <td id=\"T_81cc7_row0_col9\" class=\"data row0 col9\" >0</td>\n",
              "      <td id=\"T_81cc7_row0_col10\" class=\"data row0 col10\" >0</td>\n",
              "      <td id=\"T_81cc7_row0_col11\" class=\"data row0 col11\" >0</td>\n",
              "      <td id=\"T_81cc7_row0_col12\" class=\"data row0 col12\" >0</td>\n",
              "      <td id=\"T_81cc7_row0_col13\" class=\"data row0 col13\" >0</td>\n",
              "      <td id=\"T_81cc7_row0_col14\" class=\"data row0 col14\" >0</td>\n",
              "      <td id=\"T_81cc7_row0_col15\" class=\"data row0 col15\" >0</td>\n",
              "      <td id=\"T_81cc7_row0_col16\" class=\"data row0 col16\" >0</td>\n",
              "      <td id=\"T_81cc7_row0_col17\" class=\"data row0 col17\" >0</td>\n",
              "      <td id=\"T_81cc7_row0_col18\" class=\"data row0 col18\" >0</td>\n",
              "      <td id=\"T_81cc7_row0_col19\" class=\"data row0 col19\" >0</td>\n",
              "    </tr>\n",
              "    <tr>\n",
              "      <th id=\"T_81cc7_level0_row1\" class=\"row_heading level0 row1\" >1</th>\n",
              "      <td id=\"T_81cc7_row1_col0\" class=\"data row1 col0\" >0</td>\n",
              "      <td id=\"T_81cc7_row1_col1\" class=\"data row1 col1\" >0</td>\n",
              "      <td id=\"T_81cc7_row1_col2\" class=\"data row1 col2\" >0</td>\n",
              "      <td id=\"T_81cc7_row1_col3\" class=\"data row1 col3\" >0</td>\n",
              "      <td id=\"T_81cc7_row1_col4\" class=\"data row1 col4\" >0</td>\n",
              "      <td id=\"T_81cc7_row1_col5\" class=\"data row1 col5\" >0</td>\n",
              "      <td id=\"T_81cc7_row1_col6\" class=\"data row1 col6\" >0</td>\n",
              "      <td id=\"T_81cc7_row1_col7\" class=\"data row1 col7\" >0</td>\n",
              "      <td id=\"T_81cc7_row1_col8\" class=\"data row1 col8\" >0</td>\n",
              "      <td id=\"T_81cc7_row1_col9\" class=\"data row1 col9\" >0</td>\n",
              "      <td id=\"T_81cc7_row1_col10\" class=\"data row1 col10\" >0</td>\n",
              "      <td id=\"T_81cc7_row1_col11\" class=\"data row1 col11\" >0</td>\n",
              "      <td id=\"T_81cc7_row1_col12\" class=\"data row1 col12\" >0</td>\n",
              "      <td id=\"T_81cc7_row1_col13\" class=\"data row1 col13\" >0</td>\n",
              "      <td id=\"T_81cc7_row1_col14\" class=\"data row1 col14\" >0</td>\n",
              "      <td id=\"T_81cc7_row1_col15\" class=\"data row1 col15\" >0</td>\n",
              "      <td id=\"T_81cc7_row1_col16\" class=\"data row1 col16\" >0</td>\n",
              "      <td id=\"T_81cc7_row1_col17\" class=\"data row1 col17\" >0</td>\n",
              "      <td id=\"T_81cc7_row1_col18\" class=\"data row1 col18\" >0</td>\n",
              "      <td id=\"T_81cc7_row1_col19\" class=\"data row1 col19\" >0</td>\n",
              "    </tr>\n",
              "    <tr>\n",
              "      <th id=\"T_81cc7_level0_row2\" class=\"row_heading level0 row2\" >2</th>\n",
              "      <td id=\"T_81cc7_row2_col0\" class=\"data row2 col0\" >0</td>\n",
              "      <td id=\"T_81cc7_row2_col1\" class=\"data row2 col1\" >0</td>\n",
              "      <td id=\"T_81cc7_row2_col2\" class=\"data row2 col2\" >0</td>\n",
              "      <td id=\"T_81cc7_row2_col3\" class=\"data row2 col3\" >0</td>\n",
              "      <td id=\"T_81cc7_row2_col4\" class=\"data row2 col4\" >0</td>\n",
              "      <td id=\"T_81cc7_row2_col5\" class=\"data row2 col5\" >0</td>\n",
              "      <td id=\"T_81cc7_row2_col6\" class=\"data row2 col6\" >0</td>\n",
              "      <td id=\"T_81cc7_row2_col7\" class=\"data row2 col7\" >0</td>\n",
              "      <td id=\"T_81cc7_row2_col8\" class=\"data row2 col8\" >0</td>\n",
              "      <td id=\"T_81cc7_row2_col9\" class=\"data row2 col9\" >0</td>\n",
              "      <td id=\"T_81cc7_row2_col10\" class=\"data row2 col10\" >0</td>\n",
              "      <td id=\"T_81cc7_row2_col11\" class=\"data row2 col11\" >0</td>\n",
              "      <td id=\"T_81cc7_row2_col12\" class=\"data row2 col12\" >0</td>\n",
              "      <td id=\"T_81cc7_row2_col13\" class=\"data row2 col13\" >0</td>\n",
              "      <td id=\"T_81cc7_row2_col14\" class=\"data row2 col14\" >0</td>\n",
              "      <td id=\"T_81cc7_row2_col15\" class=\"data row2 col15\" >0</td>\n",
              "      <td id=\"T_81cc7_row2_col16\" class=\"data row2 col16\" >0</td>\n",
              "      <td id=\"T_81cc7_row2_col17\" class=\"data row2 col17\" >0</td>\n",
              "      <td id=\"T_81cc7_row2_col18\" class=\"data row2 col18\" >0</td>\n",
              "      <td id=\"T_81cc7_row2_col19\" class=\"data row2 col19\" >0</td>\n",
              "    </tr>\n",
              "    <tr>\n",
              "      <th id=\"T_81cc7_level0_row3\" class=\"row_heading level0 row3\" >3</th>\n",
              "      <td id=\"T_81cc7_row3_col0\" class=\"data row3 col0\" >0</td>\n",
              "      <td id=\"T_81cc7_row3_col1\" class=\"data row3 col1\" >0</td>\n",
              "      <td id=\"T_81cc7_row3_col2\" class=\"data row3 col2\" >0</td>\n",
              "      <td id=\"T_81cc7_row3_col3\" class=\"data row3 col3\" >0</td>\n",
              "      <td id=\"T_81cc7_row3_col4\" class=\"data row3 col4\" >0</td>\n",
              "      <td id=\"T_81cc7_row3_col5\" class=\"data row3 col5\" >0</td>\n",
              "      <td id=\"T_81cc7_row3_col6\" class=\"data row3 col6\" >0</td>\n",
              "      <td id=\"T_81cc7_row3_col7\" class=\"data row3 col7\" >0</td>\n",
              "      <td id=\"T_81cc7_row3_col8\" class=\"data row3 col8\" >0</td>\n",
              "      <td id=\"T_81cc7_row3_col9\" class=\"data row3 col9\" >0</td>\n",
              "      <td id=\"T_81cc7_row3_col10\" class=\"data row3 col10\" >0</td>\n",
              "      <td id=\"T_81cc7_row3_col11\" class=\"data row3 col11\" >0</td>\n",
              "      <td id=\"T_81cc7_row3_col12\" class=\"data row3 col12\" >0</td>\n",
              "      <td id=\"T_81cc7_row3_col13\" class=\"data row3 col13\" >0</td>\n",
              "      <td id=\"T_81cc7_row3_col14\" class=\"data row3 col14\" >0</td>\n",
              "      <td id=\"T_81cc7_row3_col15\" class=\"data row3 col15\" >0</td>\n",
              "      <td id=\"T_81cc7_row3_col16\" class=\"data row3 col16\" >0</td>\n",
              "      <td id=\"T_81cc7_row3_col17\" class=\"data row3 col17\" >0</td>\n",
              "      <td id=\"T_81cc7_row3_col18\" class=\"data row3 col18\" >0</td>\n",
              "      <td id=\"T_81cc7_row3_col19\" class=\"data row3 col19\" >0</td>\n",
              "    </tr>\n",
              "    <tr>\n",
              "      <th id=\"T_81cc7_level0_row4\" class=\"row_heading level0 row4\" >4</th>\n",
              "      <td id=\"T_81cc7_row4_col0\" class=\"data row4 col0\" >0</td>\n",
              "      <td id=\"T_81cc7_row4_col1\" class=\"data row4 col1\" >0</td>\n",
              "      <td id=\"T_81cc7_row4_col2\" class=\"data row4 col2\" >0</td>\n",
              "      <td id=\"T_81cc7_row4_col3\" class=\"data row4 col3\" >0</td>\n",
              "      <td id=\"T_81cc7_row4_col4\" class=\"data row4 col4\" >0</td>\n",
              "      <td id=\"T_81cc7_row4_col5\" class=\"data row4 col5\" >0</td>\n",
              "      <td id=\"T_81cc7_row4_col6\" class=\"data row4 col6\" >0</td>\n",
              "      <td id=\"T_81cc7_row4_col7\" class=\"data row4 col7\" >0</td>\n",
              "      <td id=\"T_81cc7_row4_col8\" class=\"data row4 col8\" >0</td>\n",
              "      <td id=\"T_81cc7_row4_col9\" class=\"data row4 col9\" >0</td>\n",
              "      <td id=\"T_81cc7_row4_col10\" class=\"data row4 col10\" >0</td>\n",
              "      <td id=\"T_81cc7_row4_col11\" class=\"data row4 col11\" >0</td>\n",
              "      <td id=\"T_81cc7_row4_col12\" class=\"data row4 col12\" >0</td>\n",
              "      <td id=\"T_81cc7_row4_col13\" class=\"data row4 col13\" >0</td>\n",
              "      <td id=\"T_81cc7_row4_col14\" class=\"data row4 col14\" >0</td>\n",
              "      <td id=\"T_81cc7_row4_col15\" class=\"data row4 col15\" >0</td>\n",
              "      <td id=\"T_81cc7_row4_col16\" class=\"data row4 col16\" >0</td>\n",
              "      <td id=\"T_81cc7_row4_col17\" class=\"data row4 col17\" >0</td>\n",
              "      <td id=\"T_81cc7_row4_col18\" class=\"data row4 col18\" >0</td>\n",
              "      <td id=\"T_81cc7_row4_col19\" class=\"data row4 col19\" >0</td>\n",
              "    </tr>\n",
              "    <tr>\n",
              "      <th id=\"T_81cc7_level0_row5\" class=\"row_heading level0 row5\" >5</th>\n",
              "      <td id=\"T_81cc7_row5_col0\" class=\"data row5 col0\" >0</td>\n",
              "      <td id=\"T_81cc7_row5_col1\" class=\"data row5 col1\" >0</td>\n",
              "      <td id=\"T_81cc7_row5_col2\" class=\"data row5 col2\" >0</td>\n",
              "      <td id=\"T_81cc7_row5_col3\" class=\"data row5 col3\" >12</td>\n",
              "      <td id=\"T_81cc7_row5_col4\" class=\"data row5 col4\" >99</td>\n",
              "      <td id=\"T_81cc7_row5_col5\" class=\"data row5 col5\" >91</td>\n",
              "      <td id=\"T_81cc7_row5_col6\" class=\"data row5 col6\" >142</td>\n",
              "      <td id=\"T_81cc7_row5_col7\" class=\"data row5 col7\" >155</td>\n",
              "      <td id=\"T_81cc7_row5_col8\" class=\"data row5 col8\" >246</td>\n",
              "      <td id=\"T_81cc7_row5_col9\" class=\"data row5 col9\" >182</td>\n",
              "      <td id=\"T_81cc7_row5_col10\" class=\"data row5 col10\" >155</td>\n",
              "      <td id=\"T_81cc7_row5_col11\" class=\"data row5 col11\" >155</td>\n",
              "      <td id=\"T_81cc7_row5_col12\" class=\"data row5 col12\" >155</td>\n",
              "      <td id=\"T_81cc7_row5_col13\" class=\"data row5 col13\" >155</td>\n",
              "      <td id=\"T_81cc7_row5_col14\" class=\"data row5 col14\" >131</td>\n",
              "      <td id=\"T_81cc7_row5_col15\" class=\"data row5 col15\" >52</td>\n",
              "      <td id=\"T_81cc7_row5_col16\" class=\"data row5 col16\" >0</td>\n",
              "      <td id=\"T_81cc7_row5_col17\" class=\"data row5 col17\" >0</td>\n",
              "      <td id=\"T_81cc7_row5_col18\" class=\"data row5 col18\" >0</td>\n",
              "      <td id=\"T_81cc7_row5_col19\" class=\"data row5 col19\" >0</td>\n",
              "    </tr>\n",
              "    <tr>\n",
              "      <th id=\"T_81cc7_level0_row6\" class=\"row_heading level0 row6\" >6</th>\n",
              "      <td id=\"T_81cc7_row6_col0\" class=\"data row6 col0\" >0</td>\n",
              "      <td id=\"T_81cc7_row6_col1\" class=\"data row6 col1\" >0</td>\n",
              "      <td id=\"T_81cc7_row6_col2\" class=\"data row6 col2\" >0</td>\n",
              "      <td id=\"T_81cc7_row6_col3\" class=\"data row6 col3\" >138</td>\n",
              "      <td id=\"T_81cc7_row6_col4\" class=\"data row6 col4\" >254</td>\n",
              "      <td id=\"T_81cc7_row6_col5\" class=\"data row6 col5\" >254</td>\n",
              "      <td id=\"T_81cc7_row6_col6\" class=\"data row6 col6\" >254</td>\n",
              "      <td id=\"T_81cc7_row6_col7\" class=\"data row6 col7\" >254</td>\n",
              "      <td id=\"T_81cc7_row6_col8\" class=\"data row6 col8\" >254</td>\n",
              "      <td id=\"T_81cc7_row6_col9\" class=\"data row6 col9\" >254</td>\n",
              "      <td id=\"T_81cc7_row6_col10\" class=\"data row6 col10\" >254</td>\n",
              "      <td id=\"T_81cc7_row6_col11\" class=\"data row6 col11\" >254</td>\n",
              "      <td id=\"T_81cc7_row6_col12\" class=\"data row6 col12\" >254</td>\n",
              "      <td id=\"T_81cc7_row6_col13\" class=\"data row6 col13\" >254</td>\n",
              "      <td id=\"T_81cc7_row6_col14\" class=\"data row6 col14\" >254</td>\n",
              "      <td id=\"T_81cc7_row6_col15\" class=\"data row6 col15\" >252</td>\n",
              "      <td id=\"T_81cc7_row6_col16\" class=\"data row6 col16\" >210</td>\n",
              "      <td id=\"T_81cc7_row6_col17\" class=\"data row6 col17\" >122</td>\n",
              "      <td id=\"T_81cc7_row6_col18\" class=\"data row6 col18\" >33</td>\n",
              "      <td id=\"T_81cc7_row6_col19\" class=\"data row6 col19\" >0</td>\n",
              "    </tr>\n",
              "    <tr>\n",
              "      <th id=\"T_81cc7_level0_row7\" class=\"row_heading level0 row7\" >7</th>\n",
              "      <td id=\"T_81cc7_row7_col0\" class=\"data row7 col0\" >0</td>\n",
              "      <td id=\"T_81cc7_row7_col1\" class=\"data row7 col1\" >0</td>\n",
              "      <td id=\"T_81cc7_row7_col2\" class=\"data row7 col2\" >0</td>\n",
              "      <td id=\"T_81cc7_row7_col3\" class=\"data row7 col3\" >220</td>\n",
              "      <td id=\"T_81cc7_row7_col4\" class=\"data row7 col4\" >254</td>\n",
              "      <td id=\"T_81cc7_row7_col5\" class=\"data row7 col5\" >254</td>\n",
              "      <td id=\"T_81cc7_row7_col6\" class=\"data row7 col6\" >254</td>\n",
              "      <td id=\"T_81cc7_row7_col7\" class=\"data row7 col7\" >235</td>\n",
              "      <td id=\"T_81cc7_row7_col8\" class=\"data row7 col8\" >189</td>\n",
              "      <td id=\"T_81cc7_row7_col9\" class=\"data row7 col9\" >189</td>\n",
              "      <td id=\"T_81cc7_row7_col10\" class=\"data row7 col10\" >189</td>\n",
              "      <td id=\"T_81cc7_row7_col11\" class=\"data row7 col11\" >189</td>\n",
              "      <td id=\"T_81cc7_row7_col12\" class=\"data row7 col12\" >150</td>\n",
              "      <td id=\"T_81cc7_row7_col13\" class=\"data row7 col13\" >189</td>\n",
              "      <td id=\"T_81cc7_row7_col14\" class=\"data row7 col14\" >205</td>\n",
              "      <td id=\"T_81cc7_row7_col15\" class=\"data row7 col15\" >254</td>\n",
              "      <td id=\"T_81cc7_row7_col16\" class=\"data row7 col16\" >254</td>\n",
              "      <td id=\"T_81cc7_row7_col17\" class=\"data row7 col17\" >254</td>\n",
              "      <td id=\"T_81cc7_row7_col18\" class=\"data row7 col18\" >75</td>\n",
              "      <td id=\"T_81cc7_row7_col19\" class=\"data row7 col19\" >0</td>\n",
              "    </tr>\n",
              "    <tr>\n",
              "      <th id=\"T_81cc7_level0_row8\" class=\"row_heading level0 row8\" >8</th>\n",
              "      <td id=\"T_81cc7_row8_col0\" class=\"data row8 col0\" >0</td>\n",
              "      <td id=\"T_81cc7_row8_col1\" class=\"data row8 col1\" >0</td>\n",
              "      <td id=\"T_81cc7_row8_col2\" class=\"data row8 col2\" >0</td>\n",
              "      <td id=\"T_81cc7_row8_col3\" class=\"data row8 col3\" >35</td>\n",
              "      <td id=\"T_81cc7_row8_col4\" class=\"data row8 col4\" >74</td>\n",
              "      <td id=\"T_81cc7_row8_col5\" class=\"data row8 col5\" >35</td>\n",
              "      <td id=\"T_81cc7_row8_col6\" class=\"data row8 col6\" >35</td>\n",
              "      <td id=\"T_81cc7_row8_col7\" class=\"data row8 col7\" >25</td>\n",
              "      <td id=\"T_81cc7_row8_col8\" class=\"data row8 col8\" >0</td>\n",
              "      <td id=\"T_81cc7_row8_col9\" class=\"data row8 col9\" >0</td>\n",
              "      <td id=\"T_81cc7_row8_col10\" class=\"data row8 col10\" >0</td>\n",
              "      <td id=\"T_81cc7_row8_col11\" class=\"data row8 col11\" >0</td>\n",
              "      <td id=\"T_81cc7_row8_col12\" class=\"data row8 col12\" >0</td>\n",
              "      <td id=\"T_81cc7_row8_col13\" class=\"data row8 col13\" >0</td>\n",
              "      <td id=\"T_81cc7_row8_col14\" class=\"data row8 col14\" >13</td>\n",
              "      <td id=\"T_81cc7_row8_col15\" class=\"data row8 col15\" >224</td>\n",
              "      <td id=\"T_81cc7_row8_col16\" class=\"data row8 col16\" >254</td>\n",
              "      <td id=\"T_81cc7_row8_col17\" class=\"data row8 col17\" >254</td>\n",
              "      <td id=\"T_81cc7_row8_col18\" class=\"data row8 col18\" >153</td>\n",
              "      <td id=\"T_81cc7_row8_col19\" class=\"data row8 col19\" >0</td>\n",
              "    </tr>\n",
              "    <tr>\n",
              "      <th id=\"T_81cc7_level0_row9\" class=\"row_heading level0 row9\" >9</th>\n",
              "      <td id=\"T_81cc7_row9_col0\" class=\"data row9 col0\" >0</td>\n",
              "      <td id=\"T_81cc7_row9_col1\" class=\"data row9 col1\" >0</td>\n",
              "      <td id=\"T_81cc7_row9_col2\" class=\"data row9 col2\" >0</td>\n",
              "      <td id=\"T_81cc7_row9_col3\" class=\"data row9 col3\" >0</td>\n",
              "      <td id=\"T_81cc7_row9_col4\" class=\"data row9 col4\" >0</td>\n",
              "      <td id=\"T_81cc7_row9_col5\" class=\"data row9 col5\" >0</td>\n",
              "      <td id=\"T_81cc7_row9_col6\" class=\"data row9 col6\" >0</td>\n",
              "      <td id=\"T_81cc7_row9_col7\" class=\"data row9 col7\" >0</td>\n",
              "      <td id=\"T_81cc7_row9_col8\" class=\"data row9 col8\" >0</td>\n",
              "      <td id=\"T_81cc7_row9_col9\" class=\"data row9 col9\" >0</td>\n",
              "      <td id=\"T_81cc7_row9_col10\" class=\"data row9 col10\" >0</td>\n",
              "      <td id=\"T_81cc7_row9_col11\" class=\"data row9 col11\" >0</td>\n",
              "      <td id=\"T_81cc7_row9_col12\" class=\"data row9 col12\" >0</td>\n",
              "      <td id=\"T_81cc7_row9_col13\" class=\"data row9 col13\" >0</td>\n",
              "      <td id=\"T_81cc7_row9_col14\" class=\"data row9 col14\" >90</td>\n",
              "      <td id=\"T_81cc7_row9_col15\" class=\"data row9 col15\" >254</td>\n",
              "      <td id=\"T_81cc7_row9_col16\" class=\"data row9 col16\" >254</td>\n",
              "      <td id=\"T_81cc7_row9_col17\" class=\"data row9 col17\" >247</td>\n",
              "      <td id=\"T_81cc7_row9_col18\" class=\"data row9 col18\" >53</td>\n",
              "      <td id=\"T_81cc7_row9_col19\" class=\"data row9 col19\" >0</td>\n",
              "    </tr>\n",
              "  </tbody>\n",
              "</table>\n"
            ]
          },
          "metadata": {},
          "execution_count": 6
        }
      ]
    },
    {
      "cell_type": "code",
      "source": [
        "def apply_kernel(row, col, kernel):\n",
        "  return (im3_t[row-1:row+2, col-1:col+2] * kernel).sum()\n",
        "apply_kernel(5,7,top_edge)"
      ],
      "metadata": {
        "colab": {
          "base_uri": "https://localhost:8080/"
        },
        "id": "d6BY6W4iFuoA",
        "outputId": "b2366271-9b07-456a-c15f-be2293d6aa13"
      },
      "execution_count": 7,
      "outputs": [
        {
          "output_type": "execute_result",
          "data": {
            "text/plain": [
              "tensor(762.)"
            ]
          },
          "metadata": {},
          "execution_count": 7
        }
      ]
    },
    {
      "cell_type": "code",
      "source": [
        "#Apply kernel to entire image\n",
        "rng = range(1,27)\n",
        "top_edge3 = tensor([[apply_kernel(i,j,top_edge) for j in rng] for i in rng])\n",
        "show_image(top_edge3)"
      ],
      "metadata": {
        "colab": {
          "base_uri": "https://localhost:8080/",
          "height": 102
        },
        "id": "vASbx7BDGYJ6",
        "outputId": "21694e3b-3727-4d69-d8d5-482bd3860215"
      },
      "execution_count": 8,
      "outputs": [
        {
          "output_type": "execute_result",
          "data": {
            "text/plain": [
              "<matplotlib.axes._subplots.AxesSubplot at 0x7f27bf4df310>"
            ]
          },
          "metadata": {},
          "execution_count": 8
        },
        {
          "output_type": "display_data",
          "data": {
            "text/plain": [
              "<Figure size 72x72 with 1 Axes>"
            ],
            "image/png": "[encoded data removed]"
          },
          "metadata": {
            "needs_background": "light"
          }
        }
      ]
    },
    {
      "cell_type": "code",
      "source": [
        "#We can also do this with vertical edges\n",
        "left_edge = tensor([[-1,1,0],\n",
        "                    [-1,1,0],\n",
        "                    [-1,1,0]])\n",
        "left_edge3 = tensor([[apply_kernel(i,j,left_edge) for j in rng] for i in rng])\n",
        "show_image(left_edge3)"
      ],
      "metadata": {
        "colab": {
          "base_uri": "https://localhost:8080/",
          "height": 102
        },
        "id": "XHR90IagGto5",
        "outputId": "e748f242-9cf1-446d-c1dc-ea139ec7ffff"
      },
      "execution_count": 9,
      "outputs": [
        {
          "output_type": "execute_result",
          "data": {
            "text/plain": [
              "<matplotlib.axes._subplots.AxesSubplot at 0x7f27bfd5cd10>"
            ]
          },
          "metadata": {},
          "execution_count": 9
        },
        {
          "output_type": "display_data",
          "data": {
            "text/plain": [
              "<Figure size 72x72 with 1 Axes>"
            ],
            "image/png": "[encoded data removed]"
          },
          "metadata": {
            "needs_background": "light"
          }
        }
      ]
    },
    {
      "cell_type": "code",
      "source": [
        "#speed it up with PyTorch\n",
        "diag1_edge = tensor([[0,-1,1],\n",
        "                     [-1,1,0],\n",
        "                     [1,0,0]]).float()\n",
        "diag2_edge = tensor([[1,-1,0],\n",
        "                     [0,1,-1],\n",
        "                     [0,0,1]]).float()\n",
        "edge_kernels = torch.stack([left_edge, top_edge, diag1_edge, diag2_edge])\n",
        "edge_kernels.shape #PyTorch wants rank 4 tensor to speed things up so we stack our kernels"
      ],
      "metadata": {
        "colab": {
          "base_uri": "https://localhost:8080/"
        },
        "id": "UXVsDKqhHzwD",
        "outputId": "da652e05-5b57-40a7-c35e-9b3bcf10c3c4"
      },
      "execution_count": 10,
      "outputs": [
        {
          "output_type": "execute_result",
          "data": {
            "text/plain": [
              "torch.Size([4, 3, 3])"
            ]
          },
          "metadata": {},
          "execution_count": 10
        }
      ]
    },
    {
      "cell_type": "code",
      "source": [
        "mnist = DataBlock((ImageBlock(cls=PILImageBW), CategoryBlock),\n",
        "                  get_items = get_image_files,\n",
        "                  splitter = GrandparentSplitter(),\n",
        "                  get_y = parent_label)\n",
        "dls = mnist.dataloaders(path)\n",
        "xb, yb = first(dls.valid)\n",
        "xb.shape"
      ],
      "metadata": {
        "colab": {
          "base_uri": "https://localhost:8080/"
        },
        "id": "NFwYhI_kIvB8",
        "outputId": "0319efdc-784d-4f08-876c-e28230d37e39"
      },
      "execution_count": 11,
      "outputs": [
        {
          "output_type": "execute_result",
          "data": {
            "text/plain": [
              "torch.Size([64, 1, 28, 28])"
            ]
          },
          "metadata": {},
          "execution_count": 11
        }
      ]
    },
    {
      "cell_type": "code",
      "source": [
        "#move to cpu\n",
        "xb, yb = to_cpu(xb), to_cpu(yb)\n",
        "#Turn our rank3 tensor into rank 4 (effectively adding \"channels_in\" parameter)\n",
        "edge_kernels = edge_kernels.unsqueeze(1)\n",
        "#Pass to PyTorchs convolution function (what we've done above but fast)\n",
        "batch_features = F.conv2d(xb,edge_kernels)\n",
        "batch_features.shape"
      ],
      "metadata": {
        "colab": {
          "base_uri": "https://localhost:8080/"
        },
        "id": "IUgU_GA-JNT6",
        "outputId": "638294ad-2597-4859-b781-2eba2729c574"
      },
      "execution_count": 12,
      "outputs": [
        {
          "output_type": "execute_result",
          "data": {
            "text/plain": [
              "torch.Size([64, 4, 26, 26])"
            ]
          },
          "metadata": {},
          "execution_count": 12
        }
      ]
    },
    {
      "cell_type": "code",
      "source": [
        "show_image(batch_features[0,0])"
      ],
      "metadata": {
        "colab": {
          "base_uri": "https://localhost:8080/",
          "height": 102
        },
        "id": "Ck0YRTm7KXvx",
        "outputId": "73d71897-9110-45fa-a6cb-7f9ca44daa7e"
      },
      "execution_count": 13,
      "outputs": [
        {
          "output_type": "execute_result",
          "data": {
            "text/plain": [
              "<matplotlib.axes._subplots.AxesSubplot at 0x7f27bf565350>"
            ]
          },
          "metadata": {},
          "execution_count": 13
        },
        {
          "output_type": "display_data",
          "data": {
            "text/plain": [
              "<Figure size 72x72 with 1 Axes>"
            ],
            "image/png": "[encoded data removed]"
          },
          "metadata": {
            "needs_background": "light"
          }
        }
      ]
    },
    {
      "cell_type": "markdown",
      "source": [
        "##Using convolutions instead of or in addition to linear layers creates a Convolutional Neural Network (CNN)"
      ],
      "metadata": {
        "id": "JGKQmOWuxkcW"
      }
    },
    {
      "cell_type": "code",
      "source": [
        "#Load in basic NN\n",
        "simple_net = nn.Sequential(\n",
        "    nn.Linear(28*28, 30),\n",
        "    nn.ReLU(),\n",
        "    nn.Linear(30,1)\n",
        ")\n",
        "simple_net"
      ],
      "metadata": {
        "colab": {
          "base_uri": "https://localhost:8080/"
        },
        "id": "eehVnj5nxy24",
        "outputId": "882fa793-78f2-413c-cc22-5b9f3ecb2dd4"
      },
      "execution_count": 14,
      "outputs": [
        {
          "output_type": "execute_result",
          "data": {
            "text/plain": [
              "Sequential(\n",
              "  (0): Linear(in_features=784, out_features=30, bias=True)\n",
              "  (1): ReLU()\n",
              "  (2): Linear(in_features=30, out_features=1, bias=True)\n",
              ")"
            ]
          },
          "metadata": {},
          "execution_count": 14
        }
      ]
    },
    {
      "cell_type": "code",
      "source": [
        "#Use Conv2d to create convolutional nn\n",
        "broken_cnn = sequential(\n",
        "    nn.Conv2d(1,30, kernel_size=3, padding=1),\n",
        "    nn.ReLU(),\n",
        "    nn.Conv2d(30,1, kernel_size=3, padding=1)\n",
        ")\n",
        "#define func using params we use in simpe convolutions\n",
        "def conv(ni, nf, ks=3, act=True):\n",
        "  res = nn.Conv2d(ni, nf, stride=2, kernel_size=ks, padding=ks//2)\n",
        "  if act: res = nn.Sequential(res, nn.ReLU())\n",
        "  return res"
      ],
      "metadata": {
        "id": "EQgkQueayGNJ"
      },
      "execution_count": 15,
      "outputs": []
    },
    {
      "cell_type": "code",
      "source": [
        "#Comments to show size of activation map after each layer\n",
        "simple_cnn = sequential(\n",
        "    conv(1, 4), #14x14\n",
        "    conv(4,8),  #7x7\n",
        "    conv(8, 16),#4x4\n",
        "    conv(16,32),#2x2\n",
        "    conv(32,2,act=False), #1x1\n",
        "    Flatten()\n",
        ")"
      ],
      "metadata": {
        "id": "zObdikyBzoPm"
      },
      "execution_count": 16,
      "outputs": []
    },
    {
      "cell_type": "code",
      "source": [
        "learn = Learner(dls, simple_cnn, loss_func=F.cross_entropy, metrics=accuracy)\n",
        "learn.summary()"
      ],
      "metadata": {
        "colab": {
          "base_uri": "https://localhost:8080/",
          "height": 677
        },
        "id": "unAOzuKM0OAB",
        "outputId": "c1a3392c-5111-42f8-e5d6-812f92054479"
      },
      "execution_count": 17,
      "outputs": [
        {
          "output_type": "display_data",
          "data": {
            "text/plain": [
              "<IPython.core.display.HTML object>"
            ],
            "text/html": [
              "\n",
              "<style>\n",
              "    /* Turns off some styling */\n",
              "    progress {\n",
              "        /* gets rid of default border in Firefox and Opera. */\n",
              "        border: none;\n",
              "        /* Needs to be in here for Safari polyfill so background images work as expected. */\n",
              "        background-size: auto;\n",
              "    }\n",
              "    .progress-bar-interrupted, .progress-bar-interrupted::-webkit-progress-bar {\n",
              "        background: #F44336;\n",
              "    }\n",
              "</style>\n"
            ]
          },
          "metadata": {}
        },
        {
          "output_type": "display_data",
          "data": {
            "text/plain": [
              "<IPython.core.display.HTML object>"
            ],
            "text/html": [
              ""
            ]
          },
          "metadata": {}
        },
        {
          "output_type": "execute_result",
          "data": {
            "text/plain": [
              "Sequential (Input shape: 64 x 1 x 28 x 28)\n",
              "============================================================================\n",
              "Layer (type)         Output Shape         Param #    Trainable \n",
              "============================================================================\n",
              "                     64 x 4 x 14 x 14    \n",
              "Conv2d                                    40         True      \n",
              "ReLU                                                           \n",
              "____________________________________________________________________________\n",
              "                     64 x 8 x 7 x 7      \n",
              "Conv2d                                    296        True      \n",
              "ReLU                                                           \n",
              "____________________________________________________________________________\n",
              "                     64 x 16 x 4 x 4     \n",
              "Conv2d                                    1168       True      \n",
              "ReLU                                                           \n",
              "____________________________________________________________________________\n",
              "                     64 x 32 x 2 x 2     \n",
              "Conv2d                                    4640       True      \n",
              "ReLU                                                           \n",
              "____________________________________________________________________________\n",
              "                     64 x 2 x 1 x 1      \n",
              "Conv2d                                    578        True      \n",
              "____________________________________________________________________________\n",
              "                     64 x 2              \n",
              "Flatten                                                        \n",
              "____________________________________________________________________________\n",
              "\n",
              "Total params: 6,722\n",
              "Total trainable params: 6,722\n",
              "Total non-trainable params: 0\n",
              "\n",
              "Optimizer used: <function Adam at 0x7f27c1a3e290>\n",
              "Loss function: <function cross_entropy at 0x7f27da4159e0>\n",
              "\n",
              "Callbacks:\n",
              "  - TrainEvalCallback\n",
              "  - Recorder\n",
              "  - ProgressCallback"
            ],
            "application/vnd.google.colaboratory.intrinsic+json": {
              "type": "string"
            }
          },
          "metadata": {},
          "execution_count": 17
        }
      ]
    },
    {
      "cell_type": "code",
      "source": [
        "#see if it trains\n",
        "learn.fit_one_cycle(2, .01)"
      ],
      "metadata": {
        "colab": {
          "base_uri": "https://localhost:8080/",
          "height": 112
        },
        "id": "N89nKjVT0l37",
        "outputId": "039d4dc9-f4c3-4fb8-cf0f-5620f0e70555"
      },
      "execution_count": 18,
      "outputs": [
        {
          "output_type": "display_data",
          "data": {
            "text/plain": [
              "<IPython.core.display.HTML object>"
            ],
            "text/html": [
              "\n",
              "<style>\n",
              "    /* Turns off some styling */\n",
              "    progress {\n",
              "        /* gets rid of default border in Firefox and Opera. */\n",
              "        border: none;\n",
              "        /* Needs to be in here for Safari polyfill so background images work as expected. */\n",
              "        background-size: auto;\n",
              "    }\n",
              "    .progress-bar-interrupted, .progress-bar-interrupted::-webkit-progress-bar {\n",
              "        background: #F44336;\n",
              "    }\n",
              "</style>\n"
            ]
          },
          "metadata": {}
        },
        {
          "output_type": "display_data",
          "data": {
            "text/plain": [
              "<IPython.core.display.HTML object>"
            ],
            "text/html": [
              "<table border=\"1\" class=\"dataframe\">\n",
              "  <thead>\n",
              "    <tr style=\"text-align: left;\">\n",
              "      <th>epoch</th>\n",
              "      <th>train_loss</th>\n",
              "      <th>valid_loss</th>\n",
              "      <th>accuracy</th>\n",
              "      <th>time</th>\n",
              "    </tr>\n",
              "  </thead>\n",
              "  <tbody>\n",
              "    <tr>\n",
              "      <td>0</td>\n",
              "      <td>0.057628</td>\n",
              "      <td>0.041029</td>\n",
              "      <td>0.988714</td>\n",
              "      <td>00:24</td>\n",
              "    </tr>\n",
              "    <tr>\n",
              "      <td>1</td>\n",
              "      <td>0.022025</td>\n",
              "      <td>0.021646</td>\n",
              "      <td>0.992640</td>\n",
              "      <td>00:15</td>\n",
              "    </tr>\n",
              "  </tbody>\n",
              "</table>"
            ]
          },
          "metadata": {}
        }
      ]
    },
    {
      "cell_type": "markdown",
      "source": [
        "##Now lets do all 10 digits"
      ],
      "metadata": {
        "id": "ohTwAlDpnIDi"
      }
    },
    {
      "cell_type": "code",
      "source": [
        "path = untar_data(URLs.MNIST)"
      ],
      "metadata": {
        "colab": {
          "base_uri": "https://localhost:8080/",
          "height": 37
        },
        "id": "4-61h3GFnKbm",
        "outputId": "1df4cacd-86ee-4a52-d2bb-93482f7a0db9"
      },
      "execution_count": 19,
      "outputs": [
        {
          "output_type": "display_data",
          "data": {
            "text/plain": [
              "<IPython.core.display.HTML object>"
            ],
            "text/html": [
              "\n",
              "<style>\n",
              "    /* Turns off some styling */\n",
              "    progress {\n",
              "        /* gets rid of default border in Firefox and Opera. */\n",
              "        border: none;\n",
              "        /* Needs to be in here for Safari polyfill so background images work as expected. */\n",
              "        background-size: auto;\n",
              "    }\n",
              "    .progress-bar-interrupted, .progress-bar-interrupted::-webkit-progress-bar {\n",
              "        background: #F44336;\n",
              "    }\n",
              "</style>\n"
            ]
          },
          "metadata": {}
        },
        {
          "output_type": "display_data",
          "data": {
            "text/plain": [
              "<IPython.core.display.HTML object>"
            ],
            "text/html": [
              "\n",
              "    <div>\n",
              "      <progress value='15687680' class='' max='15683414' style='width:300px; height:20px; vertical-align: middle;'></progress>\n",
              "      100.03% [15687680/15683414 00:00<00:00]\n",
              "    </div>\n",
              "    "
            ]
          },
          "metadata": {}
        }
      ]
    },
    {
      "cell_type": "code",
      "source": [
        "def get_dls(bs=64):\n",
        "  return DataBlock(\n",
        "      blocks=(ImageBlock(cls=PILImageBW), CategoryBlock),\n",
        "      get_items=get_image_files,\n",
        "      splitter = GrandparentSplitter('training','testing'),\n",
        "      get_y=parent_label,\n",
        "      batch_tfms=Normalize()\n",
        "  ).dataloaders(path, bs=bs)"
      ],
      "metadata": {
        "id": "ymphweBwngaA"
      },
      "execution_count": 20,
      "outputs": []
    },
    {
      "cell_type": "code",
      "source": [
        "dls = get_dls()\n",
        "dls.show_batch(max_n=9, figsize=(4,4))"
      ],
      "metadata": {
        "colab": {
          "base_uri": "https://localhost:8080/",
          "height": 264
        },
        "id": "jQqvDCUWoC9L",
        "outputId": "4ccc168a-3da9-4d68-8507-936e0fe83bd8"
      },
      "execution_count": 22,
      "outputs": [
        {
          "output_type": "display_data",
          "data": {
            "text/plain": [
              "<Figure size 288x288 with 9 Axes>"
            ],
            "image/png": "[encoded data removed]"
          },
          "metadata": {
            "needs_background": "light"
          }
        }
      ]
    },
    {
      "cell_type": "markdown",
      "source": [
        "we want more activations because we are learning more digits. Right now we have a kernel of 9 pixels so if we double our outputs (from 4 to 8) then we will be using  inputs to create 8 outputs - which means we wont learn very much. So we need to increase our kernel size"
      ],
      "metadata": {
        "id": "_QwH9T4Rop45"
      }
    },
    {
      "cell_type": "code",
      "source": [
        "def simple_cnn():\n",
        "  return sequential(\n",
        "      conv(1, 8,ks=5),    #14x14\n",
        "      conv(8, 16),        #7x7\n",
        "      conv(16,32),        #4x4\n",
        "      conv(32,64),        #2x2\n",
        "      conv(64,10,act=False),#1x1\n",
        "      Flatten(),\n",
        "  )"
      ],
      "metadata": {
        "id": "ofVdWie7pB6p"
      },
      "execution_count": 23,
      "outputs": []
    },
    {
      "cell_type": "code",
      "source": [
        "from fastai.callback.hook import *"
      ],
      "metadata": {
        "id": "fvDDatuEpnFw"
      },
      "execution_count": 24,
      "outputs": []
    },
    {
      "cell_type": "code",
      "source": [
        "def fit(epochs=1):\n",
        "  learn = Learner(dls, simple_cnn(), loss_func=F.cross_entropy, metrics=accuracy, cbs=ActivationStats(with_hist=True))\n",
        "  learn.fit(epochs, .06)\n",
        "  return learn\n",
        "\n",
        "learn = fit()"
      ],
      "metadata": {
        "colab": {
          "base_uri": "https://localhost:8080/",
          "height": 115
        },
        "id": "EbrprJPApyor",
        "outputId": "55f9f626-9c91-478c-cda9-ad612b02a06e"
      },
      "execution_count": 25,
      "outputs": [
        {
          "output_type": "stream",
          "name": "stderr",
          "text": [
            "/usr/local/lib/python3.7/dist-packages/fastai/callback/core.py:67: UserWarning: You are shadowing an attribute (modules) that exists in the learner. Use `self.learn.modules` to avoid this\n",
            "  warn(f\"You are shadowing an attribute ({name}) that exists in the learner. Use `self.learn.{name}` to avoid this\")\n"
          ]
        },
        {
          "output_type": "display_data",
          "data": {
            "text/plain": [
              "<IPython.core.display.HTML object>"
            ],
            "text/html": [
              "\n",
              "<style>\n",
              "    /* Turns off some styling */\n",
              "    progress {\n",
              "        /* gets rid of default border in Firefox and Opera. */\n",
              "        border: none;\n",
              "        /* Needs to be in here for Safari polyfill so background images work as expected. */\n",
              "        background-size: auto;\n",
              "    }\n",
              "    .progress-bar-interrupted, .progress-bar-interrupted::-webkit-progress-bar {\n",
              "        background: #F44336;\n",
              "    }\n",
              "</style>\n"
            ]
          },
          "metadata": {}
        },
        {
          "output_type": "display_data",
          "data": {
            "text/plain": [
              "<IPython.core.display.HTML object>"
            ],
            "text/html": [
              "<table border=\"1\" class=\"dataframe\">\n",
              "  <thead>\n",
              "    <tr style=\"text-align: left;\">\n",
              "      <th>epoch</th>\n",
              "      <th>train_loss</th>\n",
              "      <th>valid_loss</th>\n",
              "      <th>accuracy</th>\n",
              "      <th>time</th>\n",
              "    </tr>\n",
              "  </thead>\n",
              "  <tbody>\n",
              "    <tr>\n",
              "      <td>0</td>\n",
              "      <td>2.304446</td>\n",
              "      <td>2.311208</td>\n",
              "      <td>0.102800</td>\n",
              "      <td>01:29</td>\n",
              "    </tr>\n",
              "  </tbody>\n",
              "</table>"
            ]
          },
          "metadata": {}
        }
      ]
    },
    {
      "cell_type": "code",
      "source": [
        "#Plot activation stats of layer idx 0\n",
        "learn.activation_stats.plot_layer_stats(0)"
      ],
      "metadata": {
        "colab": {
          "base_uri": "https://localhost:8080/",
          "height": 227
        },
        "id": "Q2kB__cAqZL8",
        "outputId": "07e96e3c-8514-4803-8640-6ea34b8ac0f3"
      },
      "execution_count": 26,
      "outputs": [
        {
          "output_type": "display_data",
          "data": {
            "text/plain": [
              "<Figure size 864x216 with 3 Axes>"
            ],
            "image/png": "[encoded data removed]"
          },
          "metadata": {
            "needs_background": "light"
          }
        }
      ]
    },
    {
      "cell_type": "code",
      "source": [
        "#Same for penultimate layer\n",
        "learn.activation_stats.plot_layer_stats(-2)"
      ],
      "metadata": {
        "colab": {
          "base_uri": "https://localhost:8080/",
          "height": 227
        },
        "id": "kHuyP80WrNIZ",
        "outputId": "9f41bf3e-5bab-4696-9fa6-825752303af0"
      },
      "execution_count": 28,
      "outputs": [
        {
          "output_type": "display_data",
          "data": {
            "text/plain": [
              "<Figure size 864x216 with 3 Axes>"
            ],
            "image/png": "[encoded data removed]"
          },
          "metadata": {
            "needs_background": "light"
          }
        }
      ]
    },
    {
      "cell_type": "markdown",
      "source": [
        "Activations near zero are problematic, one possible solution is to increase batch size"
      ],
      "metadata": {
        "id": "PbfOwVXaqzSB"
      }
    },
    {
      "cell_type": "code",
      "source": [
        "dls = get_dls(512)\n",
        "learn = fit()"
      ],
      "metadata": {
        "colab": {
          "base_uri": "https://localhost:8080/",
          "height": 115
        },
        "id": "sIe_hJcVq8-P",
        "outputId": "50f3f2e8-e0a8-4993-ef0c-1e723bd2167e"
      },
      "execution_count": 29,
      "outputs": [
        {
          "output_type": "stream",
          "name": "stderr",
          "text": [
            "/usr/local/lib/python3.7/dist-packages/fastai/callback/core.py:67: UserWarning: You are shadowing an attribute (modules) that exists in the learner. Use `self.learn.modules` to avoid this\n",
            "  warn(f\"You are shadowing an attribute ({name}) that exists in the learner. Use `self.learn.{name}` to avoid this\")\n"
          ]
        },
        {
          "output_type": "display_data",
          "data": {
            "text/plain": [
              "<IPython.core.display.HTML object>"
            ],
            "text/html": [
              "\n",
              "<style>\n",
              "    /* Turns off some styling */\n",
              "    progress {\n",
              "        /* gets rid of default border in Firefox and Opera. */\n",
              "        border: none;\n",
              "        /* Needs to be in here for Safari polyfill so background images work as expected. */\n",
              "        background-size: auto;\n",
              "    }\n",
              "    .progress-bar-interrupted, .progress-bar-interrupted::-webkit-progress-bar {\n",
              "        background: #F44336;\n",
              "    }\n",
              "</style>\n"
            ]
          },
          "metadata": {}
        },
        {
          "output_type": "display_data",
          "data": {
            "text/plain": [
              "<IPython.core.display.HTML object>"
            ],
            "text/html": [
              "<table border=\"1\" class=\"dataframe\">\n",
              "  <thead>\n",
              "    <tr style=\"text-align: left;\">\n",
              "      <th>epoch</th>\n",
              "      <th>train_loss</th>\n",
              "      <th>valid_loss</th>\n",
              "      <th>accuracy</th>\n",
              "      <th>time</th>\n",
              "    </tr>\n",
              "  </thead>\n",
              "  <tbody>\n",
              "    <tr>\n",
              "      <td>0</td>\n",
              "      <td>2.312017</td>\n",
              "      <td>2.301486</td>\n",
              "      <td>0.113500</td>\n",
              "      <td>01:08</td>\n",
              "    </tr>\n",
              "  </tbody>\n",
              "</table>"
            ]
          },
          "metadata": {}
        }
      ]
    },
    {
      "cell_type": "code",
      "source": [
        "#See if it helped\n",
        "learn.activation_stats.plot_layer_stats(-2)"
      ],
      "metadata": {
        "colab": {
          "base_uri": "https://localhost:8080/",
          "height": 227
        },
        "id": "yhy6IbBHrdqC",
        "outputId": "d6a2faf6-9b64-46e6-b7cb-957c00324173"
      },
      "execution_count": 30,
      "outputs": [
        {
          "output_type": "display_data",
          "data": {
            "text/plain": [
              "<Figure size 864x216 with 3 Axes>"
            ],
            "image/png": "[encoded data removed]"
          },
          "metadata": {
            "needs_background": "light"
          }
        }
      ]
    },
    {
      "cell_type": "markdown",
      "source": [
        "It has helped a little but still not great. Next we will try 1cycle training. Using slow learning rates at the beginning and ends but a large learning rate in the middle to speed up learning and smooth out local mins and maxes."
      ],
      "metadata": {
        "id": "VTHoYuq_r12o"
      }
    },
    {
      "cell_type": "code",
      "source": [
        "def fit(epochs=1, lr=.06):\n",
        "  learn = Learner(dls, simple_cnn(), loss_func=F.cross_entropy, metrics=accuracy,cbs=ActivationStats(with_hist=True))\n",
        "  learn.fit_one_cycle(epochs, lr) #fit_one_cycle automatically uses this technique\n",
        "  return learn\n",
        "learn = fit()"
      ],
      "metadata": {
        "colab": {
          "base_uri": "https://localhost:8080/",
          "height": 115
        },
        "id": "OhFRaj46sbi7",
        "outputId": "2332151e-3616-4401-b634-1da75bfd5375"
      },
      "execution_count": 31,
      "outputs": [
        {
          "output_type": "stream",
          "name": "stderr",
          "text": [
            "/usr/local/lib/python3.7/dist-packages/fastai/callback/core.py:67: UserWarning: You are shadowing an attribute (modules) that exists in the learner. Use `self.learn.modules` to avoid this\n",
            "  warn(f\"You are shadowing an attribute ({name}) that exists in the learner. Use `self.learn.{name}` to avoid this\")\n"
          ]
        },
        {
          "output_type": "display_data",
          "data": {
            "text/plain": [
              "<IPython.core.display.HTML object>"
            ],
            "text/html": [
              "\n",
              "<style>\n",
              "    /* Turns off some styling */\n",
              "    progress {\n",
              "        /* gets rid of default border in Firefox and Opera. */\n",
              "        border: none;\n",
              "        /* Needs to be in here for Safari polyfill so background images work as expected. */\n",
              "        background-size: auto;\n",
              "    }\n",
              "    .progress-bar-interrupted, .progress-bar-interrupted::-webkit-progress-bar {\n",
              "        background: #F44336;\n",
              "    }\n",
              "</style>\n"
            ]
          },
          "metadata": {}
        },
        {
          "output_type": "display_data",
          "data": {
            "text/plain": [
              "<IPython.core.display.HTML object>"
            ],
            "text/html": [
              "<table border=\"1\" class=\"dataframe\">\n",
              "  <thead>\n",
              "    <tr style=\"text-align: left;\">\n",
              "      <th>epoch</th>\n",
              "      <th>train_loss</th>\n",
              "      <th>valid_loss</th>\n",
              "      <th>accuracy</th>\n",
              "      <th>time</th>\n",
              "    </tr>\n",
              "  </thead>\n",
              "  <tbody>\n",
              "    <tr>\n",
              "      <td>0</td>\n",
              "      <td>0.198404</td>\n",
              "      <td>0.072186</td>\n",
              "      <td>0.977400</td>\n",
              "      <td>01:17</td>\n",
              "    </tr>\n",
              "  </tbody>\n",
              "</table>"
            ]
          },
          "metadata": {}
        }
      ]
    },
    {
      "cell_type": "code",
      "source": [
        "#see if it helped\n",
        "learn.activation_stats.plot_layer_stats(-2)"
      ],
      "metadata": {
        "colab": {
          "base_uri": "https://localhost:8080/",
          "height": 227
        },
        "id": "7iyOAUgCs_u3",
        "outputId": "5d9a4d67-3f7e-4846-c453-17708f4d0a1e"
      },
      "execution_count": 32,
      "outputs": [
        {
          "output_type": "display_data",
          "data": {
            "text/plain": [
              "<Figure size 864x216 with 3 Axes>"
            ],
            "image/png": "[encoded data removed]"
          },
          "metadata": {
            "needs_background": "light"
          }
        }
      ]
    },
    {
      "cell_type": "markdown",
      "source": [
        "Better but still not great and we also want a smoother curve. Batch normilzation may help"
      ],
      "metadata": {
        "id": "zd-U7Cn_t50-"
      }
    },
    {
      "cell_type": "code",
      "source": [
        "def conv(ni, nf, ks=3, act=True):\n",
        "  layers = [nn.Conv2d(ni, nf, stride=2, kernel_size=ks, padding=ks//2)]\n",
        "  layers.append(nn.BatchNorm2d(nf))\n",
        "  if act: layers.append(nn.ReLU())\n",
        "  return nn.Sequential(*layers)\n",
        "\n",
        "learn = fit()"
      ],
      "metadata": {
        "colab": {
          "base_uri": "https://localhost:8080/",
          "height": 115
        },
        "id": "2EpPL77buDSL",
        "outputId": "bb07974f-6298-4019-91e0-4fb010bc9a5a"
      },
      "execution_count": 33,
      "outputs": [
        {
          "output_type": "stream",
          "name": "stderr",
          "text": [
            "/usr/local/lib/python3.7/dist-packages/fastai/callback/core.py:67: UserWarning: You are shadowing an attribute (modules) that exists in the learner. Use `self.learn.modules` to avoid this\n",
            "  warn(f\"You are shadowing an attribute ({name}) that exists in the learner. Use `self.learn.{name}` to avoid this\")\n"
          ]
        },
        {
          "output_type": "display_data",
          "data": {
            "text/plain": [
              "<IPython.core.display.HTML object>"
            ],
            "text/html": [
              "\n",
              "<style>\n",
              "    /* Turns off some styling */\n",
              "    progress {\n",
              "        /* gets rid of default border in Firefox and Opera. */\n",
              "        border: none;\n",
              "        /* Needs to be in here for Safari polyfill so background images work as expected. */\n",
              "        background-size: auto;\n",
              "    }\n",
              "    .progress-bar-interrupted, .progress-bar-interrupted::-webkit-progress-bar {\n",
              "        background: #F44336;\n",
              "    }\n",
              "</style>\n"
            ]
          },
          "metadata": {}
        },
        {
          "output_type": "display_data",
          "data": {
            "text/plain": [
              "<IPython.core.display.HTML object>"
            ],
            "text/html": [
              "<table border=\"1\" class=\"dataframe\">\n",
              "  <thead>\n",
              "    <tr style=\"text-align: left;\">\n",
              "      <th>epoch</th>\n",
              "      <th>train_loss</th>\n",
              "      <th>valid_loss</th>\n",
              "      <th>accuracy</th>\n",
              "      <th>time</th>\n",
              "    </tr>\n",
              "  </thead>\n",
              "  <tbody>\n",
              "    <tr>\n",
              "      <td>0</td>\n",
              "      <td>0.130250</td>\n",
              "      <td>0.058199</td>\n",
              "      <td>0.986400</td>\n",
              "      <td>01:13</td>\n",
              "    </tr>\n",
              "  </tbody>\n",
              "</table>"
            ]
          },
          "metadata": {}
        }
      ]
    },
    {
      "cell_type": "code",
      "source": [
        "learn.activation_stats.plot_layer_stats(-2)"
      ],
      "metadata": {
        "colab": {
          "base_uri": "https://localhost:8080/",
          "height": 227
        },
        "id": "HSPedgazutJM",
        "outputId": "c920902e-9b72-427d-adc9-37f46bfc1ba5"
      },
      "execution_count": 34,
      "outputs": [
        {
          "output_type": "display_data",
          "data": {
            "text/plain": [
              "<Figure size 864x216 with 3 Axes>"
            ],
            "image/png": "[encoded data removed]"
          },
          "metadata": {
            "needs_background": "light"
          }
        }
      ]
    },
    {
      "cell_type": "code",
      "source": [
        "#color_dim will show us the \"smoothness\"\n",
        "learn.activation_stats.color_dim(-4)"
      ],
      "metadata": {
        "colab": {
          "base_uri": "https://localhost:8080/",
          "height": 222
        },
        "id": "4gLGZuVIu-OY",
        "outputId": "ae48286a-76e5-4327-8b32-53ea853694e1"
      },
      "execution_count": 35,
      "outputs": [
        {
          "output_type": "display_data",
          "data": {
            "text/plain": [
              "<Figure size 720x360 with 1 Axes>"
            ],
            "image/png": "[encoded data removed]"
          },
          "metadata": {
            "needs_background": "light"
          }
        }
      ]
    },
    {
      "cell_type": "markdown",
      "source": [
        "we now have less 0 activations and a smooth development of activations!"
      ],
      "metadata": {
        "id": "dIlKYxzbvJ6c"
      }
    }
  ]
}